{
 "cells": [
  {
   "cell_type": "markdown",
   "metadata": {},
   "source": [
    "# Run analysis"
   ]
  },
  {
   "cell_type": "code",
   "execution_count": 37,
   "metadata": {},
   "outputs": [],
   "source": [
    "import tfx\n",
    "import ml_metadata\n",
    "from ml_metadata.metadata_store import metadata_store\n",
    "from ml_metadata.proto import metadata_store_pb2"
   ]
  },
  {
   "cell_type": "markdown",
   "metadata": {},
   "source": [
    "### Connect to ML Metdata"
   ]
  },
  {
   "cell_type": "code",
   "execution_count": 39,
   "metadata": {},
   "outputs": [],
   "source": [
    "connection_config = metadata_store_pb2.ConnectionConfig()\n",
    "connection_config.mysql.host = '35.192.177.172'\n",
    "connection_config.mysql.port = 3306\n",
    "connection_config.mysql.database = 'metadb'\n",
    "connection_config.mysql.user = 'root'\n",
    "connection_config.mysql.password = ''\n",
    "store = metadata_store.MetadataStore(connection_config)"
   ]
  },
  {
   "cell_type": "code",
   "execution_count": 40,
   "metadata": {},
   "outputs": [],
   "source": [
    "executions = store.get_executions()\n"
   ]
  },
  {
   "cell_type": "code",
   "execution_count": 41,
   "metadata": {},
   "outputs": [
    {
     "data": {
      "text/plain": [
       "18"
      ]
     },
     "execution_count": 41,
     "metadata": {},
     "output_type": "execute_result"
    }
   ],
   "source": [
    "len(executions)"
   ]
  },
  {
   "cell_type": "code",
   "execution_count": 42,
   "metadata": {},
   "outputs": [
    {
     "data": {
      "text/plain": [
       "id: 1\n",
       "type_id: 1\n",
       "name: \"chicago_taxi_pipeline_kubeflow.chicago-taxi-pipeline-kubeflow-sqqw8\"\n",
       "properties {\n",
       "  key: \"pipeline_name\"\n",
       "  value {\n",
       "    string_value: \"chicago_taxi_pipeline_kubeflow\"\n",
       "  }\n",
       "}\n",
       "properties {\n",
       "  key: \"run_id\"\n",
       "  value {\n",
       "    string_value: \"chicago-taxi-pipeline-kubeflow-sqqw8\"\n",
       "  }\n",
       "}"
      ]
     },
     "execution_count": 42,
     "metadata": {},
     "output_type": "execute_result"
    }
   ],
   "source": [
    "contexts = store.get_contexts()\n",
    "contexts[1]"
   ]
  },
  {
   "cell_type": "code",
   "execution_count": 43,
   "metadata": {},
   "outputs": [
    {
     "data": {
      "text/plain": [
       "[id: 10\n",
       " type_id: 1\n",
       " name: \"chicago_taxi_pipeline_kubeflow.chicago-taxi-pipeline-kubeflow-g5znm\"\n",
       " properties {\n",
       "   key: \"pipeline_name\"\n",
       "   value {\n",
       "     string_value: \"chicago_taxi_pipeline_kubeflow\"\n",
       "   }\n",
       " }\n",
       " properties {\n",
       "   key: \"run_id\"\n",
       "   value {\n",
       "     string_value: \"chicago-taxi-pipeline-kubeflow-g5znm\"\n",
       "   }\n",
       " }, id: 1\n",
       " type_id: 1\n",
       " name: \"chicago_taxi_pipeline_kubeflow.chicago-taxi-pipeline-kubeflow-sqqw8\"\n",
       " properties {\n",
       "   key: \"pipeline_name\"\n",
       "   value {\n",
       "     string_value: \"chicago_taxi_pipeline_kubeflow\"\n",
       "   }\n",
       " }\n",
       " properties {\n",
       "   key: \"run_id\"\n",
       "   value {\n",
       "     string_value: \"chicago-taxi-pipeline-kubeflow-sqqw8\"\n",
       "   }\n",
       " }]"
      ]
     },
     "execution_count": 43,
     "metadata": {},
     "output_type": "execute_result"
    }
   ],
   "source": [
    "store.get_contexts()"
   ]
  },
  {
   "cell_type": "code",
   "execution_count": null,
   "metadata": {},
   "outputs": [],
   "source": []
  }
 ],
 "metadata": {
  "kernelspec": {
   "display_name": "tfx",
   "language": "python",
   "name": "tfx"
  },
  "language_info": {
   "codemirror_mode": {
    "name": "ipython",
    "version": 3
   },
   "file_extension": ".py",
   "mimetype": "text/x-python",
   "name": "python",
   "nbconvert_exporter": "python",
   "pygments_lexer": "ipython3",
   "version": "3.6.8"
  }
 },
 "nbformat": 4,
 "nbformat_minor": 4
}
