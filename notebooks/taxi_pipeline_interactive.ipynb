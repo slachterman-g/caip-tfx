{
 "cells": [
  {
   "cell_type": "markdown",
   "metadata": {
    "colab_type": "text",
    "id": "23R0Z9RojXYW"
   },
   "source": [
    "<!-- TODO(ccy): split this notebook into (1) a beginner friendly notebook that\n",
    "     avoids directly calling into TFX libraries and (2) an advanced notebook\n",
    "     or notebooks that delve more deeply into each component, along with their\n",
    "     underlying libraries. -->\n",
    "# TFX Iterative Development Example\n",
    "This notebook demonstrates how to use Jupyter notebooks for TFX iterative development.  Here, we walk through the Chicago Taxi example in an interactive Jupyter notebook.\n",
    "\n",
    "Note: this notebook along with its associated APIs are **experimental** and are\n",
    "in active development.  Major changes in functionality, behavior and\n",
    "presentation are expected."
   ]
  },
  {
   "cell_type": "markdown",
   "metadata": {
    "colab_type": "text",
    "id": "2GivNBNYjb3b"
   },
   "source": [
    "## Setup\n",
    "First, download data, import modules and set up paths."
   ]
  },
  {
   "cell_type": "markdown",
   "metadata": {
    "colab_type": "text",
    "id": "N-ePgV0Lj68Q"
   },
   "source": [
    "### Import packages\n",
    "We import necessary packages, including standard TFX component classes."
   ]
  },
  {
   "cell_type": "code",
   "execution_count": 2,
   "metadata": {
    "colab": {},
    "colab_type": "code",
    "id": "YIqpWK9efviJ"
   },
   "outputs": [
    {
     "name": "stderr",
     "output_type": "stream",
     "text": [
      "/root/miniconda3/envs/tfx/lib/python3.6/site-packages/tensorflow/python/framework/dtypes.py:516: FutureWarning: Passing (type, 1) or '1type' as a synonym of type is deprecated; in a future version of numpy, it will be understood as (type, (1,)) / '(1,)type'.\n",
      "  _np_qint8 = np.dtype([(\"qint8\", np.int8, 1)])\n",
      "/root/miniconda3/envs/tfx/lib/python3.6/site-packages/tensorflow/python/framework/dtypes.py:517: FutureWarning: Passing (type, 1) or '1type' as a synonym of type is deprecated; in a future version of numpy, it will be understood as (type, (1,)) / '(1,)type'.\n",
      "  _np_quint8 = np.dtype([(\"quint8\", np.uint8, 1)])\n",
      "/root/miniconda3/envs/tfx/lib/python3.6/site-packages/tensorflow/python/framework/dtypes.py:518: FutureWarning: Passing (type, 1) or '1type' as a synonym of type is deprecated; in a future version of numpy, it will be understood as (type, (1,)) / '(1,)type'.\n",
      "  _np_qint16 = np.dtype([(\"qint16\", np.int16, 1)])\n",
      "/root/miniconda3/envs/tfx/lib/python3.6/site-packages/tensorflow/python/framework/dtypes.py:519: FutureWarning: Passing (type, 1) or '1type' as a synonym of type is deprecated; in a future version of numpy, it will be understood as (type, (1,)) / '(1,)type'.\n",
      "  _np_quint16 = np.dtype([(\"quint16\", np.uint16, 1)])\n",
      "/root/miniconda3/envs/tfx/lib/python3.6/site-packages/tensorflow/python/framework/dtypes.py:520: FutureWarning: Passing (type, 1) or '1type' as a synonym of type is deprecated; in a future version of numpy, it will be understood as (type, (1,)) / '(1,)type'.\n",
      "  _np_qint32 = np.dtype([(\"qint32\", np.int32, 1)])\n",
      "/root/miniconda3/envs/tfx/lib/python3.6/site-packages/tensorflow/python/framework/dtypes.py:525: FutureWarning: Passing (type, 1) or '1type' as a synonym of type is deprecated; in a future version of numpy, it will be understood as (type, (1,)) / '(1,)type'.\n",
      "  np_resource = np.dtype([(\"resource\", np.ubyte, 1)])\n",
      "/root/miniconda3/envs/tfx/lib/python3.6/site-packages/tensorboard/compat/tensorflow_stub/dtypes.py:541: FutureWarning: Passing (type, 1) or '1type' as a synonym of type is deprecated; in a future version of numpy, it will be understood as (type, (1,)) / '(1,)type'.\n",
      "  _np_qint8 = np.dtype([(\"qint8\", np.int8, 1)])\n",
      "/root/miniconda3/envs/tfx/lib/python3.6/site-packages/tensorboard/compat/tensorflow_stub/dtypes.py:542: FutureWarning: Passing (type, 1) or '1type' as a synonym of type is deprecated; in a future version of numpy, it will be understood as (type, (1,)) / '(1,)type'.\n",
      "  _np_quint8 = np.dtype([(\"quint8\", np.uint8, 1)])\n",
      "/root/miniconda3/envs/tfx/lib/python3.6/site-packages/tensorboard/compat/tensorflow_stub/dtypes.py:543: FutureWarning: Passing (type, 1) or '1type' as a synonym of type is deprecated; in a future version of numpy, it will be understood as (type, (1,)) / '(1,)type'.\n",
      "  _np_qint16 = np.dtype([(\"qint16\", np.int16, 1)])\n",
      "/root/miniconda3/envs/tfx/lib/python3.6/site-packages/tensorboard/compat/tensorflow_stub/dtypes.py:544: FutureWarning: Passing (type, 1) or '1type' as a synonym of type is deprecated; in a future version of numpy, it will be understood as (type, (1,)) / '(1,)type'.\n",
      "  _np_quint16 = np.dtype([(\"quint16\", np.uint16, 1)])\n",
      "/root/miniconda3/envs/tfx/lib/python3.6/site-packages/tensorboard/compat/tensorflow_stub/dtypes.py:545: FutureWarning: Passing (type, 1) or '1type' as a synonym of type is deprecated; in a future version of numpy, it will be understood as (type, (1,)) / '(1,)type'.\n",
      "  _np_qint32 = np.dtype([(\"qint32\", np.int32, 1)])\n",
      "/root/miniconda3/envs/tfx/lib/python3.6/site-packages/tensorboard/compat/tensorflow_stub/dtypes.py:550: FutureWarning: Passing (type, 1) or '1type' as a synonym of type is deprecated; in a future version of numpy, it will be understood as (type, (1,)) / '(1,)type'.\n",
      "  np_resource = np.dtype([(\"resource\", np.ubyte, 1)])\n",
      "/root/miniconda3/envs/tfx/lib/python3.6/site-packages/apache_beam/__init__.py:84: UserWarning: Some syntactic constructs of Python 3 are not yet fully supported by Apache Beam.\n",
      "  'Some syntactic constructs of Python 3 are not yet fully supported by '\n"
     ]
    },
    {
     "name": "stdout",
     "output_type": "stream",
     "text": [
      "WARNING:tensorflow:From /root/miniconda3/envs/tfx/lib/python3.6/site-packages/tfx/components/transform/executor.py:57: The name tf.FixedLenFeature is deprecated. Please use tf.io.FixedLenFeature instead.\n",
      "\n",
      "WARNING:tensorflow:From /root/miniconda3/envs/tfx/lib/python3.6/site-packages/tfx/components/transform/executor.py:57: from_feature_spec (from tensorflow_transform.tf_metadata.dataset_schema) is deprecated and will be removed in a future version.\n",
      "Instructions for updating:\n",
      "from_feature_spec is a deprecated, use schema_utils.schema_from_feature_spec\n"
     ]
    }
   ],
   "source": [
    "import os\n",
    "import tempfile\n",
    "import urllib\n",
    "\n",
    "import tfx\n",
    "from tfx.components.evaluator.component import Evaluator\n",
    "from tfx.components.example_gen.csv_example_gen.component import CsvExampleGen\n",
    "from tfx.components.example_validator.component import ExampleValidator\n",
    "from tfx.components.model_validator.component import ModelValidator\n",
    "from tfx.components.pusher.component import Pusher\n",
    "from tfx.components.schema_gen.component import SchemaGen\n",
    "from tfx.components.statistics_gen.component import StatisticsGen\n",
    "from tfx.components.trainer.component import Trainer\n",
    "from tfx.components.transform.component import Transform\n",
    "from tfx.orchestration.interactive.interactive_context import InteractiveContext\n",
    "from tfx.proto import evaluator_pb2\n",
    "from tfx.proto import pusher_pb2\n",
    "from tfx.proto import trainer_pb2\n",
    "from tfx.proto.evaluator_pb2 import SingleSlicingSpec\n",
    "from tfx.utils.dsl_utils import csv_input"
   ]
  },
  {
   "cell_type": "markdown",
   "metadata": {
    "colab_type": "text",
    "id": "8ONIE_hdkPS4"
   },
   "source": [
    "## Create the InteractiveContext\n",
    "We now create the interactive context."
   ]
  },
  {
   "cell_type": "code",
   "execution_count": 21,
   "metadata": {},
   "outputs": [],
   "source": [
    "import ml_metadata"
   ]
  },
  {
   "cell_type": "code",
   "execution_count": 22,
   "metadata": {},
   "outputs": [
    {
     "data": {
      "text/plain": [
       "'0.15.0dev'"
      ]
     },
     "execution_count": 22,
     "metadata": {},
     "output_type": "execute_result"
    }
   ],
   "source": [
    "ml_metadata.__version__"
   ]
  },
  {
   "cell_type": "code",
   "execution_count": 26,
   "metadata": {
    "colab": {},
    "colab_type": "code",
    "id": "0Rh6K5sUf9dd"
   },
   "outputs": [],
   "source": [
    "# Here, we create an InteractiveContext using default parameters. This will\n",
    "# use a temporary directory with an ephemeral ML Metadata database instance.\n",
    "# To use your own pipeline root or database, the optional properties\n",
    "# `pipeline_root` and `metadata_connection_config` may be passed to\n",
    "# InteractiveContext.\n",
    "\n",
    "import ml_metadata\n",
    "from ml_metadata.metadata_store import metadata_store\n",
    "from ml_metadata.proto import metadata_store_pb2\n",
    "\n",
    "_connection_config = metadata_store_pb2.ConnectionConfig()\n",
    "_connection_config.mysql.host = '35.192.177.172'\n",
    "_connection_config.mysql.port = 3306\n",
    "_connection_config.mysql.database = 'metadb'\n",
    "_connection_config.mysql.user = 'root'\n",
    "_connection_config.mysql.password = ''\n",
    "\n",
    "_pipeline_name = 'chicago_taxi'\n",
    "_pipeline_root = 'gs://caip-tfx/interactive/' + _pipeline_name\n",
    "\n",
    "context = InteractiveContext(_pipeline_name, _pipeline_root, _connection_config)"
   ]
  },
  {
   "cell_type": "markdown",
   "metadata": {
    "colab_type": "text",
    "id": "HdQWxfsVkzdJ"
   },
   "source": [
    "## Run TFX components interactively\n",
    "Next, we construct TFX components and run each one interactively using within the interactive session to obtain `ExecutionResult` objects."
   ]
  },
  {
   "cell_type": "markdown",
   "metadata": {
    "colab_type": "text",
    "id": "L9fwt9gQk3BR"
   },
   "source": [
    "### ExampleGen\n",
    "`ExampleGen` brings data into the TFX pipeline."
   ]
  },
  {
   "cell_type": "code",
   "execution_count": 27,
   "metadata": {
    "colab": {},
    "colab_type": "code",
    "id": "PyXjuMt8f-9u"
   },
   "outputs": [],
   "source": [
    "# Use the packaged CSV input data.\n",
    "_data_root = '/home/jarekk/datasets/'\n",
    "examples = csv_input(_data_root)\n"
   ]
  },
  {
   "cell_type": "code",
   "execution_count": 28,
   "metadata": {},
   "outputs": [
    {
     "name": "stdout",
     "output_type": "stream",
     "text": [
      "INFO:tensorflow:Run driver for CsvExampleGen\n"
     ]
    },
    {
     "name": "stderr",
     "output_type": "stream",
     "text": [
      "INFO:tensorflow:Run driver for CsvExampleGen\n"
     ]
    },
    {
     "name": "stdout",
     "output_type": "stream",
     "text": [
      "INFO:tensorflow:Created run context chicago_taxi.2019-10-07T17:38:27.202905.\n"
     ]
    },
    {
     "name": "stderr",
     "output_type": "stream",
     "text": [
      "INFO:tensorflow:Created run context chicago_taxi.2019-10-07T17:38:27.202905.\n"
     ]
    },
    {
     "name": "stdout",
     "output_type": "stream",
     "text": [
      "INFO:tensorflow:ID of run context chicago_taxi.2019-10-07T17:38:27.202905 is 56.\n"
     ]
    },
    {
     "name": "stderr",
     "output_type": "stream",
     "text": [
      "INFO:tensorflow:ID of run context chicago_taxi.2019-10-07T17:38:27.202905 is 56.\n"
     ]
    },
    {
     "name": "stdout",
     "output_type": "stream",
     "text": [
      "INFO:tensorflow:Processing input /home/jarekk/datasets/.\n"
     ]
    },
    {
     "name": "stderr",
     "output_type": "stream",
     "text": [
      "INFO:tensorflow:Processing input /home/jarekk/datasets/.\n"
     ]
    },
    {
     "name": "stdout",
     "output_type": "stream",
     "text": [
      "INFO:tensorflow:single_input Artifact(type_name: ExternalPath, uri: /home/jarekk/datasets/, split: , id: 0).\n"
     ]
    },
    {
     "name": "stderr",
     "output_type": "stream",
     "text": [
      "INFO:tensorflow:single_input Artifact(type_name: ExternalPath, uri: /home/jarekk/datasets/, split: , id: 0).\n"
     ]
    },
    {
     "name": "stdout",
     "output_type": "stream",
     "text": [
      "INFO:tensorflow:single_input.artifact uri: \"/home/jarekk/datasets/\"\n",
      "properties {\n",
      "  key: \"split\"\n",
      "  value {\n",
      "    string_value: \"\"\n",
      "  }\n",
      "}\n",
      "properties {\n",
      "  key: \"type_name\"\n",
      "  value {\n",
      "    string_value: \"ExternalPath\"\n",
      "  }\n",
      "}\n",
      ".\n"
     ]
    },
    {
     "name": "stderr",
     "output_type": "stream",
     "text": [
      "INFO:tensorflow:single_input.artifact uri: \"/home/jarekk/datasets/\"\n",
      "properties {\n",
      "  key: \"split\"\n",
      "  value {\n",
      "    string_value: \"\"\n",
      "  }\n",
      "}\n",
      "properties {\n",
      "  key: \"type_name\"\n",
      "  value {\n",
      "    string_value: \"ExternalPath\"\n",
      "  }\n",
      "}\n",
      ".\n"
     ]
    },
    {
     "name": "stdout",
     "output_type": "stream",
     "text": [
      "INFO:tensorflow:latest_artifact id: 59\n",
      "type_id: 20\n",
      "uri: \"/home/jarekk/datasets/\"\n",
      "properties {\n",
      "  key: \"split\"\n",
      "  value {\n",
      "    string_value: \"\"\n",
      "  }\n",
      "}\n",
      "properties {\n",
      "  key: \"state\"\n",
      "  value {\n",
      "    string_value: \"published\"\n",
      "  }\n",
      "}\n",
      "properties {\n",
      "  key: \"type_name\"\n",
      "  value {\n",
      "    string_value: \"ExternalPath\"\n",
      "  }\n",
      "}\n",
      "custom_properties {\n",
      "  key: \"input_fingerprint\"\n",
      "  value {\n",
      "    string_value: \"split:single_split,num_files:1,total_bytes:1922668,xor_checksum:1570466499,sum_checksum:1570466499\"\n",
      "  }\n",
      "}\n",
      ".\n"
     ]
    },
    {
     "name": "stderr",
     "output_type": "stream",
     "text": [
      "INFO:tensorflow:latest_artifact id: 59\n",
      "type_id: 20\n",
      "uri: \"/home/jarekk/datasets/\"\n",
      "properties {\n",
      "  key: \"split\"\n",
      "  value {\n",
      "    string_value: \"\"\n",
      "  }\n",
      "}\n",
      "properties {\n",
      "  key: \"state\"\n",
      "  value {\n",
      "    string_value: \"published\"\n",
      "  }\n",
      "}\n",
      "properties {\n",
      "  key: \"type_name\"\n",
      "  value {\n",
      "    string_value: \"ExternalPath\"\n",
      "  }\n",
      "}\n",
      "custom_properties {\n",
      "  key: \"input_fingerprint\"\n",
      "  value {\n",
      "    string_value: \"split:single_split,num_files:1,total_bytes:1922668,xor_checksum:1570466499,sum_checksum:1570466499\"\n",
      "  }\n",
      "}\n",
      ".\n"
     ]
    },
    {
     "name": "stdout",
     "output_type": "stream",
     "text": [
      "INFO:tensorflow:type(latest_artifact) <class 'ml_metadata.proto.metadata_store_pb2.Artifact'>.\n"
     ]
    },
    {
     "name": "stderr",
     "output_type": "stream",
     "text": [
      "INFO:tensorflow:type(latest_artifact) <class 'ml_metadata.proto.metadata_store_pb2.Artifact'>.\n"
     ]
    },
    {
     "name": "stdout",
     "output_type": "stream",
     "text": [
      "INFO:tensorflow:Resolved input artifacts are: {'input_base': [Artifact(type_name: ExternalPath, uri: /home/jarekk/datasets/, split: , id: 59)]}\n"
     ]
    },
    {
     "name": "stderr",
     "output_type": "stream",
     "text": [
      "INFO:tensorflow:Resolved input artifacts are: {'input_base': [Artifact(type_name: ExternalPath, uri: /home/jarekk/datasets/, split: , id: 59)]}\n"
     ]
    },
    {
     "name": "stdout",
     "output_type": "stream",
     "text": [
      "INFO:tensorflow:Prepared EXECUTION:\n",
      " type_id: 21\n",
      "properties {\n",
      "  key: \"component_id\"\n",
      "  value {\n",
      "    string_value: \"CsvExampleGen\"\n",
      "  }\n",
      "}\n",
      "properties {\n",
      "  key: \"custom_config\"\n",
      "  value {\n",
      "    string_value: \"None\"\n",
      "  }\n",
      "}\n",
      "properties {\n",
      "  key: \"input_config\"\n",
      "  value {\n",
      "    string_value: \"{\\n  \\\"splits\\\": [\\n    {\\n      \\\"name\\\": \\\"single_split\\\",\\n      \\\"pattern\\\": \\\"*\\\"\\n    }\\n  ]\\n}\"\n",
      "  }\n",
      "}\n",
      "properties {\n",
      "  key: \"output_config\"\n",
      "  value {\n",
      "    string_value: \"{\\n  \\\"splitConfig\\\": {\\n    \\\"splits\\\": [\\n      {\\n        \\\"hashBuckets\\\": 2,\\n        \\\"name\\\": \\\"train\\\"\\n      },\\n      {\\n        \\\"hashBuckets\\\": 1,\\n        \\\"name\\\": \\\"eval\\\"\\n      }\\n    ]\\n  }\\n}\"\n",
      "  }\n",
      "}\n",
      "properties {\n",
      "  key: \"pipeline_name\"\n",
      "  value {\n",
      "    string_value: \"chicago_taxi\"\n",
      "  }\n",
      "}\n",
      "properties {\n",
      "  key: \"pipeline_root\"\n",
      "  value {\n",
      "    string_value: \"gs://caip-tfx/interactive/chicago_taxi\"\n",
      "  }\n",
      "}\n",
      "properties {\n",
      "  key: \"run_id\"\n",
      "  value {\n",
      "    string_value: \"2019-10-07T17:38:27.202905\"\n",
      "  }\n",
      "}\n",
      "properties {\n",
      "  key: \"state\"\n",
      "  value {\n",
      "    string_value: \"new\"\n",
      "  }\n",
      "}\n",
      "\n"
     ]
    },
    {
     "name": "stderr",
     "output_type": "stream",
     "text": [
      "INFO:tensorflow:Prepared EXECUTION:\n",
      " type_id: 21\n",
      "properties {\n",
      "  key: \"component_id\"\n",
      "  value {\n",
      "    string_value: \"CsvExampleGen\"\n",
      "  }\n",
      "}\n",
      "properties {\n",
      "  key: \"custom_config\"\n",
      "  value {\n",
      "    string_value: \"None\"\n",
      "  }\n",
      "}\n",
      "properties {\n",
      "  key: \"input_config\"\n",
      "  value {\n",
      "    string_value: \"{\\n  \\\"splits\\\": [\\n    {\\n      \\\"name\\\": \\\"single_split\\\",\\n      \\\"pattern\\\": \\\"*\\\"\\n    }\\n  ]\\n}\"\n",
      "  }\n",
      "}\n",
      "properties {\n",
      "  key: \"output_config\"\n",
      "  value {\n",
      "    string_value: \"{\\n  \\\"splitConfig\\\": {\\n    \\\"splits\\\": [\\n      {\\n        \\\"hashBuckets\\\": 2,\\n        \\\"name\\\": \\\"train\\\"\\n      },\\n      {\\n        \\\"hashBuckets\\\": 1,\\n        \\\"name\\\": \\\"eval\\\"\\n      }\\n    ]\\n  }\\n}\"\n",
      "  }\n",
      "}\n",
      "properties {\n",
      "  key: \"pipeline_name\"\n",
      "  value {\n",
      "    string_value: \"chicago_taxi\"\n",
      "  }\n",
      "}\n",
      "properties {\n",
      "  key: \"pipeline_root\"\n",
      "  value {\n",
      "    string_value: \"gs://caip-tfx/interactive/chicago_taxi\"\n",
      "  }\n",
      "}\n",
      "properties {\n",
      "  key: \"run_id\"\n",
      "  value {\n",
      "    string_value: \"2019-10-07T17:38:27.202905\"\n",
      "  }\n",
      "}\n",
      "properties {\n",
      "  key: \"state\"\n",
      "  value {\n",
      "    string_value: \"new\"\n",
      "  }\n",
      "}\n",
      "\n"
     ]
    },
    {
     "name": "stdout",
     "output_type": "stream",
     "text": [
      "INFO:tensorflow:Execution id of the upcoming component execution is 55\n"
     ]
    },
    {
     "name": "stderr",
     "output_type": "stream",
     "text": [
      "INFO:tensorflow:Execution id of the upcoming component execution is 55\n"
     ]
    },
    {
     "name": "stdout",
     "output_type": "stream",
     "text": [
      "INFO:tensorflow:Checking previous run for execution_type_name tfx.components.example_gen.csv_example_gen.component.CsvExampleGen and input_artifacts {'input_base': [Artifact(type_name: ExternalPath, uri: /home/jarekk/datasets/, split: , id: 59)]}\n"
     ]
    },
    {
     "name": "stderr",
     "output_type": "stream",
     "text": [
      "INFO:tensorflow:Checking previous run for execution_type_name tfx.components.example_gen.csv_example_gen.component.CsvExampleGen and input_artifacts {'input_base': [Artifact(type_name: ExternalPath, uri: /home/jarekk/datasets/, split: , id: 59)]}\n"
     ]
    },
    {
     "name": "stdout",
     "output_type": "stream",
     "text": [
      "INFO:tensorflow:Prepared EXECUTION:\n",
      " type_id: 21\n",
      "properties {\n",
      "  key: \"component_id\"\n",
      "  value {\n",
      "    string_value: \"CsvExampleGen\"\n",
      "  }\n",
      "}\n",
      "properties {\n",
      "  key: \"custom_config\"\n",
      "  value {\n",
      "    string_value: \"None\"\n",
      "  }\n",
      "}\n",
      "properties {\n",
      "  key: \"input_config\"\n",
      "  value {\n",
      "    string_value: \"{\\n  \\\"splits\\\": [\\n    {\\n      \\\"name\\\": \\\"single_split\\\",\\n      \\\"pattern\\\": \\\"*\\\"\\n    }\\n  ]\\n}\"\n",
      "  }\n",
      "}\n",
      "properties {\n",
      "  key: \"output_config\"\n",
      "  value {\n",
      "    string_value: \"{\\n  \\\"splitConfig\\\": {\\n    \\\"splits\\\": [\\n      {\\n        \\\"hashBuckets\\\": 2,\\n        \\\"name\\\": \\\"train\\\"\\n      },\\n      {\\n        \\\"hashBuckets\\\": 1,\\n        \\\"name\\\": \\\"eval\\\"\\n      }\\n    ]\\n  }\\n}\"\n",
      "  }\n",
      "}\n",
      "properties {\n",
      "  key: \"pipeline_name\"\n",
      "  value {\n",
      "    string_value: \"chicago_taxi\"\n",
      "  }\n",
      "}\n",
      "properties {\n",
      "  key: \"pipeline_root\"\n",
      "  value {\n",
      "    string_value: \"gs://caip-tfx/interactive/chicago_taxi\"\n",
      "  }\n",
      "}\n",
      "properties {\n",
      "  key: \"run_id\"\n",
      "  value {\n",
      "    string_value: \"2019-10-07T17:38:27.202905\"\n",
      "  }\n",
      "}\n",
      "properties {\n",
      "  key: \"state\"\n",
      "  value {\n",
      "    string_value: \"complete\"\n",
      "  }\n",
      "}\n",
      "\n"
     ]
    },
    {
     "name": "stderr",
     "output_type": "stream",
     "text": [
      "INFO:tensorflow:Prepared EXECUTION:\n",
      " type_id: 21\n",
      "properties {\n",
      "  key: \"component_id\"\n",
      "  value {\n",
      "    string_value: \"CsvExampleGen\"\n",
      "  }\n",
      "}\n",
      "properties {\n",
      "  key: \"custom_config\"\n",
      "  value {\n",
      "    string_value: \"None\"\n",
      "  }\n",
      "}\n",
      "properties {\n",
      "  key: \"input_config\"\n",
      "  value {\n",
      "    string_value: \"{\\n  \\\"splits\\\": [\\n    {\\n      \\\"name\\\": \\\"single_split\\\",\\n      \\\"pattern\\\": \\\"*\\\"\\n    }\\n  ]\\n}\"\n",
      "  }\n",
      "}\n",
      "properties {\n",
      "  key: \"output_config\"\n",
      "  value {\n",
      "    string_value: \"{\\n  \\\"splitConfig\\\": {\\n    \\\"splits\\\": [\\n      {\\n        \\\"hashBuckets\\\": 2,\\n        \\\"name\\\": \\\"train\\\"\\n      },\\n      {\\n        \\\"hashBuckets\\\": 1,\\n        \\\"name\\\": \\\"eval\\\"\\n      }\\n    ]\\n  }\\n}\"\n",
      "  }\n",
      "}\n",
      "properties {\n",
      "  key: \"pipeline_name\"\n",
      "  value {\n",
      "    string_value: \"chicago_taxi\"\n",
      "  }\n",
      "}\n",
      "properties {\n",
      "  key: \"pipeline_root\"\n",
      "  value {\n",
      "    string_value: \"gs://caip-tfx/interactive/chicago_taxi\"\n",
      "  }\n",
      "}\n",
      "properties {\n",
      "  key: \"run_id\"\n",
      "  value {\n",
      "    string_value: \"2019-10-07T17:38:27.202905\"\n",
      "  }\n",
      "}\n",
      "properties {\n",
      "  key: \"state\"\n",
      "  value {\n",
      "    string_value: \"complete\"\n",
      "  }\n",
      "}\n",
      "\n"
     ]
    },
    {
     "name": "stdout",
     "output_type": "stream",
     "text": [
      "INFO:tensorflow:No execution matching type id and input artifacts found\n"
     ]
    },
    {
     "name": "stderr",
     "output_type": "stream",
     "text": [
      "INFO:tensorflow:No execution matching type id and input artifacts found\n"
     ]
    },
    {
     "name": "stdout",
     "output_type": "stream",
     "text": [
      "INFO:tensorflow:Cached results not found, move on to new execution\n"
     ]
    },
    {
     "name": "stderr",
     "output_type": "stream",
     "text": [
      "INFO:tensorflow:Cached results not found, move on to new execution\n"
     ]
    },
    {
     "name": "stdout",
     "output_type": "stream",
     "text": [
      "INFO:tensorflow:Creating output artifact uri gs://caip-tfx/interactive/chicago_taxi/CsvExampleGen/examples/55/train/ as directory\n"
     ]
    },
    {
     "name": "stderr",
     "output_type": "stream",
     "text": [
      "INFO:tensorflow:Creating output artifact uri gs://caip-tfx/interactive/chicago_taxi/CsvExampleGen/examples/55/train/ as directory\n"
     ]
    },
    {
     "name": "stdout",
     "output_type": "stream",
     "text": [
      "INFO:tensorflow:Creating output artifact uri gs://caip-tfx/interactive/chicago_taxi/CsvExampleGen/examples/55/eval/ as directory\n"
     ]
    },
    {
     "name": "stderr",
     "output_type": "stream",
     "text": [
      "INFO:tensorflow:Creating output artifact uri gs://caip-tfx/interactive/chicago_taxi/CsvExampleGen/examples/55/eval/ as directory\n"
     ]
    },
    {
     "name": "stdout",
     "output_type": "stream",
     "text": [
      "INFO:tensorflow:Output artifacts skeleton for the upcoming execution are: {'examples': [Artifact(type_name: ExamplesPath, uri: gs://caip-tfx/interactive/chicago_taxi/CsvExampleGen/examples/55/train/, split: train, id: 0), Artifact(type_name: ExamplesPath, uri: gs://caip-tfx/interactive/chicago_taxi/CsvExampleGen/examples/55/eval/, split: eval, id: 0)]}\n"
     ]
    },
    {
     "name": "stderr",
     "output_type": "stream",
     "text": [
      "INFO:tensorflow:Output artifacts skeleton for the upcoming execution are: {'examples': [Artifact(type_name: ExamplesPath, uri: gs://caip-tfx/interactive/chicago_taxi/CsvExampleGen/examples/55/train/, split: train, id: 0), Artifact(type_name: ExamplesPath, uri: gs://caip-tfx/interactive/chicago_taxi/CsvExampleGen/examples/55/eval/, split: eval, id: 0)]}\n"
     ]
    },
    {
     "name": "stdout",
     "output_type": "stream",
     "text": [
      "INFO:tensorflow:Execution properties for the upcoming execution are: {'input_config': '{\\n  \"splits\": [\\n    {\\n      \"name\": \"single_split\",\\n      \"pattern\": \"*\"\\n    }\\n  ]\\n}', 'output_config': '{\\n  \"splitConfig\": {\\n    \"splits\": [\\n      {\\n        \"hashBuckets\": 2,\\n        \"name\": \"train\"\\n      },\\n      {\\n        \"hashBuckets\": 1,\\n        \"name\": \"eval\"\\n      }\\n    ]\\n  }\\n}', 'custom_config': None}\n"
     ]
    },
    {
     "name": "stderr",
     "output_type": "stream",
     "text": [
      "INFO:tensorflow:Execution properties for the upcoming execution are: {'input_config': '{\\n  \"splits\": [\\n    {\\n      \"name\": \"single_split\",\\n      \"pattern\": \"*\"\\n    }\\n  ]\\n}', 'output_config': '{\\n  \"splitConfig\": {\\n    \"splits\": [\\n      {\\n        \"hashBuckets\": 2,\\n        \"name\": \"train\"\\n      },\\n      {\\n        \"hashBuckets\": 1,\\n        \"name\": \"eval\"\\n      }\\n    ]\\n  }\\n}', 'custom_config': None}\n"
     ]
    },
    {
     "name": "stdout",
     "output_type": "stream",
     "text": [
      "INFO:tensorflow:Run executor for CsvExampleGen\n"
     ]
    },
    {
     "name": "stderr",
     "output_type": "stream",
     "text": [
      "INFO:tensorflow:Run executor for CsvExampleGen\n"
     ]
    },
    {
     "name": "stdout",
     "output_type": "stream",
     "text": [
      "INFO:tensorflow:Starting Executor execution.\n"
     ]
    },
    {
     "name": "stderr",
     "output_type": "stream",
     "text": [
      "INFO:tensorflow:Starting Executor execution.\n"
     ]
    },
    {
     "name": "stdout",
     "output_type": "stream",
     "text": [
      "INFO:tensorflow:Inputs for Executor is: {\"input_base\": [{\"artifact\": {\"id\": \"59\", \"typeId\": \"20\", \"uri\": \"/home/jarekk/datasets/\", \"properties\": {\"split\": {\"stringValue\": \"\"}, \"state\": {\"stringValue\": \"published\"}, \"type_name\": {\"stringValue\": \"ExternalPath\"}}, \"customProperties\": {\"input_fingerprint\": {\"stringValue\": \"split:single_split,num_files:1,total_bytes:1922668,xor_checksum:1570466499,sum_checksum:1570466499\"}}}, \"artifact_type\": {\"name\": \"ExternalPath\", \"properties\": {\"name\": \"STRING\", \"type_name\": \"STRING\", \"state\": \"STRING\", \"producer_component\": \"STRING\", \"span\": \"INT\", \"pipeline_name\": \"STRING\", \"split\": \"STRING\"}}}]}\n"
     ]
    },
    {
     "name": "stderr",
     "output_type": "stream",
     "text": [
      "INFO:tensorflow:Inputs for Executor is: {\"input_base\": [{\"artifact\": {\"id\": \"59\", \"typeId\": \"20\", \"uri\": \"/home/jarekk/datasets/\", \"properties\": {\"split\": {\"stringValue\": \"\"}, \"state\": {\"stringValue\": \"published\"}, \"type_name\": {\"stringValue\": \"ExternalPath\"}}, \"customProperties\": {\"input_fingerprint\": {\"stringValue\": \"split:single_split,num_files:1,total_bytes:1922668,xor_checksum:1570466499,sum_checksum:1570466499\"}}}, \"artifact_type\": {\"name\": \"ExternalPath\", \"properties\": {\"name\": \"STRING\", \"type_name\": \"STRING\", \"state\": \"STRING\", \"producer_component\": \"STRING\", \"span\": \"INT\", \"pipeline_name\": \"STRING\", \"split\": \"STRING\"}}}]}\n"
     ]
    },
    {
     "name": "stdout",
     "output_type": "stream",
     "text": [
      "INFO:tensorflow:Outputs for Executor is: {\"examples\": [{\"artifact\": {\"uri\": \"gs://caip-tfx/interactive/chicago_taxi/CsvExampleGen/examples/55/train/\", \"properties\": {\"split\": {\"stringValue\": \"train\"}, \"producer_component\": {\"stringValue\": \"CsvExampleGen\"}, \"pipeline_name\": {\"stringValue\": \"chicago_taxi\"}, \"name\": {\"stringValue\": \"examples\"}, \"type_name\": {\"stringValue\": \"ExamplesPath\"}}}, \"artifact_type\": {\"name\": \"ExamplesPath\", \"properties\": {\"name\": \"STRING\", \"type_name\": \"STRING\", \"state\": \"STRING\", \"producer_component\": \"STRING\", \"span\": \"INT\", \"pipeline_name\": \"STRING\", \"split\": \"STRING\"}}}, {\"artifact\": {\"uri\": \"gs://caip-tfx/interactive/chicago_taxi/CsvExampleGen/examples/55/eval/\", \"properties\": {\"producer_component\": {\"stringValue\": \"CsvExampleGen\"}, \"pipeline_name\": {\"stringValue\": \"chicago_taxi\"}, \"name\": {\"stringValue\": \"examples\"}, \"type_name\": {\"stringValue\": \"ExamplesPath\"}, \"split\": {\"stringValue\": \"eval\"}}}, \"artifact_type\": {\"name\": \"ExamplesPath\", \"properties\": {\"name\": \"STRING\", \"type_name\": \"STRING\", \"state\": \"STRING\", \"producer_component\": \"STRING\", \"span\": \"INT\", \"pipeline_name\": \"STRING\", \"split\": \"STRING\"}}}]}\n"
     ]
    },
    {
     "name": "stderr",
     "output_type": "stream",
     "text": [
      "INFO:tensorflow:Outputs for Executor is: {\"examples\": [{\"artifact\": {\"uri\": \"gs://caip-tfx/interactive/chicago_taxi/CsvExampleGen/examples/55/train/\", \"properties\": {\"split\": {\"stringValue\": \"train\"}, \"producer_component\": {\"stringValue\": \"CsvExampleGen\"}, \"pipeline_name\": {\"stringValue\": \"chicago_taxi\"}, \"name\": {\"stringValue\": \"examples\"}, \"type_name\": {\"stringValue\": \"ExamplesPath\"}}}, \"artifact_type\": {\"name\": \"ExamplesPath\", \"properties\": {\"name\": \"STRING\", \"type_name\": \"STRING\", \"state\": \"STRING\", \"producer_component\": \"STRING\", \"span\": \"INT\", \"pipeline_name\": \"STRING\", \"split\": \"STRING\"}}}, {\"artifact\": {\"uri\": \"gs://caip-tfx/interactive/chicago_taxi/CsvExampleGen/examples/55/eval/\", \"properties\": {\"producer_component\": {\"stringValue\": \"CsvExampleGen\"}, \"pipeline_name\": {\"stringValue\": \"chicago_taxi\"}, \"name\": {\"stringValue\": \"examples\"}, \"type_name\": {\"stringValue\": \"ExamplesPath\"}, \"split\": {\"stringValue\": \"eval\"}}}, \"artifact_type\": {\"name\": \"ExamplesPath\", \"properties\": {\"name\": \"STRING\", \"type_name\": \"STRING\", \"state\": \"STRING\", \"producer_component\": \"STRING\", \"span\": \"INT\", \"pipeline_name\": \"STRING\", \"split\": \"STRING\"}}}]}\n"
     ]
    },
    {
     "name": "stdout",
     "output_type": "stream",
     "text": [
      "INFO:tensorflow:Execution properties for Executor is: {\"input_config\": \"{\\n  \\\"splits\\\": [\\n    {\\n      \\\"name\\\": \\\"single_split\\\",\\n      \\\"pattern\\\": \\\"*\\\"\\n    }\\n  ]\\n}\", \"output_config\": \"{\\n  \\\"splitConfig\\\": {\\n    \\\"splits\\\": [\\n      {\\n        \\\"hashBuckets\\\": 2,\\n        \\\"name\\\": \\\"train\\\"\\n      },\\n      {\\n        \\\"hashBuckets\\\": 1,\\n        \\\"name\\\": \\\"eval\\\"\\n      }\\n    ]\\n  }\\n}\", \"custom_config\": null}\n"
     ]
    },
    {
     "name": "stderr",
     "output_type": "stream",
     "text": [
      "INFO:tensorflow:Execution properties for Executor is: {\"input_config\": \"{\\n  \\\"splits\\\": [\\n    {\\n      \\\"name\\\": \\\"single_split\\\",\\n      \\\"pattern\\\": \\\"*\\\"\\n    }\\n  ]\\n}\", \"output_config\": \"{\\n  \\\"splitConfig\\\": {\\n    \\\"splits\\\": [\\n      {\\n        \\\"hashBuckets\\\": 2,\\n        \\\"name\\\": \\\"train\\\"\\n      },\\n      {\\n        \\\"hashBuckets\\\": 1,\\n        \\\"name\\\": \\\"eval\\\"\\n      }\\n    ]\\n  }\\n}\", \"custom_config\": null}\n"
     ]
    },
    {
     "name": "stdout",
     "output_type": "stream",
     "text": [
      "INFO:tensorflow:Generating examples.\n"
     ]
    },
    {
     "name": "stderr",
     "output_type": "stream",
     "text": [
      "INFO:tensorflow:Generating examples.\n"
     ]
    },
    {
     "name": "stdout",
     "output_type": "stream",
     "text": [
      "INFO:tensorflow:Processing input csv data /home/jarekk/datasets/* to TFExample.\n"
     ]
    },
    {
     "name": "stderr",
     "output_type": "stream",
     "text": [
      "INFO:tensorflow:Processing input csv data /home/jarekk/datasets/* to TFExample.\n"
     ]
    },
    {
     "name": "stdout",
     "output_type": "stream",
     "text": [
      "INFO:tensorflow:Examples generated.\n"
     ]
    },
    {
     "name": "stderr",
     "output_type": "stream",
     "text": [
      "INFO:tensorflow:Examples generated.\n"
     ]
    },
    {
     "name": "stdout",
     "output_type": "stream",
     "text": [
      "INFO:tensorflow:Run publisher for CsvExampleGen\n"
     ]
    },
    {
     "name": "stderr",
     "output_type": "stream",
     "text": [
      "INFO:tensorflow:Run publisher for CsvExampleGen\n"
     ]
    },
    {
     "name": "stdout",
     "output_type": "stream",
     "text": [
      "INFO:tensorflow:Whether cached results are used: False\n"
     ]
    },
    {
     "name": "stderr",
     "output_type": "stream",
     "text": [
      "INFO:tensorflow:Whether cached results are used: False\n"
     ]
    },
    {
     "name": "stdout",
     "output_type": "stream",
     "text": [
      "INFO:tensorflow:Execution id: 55\n"
     ]
    },
    {
     "name": "stderr",
     "output_type": "stream",
     "text": [
      "INFO:tensorflow:Execution id: 55\n"
     ]
    },
    {
     "name": "stdout",
     "output_type": "stream",
     "text": [
      "INFO:tensorflow:Inputs: {'input_base': [Artifact(type_name: ExternalPath, uri: /home/jarekk/datasets/, split: , id: 59)]}\n"
     ]
    },
    {
     "name": "stderr",
     "output_type": "stream",
     "text": [
      "INFO:tensorflow:Inputs: {'input_base': [Artifact(type_name: ExternalPath, uri: /home/jarekk/datasets/, split: , id: 59)]}\n"
     ]
    },
    {
     "name": "stdout",
     "output_type": "stream",
     "text": [
      "INFO:tensorflow:Outputs: {'examples': [Artifact(type_name: ExamplesPath, uri: gs://caip-tfx/interactive/chicago_taxi/CsvExampleGen/examples/55/train/, split: train, id: 0), Artifact(type_name: ExamplesPath, uri: gs://caip-tfx/interactive/chicago_taxi/CsvExampleGen/examples/55/eval/, split: eval, id: 0)]}\n"
     ]
    },
    {
     "name": "stderr",
     "output_type": "stream",
     "text": [
      "INFO:tensorflow:Outputs: {'examples': [Artifact(type_name: ExamplesPath, uri: gs://caip-tfx/interactive/chicago_taxi/CsvExampleGen/examples/55/train/, split: train, id: 0), Artifact(type_name: ExamplesPath, uri: gs://caip-tfx/interactive/chicago_taxi/CsvExampleGen/examples/55/eval/, split: eval, id: 0)]}\n"
     ]
    },
    {
     "name": "stdout",
     "output_type": "stream",
     "text": [
      "INFO:tensorflow:Publishing execution id: 55\n",
      "type_id: 21\n",
      "properties {\n",
      "  key: \"component_id\"\n",
      "  value {\n",
      "    string_value: \"CsvExampleGen\"\n",
      "  }\n",
      "}\n",
      "properties {\n",
      "  key: \"custom_config\"\n",
      "  value {\n",
      "    string_value: \"None\"\n",
      "  }\n",
      "}\n",
      "properties {\n",
      "  key: \"input_config\"\n",
      "  value {\n",
      "    string_value: \"{\\n  \\\"splits\\\": [\\n    {\\n      \\\"name\\\": \\\"single_split\\\",\\n      \\\"pattern\\\": \\\"*\\\"\\n    }\\n  ]\\n}\"\n",
      "  }\n",
      "}\n",
      "properties {\n",
      "  key: \"output_config\"\n",
      "  value {\n",
      "    string_value: \"{\\n  \\\"splitConfig\\\": {\\n    \\\"splits\\\": [\\n      {\\n        \\\"hashBuckets\\\": 2,\\n        \\\"name\\\": \\\"train\\\"\\n      },\\n      {\\n        \\\"hashBuckets\\\": 1,\\n        \\\"name\\\": \\\"eval\\\"\\n      }\\n    ]\\n  }\\n}\"\n",
      "  }\n",
      "}\n",
      "properties {\n",
      "  key: \"pipeline_name\"\n",
      "  value {\n",
      "    string_value: \"chicago_taxi\"\n",
      "  }\n",
      "}\n",
      "properties {\n",
      "  key: \"pipeline_root\"\n",
      "  value {\n",
      "    string_value: \"gs://caip-tfx/interactive/chicago_taxi\"\n",
      "  }\n",
      "}\n",
      "properties {\n",
      "  key: \"run_id\"\n",
      "  value {\n",
      "    string_value: \"2019-10-07T17:38:27.202905\"\n",
      "  }\n",
      "}\n",
      "properties {\n",
      "  key: \"state\"\n",
      "  value {\n",
      "    string_value: \"complete\"\n",
      "  }\n",
      "}\n",
      ", with inputs {'input_base': [Artifact(type_name: ExternalPath, uri: /home/jarekk/datasets/, split: , id: 59)]} and outputs {'examples': [Artifact(type_name: ExamplesPath, uri: gs://caip-tfx/interactive/chicago_taxi/CsvExampleGen/examples/55/train/, split: train, id: 0), Artifact(type_name: ExamplesPath, uri: gs://caip-tfx/interactive/chicago_taxi/CsvExampleGen/examples/55/eval/, split: eval, id: 0)]}\n"
     ]
    },
    {
     "name": "stderr",
     "output_type": "stream",
     "text": [
      "INFO:tensorflow:Publishing execution id: 55\n",
      "type_id: 21\n",
      "properties {\n",
      "  key: \"component_id\"\n",
      "  value {\n",
      "    string_value: \"CsvExampleGen\"\n",
      "  }\n",
      "}\n",
      "properties {\n",
      "  key: \"custom_config\"\n",
      "  value {\n",
      "    string_value: \"None\"\n",
      "  }\n",
      "}\n",
      "properties {\n",
      "  key: \"input_config\"\n",
      "  value {\n",
      "    string_value: \"{\\n  \\\"splits\\\": [\\n    {\\n      \\\"name\\\": \\\"single_split\\\",\\n      \\\"pattern\\\": \\\"*\\\"\\n    }\\n  ]\\n}\"\n",
      "  }\n",
      "}\n",
      "properties {\n",
      "  key: \"output_config\"\n",
      "  value {\n",
      "    string_value: \"{\\n  \\\"splitConfig\\\": {\\n    \\\"splits\\\": [\\n      {\\n        \\\"hashBuckets\\\": 2,\\n        \\\"name\\\": \\\"train\\\"\\n      },\\n      {\\n        \\\"hashBuckets\\\": 1,\\n        \\\"name\\\": \\\"eval\\\"\\n      }\\n    ]\\n  }\\n}\"\n",
      "  }\n",
      "}\n",
      "properties {\n",
      "  key: \"pipeline_name\"\n",
      "  value {\n",
      "    string_value: \"chicago_taxi\"\n",
      "  }\n",
      "}\n",
      "properties {\n",
      "  key: \"pipeline_root\"\n",
      "  value {\n",
      "    string_value: \"gs://caip-tfx/interactive/chicago_taxi\"\n",
      "  }\n",
      "}\n",
      "properties {\n",
      "  key: \"run_id\"\n",
      "  value {\n",
      "    string_value: \"2019-10-07T17:38:27.202905\"\n",
      "  }\n",
      "}\n",
      "properties {\n",
      "  key: \"state\"\n",
      "  value {\n",
      "    string_value: \"complete\"\n",
      "  }\n",
      "}\n",
      ", with inputs {'input_base': [Artifact(type_name: ExternalPath, uri: /home/jarekk/datasets/, split: , id: 59)]} and outputs {'examples': [Artifact(type_name: ExamplesPath, uri: gs://caip-tfx/interactive/chicago_taxi/CsvExampleGen/examples/55/train/, split: train, id: 0), Artifact(type_name: ExamplesPath, uri: gs://caip-tfx/interactive/chicago_taxi/CsvExampleGen/examples/55/eval/, split: eval, id: 0)]}\n"
     ]
    },
    {
     "name": "stdout",
     "output_type": "stream",
     "text": [
      "INFO:tensorflow:Published execution with final outputs {'examples': [Artifact(type_name: ExamplesPath, uri: gs://caip-tfx/interactive/chicago_taxi/CsvExampleGen/examples/55/train/, split: train, id: 60), Artifact(type_name: ExamplesPath, uri: gs://caip-tfx/interactive/chicago_taxi/CsvExampleGen/examples/55/eval/, split: eval, id: 61)]}\n"
     ]
    },
    {
     "name": "stderr",
     "output_type": "stream",
     "text": [
      "INFO:tensorflow:Published execution with final outputs {'examples': [Artifact(type_name: ExamplesPath, uri: gs://caip-tfx/interactive/chicago_taxi/CsvExampleGen/examples/55/train/, split: train, id: 60), Artifact(type_name: ExamplesPath, uri: gs://caip-tfx/interactive/chicago_taxi/CsvExampleGen/examples/55/eval/, split: eval, id: 61)]}\n"
     ]
    },
    {
     "data": {
      "text/html": [
       "<style>\n",
       ".tfx-object.expanded {\n",
       "  padding: 4px 8px 4px 8px;\n",
       "  background: white;\n",
       "  border: 1px solid #bbbbbb;\n",
       "  box-shadow: 4px 4px 2px rgba(0,0,0,0.05);\n",
       "}\n",
       ".tfx-object, .tfx-object * {\n",
       "  font-size: 11pt;\n",
       "}\n",
       ".tfx-object > .title {\n",
       "  cursor: pointer;\n",
       "}\n",
       ".tfx-object .expansion-marker {\n",
       "  color: #999999;\n",
       "}\n",
       ".tfx-object.expanded > .title > .expansion-marker:before {\n",
       "  content: '▼';\n",
       "}\n",
       ".tfx-object.collapsed > .title > .expansion-marker:before {\n",
       "  content: '▶';\n",
       "}\n",
       ".tfx-object .class-name {\n",
       "  font-weight: bold;\n",
       "}\n",
       ".tfx-object .deemphasize {\n",
       "  opacity: 0.5;\n",
       "}\n",
       ".tfx-object.collapsed > table.attr-table {\n",
       "  display: none;\n",
       "}\n",
       ".tfx-object.expanded > table.attr-table {\n",
       "  display: block;\n",
       "}\n",
       ".tfx-object table.attr-table {\n",
       "  border: 2px solid white;\n",
       "  margin-top: 5px;\n",
       "}\n",
       ".tfx-object table.attr-table td.attr-name {\n",
       "  vertical-align: top;\n",
       "  font-weight: bold;\n",
       "}\n",
       ".tfx-object table.attr-table td.attrvalue {\n",
       "  text-align: left;\n",
       "}\n",
       "</style>\n",
       "<script>\n",
       "function toggleTfxObject(element) {\n",
       "  var objElement = element.parentElement;\n",
       "  if (objElement.classList.contains('collapsed')) {\n",
       "    objElement.classList.remove('collapsed');\n",
       "    objElement.classList.add('expanded');\n",
       "  } else {\n",
       "    objElement.classList.add('collapsed');\n",
       "    objElement.classList.remove('expanded');\n",
       "  }\n",
       "}\n",
       "</script>\n",
       "<div class=\"tfx-object expanded\"><div class = \"title\" onclick=\"toggleTfxObject(this)\"><span class=\"expansion-marker\"></span><span class=\"class-name\">ExecutionResult</span><span class=\"deemphasize\"> at 0x7f36a226bb38</span></div><table class=\"attr-table\"><tr><td class=\"attr-name\">.execution_id</td><td class = \"attrvalue\">55</td></tr><tr><td class=\"attr-name\">.component</td><td class = \"attrvalue\"><style>\n",
       ".tfx-object.expanded {\n",
       "  padding: 4px 8px 4px 8px;\n",
       "  background: white;\n",
       "  border: 1px solid #bbbbbb;\n",
       "  box-shadow: 4px 4px 2px rgba(0,0,0,0.05);\n",
       "}\n",
       ".tfx-object, .tfx-object * {\n",
       "  font-size: 11pt;\n",
       "}\n",
       ".tfx-object > .title {\n",
       "  cursor: pointer;\n",
       "}\n",
       ".tfx-object .expansion-marker {\n",
       "  color: #999999;\n",
       "}\n",
       ".tfx-object.expanded > .title > .expansion-marker:before {\n",
       "  content: '▼';\n",
       "}\n",
       ".tfx-object.collapsed > .title > .expansion-marker:before {\n",
       "  content: '▶';\n",
       "}\n",
       ".tfx-object .class-name {\n",
       "  font-weight: bold;\n",
       "}\n",
       ".tfx-object .deemphasize {\n",
       "  opacity: 0.5;\n",
       "}\n",
       ".tfx-object.collapsed > table.attr-table {\n",
       "  display: none;\n",
       "}\n",
       ".tfx-object.expanded > table.attr-table {\n",
       "  display: block;\n",
       "}\n",
       ".tfx-object table.attr-table {\n",
       "  border: 2px solid white;\n",
       "  margin-top: 5px;\n",
       "}\n",
       ".tfx-object table.attr-table td.attr-name {\n",
       "  vertical-align: top;\n",
       "  font-weight: bold;\n",
       "}\n",
       ".tfx-object table.attr-table td.attrvalue {\n",
       "  text-align: left;\n",
       "}\n",
       "</style>\n",
       "<script>\n",
       "function toggleTfxObject(element) {\n",
       "  var objElement = element.parentElement;\n",
       "  if (objElement.classList.contains('collapsed')) {\n",
       "    objElement.classList.remove('collapsed');\n",
       "    objElement.classList.add('expanded');\n",
       "  } else {\n",
       "    objElement.classList.add('collapsed');\n",
       "    objElement.classList.remove('expanded');\n",
       "  }\n",
       "}\n",
       "</script>\n",
       "<div class=\"tfx-object collapsed\"><div class = \"title\" onclick=\"toggleTfxObject(this)\"><span class=\"expansion-marker\"></span><span class=\"class-name\">CsvExampleGen</span><span class=\"deemphasize\"> at 0x7f366dd04588</span></div><table class=\"attr-table\"><tr><td class=\"attr-name\">.inputs</td><td class = \"attrvalue\"><table class=\"attr-table\"><tr><td class=\"attr-name\">['input_base']</td><td class = \"attrvalue\"><style>\n",
       ".tfx-object.expanded {\n",
       "  padding: 4px 8px 4px 8px;\n",
       "  background: white;\n",
       "  border: 1px solid #bbbbbb;\n",
       "  box-shadow: 4px 4px 2px rgba(0,0,0,0.05);\n",
       "}\n",
       ".tfx-object, .tfx-object * {\n",
       "  font-size: 11pt;\n",
       "}\n",
       ".tfx-object > .title {\n",
       "  cursor: pointer;\n",
       "}\n",
       ".tfx-object .expansion-marker {\n",
       "  color: #999999;\n",
       "}\n",
       ".tfx-object.expanded > .title > .expansion-marker:before {\n",
       "  content: '▼';\n",
       "}\n",
       ".tfx-object.collapsed > .title > .expansion-marker:before {\n",
       "  content: '▶';\n",
       "}\n",
       ".tfx-object .class-name {\n",
       "  font-weight: bold;\n",
       "}\n",
       ".tfx-object .deemphasize {\n",
       "  opacity: 0.5;\n",
       "}\n",
       ".tfx-object.collapsed > table.attr-table {\n",
       "  display: none;\n",
       "}\n",
       ".tfx-object.expanded > table.attr-table {\n",
       "  display: block;\n",
       "}\n",
       ".tfx-object table.attr-table {\n",
       "  border: 2px solid white;\n",
       "  margin-top: 5px;\n",
       "}\n",
       ".tfx-object table.attr-table td.attr-name {\n",
       "  vertical-align: top;\n",
       "  font-weight: bold;\n",
       "}\n",
       ".tfx-object table.attr-table td.attrvalue {\n",
       "  text-align: left;\n",
       "}\n",
       "</style>\n",
       "<script>\n",
       "function toggleTfxObject(element) {\n",
       "  var objElement = element.parentElement;\n",
       "  if (objElement.classList.contains('collapsed')) {\n",
       "    objElement.classList.remove('collapsed');\n",
       "    objElement.classList.add('expanded');\n",
       "  } else {\n",
       "    objElement.classList.add('collapsed');\n",
       "    objElement.classList.remove('expanded');\n",
       "  }\n",
       "}\n",
       "</script>\n",
       "<div class=\"tfx-object collapsed\"><div class = \"title\" onclick=\"toggleTfxObject(this)\"><span class=\"expansion-marker\"></span><span class=\"class-name\">Channel</span> of type <span class=\"class-name\">'ExternalPath'</span> (1 artifact)<span class=\"deemphasize\"> at 0x7f366dd044a8</span></div><table class=\"attr-table\"><tr><td class=\"attr-name\">.type_name</td><td class = \"attrvalue\">ExternalPath</td></tr><tr><td class=\"attr-name\">._artifacts</td><td class = \"attrvalue\"><table class=\"attr-table\"><tr><td class=\"attr-name\">[0]</td><td class = \"attrvalue\"><style>\n",
       ".tfx-object.expanded {\n",
       "  padding: 4px 8px 4px 8px;\n",
       "  background: white;\n",
       "  border: 1px solid #bbbbbb;\n",
       "  box-shadow: 4px 4px 2px rgba(0,0,0,0.05);\n",
       "}\n",
       ".tfx-object, .tfx-object * {\n",
       "  font-size: 11pt;\n",
       "}\n",
       ".tfx-object > .title {\n",
       "  cursor: pointer;\n",
       "}\n",
       ".tfx-object .expansion-marker {\n",
       "  color: #999999;\n",
       "}\n",
       ".tfx-object.expanded > .title > .expansion-marker:before {\n",
       "  content: '▼';\n",
       "}\n",
       ".tfx-object.collapsed > .title > .expansion-marker:before {\n",
       "  content: '▶';\n",
       "}\n",
       ".tfx-object .class-name {\n",
       "  font-weight: bold;\n",
       "}\n",
       ".tfx-object .deemphasize {\n",
       "  opacity: 0.5;\n",
       "}\n",
       ".tfx-object.collapsed > table.attr-table {\n",
       "  display: none;\n",
       "}\n",
       ".tfx-object.expanded > table.attr-table {\n",
       "  display: block;\n",
       "}\n",
       ".tfx-object table.attr-table {\n",
       "  border: 2px solid white;\n",
       "  margin-top: 5px;\n",
       "}\n",
       ".tfx-object table.attr-table td.attr-name {\n",
       "  vertical-align: top;\n",
       "  font-weight: bold;\n",
       "}\n",
       ".tfx-object table.attr-table td.attrvalue {\n",
       "  text-align: left;\n",
       "}\n",
       "</style>\n",
       "<script>\n",
       "function toggleTfxObject(element) {\n",
       "  var objElement = element.parentElement;\n",
       "  if (objElement.classList.contains('collapsed')) {\n",
       "    objElement.classList.remove('collapsed');\n",
       "    objElement.classList.add('expanded');\n",
       "  } else {\n",
       "    objElement.classList.add('collapsed');\n",
       "    objElement.classList.remove('expanded');\n",
       "  }\n",
       "}\n",
       "</script>\n",
       "<div class=\"tfx-object collapsed\"><div class = \"title\" onclick=\"toggleTfxObject(this)\"><span class=\"expansion-marker\"></span><span class=\"class-name\">Artifact</span> of type <span class=\"class-name\">'ExternalPath'</span> (uri: /home/jarekk/datasets/)<span class=\"deemphasize\"> at 0x7f366dc1d080</span></div><table class=\"attr-table\"><tr><td class=\"attr-name\">.type_name</td><td class = \"attrvalue\">ExternalPath</td></tr><tr><td class=\"attr-name\">.uri</td><td class = \"attrvalue\">/home/jarekk/datasets/</td></tr><tr><td class=\"attr-name\">.span</td><td class = \"attrvalue\">0</td></tr><tr><td class=\"attr-name\">.split</td><td class = \"attrvalue\"></td></tr></table></div></td></tr></table></td></tr></table></div></td></tr></table></td></tr><tr><td class=\"attr-name\">.outputs</td><td class = \"attrvalue\"><table class=\"attr-table\"><tr><td class=\"attr-name\">['examples']</td><td class = \"attrvalue\"><style>\n",
       ".tfx-object.expanded {\n",
       "  padding: 4px 8px 4px 8px;\n",
       "  background: white;\n",
       "  border: 1px solid #bbbbbb;\n",
       "  box-shadow: 4px 4px 2px rgba(0,0,0,0.05);\n",
       "}\n",
       ".tfx-object, .tfx-object * {\n",
       "  font-size: 11pt;\n",
       "}\n",
       ".tfx-object > .title {\n",
       "  cursor: pointer;\n",
       "}\n",
       ".tfx-object .expansion-marker {\n",
       "  color: #999999;\n",
       "}\n",
       ".tfx-object.expanded > .title > .expansion-marker:before {\n",
       "  content: '▼';\n",
       "}\n",
       ".tfx-object.collapsed > .title > .expansion-marker:before {\n",
       "  content: '▶';\n",
       "}\n",
       ".tfx-object .class-name {\n",
       "  font-weight: bold;\n",
       "}\n",
       ".tfx-object .deemphasize {\n",
       "  opacity: 0.5;\n",
       "}\n",
       ".tfx-object.collapsed > table.attr-table {\n",
       "  display: none;\n",
       "}\n",
       ".tfx-object.expanded > table.attr-table {\n",
       "  display: block;\n",
       "}\n",
       ".tfx-object table.attr-table {\n",
       "  border: 2px solid white;\n",
       "  margin-top: 5px;\n",
       "}\n",
       ".tfx-object table.attr-table td.attr-name {\n",
       "  vertical-align: top;\n",
       "  font-weight: bold;\n",
       "}\n",
       ".tfx-object table.attr-table td.attrvalue {\n",
       "  text-align: left;\n",
       "}\n",
       "</style>\n",
       "<script>\n",
       "function toggleTfxObject(element) {\n",
       "  var objElement = element.parentElement;\n",
       "  if (objElement.classList.contains('collapsed')) {\n",
       "    objElement.classList.remove('collapsed');\n",
       "    objElement.classList.add('expanded');\n",
       "  } else {\n",
       "    objElement.classList.add('collapsed');\n",
       "    objElement.classList.remove('expanded');\n",
       "  }\n",
       "}\n",
       "</script>\n",
       "<div class=\"tfx-object collapsed\"><div class = \"title\" onclick=\"toggleTfxObject(this)\"><span class=\"expansion-marker\"></span><span class=\"class-name\">Channel</span> of type <span class=\"class-name\">'ExamplesPath'</span> (2 artifacts)<span class=\"deemphasize\"> at 0x7f366dd042b0</span></div><table class=\"attr-table\"><tr><td class=\"attr-name\">.type_name</td><td class = \"attrvalue\">ExamplesPath</td></tr><tr><td class=\"attr-name\">._artifacts</td><td class = \"attrvalue\"><table class=\"attr-table\"><tr><td class=\"attr-name\">[0]</td><td class = \"attrvalue\"><style>\n",
       ".tfx-object.expanded {\n",
       "  padding: 4px 8px 4px 8px;\n",
       "  background: white;\n",
       "  border: 1px solid #bbbbbb;\n",
       "  box-shadow: 4px 4px 2px rgba(0,0,0,0.05);\n",
       "}\n",
       ".tfx-object, .tfx-object * {\n",
       "  font-size: 11pt;\n",
       "}\n",
       ".tfx-object > .title {\n",
       "  cursor: pointer;\n",
       "}\n",
       ".tfx-object .expansion-marker {\n",
       "  color: #999999;\n",
       "}\n",
       ".tfx-object.expanded > .title > .expansion-marker:before {\n",
       "  content: '▼';\n",
       "}\n",
       ".tfx-object.collapsed > .title > .expansion-marker:before {\n",
       "  content: '▶';\n",
       "}\n",
       ".tfx-object .class-name {\n",
       "  font-weight: bold;\n",
       "}\n",
       ".tfx-object .deemphasize {\n",
       "  opacity: 0.5;\n",
       "}\n",
       ".tfx-object.collapsed > table.attr-table {\n",
       "  display: none;\n",
       "}\n",
       ".tfx-object.expanded > table.attr-table {\n",
       "  display: block;\n",
       "}\n",
       ".tfx-object table.attr-table {\n",
       "  border: 2px solid white;\n",
       "  margin-top: 5px;\n",
       "}\n",
       ".tfx-object table.attr-table td.attr-name {\n",
       "  vertical-align: top;\n",
       "  font-weight: bold;\n",
       "}\n",
       ".tfx-object table.attr-table td.attrvalue {\n",
       "  text-align: left;\n",
       "}\n",
       "</style>\n",
       "<script>\n",
       "function toggleTfxObject(element) {\n",
       "  var objElement = element.parentElement;\n",
       "  if (objElement.classList.contains('collapsed')) {\n",
       "    objElement.classList.remove('collapsed');\n",
       "    objElement.classList.add('expanded');\n",
       "  } else {\n",
       "    objElement.classList.add('collapsed');\n",
       "    objElement.classList.remove('expanded');\n",
       "  }\n",
       "}\n",
       "</script>\n",
       "<div class=\"tfx-object collapsed\"><div class = \"title\" onclick=\"toggleTfxObject(this)\"><span class=\"expansion-marker\"></span><span class=\"class-name\">Artifact</span> of type <span class=\"class-name\">'ExamplesPath'</span> (uri: gs://caip-tfx/interactive/chicago_taxi/CsvExampleGen/examples/55/train/)<span class=\"deemphasize\"> at 0x7f366dd04240</span></div><table class=\"attr-table\"><tr><td class=\"attr-name\">.type_name</td><td class = \"attrvalue\">ExamplesPath</td></tr><tr><td class=\"attr-name\">.uri</td><td class = \"attrvalue\">gs://caip-tfx/interactive/chicago_taxi/CsvExampleGen/examples/55/train/</td></tr><tr><td class=\"attr-name\">.span</td><td class = \"attrvalue\">0</td></tr><tr><td class=\"attr-name\">.split</td><td class = \"attrvalue\">train</td></tr></table></div></td></tr><tr><td class=\"attr-name\">[1]</td><td class = \"attrvalue\"><style>\n",
       ".tfx-object.expanded {\n",
       "  padding: 4px 8px 4px 8px;\n",
       "  background: white;\n",
       "  border: 1px solid #bbbbbb;\n",
       "  box-shadow: 4px 4px 2px rgba(0,0,0,0.05);\n",
       "}\n",
       ".tfx-object, .tfx-object * {\n",
       "  font-size: 11pt;\n",
       "}\n",
       ".tfx-object > .title {\n",
       "  cursor: pointer;\n",
       "}\n",
       ".tfx-object .expansion-marker {\n",
       "  color: #999999;\n",
       "}\n",
       ".tfx-object.expanded > .title > .expansion-marker:before {\n",
       "  content: '▼';\n",
       "}\n",
       ".tfx-object.collapsed > .title > .expansion-marker:before {\n",
       "  content: '▶';\n",
       "}\n",
       ".tfx-object .class-name {\n",
       "  font-weight: bold;\n",
       "}\n",
       ".tfx-object .deemphasize {\n",
       "  opacity: 0.5;\n",
       "}\n",
       ".tfx-object.collapsed > table.attr-table {\n",
       "  display: none;\n",
       "}\n",
       ".tfx-object.expanded > table.attr-table {\n",
       "  display: block;\n",
       "}\n",
       ".tfx-object table.attr-table {\n",
       "  border: 2px solid white;\n",
       "  margin-top: 5px;\n",
       "}\n",
       ".tfx-object table.attr-table td.attr-name {\n",
       "  vertical-align: top;\n",
       "  font-weight: bold;\n",
       "}\n",
       ".tfx-object table.attr-table td.attrvalue {\n",
       "  text-align: left;\n",
       "}\n",
       "</style>\n",
       "<script>\n",
       "function toggleTfxObject(element) {\n",
       "  var objElement = element.parentElement;\n",
       "  if (objElement.classList.contains('collapsed')) {\n",
       "    objElement.classList.remove('collapsed');\n",
       "    objElement.classList.add('expanded');\n",
       "  } else {\n",
       "    objElement.classList.add('collapsed');\n",
       "    objElement.classList.remove('expanded');\n",
       "  }\n",
       "}\n",
       "</script>\n",
       "<div class=\"tfx-object collapsed\"><div class = \"title\" onclick=\"toggleTfxObject(this)\"><span class=\"expansion-marker\"></span><span class=\"class-name\">Artifact</span> of type <span class=\"class-name\">'ExamplesPath'</span> (uri: gs://caip-tfx/interactive/chicago_taxi/CsvExampleGen/examples/55/eval/)<span class=\"deemphasize\"> at 0x7f366dd044e0</span></div><table class=\"attr-table\"><tr><td class=\"attr-name\">.type_name</td><td class = \"attrvalue\">ExamplesPath</td></tr><tr><td class=\"attr-name\">.uri</td><td class = \"attrvalue\">gs://caip-tfx/interactive/chicago_taxi/CsvExampleGen/examples/55/eval/</td></tr><tr><td class=\"attr-name\">.span</td><td class = \"attrvalue\">0</td></tr><tr><td class=\"attr-name\">.split</td><td class = \"attrvalue\">eval</td></tr></table></div></td></tr></table></td></tr></table></div></td></tr></table></td></tr><tr><td class=\"attr-name\">.exec_properties</td><td class = \"attrvalue\"><table class=\"attr-table\"><tr><td class=\"attr-name\">['input_config']</td><td class = \"attrvalue\">{\n",
       "  \"splits\": [\n",
       "    {\n",
       "      \"name\": \"single_split\",\n",
       "      \"pattern\": \"*\"\n",
       "    }\n",
       "  ]\n",
       "}</td></tr><tr><td class=\"attr-name\">['output_config']</td><td class = \"attrvalue\">{\n",
       "  \"splitConfig\": {\n",
       "    \"splits\": [\n",
       "      {\n",
       "        \"hashBuckets\": 2,\n",
       "        \"name\": \"train\"\n",
       "      },\n",
       "      {\n",
       "        \"hashBuckets\": 1,\n",
       "        \"name\": \"eval\"\n",
       "      }\n",
       "    ]\n",
       "  }\n",
       "}</td></tr><tr><td class=\"attr-name\">['custom_config']</td><td class = \"attrvalue\">None</td></tr></table></td></tr></table></div></td></tr><tr><td class=\"attr-name\">.component.inputs</td><td class = \"attrvalue\"><table class=\"attr-table\"><tr><td class=\"attr-name\">['input_base']</td><td class = \"attrvalue\"><style>\n",
       ".tfx-object.expanded {\n",
       "  padding: 4px 8px 4px 8px;\n",
       "  background: white;\n",
       "  border: 1px solid #bbbbbb;\n",
       "  box-shadow: 4px 4px 2px rgba(0,0,0,0.05);\n",
       "}\n",
       ".tfx-object, .tfx-object * {\n",
       "  font-size: 11pt;\n",
       "}\n",
       ".tfx-object > .title {\n",
       "  cursor: pointer;\n",
       "}\n",
       ".tfx-object .expansion-marker {\n",
       "  color: #999999;\n",
       "}\n",
       ".tfx-object.expanded > .title > .expansion-marker:before {\n",
       "  content: '▼';\n",
       "}\n",
       ".tfx-object.collapsed > .title > .expansion-marker:before {\n",
       "  content: '▶';\n",
       "}\n",
       ".tfx-object .class-name {\n",
       "  font-weight: bold;\n",
       "}\n",
       ".tfx-object .deemphasize {\n",
       "  opacity: 0.5;\n",
       "}\n",
       ".tfx-object.collapsed > table.attr-table {\n",
       "  display: none;\n",
       "}\n",
       ".tfx-object.expanded > table.attr-table {\n",
       "  display: block;\n",
       "}\n",
       ".tfx-object table.attr-table {\n",
       "  border: 2px solid white;\n",
       "  margin-top: 5px;\n",
       "}\n",
       ".tfx-object table.attr-table td.attr-name {\n",
       "  vertical-align: top;\n",
       "  font-weight: bold;\n",
       "}\n",
       ".tfx-object table.attr-table td.attrvalue {\n",
       "  text-align: left;\n",
       "}\n",
       "</style>\n",
       "<script>\n",
       "function toggleTfxObject(element) {\n",
       "  var objElement = element.parentElement;\n",
       "  if (objElement.classList.contains('collapsed')) {\n",
       "    objElement.classList.remove('collapsed');\n",
       "    objElement.classList.add('expanded');\n",
       "  } else {\n",
       "    objElement.classList.add('collapsed');\n",
       "    objElement.classList.remove('expanded');\n",
       "  }\n",
       "}\n",
       "</script>\n",
       "<div class=\"tfx-object collapsed\"><div class = \"title\" onclick=\"toggleTfxObject(this)\"><span class=\"expansion-marker\"></span><span class=\"class-name\">Channel</span> of type <span class=\"class-name\">'ExternalPath'</span> (1 artifact)<span class=\"deemphasize\"> at 0x7f366dd044a8</span></div><table class=\"attr-table\"><tr><td class=\"attr-name\">.type_name</td><td class = \"attrvalue\">ExternalPath</td></tr><tr><td class=\"attr-name\">._artifacts</td><td class = \"attrvalue\"><table class=\"attr-table\"><tr><td class=\"attr-name\">[0]</td><td class = \"attrvalue\"><style>\n",
       ".tfx-object.expanded {\n",
       "  padding: 4px 8px 4px 8px;\n",
       "  background: white;\n",
       "  border: 1px solid #bbbbbb;\n",
       "  box-shadow: 4px 4px 2px rgba(0,0,0,0.05);\n",
       "}\n",
       ".tfx-object, .tfx-object * {\n",
       "  font-size: 11pt;\n",
       "}\n",
       ".tfx-object > .title {\n",
       "  cursor: pointer;\n",
       "}\n",
       ".tfx-object .expansion-marker {\n",
       "  color: #999999;\n",
       "}\n",
       ".tfx-object.expanded > .title > .expansion-marker:before {\n",
       "  content: '▼';\n",
       "}\n",
       ".tfx-object.collapsed > .title > .expansion-marker:before {\n",
       "  content: '▶';\n",
       "}\n",
       ".tfx-object .class-name {\n",
       "  font-weight: bold;\n",
       "}\n",
       ".tfx-object .deemphasize {\n",
       "  opacity: 0.5;\n",
       "}\n",
       ".tfx-object.collapsed > table.attr-table {\n",
       "  display: none;\n",
       "}\n",
       ".tfx-object.expanded > table.attr-table {\n",
       "  display: block;\n",
       "}\n",
       ".tfx-object table.attr-table {\n",
       "  border: 2px solid white;\n",
       "  margin-top: 5px;\n",
       "}\n",
       ".tfx-object table.attr-table td.attr-name {\n",
       "  vertical-align: top;\n",
       "  font-weight: bold;\n",
       "}\n",
       ".tfx-object table.attr-table td.attrvalue {\n",
       "  text-align: left;\n",
       "}\n",
       "</style>\n",
       "<script>\n",
       "function toggleTfxObject(element) {\n",
       "  var objElement = element.parentElement;\n",
       "  if (objElement.classList.contains('collapsed')) {\n",
       "    objElement.classList.remove('collapsed');\n",
       "    objElement.classList.add('expanded');\n",
       "  } else {\n",
       "    objElement.classList.add('collapsed');\n",
       "    objElement.classList.remove('expanded');\n",
       "  }\n",
       "}\n",
       "</script>\n",
       "<div class=\"tfx-object collapsed\"><div class = \"title\" onclick=\"toggleTfxObject(this)\"><span class=\"expansion-marker\"></span><span class=\"class-name\">Artifact</span> of type <span class=\"class-name\">'ExternalPath'</span> (uri: /home/jarekk/datasets/)<span class=\"deemphasize\"> at 0x7f366dc1d080</span></div><table class=\"attr-table\"><tr><td class=\"attr-name\">.type_name</td><td class = \"attrvalue\">ExternalPath</td></tr><tr><td class=\"attr-name\">.uri</td><td class = \"attrvalue\">/home/jarekk/datasets/</td></tr><tr><td class=\"attr-name\">.span</td><td class = \"attrvalue\">0</td></tr><tr><td class=\"attr-name\">.split</td><td class = \"attrvalue\"></td></tr></table></div></td></tr></table></td></tr></table></div></td></tr></table></td></tr><tr><td class=\"attr-name\">.component.outputs</td><td class = \"attrvalue\"><table class=\"attr-table\"><tr><td class=\"attr-name\">['examples']</td><td class = \"attrvalue\"><style>\n",
       ".tfx-object.expanded {\n",
       "  padding: 4px 8px 4px 8px;\n",
       "  background: white;\n",
       "  border: 1px solid #bbbbbb;\n",
       "  box-shadow: 4px 4px 2px rgba(0,0,0,0.05);\n",
       "}\n",
       ".tfx-object, .tfx-object * {\n",
       "  font-size: 11pt;\n",
       "}\n",
       ".tfx-object > .title {\n",
       "  cursor: pointer;\n",
       "}\n",
       ".tfx-object .expansion-marker {\n",
       "  color: #999999;\n",
       "}\n",
       ".tfx-object.expanded > .title > .expansion-marker:before {\n",
       "  content: '▼';\n",
       "}\n",
       ".tfx-object.collapsed > .title > .expansion-marker:before {\n",
       "  content: '▶';\n",
       "}\n",
       ".tfx-object .class-name {\n",
       "  font-weight: bold;\n",
       "}\n",
       ".tfx-object .deemphasize {\n",
       "  opacity: 0.5;\n",
       "}\n",
       ".tfx-object.collapsed > table.attr-table {\n",
       "  display: none;\n",
       "}\n",
       ".tfx-object.expanded > table.attr-table {\n",
       "  display: block;\n",
       "}\n",
       ".tfx-object table.attr-table {\n",
       "  border: 2px solid white;\n",
       "  margin-top: 5px;\n",
       "}\n",
       ".tfx-object table.attr-table td.attr-name {\n",
       "  vertical-align: top;\n",
       "  font-weight: bold;\n",
       "}\n",
       ".tfx-object table.attr-table td.attrvalue {\n",
       "  text-align: left;\n",
       "}\n",
       "</style>\n",
       "<script>\n",
       "function toggleTfxObject(element) {\n",
       "  var objElement = element.parentElement;\n",
       "  if (objElement.classList.contains('collapsed')) {\n",
       "    objElement.classList.remove('collapsed');\n",
       "    objElement.classList.add('expanded');\n",
       "  } else {\n",
       "    objElement.classList.add('collapsed');\n",
       "    objElement.classList.remove('expanded');\n",
       "  }\n",
       "}\n",
       "</script>\n",
       "<div class=\"tfx-object collapsed\"><div class = \"title\" onclick=\"toggleTfxObject(this)\"><span class=\"expansion-marker\"></span><span class=\"class-name\">Channel</span> of type <span class=\"class-name\">'ExamplesPath'</span> (2 artifacts)<span class=\"deemphasize\"> at 0x7f366dd042b0</span></div><table class=\"attr-table\"><tr><td class=\"attr-name\">.type_name</td><td class = \"attrvalue\">ExamplesPath</td></tr><tr><td class=\"attr-name\">._artifacts</td><td class = \"attrvalue\"><table class=\"attr-table\"><tr><td class=\"attr-name\">[0]</td><td class = \"attrvalue\"><style>\n",
       ".tfx-object.expanded {\n",
       "  padding: 4px 8px 4px 8px;\n",
       "  background: white;\n",
       "  border: 1px solid #bbbbbb;\n",
       "  box-shadow: 4px 4px 2px rgba(0,0,0,0.05);\n",
       "}\n",
       ".tfx-object, .tfx-object * {\n",
       "  font-size: 11pt;\n",
       "}\n",
       ".tfx-object > .title {\n",
       "  cursor: pointer;\n",
       "}\n",
       ".tfx-object .expansion-marker {\n",
       "  color: #999999;\n",
       "}\n",
       ".tfx-object.expanded > .title > .expansion-marker:before {\n",
       "  content: '▼';\n",
       "}\n",
       ".tfx-object.collapsed > .title > .expansion-marker:before {\n",
       "  content: '▶';\n",
       "}\n",
       ".tfx-object .class-name {\n",
       "  font-weight: bold;\n",
       "}\n",
       ".tfx-object .deemphasize {\n",
       "  opacity: 0.5;\n",
       "}\n",
       ".tfx-object.collapsed > table.attr-table {\n",
       "  display: none;\n",
       "}\n",
       ".tfx-object.expanded > table.attr-table {\n",
       "  display: block;\n",
       "}\n",
       ".tfx-object table.attr-table {\n",
       "  border: 2px solid white;\n",
       "  margin-top: 5px;\n",
       "}\n",
       ".tfx-object table.attr-table td.attr-name {\n",
       "  vertical-align: top;\n",
       "  font-weight: bold;\n",
       "}\n",
       ".tfx-object table.attr-table td.attrvalue {\n",
       "  text-align: left;\n",
       "}\n",
       "</style>\n",
       "<script>\n",
       "function toggleTfxObject(element) {\n",
       "  var objElement = element.parentElement;\n",
       "  if (objElement.classList.contains('collapsed')) {\n",
       "    objElement.classList.remove('collapsed');\n",
       "    objElement.classList.add('expanded');\n",
       "  } else {\n",
       "    objElement.classList.add('collapsed');\n",
       "    objElement.classList.remove('expanded');\n",
       "  }\n",
       "}\n",
       "</script>\n",
       "<div class=\"tfx-object collapsed\"><div class = \"title\" onclick=\"toggleTfxObject(this)\"><span class=\"expansion-marker\"></span><span class=\"class-name\">Artifact</span> of type <span class=\"class-name\">'ExamplesPath'</span> (uri: gs://caip-tfx/interactive/chicago_taxi/CsvExampleGen/examples/55/train/)<span class=\"deemphasize\"> at 0x7f366dd04240</span></div><table class=\"attr-table\"><tr><td class=\"attr-name\">.type_name</td><td class = \"attrvalue\">ExamplesPath</td></tr><tr><td class=\"attr-name\">.uri</td><td class = \"attrvalue\">gs://caip-tfx/interactive/chicago_taxi/CsvExampleGen/examples/55/train/</td></tr><tr><td class=\"attr-name\">.span</td><td class = \"attrvalue\">0</td></tr><tr><td class=\"attr-name\">.split</td><td class = \"attrvalue\">train</td></tr></table></div></td></tr><tr><td class=\"attr-name\">[1]</td><td class = \"attrvalue\"><style>\n",
       ".tfx-object.expanded {\n",
       "  padding: 4px 8px 4px 8px;\n",
       "  background: white;\n",
       "  border: 1px solid #bbbbbb;\n",
       "  box-shadow: 4px 4px 2px rgba(0,0,0,0.05);\n",
       "}\n",
       ".tfx-object, .tfx-object * {\n",
       "  font-size: 11pt;\n",
       "}\n",
       ".tfx-object > .title {\n",
       "  cursor: pointer;\n",
       "}\n",
       ".tfx-object .expansion-marker {\n",
       "  color: #999999;\n",
       "}\n",
       ".tfx-object.expanded > .title > .expansion-marker:before {\n",
       "  content: '▼';\n",
       "}\n",
       ".tfx-object.collapsed > .title > .expansion-marker:before {\n",
       "  content: '▶';\n",
       "}\n",
       ".tfx-object .class-name {\n",
       "  font-weight: bold;\n",
       "}\n",
       ".tfx-object .deemphasize {\n",
       "  opacity: 0.5;\n",
       "}\n",
       ".tfx-object.collapsed > table.attr-table {\n",
       "  display: none;\n",
       "}\n",
       ".tfx-object.expanded > table.attr-table {\n",
       "  display: block;\n",
       "}\n",
       ".tfx-object table.attr-table {\n",
       "  border: 2px solid white;\n",
       "  margin-top: 5px;\n",
       "}\n",
       ".tfx-object table.attr-table td.attr-name {\n",
       "  vertical-align: top;\n",
       "  font-weight: bold;\n",
       "}\n",
       ".tfx-object table.attr-table td.attrvalue {\n",
       "  text-align: left;\n",
       "}\n",
       "</style>\n",
       "<script>\n",
       "function toggleTfxObject(element) {\n",
       "  var objElement = element.parentElement;\n",
       "  if (objElement.classList.contains('collapsed')) {\n",
       "    objElement.classList.remove('collapsed');\n",
       "    objElement.classList.add('expanded');\n",
       "  } else {\n",
       "    objElement.classList.add('collapsed');\n",
       "    objElement.classList.remove('expanded');\n",
       "  }\n",
       "}\n",
       "</script>\n",
       "<div class=\"tfx-object collapsed\"><div class = \"title\" onclick=\"toggleTfxObject(this)\"><span class=\"expansion-marker\"></span><span class=\"class-name\">Artifact</span> of type <span class=\"class-name\">'ExamplesPath'</span> (uri: gs://caip-tfx/interactive/chicago_taxi/CsvExampleGen/examples/55/eval/)<span class=\"deemphasize\"> at 0x7f366dd044e0</span></div><table class=\"attr-table\"><tr><td class=\"attr-name\">.type_name</td><td class = \"attrvalue\">ExamplesPath</td></tr><tr><td class=\"attr-name\">.uri</td><td class = \"attrvalue\">gs://caip-tfx/interactive/chicago_taxi/CsvExampleGen/examples/55/eval/</td></tr><tr><td class=\"attr-name\">.span</td><td class = \"attrvalue\">0</td></tr><tr><td class=\"attr-name\">.split</td><td class = \"attrvalue\">eval</td></tr></table></div></td></tr></table></td></tr></table></div></td></tr></table></td></tr></table></div>"
      ],
      "text/plain": [
       "ExecutionResult(\n",
       "    component_id: CsvExampleGen\n",
       "    execution_id: 55\n",
       "    outputs:\n",
       "        examples: Channel(\n",
       "            type_name: ExamplesPath\n",
       "            artifacts: [Artifact(type_name: ExamplesPath, uri: gs://caip-tfx/interactive/chicago_taxi/CsvExampleGen/examples/55/train/, split: train, id: 60)\n",
       "            Artifact(type_name: ExamplesPath, uri: gs://caip-tfx/interactive/chicago_taxi/CsvExampleGen/examples/55/eval/, split: eval, id: 61)]\n",
       "        ))"
      ]
     },
     "execution_count": 28,
     "metadata": {},
     "output_type": "execute_result"
    }
   ],
   "source": [
    "# Brings data into the pipeline or otherwise joins/converts training data.\n",
    "example_gen = CsvExampleGen(input_base=examples)\n",
    "context.run(example_gen)"
   ]
  },
  {
   "cell_type": "markdown",
   "metadata": {
    "colab_type": "text",
    "id": "csM6BFhtk5Aa"
   },
   "source": [
    "### StatisticsGen (using Tensorflow Data Validation)\n",
    "`StatisticsGen` computes statistics for visualization and example validation. This uses the [Tensorflow Data Validation](https://www.tensorflow.org/tfx/data_validation/get_started) library."
   ]
  },
  {
   "cell_type": "markdown",
   "metadata": {
    "colab_type": "text",
    "id": "W0tl75TMW3DR"
   },
   "source": [
    "#### Run TFDV statistics computation using the StatisticsGen component"
   ]
  },
  {
   "cell_type": "code",
   "execution_count": null,
   "metadata": {
    "colab": {},
    "colab_type": "code",
    "id": "MAscCCYWgA-9"
   },
   "outputs": [],
   "source": [
    "# Computes statistics over data for visualization and example validation.\n",
    "statistics_gen = StatisticsGen(\n",
    "    input_data=example_gen.outputs['examples'])\n",
    "context.run(statistics_gen)"
   ]
  },
  {
   "cell_type": "markdown",
   "metadata": {
    "colab_type": "text",
    "id": "HLI6cb_5WugZ"
   },
   "source": [
    "#### Import TFDV and visualize the statistics result"
   ]
  },
  {
   "cell_type": "code",
   "execution_count": null,
   "metadata": {
    "colab": {},
    "colab_type": "code",
    "id": "tLjXy7K6Tp_G"
   },
   "outputs": [],
   "source": [
    "# Import TFDV and get the train statistics path.\n",
    "import tensorflow_data_validation as tfdv\n",
    "from tfx.types.artifact_utils import get_split_uri\n",
    "artifact_list = statistics_gen.outputs['output'].get()\n",
    "train_artifact_uri = get_split_uri(artifact_list, 'train')\n",
    "train_stats_path = os.path.join(train_artifact_uri, 'stats_tfrecord')"
   ]
  },
  {
   "cell_type": "code",
   "execution_count": null,
   "metadata": {
    "colab": {},
    "colab_type": "code",
    "id": "bKicTZkPTUY8"
   },
   "outputs": [],
   "source": [
    "# Load statistics and visualize training data stats.\n",
    "train_stats = tfdv.load_statistics(train_stats_path)\n",
    "tfdv.visualize_statistics(train_stats)"
   ]
  },
  {
   "cell_type": "markdown",
   "metadata": {
    "colab_type": "text",
    "id": "HLKLTO9Nk60p"
   },
   "source": [
    "### SchemaGen (using Tensorflow Data Validation)\n",
    "`SchemaGen` generates a schema for your data based on computed statistics. This component also uses the [Tensorflow Data Validation](https://www.tensorflow.org/tfx/data_validation/get_started) library."
   ]
  },
  {
   "cell_type": "markdown",
   "metadata": {
    "colab_type": "text",
    "id": "L0xvulenXSK3"
   },
   "source": [
    "#### Run TFDV schema inference using the SchemaGen component"
   ]
  },
  {
   "cell_type": "code",
   "execution_count": null,
   "metadata": {
    "colab": {},
    "colab_type": "code",
    "id": "ygQvZ6hsiQ_J"
   },
   "outputs": [],
   "source": [
    "# Generates schema based on statistics files.\n",
    "infer_schema = SchemaGen(\n",
    "    stats=statistics_gen.outputs['output'],\n",
    "    infer_feature_shape=False)\n",
    "context.run(infer_schema)"
   ]
  },
  {
   "cell_type": "markdown",
   "metadata": {
    "colab_type": "text",
    "id": "zi6TxTUKXM6b"
   },
   "source": [
    "#### Visualize the inferred schema"
   ]
  },
  {
   "cell_type": "code",
   "execution_count": null,
   "metadata": {
    "colab": {},
    "colab_type": "code",
    "id": "Ec9vqDXpXeMb"
   },
   "outputs": [],
   "source": [
    "# Get the schema path.\n",
    "schema_dir = infer_schema.outputs['output'].get()[0].uri\n",
    "schema_path = os.path.join(schema_dir, 'schema.pbtxt')"
   ]
  },
  {
   "cell_type": "code",
   "execution_count": null,
   "metadata": {
    "colab": {},
    "colab_type": "code",
    "id": "HaaA49ArYLQP"
   },
   "outputs": [],
   "source": [
    "# Load and visualize the generated schema.\n",
    "schema = tfdv.load_schema_text(schema_path)\n",
    "tfdv.display_schema(schema)"
   ]
  },
  {
   "cell_type": "markdown",
   "metadata": {
    "colab_type": "text",
    "id": "V1qcUuO9k9f8"
   },
   "source": [
    "### ExampleValidator\n",
    "`ExampleValidator` performs anomaly detection based on computed statistics and your data schema."
   ]
  },
  {
   "cell_type": "markdown",
   "metadata": {
    "colab_type": "text",
    "id": "ONg1bt57gVna"
   },
   "source": [
    "#### Run TFDV data validation using the ExampleValidation component"
   ]
  },
  {
   "cell_type": "code",
   "execution_count": null,
   "metadata": {
    "colab": {},
    "colab_type": "code",
    "id": "XRlRUuGgiXks"
   },
   "outputs": [],
   "source": [
    "# Performs anomaly detection based on statistics and data schema.\n",
    "validate_stats = ExampleValidator(\n",
    "    stats=statistics_gen.outputs['output'],\n",
    "    schema=infer_schema.outputs['output'])\n",
    "context.run(validate_stats)"
   ]
  },
  {
   "cell_type": "markdown",
   "metadata": {
    "colab_type": "text",
    "id": "855mrHgJcoer"
   },
   "source": [
    "#### Visualize the detected anomalies"
   ]
  },
  {
   "cell_type": "code",
   "execution_count": null,
   "metadata": {
    "colab": {},
    "colab_type": "code",
    "id": "TDyAAozQcrk3"
   },
   "outputs": [],
   "source": [
    "# Get the validation path.\n",
    "validation_dir = validate_stats.outputs['output'].get()[0].uri\n",
    "anomalies_path = os.path.join(validation_dir, 'anomalies.pbtxt')"
   ]
  },
  {
   "cell_type": "code",
   "execution_count": null,
   "metadata": {
    "colab": {},
    "colab_type": "code",
    "id": "ZDhjfHFjcz1C"
   },
   "outputs": [],
   "source": [
    "# Load and visualize the anomalies.\n",
    "anomalies = tfdv.load_anomalies_text(anomalies_path)\n",
    "tfdv.display_anomalies(anomalies)"
   ]
  },
  {
   "cell_type": "markdown",
   "metadata": {
    "colab_type": "text",
    "id": "JPViEz5RlA36"
   },
   "source": [
    "### Transform\n",
    "`Transform` performs data transformations and feature engineering which are kept in sync for training and serving."
   ]
  },
  {
   "cell_type": "markdown",
   "metadata": {
    "colab_type": "text",
    "id": "wgbmZr3sgbWW"
   },
   "source": [
    "#### Run the Transform component"
   ]
  },
  {
   "cell_type": "code",
   "execution_count": null,
   "metadata": {
    "colab": {},
    "colab_type": "code",
    "id": "jHfhth_GiZI9"
   },
   "outputs": [],
   "source": [
    "# Performs transformations and feature engineering in training and serving.\n",
    "transform = Transform(\n",
    "    input_data=example_gen.outputs['examples'],\n",
    "    schema=infer_schema.outputs['output'],\n",
    "    module_file=_taxi_module_file)\n",
    "context.run(transform)"
   ]
  },
  {
   "cell_type": "markdown",
   "metadata": {
    "colab_type": "text",
    "id": "OBJFtnl6lCg9"
   },
   "source": [
    "### Trainer\n",
    "`Trainer` trains your custom model using TF-Learn."
   ]
  },
  {
   "cell_type": "code",
   "execution_count": null,
   "metadata": {
    "colab": {},
    "colab_type": "code",
    "id": "429-vvCWibO0"
   },
   "outputs": [],
   "source": [
    "# Uses user-provided Python function that implements a model using TF-Learn.\n",
    "trainer = Trainer(\n",
    "    module_file=_taxi_module_file,\n",
    "    transformed_examples=transform.outputs['transformed_examples'],\n",
    "    schema=infer_schema.outputs['output'],\n",
    "    transform_output=transform.outputs['transform_output'],\n",
    "    train_args=trainer_pb2.TrainArgs(num_steps=10000),\n",
    "    eval_args=trainer_pb2.EvalArgs(num_steps=5000))\n",
    "context.run(trainer)"
   ]
  },
  {
   "cell_type": "markdown",
   "metadata": {
    "colab_type": "text",
    "id": "FmPftrv0lEQy"
   },
   "source": [
    "### Evaluator (using Tensorflow Model Analysis)\n",
    "The `Evaluator` computes evaluation statistics over features of your model using [Tensorflow Model Analysis](https://www.tensorflow.org/tfx/model_analysis/get_started). In this section, we run TFMA in our TFX pipeline and then visualize the results to analyze the performance of our model."
   ]
  },
  {
   "cell_type": "markdown",
   "metadata": {
    "colab_type": "text",
    "id": "kGcid3lXJsBf"
   },
   "source": [
    "#### Run TFMA using the Evaluator component\n",
    "\n",
    "Here, we first define slicing specs for analyzing our data. Next, we run TFMA using these specs to generate results."
   ]
  },
  {
   "cell_type": "code",
   "execution_count": null,
   "metadata": {
    "colab": {},
    "colab_type": "code",
    "id": "fVhfzzh9PDEx"
   },
   "outputs": [],
   "source": [
    "# An empty slice spec means the overall slice, that is, the whole dataset.\n",
    "OVERALL_SLICE_SPEC = evaluator_pb2.SingleSlicingSpec()\n",
    "\n",
    "# Data can be sliced along a feature column\n",
    "# In this case, data is sliced along feature column trip_start_hour.\n",
    "FEATURE_COLUMN_SLICE_SPEC = evaluator_pb2.SingleSlicingSpec(\n",
    "    column_for_slicing=['trip_start_hour'])\n",
    "\n",
    "# Data can be sliced by crossing feature columns\n",
    "# In this case, slices are computed for trip_start_day x trip_start_month.\n",
    "FEATURE_COLUMN_CROSS_SPEC = evaluator_pb2.SingleSlicingSpec(\n",
    "    column_for_slicing=['trip_start_day', 'trip_start_month'])\n",
    "\n",
    "ALL_SPECS = [\n",
    "    OVERALL_SLICE_SPEC,\n",
    "    FEATURE_COLUMN_SLICE_SPEC,\n",
    "    FEATURE_COLUMN_CROSS_SPEC,\n",
    "]"
   ]
  },
  {
   "cell_type": "code",
   "execution_count": null,
   "metadata": {
    "colab": {},
    "colab_type": "code",
    "id": "Zjcx8g6mihSt"
   },
   "outputs": [],
   "source": [
    "# Use TFMA to compute a evaluation statistics over features of a model.\n",
    "model_analyzer = Evaluator(\n",
    "    examples=example_gen.outputs['examples'],\n",
    "    model_exports=trainer.outputs['output'],\n",
    "    feature_slicing_spec=evaluator_pb2.FeatureSlicingSpec(\n",
    "        specs=ALL_SPECS\n",
    "    ))\n",
    "context.run(model_analyzer)"
   ]
  },
  {
   "cell_type": "markdown",
   "metadata": {
    "colab_type": "text",
    "id": "X2VKvr3NJwii"
   },
   "source": [
    "#### Get the TFMA output result path"
   ]
  },
  {
   "cell_type": "code",
   "execution_count": null,
   "metadata": {
    "colab": {},
    "colab_type": "code",
    "id": "pyis6iy0HLdi"
   },
   "outputs": [],
   "source": [
    "PATH_TO_RESULT = model_analyzer.outputs['output'].get()[0].uri"
   ]
  },
  {
   "cell_type": "markdown",
   "metadata": {
    "colab_type": "text",
    "id": "L9YNBXsQKW63"
   },
   "source": [
    "#### Import TFMA and load the result"
   ]
  },
  {
   "cell_type": "code",
   "execution_count": null,
   "metadata": {
    "colab": {},
    "colab_type": "code",
    "id": "7SeuBh8aHZ9S"
   },
   "outputs": [],
   "source": [
    "import tensorflow_model_analysis as tfma\n",
    "tfma_result = tfma.load_eval_result(PATH_TO_RESULT)"
   ]
  },
  {
   "cell_type": "markdown",
   "metadata": {
    "colab_type": "text",
    "id": "LdLc25OnKs0G"
   },
   "source": [
    "#### Visualization: Slicing Metrics\n",
    "\n",
    "To see the slices, either use the name of the column (by setting slicing_column) or provide a tfma.slicer.SingleSliceSpec (by setting slicing_spec). If neither is provided, an overall visualization will be displayed.\n",
    "\n",
    "The default visualization is the **slice overview** when the number of slices is small. It shows the value of a metric for each slice, sorted by the another metric. It is also possible to set a threshold to filter out slices with smaller weights.\n",
    "\n",
    "This view also supports the **metrics histogram** as an alternative visualization. It is also the default view when the number of slices is large. The results will be divided into buckets and the number of slices / total weights / both can be visualized. Slices with small weights can be filtered out by setting the threshold. Further filtering can be applied by dragging the grey band. To reset the range, double click the band. Filtering can be used to remove outliers in the visualization and the metrics table below."
   ]
  },
  {
   "cell_type": "code",
   "execution_count": null,
   "metadata": {
    "colab": {},
    "colab_type": "code",
    "id": "SYvXSBANHdmZ"
   },
   "outputs": [],
   "source": [
    "# Show data sliced along feature column trip_start_hour.\n",
    "tfma.view.render_slicing_metrics(tfma_result, slicing_column='trip_start_hour')"
   ]
  },
  {
   "cell_type": "code",
   "execution_count": null,
   "metadata": {
    "colab": {},
    "colab_type": "code",
    "id": "IGADc5R7Q8yo"
   },
   "outputs": [],
   "source": [
    "# Show metrics sliced by 'trip_start_day' x 'trip_start_month'.\n",
    "tfma.view.render_slicing_metrics(\n",
    "    tfma_result,\n",
    "    slicing_spec=tfma.slicer.SingleSliceSpec(\n",
    "        columns=['trip_start_day','trip_start_month']))"
   ]
  },
  {
   "cell_type": "code",
   "execution_count": null,
   "metadata": {
    "colab": {},
    "colab_type": "code",
    "id": "WFvfzTTZL_0a"
   },
   "outputs": [],
   "source": [
    "# Show overall metrics.\n",
    "tfma.view.render_slicing_metrics(tfma_result)"
   ]
  },
  {
   "cell_type": "markdown",
   "metadata": {
    "colab_type": "text",
    "id": "76Mil-7FlF_y"
   },
   "source": [
    "### ModelValidator\n",
    "`ModelValidator` performs validation of your candidate model compared to a baseline."
   ]
  },
  {
   "cell_type": "code",
   "execution_count": null,
   "metadata": {
    "colab": {},
    "colab_type": "code",
    "id": "FXk1MA7sijCr"
   },
   "outputs": [],
   "source": [
    "# Performs quality validation of a candidate model (compared to a baseline).\n",
    "model_validator = ModelValidator(\n",
    "    examples=example_gen.outputs['examples'],\n",
    "    model=trainer.outputs['output'])\n",
    "context.run(model_validator)"
   ]
  },
  {
   "cell_type": "markdown",
   "metadata": {
    "colab_type": "text",
    "id": "T8DYekCZlHfj"
   },
   "source": [
    "### Pusher\n",
    "`Pusher` checks whether a model has passed validation, and if so, pushes the model to a file destination."
   ]
  },
  {
   "cell_type": "code",
   "execution_count": null,
   "metadata": {
    "colab": {},
    "colab_type": "code",
    "id": "r45nQ69eikc9"
   },
   "outputs": [],
   "source": [
    "# Checks whether the model passed the validation steps and pushes the model\n",
    "# to a file destination if check passed.\n",
    "pusher = Pusher(\n",
    "    model_export=trainer.outputs['output'],\n",
    "    model_blessing=model_validator.outputs['blessing'],\n",
    "    push_destination=pusher_pb2.PushDestination(\n",
    "        filesystem=pusher_pb2.PushDestination.Filesystem(\n",
    "            base_directory=_serving_model_dir)))\n",
    "context.run(pusher)"
   ]
  },
  {
   "cell_type": "code",
   "execution_count": null,
   "metadata": {
    "colab": {},
    "colab_type": "code",
    "id": "ad5JLpKbf6sN"
   },
   "outputs": [],
   "source": [
    "# Set up paths.\n",
    "_taxi_root = os.path.join(tfx.__path__[0], 'examples/chicago_taxi_pipeline')\n",
    "# Python module file to inject customized logic into the TFX components. The\n",
    "# Transform and Trainer both require user-defined functions to run successfully.\n",
    "_taxi_module_file = os.path.join(_taxi_root, 'taxi_utils.py')\n",
    "# Path which can be listened to by the model server.  Pusher will output the\n",
    "# trained model here.\n",
    "_serving_model_dir = os.path.join(tempfile.mkdtemp(),\n",
    "                                  'serving_model/taxi_simple')"
   ]
  }
 ],
 "metadata": {
  "colab": {
   "collapsed_sections": [],
   "name": "taxi_pipeline_interactive.ipynb",
   "provenance": [],
   "version": "0.3.2"
  },
  "kernelspec": {
   "display_name": "tfx",
   "language": "python",
   "name": "tfx"
  },
  "language_info": {
   "codemirror_mode": {
    "name": "ipython",
    "version": 3
   },
   "file_extension": ".py",
   "mimetype": "text/x-python",
   "name": "python",
   "nbconvert_exporter": "python",
   "pygments_lexer": "ipython3",
   "version": "3.6.9"
  }
 },
 "nbformat": 4,
 "nbformat_minor": 4
}
