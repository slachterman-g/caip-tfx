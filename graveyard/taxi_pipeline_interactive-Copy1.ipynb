{
 "cells": [
  {
   "cell_type": "markdown",
   "metadata": {
    "colab_type": "text",
    "id": "23R0Z9RojXYW"
   },
   "source": [
    "<!-- TODO(ccy): split this notebook into (1) a beginner friendly notebook that\n",
    "     avoids directly calling into TFX libraries and (2) an advanced notebook\n",
    "     or notebooks that delve more deeply into each component, along with their\n",
    "     underlying libraries. -->\n",
    "# TFX Iterative Development Example\n",
    "This notebook demonstrates how to use Jupyter notebooks for TFX iterative development.  Here, we walk through the Chicago Taxi example in an interactive Jupyter notebook.\n",
    "\n",
    "Note: this notebook along with its associated APIs are **experimental** and are\n",
    "in active development.  Major changes in functionality, behavior and\n",
    "presentation are expected."
   ]
  },
  {
   "cell_type": "markdown",
   "metadata": {
    "colab_type": "text",
    "id": "2GivNBNYjb3b"
   },
   "source": [
    "## Setup\n",
    "First, download data, import modules and set up paths."
   ]
  },
  {
   "cell_type": "markdown",
   "metadata": {
    "colab_type": "text",
    "id": "N-ePgV0Lj68Q"
   },
   "source": [
    "### Import packages\n",
    "We import necessary packages, including standard TFX component classes."
   ]
  },
  {
   "cell_type": "code",
   "execution_count": 1,
   "metadata": {
    "colab": {},
    "colab_type": "code",
    "id": "YIqpWK9efviJ"
   },
   "outputs": [
    {
     "name": "stderr",
     "output_type": "stream",
     "text": [
      "/root/miniconda3/envs/tfx/lib/python3.7/site-packages/tensorflow/python/framework/dtypes.py:516: FutureWarning: Passing (type, 1) or '1type' as a synonym of type is deprecated; in a future version of numpy, it will be understood as (type, (1,)) / '(1,)type'.\n",
      "  _np_qint8 = np.dtype([(\"qint8\", np.int8, 1)])\n",
      "/root/miniconda3/envs/tfx/lib/python3.7/site-packages/tensorflow/python/framework/dtypes.py:517: FutureWarning: Passing (type, 1) or '1type' as a synonym of type is deprecated; in a future version of numpy, it will be understood as (type, (1,)) / '(1,)type'.\n",
      "  _np_quint8 = np.dtype([(\"quint8\", np.uint8, 1)])\n",
      "/root/miniconda3/envs/tfx/lib/python3.7/site-packages/tensorflow/python/framework/dtypes.py:518: FutureWarning: Passing (type, 1) or '1type' as a synonym of type is deprecated; in a future version of numpy, it will be understood as (type, (1,)) / '(1,)type'.\n",
      "  _np_qint16 = np.dtype([(\"qint16\", np.int16, 1)])\n",
      "/root/miniconda3/envs/tfx/lib/python3.7/site-packages/tensorflow/python/framework/dtypes.py:519: FutureWarning: Passing (type, 1) or '1type' as a synonym of type is deprecated; in a future version of numpy, it will be understood as (type, (1,)) / '(1,)type'.\n",
      "  _np_quint16 = np.dtype([(\"quint16\", np.uint16, 1)])\n",
      "/root/miniconda3/envs/tfx/lib/python3.7/site-packages/tensorflow/python/framework/dtypes.py:520: FutureWarning: Passing (type, 1) or '1type' as a synonym of type is deprecated; in a future version of numpy, it will be understood as (type, (1,)) / '(1,)type'.\n",
      "  _np_qint32 = np.dtype([(\"qint32\", np.int32, 1)])\n",
      "/root/miniconda3/envs/tfx/lib/python3.7/site-packages/tensorflow/python/framework/dtypes.py:525: FutureWarning: Passing (type, 1) or '1type' as a synonym of type is deprecated; in a future version of numpy, it will be understood as (type, (1,)) / '(1,)type'.\n",
      "  np_resource = np.dtype([(\"resource\", np.ubyte, 1)])\n",
      "/root/miniconda3/envs/tfx/lib/python3.7/site-packages/tensorboard/compat/tensorflow_stub/dtypes.py:541: FutureWarning: Passing (type, 1) or '1type' as a synonym of type is deprecated; in a future version of numpy, it will be understood as (type, (1,)) / '(1,)type'.\n",
      "  _np_qint8 = np.dtype([(\"qint8\", np.int8, 1)])\n",
      "/root/miniconda3/envs/tfx/lib/python3.7/site-packages/tensorboard/compat/tensorflow_stub/dtypes.py:542: FutureWarning: Passing (type, 1) or '1type' as a synonym of type is deprecated; in a future version of numpy, it will be understood as (type, (1,)) / '(1,)type'.\n",
      "  _np_quint8 = np.dtype([(\"quint8\", np.uint8, 1)])\n",
      "/root/miniconda3/envs/tfx/lib/python3.7/site-packages/tensorboard/compat/tensorflow_stub/dtypes.py:543: FutureWarning: Passing (type, 1) or '1type' as a synonym of type is deprecated; in a future version of numpy, it will be understood as (type, (1,)) / '(1,)type'.\n",
      "  _np_qint16 = np.dtype([(\"qint16\", np.int16, 1)])\n",
      "/root/miniconda3/envs/tfx/lib/python3.7/site-packages/tensorboard/compat/tensorflow_stub/dtypes.py:544: FutureWarning: Passing (type, 1) or '1type' as a synonym of type is deprecated; in a future version of numpy, it will be understood as (type, (1,)) / '(1,)type'.\n",
      "  _np_quint16 = np.dtype([(\"quint16\", np.uint16, 1)])\n",
      "/root/miniconda3/envs/tfx/lib/python3.7/site-packages/tensorboard/compat/tensorflow_stub/dtypes.py:545: FutureWarning: Passing (type, 1) or '1type' as a synonym of type is deprecated; in a future version of numpy, it will be understood as (type, (1,)) / '(1,)type'.\n",
      "  _np_qint32 = np.dtype([(\"qint32\", np.int32, 1)])\n",
      "/root/miniconda3/envs/tfx/lib/python3.7/site-packages/tensorboard/compat/tensorflow_stub/dtypes.py:550: FutureWarning: Passing (type, 1) or '1type' as a synonym of type is deprecated; in a future version of numpy, it will be understood as (type, (1,)) / '(1,)type'.\n",
      "  np_resource = np.dtype([(\"resource\", np.ubyte, 1)])\n",
      "/root/miniconda3/envs/tfx/lib/python3.7/site-packages/apache_beam/__init__.py:84: UserWarning: Some syntactic constructs of Python 3 are not yet fully supported by Apache Beam.\n",
      "  'Some syntactic constructs of Python 3 are not yet fully supported by '\n"
     ]
    },
    {
     "name": "stdout",
     "output_type": "stream",
     "text": [
      "WARNING:tensorflow:From /root/miniconda3/envs/tfx/lib/python3.7/site-packages/tfx/components/transform/executor.py:57: The name tf.FixedLenFeature is deprecated. Please use tf.io.FixedLenFeature instead.\n",
      "\n",
      "WARNING:tensorflow:From /root/miniconda3/envs/tfx/lib/python3.7/site-packages/tfx/components/transform/executor.py:57: from_feature_spec (from tensorflow_transform.tf_metadata.dataset_schema) is deprecated and will be removed in a future version.\n",
      "Instructions for updating:\n",
      "from_feature_spec is a deprecated, use schema_utils.schema_from_feature_spec\n"
     ]
    }
   ],
   "source": [
    "import os\n",
    "import tempfile\n",
    "import urllib\n",
    "\n",
    "import tfx\n",
    "from tfx.components.evaluator.component import Evaluator\n",
    "from tfx.components.example_gen.csv_example_gen.component import CsvExampleGen\n",
    "from tfx.components.example_validator.component import ExampleValidator\n",
    "from tfx.components.model_validator.component import ModelValidator\n",
    "from tfx.components.pusher.component import Pusher\n",
    "from tfx.components.schema_gen.component import SchemaGen\n",
    "from tfx.components.statistics_gen.component import StatisticsGen\n",
    "from tfx.components.trainer.component import Trainer\n",
    "from tfx.components.transform.component import Transform\n",
    "from tfx.orchestration.interactive.interactive_context import InteractiveContext\n",
    "from tfx.proto import evaluator_pb2\n",
    "from tfx.proto import pusher_pb2\n",
    "from tfx.proto import trainer_pb2\n",
    "from tfx.proto.evaluator_pb2 import SingleSlicingSpec\n",
    "from tfx.utils.dsl_utils import csv_input"
   ]
  },
  {
   "cell_type": "markdown",
   "metadata": {
    "colab_type": "text",
    "id": "n2cMMAbSkGfX"
   },
   "source": [
    "### Download example data\n",
    "We download the sample dataset for use in our TFX pipeline."
   ]
  },
  {
   "cell_type": "code",
   "execution_count": 2,
   "metadata": {
    "colab": {},
    "colab_type": "code",
    "id": "BywX6OUEhAqn"
   },
   "outputs": [],
   "source": [
    "# Download the example data.\n",
    "_data_root = tempfile.mkdtemp(prefix='tfx-data')\n",
    "DATA_PATH = 'https://raw.githubusercontent.com/tensorflow/tfx/master/tfx/examples/chicago_taxi_pipeline/data/simple/data.csv'\n",
    "with open(os.path.join(_data_root, 'data.csv'), 'wb') as f:\n",
    "  contents = urllib.request.urlopen(DATA_PATH).read()\n",
    "  f.write(contents)"
   ]
  },
  {
   "cell_type": "markdown",
   "metadata": {
    "colab_type": "text",
    "id": "ufJKQ6OvkJlY"
   },
   "source": [
    "### Set up pipeline paths"
   ]
  },
  {
   "cell_type": "code",
   "execution_count": 3,
   "metadata": {
    "colab": {},
    "colab_type": "code",
    "id": "ad5JLpKbf6sN"
   },
   "outputs": [],
   "source": [
    "# Set up paths.\n",
    "_taxi_root = os.path.join(tfx.__path__[0], 'examples/chicago_taxi_pipeline')\n",
    "# Python module file to inject customized logic into the TFX components. The\n",
    "# Transform and Trainer both require user-defined functions to run successfully.\n",
    "_taxi_module_file = os.path.join(_taxi_root, 'taxi_utils.py')\n",
    "# Path which can be listened to by the model server.  Pusher will output the\n",
    "# trained model here.\n",
    "_serving_model_dir = os.path.join(tempfile.mkdtemp(),\n",
    "                                  'serving_model/taxi_simple')"
   ]
  },
  {
   "cell_type": "markdown",
   "metadata": {
    "colab_type": "text",
    "id": "8ONIE_hdkPS4"
   },
   "source": [
    "## Create the InteractiveContext\n",
    "We now create the interactive context."
   ]
  },
  {
   "cell_type": "code",
   "execution_count": 4,
   "metadata": {
    "colab": {},
    "colab_type": "code",
    "id": "0Rh6K5sUf9dd"
   },
   "outputs": [],
   "source": [
    "# Here, we create an InteractiveContext using default parameters. This will\n",
    "# use a temporary directory with an ephemeral ML Metadata database instance.\n",
    "# To use your own pipeline root or database, the optional properties\n",
    "# `pipeline_root` and `metadata_connection_config` may be passed to\n",
    "# InteractiveContext.\n",
    "context = InteractiveContext()"
   ]
  },
  {
   "cell_type": "markdown",
   "metadata": {
    "colab_type": "text",
    "id": "HdQWxfsVkzdJ"
   },
   "source": [
    "## Run TFX components interactively\n",
    "Next, we construct TFX components and run each one interactively using within the interactive session to obtain `ExecutionResult` objects."
   ]
  },
  {
   "cell_type": "markdown",
   "metadata": {
    "colab_type": "text",
    "id": "L9fwt9gQk3BR"
   },
   "source": [
    "### ExampleGen\n",
    "`ExampleGen` brings data into the TFX pipeline."
   ]
  },
  {
   "cell_type": "code",
   "execution_count": 6,
   "metadata": {
    "colab": {},
    "colab_type": "code",
    "id": "PyXjuMt8f-9u"
   },
   "outputs": [
    {
     "name": "stdout",
     "output_type": "stream",
     "text": [
      "INFO:tensorflow:Run driver for CsvExampleGen\n"
     ]
    },
    {
     "name": "stderr",
     "output_type": "stream",
     "text": [
      "INFO:tensorflow:Run driver for CsvExampleGen\n"
     ]
    },
    {
     "name": "stdout",
     "output_type": "stream",
     "text": [
      "INFO:tensorflow:Created run context interactive-2019-08-31T21_40_43.017915.2019-08-31T21:42:15.289015.\n"
     ]
    },
    {
     "name": "stderr",
     "output_type": "stream",
     "text": [
      "INFO:tensorflow:Created run context interactive-2019-08-31T21_40_43.017915.2019-08-31T21:42:15.289015.\n"
     ]
    },
    {
     "name": "stdout",
     "output_type": "stream",
     "text": [
      "INFO:tensorflow:ID of run context interactive-2019-08-31T21_40_43.017915.2019-08-31T21:42:15.289015 is 2.\n"
     ]
    },
    {
     "name": "stderr",
     "output_type": "stream",
     "text": [
      "INFO:tensorflow:ID of run context interactive-2019-08-31T21_40_43.017915.2019-08-31T21:42:15.289015 is 2.\n"
     ]
    },
    {
     "name": "stdout",
     "output_type": "stream",
     "text": [
      "INFO:tensorflow:Processing input /tmp/tfx-datat05a0x3d.\n"
     ]
    },
    {
     "name": "stderr",
     "output_type": "stream",
     "text": [
      "INFO:tensorflow:Processing input /tmp/tfx-datat05a0x3d.\n"
     ]
    },
    {
     "name": "stdout",
     "output_type": "stream",
     "text": [
      "INFO:tensorflow:single_input Artifact(type_name: ExternalPath, uri: /tmp/tfx-datat05a0x3d, split: , id: 0).\n"
     ]
    },
    {
     "name": "stderr",
     "output_type": "stream",
     "text": [
      "INFO:tensorflow:single_input Artifact(type_name: ExternalPath, uri: /tmp/tfx-datat05a0x3d, split: , id: 0).\n"
     ]
    },
    {
     "name": "stdout",
     "output_type": "stream",
     "text": [
      "INFO:tensorflow:single_input.artifact uri: \"/tmp/tfx-datat05a0x3d\"\n",
      "properties {\n",
      "  key: \"split\"\n",
      "  value {\n",
      "    string_value: \"\"\n",
      "  }\n",
      "}\n",
      "properties {\n",
      "  key: \"type_name\"\n",
      "  value {\n",
      "    string_value: \"ExternalPath\"\n",
      "  }\n",
      "}\n",
      ".\n"
     ]
    },
    {
     "name": "stderr",
     "output_type": "stream",
     "text": [
      "INFO:tensorflow:single_input.artifact uri: \"/tmp/tfx-datat05a0x3d\"\n",
      "properties {\n",
      "  key: \"split\"\n",
      "  value {\n",
      "    string_value: \"\"\n",
      "  }\n",
      "}\n",
      "properties {\n",
      "  key: \"type_name\"\n",
      "  value {\n",
      "    string_value: \"ExternalPath\"\n",
      "  }\n",
      "}\n",
      ".\n"
     ]
    },
    {
     "name": "stdout",
     "output_type": "stream",
     "text": [
      "INFO:tensorflow:latest_artifact id: 1\n",
      "type_id: 2\n",
      "uri: \"/tmp/tfx-datat05a0x3d\"\n",
      "properties {\n",
      "  key: \"split\"\n",
      "  value {\n",
      "    string_value: \"\"\n",
      "  }\n",
      "}\n",
      "properties {\n",
      "  key: \"state\"\n",
      "  value {\n",
      "    string_value: \"published\"\n",
      "  }\n",
      "}\n",
      "properties {\n",
      "  key: \"type_name\"\n",
      "  value {\n",
      "    string_value: \"ExternalPath\"\n",
      "  }\n",
      "}\n",
      "custom_properties {\n",
      "  key: \"input_fingerprint\"\n",
      "  value {\n",
      "    string_value: \"split:single_split,num_files:1,total_bytes:1922668,xor_checksum:1567287548,sum_checksum:1567287548\"\n",
      "  }\n",
      "}\n",
      ".\n"
     ]
    },
    {
     "name": "stderr",
     "output_type": "stream",
     "text": [
      "INFO:tensorflow:latest_artifact id: 1\n",
      "type_id: 2\n",
      "uri: \"/tmp/tfx-datat05a0x3d\"\n",
      "properties {\n",
      "  key: \"split\"\n",
      "  value {\n",
      "    string_value: \"\"\n",
      "  }\n",
      "}\n",
      "properties {\n",
      "  key: \"state\"\n",
      "  value {\n",
      "    string_value: \"published\"\n",
      "  }\n",
      "}\n",
      "properties {\n",
      "  key: \"type_name\"\n",
      "  value {\n",
      "    string_value: \"ExternalPath\"\n",
      "  }\n",
      "}\n",
      "custom_properties {\n",
      "  key: \"input_fingerprint\"\n",
      "  value {\n",
      "    string_value: \"split:single_split,num_files:1,total_bytes:1922668,xor_checksum:1567287548,sum_checksum:1567287548\"\n",
      "  }\n",
      "}\n",
      ".\n"
     ]
    },
    {
     "name": "stdout",
     "output_type": "stream",
     "text": [
      "INFO:tensorflow:type(latest_artifact) <class 'ml_metadata.proto.metadata_store_pb2.Artifact'>.\n"
     ]
    },
    {
     "name": "stderr",
     "output_type": "stream",
     "text": [
      "INFO:tensorflow:type(latest_artifact) <class 'ml_metadata.proto.metadata_store_pb2.Artifact'>.\n"
     ]
    },
    {
     "name": "stdout",
     "output_type": "stream",
     "text": [
      "INFO:tensorflow:Resolved input artifacts are: {'input_base': [Artifact(type_name: ExternalPath, uri: /tmp/tfx-datat05a0x3d, split: , id: 1)]}\n"
     ]
    },
    {
     "name": "stderr",
     "output_type": "stream",
     "text": [
      "INFO:tensorflow:Resolved input artifacts are: {'input_base': [Artifact(type_name: ExternalPath, uri: /tmp/tfx-datat05a0x3d, split: , id: 1)]}\n"
     ]
    },
    {
     "name": "stdout",
     "output_type": "stream",
     "text": [
      "INFO:tensorflow:Prepared EXECUTION:\n",
      " type_id: 3\n",
      "properties {\n",
      "  key: \"component_id\"\n",
      "  value {\n",
      "    string_value: \"CsvExampleGen\"\n",
      "  }\n",
      "}\n",
      "properties {\n",
      "  key: \"custom_config\"\n",
      "  value {\n",
      "    string_value: \"None\"\n",
      "  }\n",
      "}\n",
      "properties {\n",
      "  key: \"input_config\"\n",
      "  value {\n",
      "    string_value: \"{\\n  \\\"splits\\\": [\\n    {\\n      \\\"name\\\": \\\"single_split\\\",\\n      \\\"pattern\\\": \\\"*\\\"\\n    }\\n  ]\\n}\"\n",
      "  }\n",
      "}\n",
      "properties {\n",
      "  key: \"output_config\"\n",
      "  value {\n",
      "    string_value: \"{\\n  \\\"splitConfig\\\": {\\n    \\\"splits\\\": [\\n      {\\n        \\\"hashBuckets\\\": 2,\\n        \\\"name\\\": \\\"train\\\"\\n      },\\n      {\\n        \\\"hashBuckets\\\": 1,\\n        \\\"name\\\": \\\"eval\\\"\\n      }\\n    ]\\n  }\\n}\"\n",
      "  }\n",
      "}\n",
      "properties {\n",
      "  key: \"pipeline_name\"\n",
      "  value {\n",
      "    string_value: \"interactive-2019-08-31T21_40_43.017915\"\n",
      "  }\n",
      "}\n",
      "properties {\n",
      "  key: \"pipeline_root\"\n",
      "  value {\n",
      "    string_value: \"/tmp/tfx-interactive-2019-08-31T21_40_43.017915-r5zd0p45\"\n",
      "  }\n",
      "}\n",
      "properties {\n",
      "  key: \"run_id\"\n",
      "  value {\n",
      "    string_value: \"2019-08-31T21:42:15.289015\"\n",
      "  }\n",
      "}\n",
      "properties {\n",
      "  key: \"state\"\n",
      "  value {\n",
      "    string_value: \"new\"\n",
      "  }\n",
      "}\n",
      "\n"
     ]
    },
    {
     "name": "stderr",
     "output_type": "stream",
     "text": [
      "INFO:tensorflow:Prepared EXECUTION:\n",
      " type_id: 3\n",
      "properties {\n",
      "  key: \"component_id\"\n",
      "  value {\n",
      "    string_value: \"CsvExampleGen\"\n",
      "  }\n",
      "}\n",
      "properties {\n",
      "  key: \"custom_config\"\n",
      "  value {\n",
      "    string_value: \"None\"\n",
      "  }\n",
      "}\n",
      "properties {\n",
      "  key: \"input_config\"\n",
      "  value {\n",
      "    string_value: \"{\\n  \\\"splits\\\": [\\n    {\\n      \\\"name\\\": \\\"single_split\\\",\\n      \\\"pattern\\\": \\\"*\\\"\\n    }\\n  ]\\n}\"\n",
      "  }\n",
      "}\n",
      "properties {\n",
      "  key: \"output_config\"\n",
      "  value {\n",
      "    string_value: \"{\\n  \\\"splitConfig\\\": {\\n    \\\"splits\\\": [\\n      {\\n        \\\"hashBuckets\\\": 2,\\n        \\\"name\\\": \\\"train\\\"\\n      },\\n      {\\n        \\\"hashBuckets\\\": 1,\\n        \\\"name\\\": \\\"eval\\\"\\n      }\\n    ]\\n  }\\n}\"\n",
      "  }\n",
      "}\n",
      "properties {\n",
      "  key: \"pipeline_name\"\n",
      "  value {\n",
      "    string_value: \"interactive-2019-08-31T21_40_43.017915\"\n",
      "  }\n",
      "}\n",
      "properties {\n",
      "  key: \"pipeline_root\"\n",
      "  value {\n",
      "    string_value: \"/tmp/tfx-interactive-2019-08-31T21_40_43.017915-r5zd0p45\"\n",
      "  }\n",
      "}\n",
      "properties {\n",
      "  key: \"run_id\"\n",
      "  value {\n",
      "    string_value: \"2019-08-31T21:42:15.289015\"\n",
      "  }\n",
      "}\n",
      "properties {\n",
      "  key: \"state\"\n",
      "  value {\n",
      "    string_value: \"new\"\n",
      "  }\n",
      "}\n",
      "\n"
     ]
    },
    {
     "name": "stdout",
     "output_type": "stream",
     "text": [
      "INFO:tensorflow:Execution id of the upcoming component execution is 2\n"
     ]
    },
    {
     "name": "stderr",
     "output_type": "stream",
     "text": [
      "INFO:tensorflow:Execution id of the upcoming component execution is 2\n"
     ]
    },
    {
     "name": "stdout",
     "output_type": "stream",
     "text": [
      "INFO:tensorflow:Checking previous run for execution_type_name tfx.components.example_gen.csv_example_gen.component.CsvExampleGen and input_artifacts {'input_base': [Artifact(type_name: ExternalPath, uri: /tmp/tfx-datat05a0x3d, split: , id: 1)]}\n"
     ]
    },
    {
     "name": "stderr",
     "output_type": "stream",
     "text": [
      "INFO:tensorflow:Checking previous run for execution_type_name tfx.components.example_gen.csv_example_gen.component.CsvExampleGen and input_artifacts {'input_base': [Artifact(type_name: ExternalPath, uri: /tmp/tfx-datat05a0x3d, split: , id: 1)]}\n"
     ]
    },
    {
     "name": "stdout",
     "output_type": "stream",
     "text": [
      "INFO:tensorflow:Prepared EXECUTION:\n",
      " type_id: 3\n",
      "properties {\n",
      "  key: \"component_id\"\n",
      "  value {\n",
      "    string_value: \"CsvExampleGen\"\n",
      "  }\n",
      "}\n",
      "properties {\n",
      "  key: \"custom_config\"\n",
      "  value {\n",
      "    string_value: \"None\"\n",
      "  }\n",
      "}\n",
      "properties {\n",
      "  key: \"input_config\"\n",
      "  value {\n",
      "    string_value: \"{\\n  \\\"splits\\\": [\\n    {\\n      \\\"name\\\": \\\"single_split\\\",\\n      \\\"pattern\\\": \\\"*\\\"\\n    }\\n  ]\\n}\"\n",
      "  }\n",
      "}\n",
      "properties {\n",
      "  key: \"output_config\"\n",
      "  value {\n",
      "    string_value: \"{\\n  \\\"splitConfig\\\": {\\n    \\\"splits\\\": [\\n      {\\n        \\\"hashBuckets\\\": 2,\\n        \\\"name\\\": \\\"train\\\"\\n      },\\n      {\\n        \\\"hashBuckets\\\": 1,\\n        \\\"name\\\": \\\"eval\\\"\\n      }\\n    ]\\n  }\\n}\"\n",
      "  }\n",
      "}\n",
      "properties {\n",
      "  key: \"pipeline_name\"\n",
      "  value {\n",
      "    string_value: \"interactive-2019-08-31T21_40_43.017915\"\n",
      "  }\n",
      "}\n",
      "properties {\n",
      "  key: \"pipeline_root\"\n",
      "  value {\n",
      "    string_value: \"/tmp/tfx-interactive-2019-08-31T21_40_43.017915-r5zd0p45\"\n",
      "  }\n",
      "}\n",
      "properties {\n",
      "  key: \"run_id\"\n",
      "  value {\n",
      "    string_value: \"2019-08-31T21:42:15.289015\"\n",
      "  }\n",
      "}\n",
      "properties {\n",
      "  key: \"state\"\n",
      "  value {\n",
      "    string_value: \"complete\"\n",
      "  }\n",
      "}\n",
      "\n"
     ]
    },
    {
     "name": "stderr",
     "output_type": "stream",
     "text": [
      "INFO:tensorflow:Prepared EXECUTION:\n",
      " type_id: 3\n",
      "properties {\n",
      "  key: \"component_id\"\n",
      "  value {\n",
      "    string_value: \"CsvExampleGen\"\n",
      "  }\n",
      "}\n",
      "properties {\n",
      "  key: \"custom_config\"\n",
      "  value {\n",
      "    string_value: \"None\"\n",
      "  }\n",
      "}\n",
      "properties {\n",
      "  key: \"input_config\"\n",
      "  value {\n",
      "    string_value: \"{\\n  \\\"splits\\\": [\\n    {\\n      \\\"name\\\": \\\"single_split\\\",\\n      \\\"pattern\\\": \\\"*\\\"\\n    }\\n  ]\\n}\"\n",
      "  }\n",
      "}\n",
      "properties {\n",
      "  key: \"output_config\"\n",
      "  value {\n",
      "    string_value: \"{\\n  \\\"splitConfig\\\": {\\n    \\\"splits\\\": [\\n      {\\n        \\\"hashBuckets\\\": 2,\\n        \\\"name\\\": \\\"train\\\"\\n      },\\n      {\\n        \\\"hashBuckets\\\": 1,\\n        \\\"name\\\": \\\"eval\\\"\\n      }\\n    ]\\n  }\\n}\"\n",
      "  }\n",
      "}\n",
      "properties {\n",
      "  key: \"pipeline_name\"\n",
      "  value {\n",
      "    string_value: \"interactive-2019-08-31T21_40_43.017915\"\n",
      "  }\n",
      "}\n",
      "properties {\n",
      "  key: \"pipeline_root\"\n",
      "  value {\n",
      "    string_value: \"/tmp/tfx-interactive-2019-08-31T21_40_43.017915-r5zd0p45\"\n",
      "  }\n",
      "}\n",
      "properties {\n",
      "  key: \"run_id\"\n",
      "  value {\n",
      "    string_value: \"2019-08-31T21:42:15.289015\"\n",
      "  }\n",
      "}\n",
      "properties {\n",
      "  key: \"state\"\n",
      "  value {\n",
      "    string_value: \"complete\"\n",
      "  }\n",
      "}\n",
      "\n"
     ]
    },
    {
     "name": "stdout",
     "output_type": "stream",
     "text": [
      "INFO:tensorflow:Found matching execution with all input artifacts: 1\n"
     ]
    },
    {
     "name": "stderr",
     "output_type": "stream",
     "text": [
      "INFO:tensorflow:Found matching execution with all input artifacts: 1\n"
     ]
    },
    {
     "name": "stdout",
     "output_type": "stream",
     "text": [
      "INFO:tensorflow:Found cached_execution: 1\n"
     ]
    },
    {
     "name": "stderr",
     "output_type": "stream",
     "text": [
      "INFO:tensorflow:Found cached_execution: 1\n"
     ]
    },
    {
     "name": "stdout",
     "output_type": "stream",
     "text": [
      "INFO:tensorflow:Cached output artifacts are: {'examples': [Artifact(type_name: ExamplesPath, uri: /tmp/tfx-interactive-2019-08-31T21_40_43.017915-r5zd0p45/CsvExampleGen/examples/1/train/, split: train, id: 2), Artifact(type_name: ExamplesPath, uri: /tmp/tfx-interactive-2019-08-31T21_40_43.017915-r5zd0p45/CsvExampleGen/examples/1/eval/, split: eval, id: 3)]}\n"
     ]
    },
    {
     "name": "stderr",
     "output_type": "stream",
     "text": [
      "INFO:tensorflow:Cached output artifacts are: {'examples': [Artifact(type_name: ExamplesPath, uri: /tmp/tfx-interactive-2019-08-31T21_40_43.017915-r5zd0p45/CsvExampleGen/examples/1/train/, split: train, id: 2), Artifact(type_name: ExamplesPath, uri: /tmp/tfx-interactive-2019-08-31T21_40_43.017915-r5zd0p45/CsvExampleGen/examples/1/eval/, split: eval, id: 3)]}\n"
     ]
    },
    {
     "name": "stdout",
     "output_type": "stream",
     "text": [
      "INFO:tensorflow:Run publisher for CsvExampleGen\n"
     ]
    },
    {
     "name": "stderr",
     "output_type": "stream",
     "text": [
      "INFO:tensorflow:Run publisher for CsvExampleGen\n"
     ]
    },
    {
     "name": "stdout",
     "output_type": "stream",
     "text": [
      "INFO:tensorflow:Whether cached results are used: True\n"
     ]
    },
    {
     "name": "stderr",
     "output_type": "stream",
     "text": [
      "INFO:tensorflow:Whether cached results are used: True\n"
     ]
    },
    {
     "name": "stdout",
     "output_type": "stream",
     "text": [
      "INFO:tensorflow:Execution id: 2\n"
     ]
    },
    {
     "name": "stderr",
     "output_type": "stream",
     "text": [
      "INFO:tensorflow:Execution id: 2\n"
     ]
    },
    {
     "name": "stdout",
     "output_type": "stream",
     "text": [
      "INFO:tensorflow:Inputs: {'input_base': [Artifact(type_name: ExternalPath, uri: /tmp/tfx-datat05a0x3d, split: , id: 1)]}\n"
     ]
    },
    {
     "name": "stderr",
     "output_type": "stream",
     "text": [
      "INFO:tensorflow:Inputs: {'input_base': [Artifact(type_name: ExternalPath, uri: /tmp/tfx-datat05a0x3d, split: , id: 1)]}\n"
     ]
    },
    {
     "name": "stdout",
     "output_type": "stream",
     "text": [
      "INFO:tensorflow:Outputs: {'examples': [Artifact(type_name: ExamplesPath, uri: /tmp/tfx-interactive-2019-08-31T21_40_43.017915-r5zd0p45/CsvExampleGen/examples/1/train/, split: train, id: 2), Artifact(type_name: ExamplesPath, uri: /tmp/tfx-interactive-2019-08-31T21_40_43.017915-r5zd0p45/CsvExampleGen/examples/1/eval/, split: eval, id: 3)]}\n"
     ]
    },
    {
     "name": "stderr",
     "output_type": "stream",
     "text": [
      "INFO:tensorflow:Outputs: {'examples': [Artifact(type_name: ExamplesPath, uri: /tmp/tfx-interactive-2019-08-31T21_40_43.017915-r5zd0p45/CsvExampleGen/examples/1/train/, split: train, id: 2), Artifact(type_name: ExamplesPath, uri: /tmp/tfx-interactive-2019-08-31T21_40_43.017915-r5zd0p45/CsvExampleGen/examples/1/eval/, split: eval, id: 3)]}\n"
     ]
    },
    {
     "name": "stdout",
     "output_type": "stream",
     "text": [
      "INFO:tensorflow:Publishing execution id: 2\n",
      "type_id: 3\n",
      "properties {\n",
      "  key: \"component_id\"\n",
      "  value {\n",
      "    string_value: \"CsvExampleGen\"\n",
      "  }\n",
      "}\n",
      "properties {\n",
      "  key: \"custom_config\"\n",
      "  value {\n",
      "    string_value: \"None\"\n",
      "  }\n",
      "}\n",
      "properties {\n",
      "  key: \"input_config\"\n",
      "  value {\n",
      "    string_value: \"{\\n  \\\"splits\\\": [\\n    {\\n      \\\"name\\\": \\\"single_split\\\",\\n      \\\"pattern\\\": \\\"*\\\"\\n    }\\n  ]\\n}\"\n",
      "  }\n",
      "}\n",
      "properties {\n",
      "  key: \"output_config\"\n",
      "  value {\n",
      "    string_value: \"{\\n  \\\"splitConfig\\\": {\\n    \\\"splits\\\": [\\n      {\\n        \\\"hashBuckets\\\": 2,\\n        \\\"name\\\": \\\"train\\\"\\n      },\\n      {\\n        \\\"hashBuckets\\\": 1,\\n        \\\"name\\\": \\\"eval\\\"\\n      }\\n    ]\\n  }\\n}\"\n",
      "  }\n",
      "}\n",
      "properties {\n",
      "  key: \"pipeline_name\"\n",
      "  value {\n",
      "    string_value: \"interactive-2019-08-31T21_40_43.017915\"\n",
      "  }\n",
      "}\n",
      "properties {\n",
      "  key: \"pipeline_root\"\n",
      "  value {\n",
      "    string_value: \"/tmp/tfx-interactive-2019-08-31T21_40_43.017915-r5zd0p45\"\n",
      "  }\n",
      "}\n",
      "properties {\n",
      "  key: \"run_id\"\n",
      "  value {\n",
      "    string_value: \"2019-08-31T21:42:15.289015\"\n",
      "  }\n",
      "}\n",
      "properties {\n",
      "  key: \"state\"\n",
      "  value {\n",
      "    string_value: \"cached\"\n",
      "  }\n",
      "}\n",
      ", with inputs {'input_base': [Artifact(type_name: ExternalPath, uri: /tmp/tfx-datat05a0x3d, split: , id: 1)]} and outputs {'examples': [Artifact(type_name: ExamplesPath, uri: /tmp/tfx-interactive-2019-08-31T21_40_43.017915-r5zd0p45/CsvExampleGen/examples/1/train/, split: train, id: 2), Artifact(type_name: ExamplesPath, uri: /tmp/tfx-interactive-2019-08-31T21_40_43.017915-r5zd0p45/CsvExampleGen/examples/1/eval/, split: eval, id: 3)]}\n"
     ]
    },
    {
     "name": "stderr",
     "output_type": "stream",
     "text": [
      "INFO:tensorflow:Publishing execution id: 2\n",
      "type_id: 3\n",
      "properties {\n",
      "  key: \"component_id\"\n",
      "  value {\n",
      "    string_value: \"CsvExampleGen\"\n",
      "  }\n",
      "}\n",
      "properties {\n",
      "  key: \"custom_config\"\n",
      "  value {\n",
      "    string_value: \"None\"\n",
      "  }\n",
      "}\n",
      "properties {\n",
      "  key: \"input_config\"\n",
      "  value {\n",
      "    string_value: \"{\\n  \\\"splits\\\": [\\n    {\\n      \\\"name\\\": \\\"single_split\\\",\\n      \\\"pattern\\\": \\\"*\\\"\\n    }\\n  ]\\n}\"\n",
      "  }\n",
      "}\n",
      "properties {\n",
      "  key: \"output_config\"\n",
      "  value {\n",
      "    string_value: \"{\\n  \\\"splitConfig\\\": {\\n    \\\"splits\\\": [\\n      {\\n        \\\"hashBuckets\\\": 2,\\n        \\\"name\\\": \\\"train\\\"\\n      },\\n      {\\n        \\\"hashBuckets\\\": 1,\\n        \\\"name\\\": \\\"eval\\\"\\n      }\\n    ]\\n  }\\n}\"\n",
      "  }\n",
      "}\n",
      "properties {\n",
      "  key: \"pipeline_name\"\n",
      "  value {\n",
      "    string_value: \"interactive-2019-08-31T21_40_43.017915\"\n",
      "  }\n",
      "}\n",
      "properties {\n",
      "  key: \"pipeline_root\"\n",
      "  value {\n",
      "    string_value: \"/tmp/tfx-interactive-2019-08-31T21_40_43.017915-r5zd0p45\"\n",
      "  }\n",
      "}\n",
      "properties {\n",
      "  key: \"run_id\"\n",
      "  value {\n",
      "    string_value: \"2019-08-31T21:42:15.289015\"\n",
      "  }\n",
      "}\n",
      "properties {\n",
      "  key: \"state\"\n",
      "  value {\n",
      "    string_value: \"cached\"\n",
      "  }\n",
      "}\n",
      ", with inputs {'input_base': [Artifact(type_name: ExternalPath, uri: /tmp/tfx-datat05a0x3d, split: , id: 1)]} and outputs {'examples': [Artifact(type_name: ExamplesPath, uri: /tmp/tfx-interactive-2019-08-31T21_40_43.017915-r5zd0p45/CsvExampleGen/examples/1/train/, split: train, id: 2), Artifact(type_name: ExamplesPath, uri: /tmp/tfx-interactive-2019-08-31T21_40_43.017915-r5zd0p45/CsvExampleGen/examples/1/eval/, split: eval, id: 3)]}\n"
     ]
    },
    {
     "name": "stdout",
     "output_type": "stream",
     "text": [
      "INFO:tensorflow:Published execution with final outputs {'examples': [Artifact(type_name: ExamplesPath, uri: /tmp/tfx-interactive-2019-08-31T21_40_43.017915-r5zd0p45/CsvExampleGen/examples/1/train/, split: train, id: 2), Artifact(type_name: ExamplesPath, uri: /tmp/tfx-interactive-2019-08-31T21_40_43.017915-r5zd0p45/CsvExampleGen/examples/1/eval/, split: eval, id: 3)]}\n"
     ]
    },
    {
     "name": "stderr",
     "output_type": "stream",
     "text": [
      "INFO:tensorflow:Published execution with final outputs {'examples': [Artifact(type_name: ExamplesPath, uri: /tmp/tfx-interactive-2019-08-31T21_40_43.017915-r5zd0p45/CsvExampleGen/examples/1/train/, split: train, id: 2), Artifact(type_name: ExamplesPath, uri: /tmp/tfx-interactive-2019-08-31T21_40_43.017915-r5zd0p45/CsvExampleGen/examples/1/eval/, split: eval, id: 3)]}\n"
     ]
    },
    {
     "data": {
      "text/html": [
       "<style>\n",
       ".tfx-object.expanded {\n",
       "  padding: 4px 8px 4px 8px;\n",
       "  background: white;\n",
       "  border: 1px solid #bbbbbb;\n",
       "  box-shadow: 4px 4px 2px rgba(0,0,0,0.05);\n",
       "}\n",
       ".tfx-object, .tfx-object * {\n",
       "  font-size: 11pt;\n",
       "}\n",
       ".tfx-object > .title {\n",
       "  cursor: pointer;\n",
       "}\n",
       ".tfx-object .expansion-marker {\n",
       "  color: #999999;\n",
       "}\n",
       ".tfx-object.expanded > .title > .expansion-marker:before {\n",
       "  content: '▼';\n",
       "}\n",
       ".tfx-object.collapsed > .title > .expansion-marker:before {\n",
       "  content: '▶';\n",
       "}\n",
       ".tfx-object .class-name {\n",
       "  font-weight: bold;\n",
       "}\n",
       ".tfx-object .deemphasize {\n",
       "  opacity: 0.5;\n",
       "}\n",
       ".tfx-object.collapsed > table.attr-table {\n",
       "  display: none;\n",
       "}\n",
       ".tfx-object.expanded > table.attr-table {\n",
       "  display: block;\n",
       "}\n",
       ".tfx-object table.attr-table {\n",
       "  border: 2px solid white;\n",
       "  margin-top: 5px;\n",
       "}\n",
       ".tfx-object table.attr-table td.attr-name {\n",
       "  vertical-align: top;\n",
       "  font-weight: bold;\n",
       "}\n",
       ".tfx-object table.attr-table td.attrvalue {\n",
       "  text-align: left;\n",
       "}\n",
       "</style>\n",
       "<script>\n",
       "function toggleTfxObject(element) {\n",
       "  var objElement = element.parentElement;\n",
       "  if (objElement.classList.contains('collapsed')) {\n",
       "    objElement.classList.remove('collapsed');\n",
       "    objElement.classList.add('expanded');\n",
       "  } else {\n",
       "    objElement.classList.add('collapsed');\n",
       "    objElement.classList.remove('expanded');\n",
       "  }\n",
       "}\n",
       "</script>\n",
       "<div class=\"tfx-object expanded\"><div class = \"title\" onclick=\"toggleTfxObject(this)\"><span class=\"expansion-marker\"></span><span class=\"class-name\">ExecutionResult</span><span class=\"deemphasize\"> at 0x7f580dc87048</span></div><table class=\"attr-table\"><tr><td class=\"attr-name\">.execution_id</td><td class = \"attrvalue\">2</td></tr><tr><td class=\"attr-name\">.component</td><td class = \"attrvalue\"><style>\n",
       ".tfx-object.expanded {\n",
       "  padding: 4px 8px 4px 8px;\n",
       "  background: white;\n",
       "  border: 1px solid #bbbbbb;\n",
       "  box-shadow: 4px 4px 2px rgba(0,0,0,0.05);\n",
       "}\n",
       ".tfx-object, .tfx-object * {\n",
       "  font-size: 11pt;\n",
       "}\n",
       ".tfx-object > .title {\n",
       "  cursor: pointer;\n",
       "}\n",
       ".tfx-object .expansion-marker {\n",
       "  color: #999999;\n",
       "}\n",
       ".tfx-object.expanded > .title > .expansion-marker:before {\n",
       "  content: '▼';\n",
       "}\n",
       ".tfx-object.collapsed > .title > .expansion-marker:before {\n",
       "  content: '▶';\n",
       "}\n",
       ".tfx-object .class-name {\n",
       "  font-weight: bold;\n",
       "}\n",
       ".tfx-object .deemphasize {\n",
       "  opacity: 0.5;\n",
       "}\n",
       ".tfx-object.collapsed > table.attr-table {\n",
       "  display: none;\n",
       "}\n",
       ".tfx-object.expanded > table.attr-table {\n",
       "  display: block;\n",
       "}\n",
       ".tfx-object table.attr-table {\n",
       "  border: 2px solid white;\n",
       "  margin-top: 5px;\n",
       "}\n",
       ".tfx-object table.attr-table td.attr-name {\n",
       "  vertical-align: top;\n",
       "  font-weight: bold;\n",
       "}\n",
       ".tfx-object table.attr-table td.attrvalue {\n",
       "  text-align: left;\n",
       "}\n",
       "</style>\n",
       "<script>\n",
       "function toggleTfxObject(element) {\n",
       "  var objElement = element.parentElement;\n",
       "  if (objElement.classList.contains('collapsed')) {\n",
       "    objElement.classList.remove('collapsed');\n",
       "    objElement.classList.add('expanded');\n",
       "  } else {\n",
       "    objElement.classList.add('collapsed');\n",
       "    objElement.classList.remove('expanded');\n",
       "  }\n",
       "}\n",
       "</script>\n",
       "<div class=\"tfx-object collapsed\"><div class = \"title\" onclick=\"toggleTfxObject(this)\"><span class=\"expansion-marker\"></span><span class=\"class-name\">CsvExampleGen</span><span class=\"deemphasize\"> at 0x7f57d69b27f0</span></div><table class=\"attr-table\"><tr><td class=\"attr-name\">.inputs</td><td class = \"attrvalue\"><table class=\"attr-table\"><tr><td class=\"attr-name\">['input_base']</td><td class = \"attrvalue\"><style>\n",
       ".tfx-object.expanded {\n",
       "  padding: 4px 8px 4px 8px;\n",
       "  background: white;\n",
       "  border: 1px solid #bbbbbb;\n",
       "  box-shadow: 4px 4px 2px rgba(0,0,0,0.05);\n",
       "}\n",
       ".tfx-object, .tfx-object * {\n",
       "  font-size: 11pt;\n",
       "}\n",
       ".tfx-object > .title {\n",
       "  cursor: pointer;\n",
       "}\n",
       ".tfx-object .expansion-marker {\n",
       "  color: #999999;\n",
       "}\n",
       ".tfx-object.expanded > .title > .expansion-marker:before {\n",
       "  content: '▼';\n",
       "}\n",
       ".tfx-object.collapsed > .title > .expansion-marker:before {\n",
       "  content: '▶';\n",
       "}\n",
       ".tfx-object .class-name {\n",
       "  font-weight: bold;\n",
       "}\n",
       ".tfx-object .deemphasize {\n",
       "  opacity: 0.5;\n",
       "}\n",
       ".tfx-object.collapsed > table.attr-table {\n",
       "  display: none;\n",
       "}\n",
       ".tfx-object.expanded > table.attr-table {\n",
       "  display: block;\n",
       "}\n",
       ".tfx-object table.attr-table {\n",
       "  border: 2px solid white;\n",
       "  margin-top: 5px;\n",
       "}\n",
       ".tfx-object table.attr-table td.attr-name {\n",
       "  vertical-align: top;\n",
       "  font-weight: bold;\n",
       "}\n",
       ".tfx-object table.attr-table td.attrvalue {\n",
       "  text-align: left;\n",
       "}\n",
       "</style>\n",
       "<script>\n",
       "function toggleTfxObject(element) {\n",
       "  var objElement = element.parentElement;\n",
       "  if (objElement.classList.contains('collapsed')) {\n",
       "    objElement.classList.remove('collapsed');\n",
       "    objElement.classList.add('expanded');\n",
       "  } else {\n",
       "    objElement.classList.add('collapsed');\n",
       "    objElement.classList.remove('expanded');\n",
       "  }\n",
       "}\n",
       "</script>\n",
       "<div class=\"tfx-object collapsed\"><div class = \"title\" onclick=\"toggleTfxObject(this)\"><span class=\"expansion-marker\"></span><span class=\"class-name\">Channel</span> of type <span class=\"class-name\">'ExternalPath'</span> (1 artifact)<span class=\"deemphasize\"> at 0x7f57d69b2518</span></div><table class=\"attr-table\"><tr><td class=\"attr-name\">.type_name</td><td class = \"attrvalue\">ExternalPath</td></tr><tr><td class=\"attr-name\">._artifacts</td><td class = \"attrvalue\"><table class=\"attr-table\"><tr><td class=\"attr-name\">[0]</td><td class = \"attrvalue\"><style>\n",
       ".tfx-object.expanded {\n",
       "  padding: 4px 8px 4px 8px;\n",
       "  background: white;\n",
       "  border: 1px solid #bbbbbb;\n",
       "  box-shadow: 4px 4px 2px rgba(0,0,0,0.05);\n",
       "}\n",
       ".tfx-object, .tfx-object * {\n",
       "  font-size: 11pt;\n",
       "}\n",
       ".tfx-object > .title {\n",
       "  cursor: pointer;\n",
       "}\n",
       ".tfx-object .expansion-marker {\n",
       "  color: #999999;\n",
       "}\n",
       ".tfx-object.expanded > .title > .expansion-marker:before {\n",
       "  content: '▼';\n",
       "}\n",
       ".tfx-object.collapsed > .title > .expansion-marker:before {\n",
       "  content: '▶';\n",
       "}\n",
       ".tfx-object .class-name {\n",
       "  font-weight: bold;\n",
       "}\n",
       ".tfx-object .deemphasize {\n",
       "  opacity: 0.5;\n",
       "}\n",
       ".tfx-object.collapsed > table.attr-table {\n",
       "  display: none;\n",
       "}\n",
       ".tfx-object.expanded > table.attr-table {\n",
       "  display: block;\n",
       "}\n",
       ".tfx-object table.attr-table {\n",
       "  border: 2px solid white;\n",
       "  margin-top: 5px;\n",
       "}\n",
       ".tfx-object table.attr-table td.attr-name {\n",
       "  vertical-align: top;\n",
       "  font-weight: bold;\n",
       "}\n",
       ".tfx-object table.attr-table td.attrvalue {\n",
       "  text-align: left;\n",
       "}\n",
       "</style>\n",
       "<script>\n",
       "function toggleTfxObject(element) {\n",
       "  var objElement = element.parentElement;\n",
       "  if (objElement.classList.contains('collapsed')) {\n",
       "    objElement.classList.remove('collapsed');\n",
       "    objElement.classList.add('expanded');\n",
       "  } else {\n",
       "    objElement.classList.add('collapsed');\n",
       "    objElement.classList.remove('expanded');\n",
       "  }\n",
       "}\n",
       "</script>\n",
       "<div class=\"tfx-object collapsed\"><div class = \"title\" onclick=\"toggleTfxObject(this)\"><span class=\"expansion-marker\"></span><span class=\"class-name\">Artifact</span> of type <span class=\"class-name\">'ExternalPath'</span> (uri: /tmp/tfx-datat05a0x3d)<span class=\"deemphasize\"> at 0x7f57d69b27b8</span></div><table class=\"attr-table\"><tr><td class=\"attr-name\">.type_name</td><td class = \"attrvalue\">ExternalPath</td></tr><tr><td class=\"attr-name\">.uri</td><td class = \"attrvalue\">/tmp/tfx-datat05a0x3d</td></tr><tr><td class=\"attr-name\">.span</td><td class = \"attrvalue\">0</td></tr><tr><td class=\"attr-name\">.split</td><td class = \"attrvalue\"></td></tr></table></div></td></tr></table></td></tr></table></div></td></tr></table></td></tr><tr><td class=\"attr-name\">.outputs</td><td class = \"attrvalue\"><table class=\"attr-table\"><tr><td class=\"attr-name\">['examples']</td><td class = \"attrvalue\"><style>\n",
       ".tfx-object.expanded {\n",
       "  padding: 4px 8px 4px 8px;\n",
       "  background: white;\n",
       "  border: 1px solid #bbbbbb;\n",
       "  box-shadow: 4px 4px 2px rgba(0,0,0,0.05);\n",
       "}\n",
       ".tfx-object, .tfx-object * {\n",
       "  font-size: 11pt;\n",
       "}\n",
       ".tfx-object > .title {\n",
       "  cursor: pointer;\n",
       "}\n",
       ".tfx-object .expansion-marker {\n",
       "  color: #999999;\n",
       "}\n",
       ".tfx-object.expanded > .title > .expansion-marker:before {\n",
       "  content: '▼';\n",
       "}\n",
       ".tfx-object.collapsed > .title > .expansion-marker:before {\n",
       "  content: '▶';\n",
       "}\n",
       ".tfx-object .class-name {\n",
       "  font-weight: bold;\n",
       "}\n",
       ".tfx-object .deemphasize {\n",
       "  opacity: 0.5;\n",
       "}\n",
       ".tfx-object.collapsed > table.attr-table {\n",
       "  display: none;\n",
       "}\n",
       ".tfx-object.expanded > table.attr-table {\n",
       "  display: block;\n",
       "}\n",
       ".tfx-object table.attr-table {\n",
       "  border: 2px solid white;\n",
       "  margin-top: 5px;\n",
       "}\n",
       ".tfx-object table.attr-table td.attr-name {\n",
       "  vertical-align: top;\n",
       "  font-weight: bold;\n",
       "}\n",
       ".tfx-object table.attr-table td.attrvalue {\n",
       "  text-align: left;\n",
       "}\n",
       "</style>\n",
       "<script>\n",
       "function toggleTfxObject(element) {\n",
       "  var objElement = element.parentElement;\n",
       "  if (objElement.classList.contains('collapsed')) {\n",
       "    objElement.classList.remove('collapsed');\n",
       "    objElement.classList.add('expanded');\n",
       "  } else {\n",
       "    objElement.classList.add('collapsed');\n",
       "    objElement.classList.remove('expanded');\n",
       "  }\n",
       "}\n",
       "</script>\n",
       "<div class=\"tfx-object collapsed\"><div class = \"title\" onclick=\"toggleTfxObject(this)\"><span class=\"expansion-marker\"></span><span class=\"class-name\">Channel</span> of type <span class=\"class-name\">'ExamplesPath'</span> (2 artifacts)<span class=\"deemphasize\"> at 0x7f57d69b2278</span></div><table class=\"attr-table\"><tr><td class=\"attr-name\">.type_name</td><td class = \"attrvalue\">ExamplesPath</td></tr><tr><td class=\"attr-name\">._artifacts</td><td class = \"attrvalue\"><table class=\"attr-table\"><tr><td class=\"attr-name\">[0]</td><td class = \"attrvalue\"><style>\n",
       ".tfx-object.expanded {\n",
       "  padding: 4px 8px 4px 8px;\n",
       "  background: white;\n",
       "  border: 1px solid #bbbbbb;\n",
       "  box-shadow: 4px 4px 2px rgba(0,0,0,0.05);\n",
       "}\n",
       ".tfx-object, .tfx-object * {\n",
       "  font-size: 11pt;\n",
       "}\n",
       ".tfx-object > .title {\n",
       "  cursor: pointer;\n",
       "}\n",
       ".tfx-object .expansion-marker {\n",
       "  color: #999999;\n",
       "}\n",
       ".tfx-object.expanded > .title > .expansion-marker:before {\n",
       "  content: '▼';\n",
       "}\n",
       ".tfx-object.collapsed > .title > .expansion-marker:before {\n",
       "  content: '▶';\n",
       "}\n",
       ".tfx-object .class-name {\n",
       "  font-weight: bold;\n",
       "}\n",
       ".tfx-object .deemphasize {\n",
       "  opacity: 0.5;\n",
       "}\n",
       ".tfx-object.collapsed > table.attr-table {\n",
       "  display: none;\n",
       "}\n",
       ".tfx-object.expanded > table.attr-table {\n",
       "  display: block;\n",
       "}\n",
       ".tfx-object table.attr-table {\n",
       "  border: 2px solid white;\n",
       "  margin-top: 5px;\n",
       "}\n",
       ".tfx-object table.attr-table td.attr-name {\n",
       "  vertical-align: top;\n",
       "  font-weight: bold;\n",
       "}\n",
       ".tfx-object table.attr-table td.attrvalue {\n",
       "  text-align: left;\n",
       "}\n",
       "</style>\n",
       "<script>\n",
       "function toggleTfxObject(element) {\n",
       "  var objElement = element.parentElement;\n",
       "  if (objElement.classList.contains('collapsed')) {\n",
       "    objElement.classList.remove('collapsed');\n",
       "    objElement.classList.add('expanded');\n",
       "  } else {\n",
       "    objElement.classList.add('collapsed');\n",
       "    objElement.classList.remove('expanded');\n",
       "  }\n",
       "}\n",
       "</script>\n",
       "<div class=\"tfx-object collapsed\"><div class = \"title\" onclick=\"toggleTfxObject(this)\"><span class=\"expansion-marker\"></span><span class=\"class-name\">Artifact</span> of type <span class=\"class-name\">'ExamplesPath'</span> (uri: /tmp/tfx-interactive-2019-08-31T21_40_43.017915-r5zd0p45/CsvExampleGen/examples/1/train/)<span class=\"deemphasize\"> at 0x7f57d69b2ba8</span></div><table class=\"attr-table\"><tr><td class=\"attr-name\">.type_name</td><td class = \"attrvalue\">ExamplesPath</td></tr><tr><td class=\"attr-name\">.uri</td><td class = \"attrvalue\">/tmp/tfx-interactive-2019-08-31T21_40_43.017915-r5zd0p45/CsvExampleGen/examples/1/train/</td></tr><tr><td class=\"attr-name\">.span</td><td class = \"attrvalue\">0</td></tr><tr><td class=\"attr-name\">.split</td><td class = \"attrvalue\">train</td></tr></table></div></td></tr><tr><td class=\"attr-name\">[1]</td><td class = \"attrvalue\"><style>\n",
       ".tfx-object.expanded {\n",
       "  padding: 4px 8px 4px 8px;\n",
       "  background: white;\n",
       "  border: 1px solid #bbbbbb;\n",
       "  box-shadow: 4px 4px 2px rgba(0,0,0,0.05);\n",
       "}\n",
       ".tfx-object, .tfx-object * {\n",
       "  font-size: 11pt;\n",
       "}\n",
       ".tfx-object > .title {\n",
       "  cursor: pointer;\n",
       "}\n",
       ".tfx-object .expansion-marker {\n",
       "  color: #999999;\n",
       "}\n",
       ".tfx-object.expanded > .title > .expansion-marker:before {\n",
       "  content: '▼';\n",
       "}\n",
       ".tfx-object.collapsed > .title > .expansion-marker:before {\n",
       "  content: '▶';\n",
       "}\n",
       ".tfx-object .class-name {\n",
       "  font-weight: bold;\n",
       "}\n",
       ".tfx-object .deemphasize {\n",
       "  opacity: 0.5;\n",
       "}\n",
       ".tfx-object.collapsed > table.attr-table {\n",
       "  display: none;\n",
       "}\n",
       ".tfx-object.expanded > table.attr-table {\n",
       "  display: block;\n",
       "}\n",
       ".tfx-object table.attr-table {\n",
       "  border: 2px solid white;\n",
       "  margin-top: 5px;\n",
       "}\n",
       ".tfx-object table.attr-table td.attr-name {\n",
       "  vertical-align: top;\n",
       "  font-weight: bold;\n",
       "}\n",
       ".tfx-object table.attr-table td.attrvalue {\n",
       "  text-align: left;\n",
       "}\n",
       "</style>\n",
       "<script>\n",
       "function toggleTfxObject(element) {\n",
       "  var objElement = element.parentElement;\n",
       "  if (objElement.classList.contains('collapsed')) {\n",
       "    objElement.classList.remove('collapsed');\n",
       "    objElement.classList.add('expanded');\n",
       "  } else {\n",
       "    objElement.classList.add('collapsed');\n",
       "    objElement.classList.remove('expanded');\n",
       "  }\n",
       "}\n",
       "</script>\n",
       "<div class=\"tfx-object collapsed\"><div class = \"title\" onclick=\"toggleTfxObject(this)\"><span class=\"expansion-marker\"></span><span class=\"class-name\">Artifact</span> of type <span class=\"class-name\">'ExamplesPath'</span> (uri: /tmp/tfx-interactive-2019-08-31T21_40_43.017915-r5zd0p45/CsvExampleGen/examples/1/eval/)<span class=\"deemphasize\"> at 0x7f57d6a0dac8</span></div><table class=\"attr-table\"><tr><td class=\"attr-name\">.type_name</td><td class = \"attrvalue\">ExamplesPath</td></tr><tr><td class=\"attr-name\">.uri</td><td class = \"attrvalue\">/tmp/tfx-interactive-2019-08-31T21_40_43.017915-r5zd0p45/CsvExampleGen/examples/1/eval/</td></tr><tr><td class=\"attr-name\">.span</td><td class = \"attrvalue\">0</td></tr><tr><td class=\"attr-name\">.split</td><td class = \"attrvalue\">eval</td></tr></table></div></td></tr></table></td></tr></table></div></td></tr></table></td></tr><tr><td class=\"attr-name\">.exec_properties</td><td class = \"attrvalue\"><table class=\"attr-table\"><tr><td class=\"attr-name\">['input_config']</td><td class = \"attrvalue\">{\n",
       "  \"splits\": [\n",
       "    {\n",
       "      \"name\": \"single_split\",\n",
       "      \"pattern\": \"*\"\n",
       "    }\n",
       "  ]\n",
       "}</td></tr><tr><td class=\"attr-name\">['output_config']</td><td class = \"attrvalue\">{\n",
       "  \"splitConfig\": {\n",
       "    \"splits\": [\n",
       "      {\n",
       "        \"hashBuckets\": 2,\n",
       "        \"name\": \"train\"\n",
       "      },\n",
       "      {\n",
       "        \"hashBuckets\": 1,\n",
       "        \"name\": \"eval\"\n",
       "      }\n",
       "    ]\n",
       "  }\n",
       "}</td></tr><tr><td class=\"attr-name\">['custom_config']</td><td class = \"attrvalue\">None</td></tr></table></td></tr></table></div></td></tr><tr><td class=\"attr-name\">.component.inputs</td><td class = \"attrvalue\"><table class=\"attr-table\"><tr><td class=\"attr-name\">['input_base']</td><td class = \"attrvalue\"><style>\n",
       ".tfx-object.expanded {\n",
       "  padding: 4px 8px 4px 8px;\n",
       "  background: white;\n",
       "  border: 1px solid #bbbbbb;\n",
       "  box-shadow: 4px 4px 2px rgba(0,0,0,0.05);\n",
       "}\n",
       ".tfx-object, .tfx-object * {\n",
       "  font-size: 11pt;\n",
       "}\n",
       ".tfx-object > .title {\n",
       "  cursor: pointer;\n",
       "}\n",
       ".tfx-object .expansion-marker {\n",
       "  color: #999999;\n",
       "}\n",
       ".tfx-object.expanded > .title > .expansion-marker:before {\n",
       "  content: '▼';\n",
       "}\n",
       ".tfx-object.collapsed > .title > .expansion-marker:before {\n",
       "  content: '▶';\n",
       "}\n",
       ".tfx-object .class-name {\n",
       "  font-weight: bold;\n",
       "}\n",
       ".tfx-object .deemphasize {\n",
       "  opacity: 0.5;\n",
       "}\n",
       ".tfx-object.collapsed > table.attr-table {\n",
       "  display: none;\n",
       "}\n",
       ".tfx-object.expanded > table.attr-table {\n",
       "  display: block;\n",
       "}\n",
       ".tfx-object table.attr-table {\n",
       "  border: 2px solid white;\n",
       "  margin-top: 5px;\n",
       "}\n",
       ".tfx-object table.attr-table td.attr-name {\n",
       "  vertical-align: top;\n",
       "  font-weight: bold;\n",
       "}\n",
       ".tfx-object table.attr-table td.attrvalue {\n",
       "  text-align: left;\n",
       "}\n",
       "</style>\n",
       "<script>\n",
       "function toggleTfxObject(element) {\n",
       "  var objElement = element.parentElement;\n",
       "  if (objElement.classList.contains('collapsed')) {\n",
       "    objElement.classList.remove('collapsed');\n",
       "    objElement.classList.add('expanded');\n",
       "  } else {\n",
       "    objElement.classList.add('collapsed');\n",
       "    objElement.classList.remove('expanded');\n",
       "  }\n",
       "}\n",
       "</script>\n",
       "<div class=\"tfx-object collapsed\"><div class = \"title\" onclick=\"toggleTfxObject(this)\"><span class=\"expansion-marker\"></span><span class=\"class-name\">Channel</span> of type <span class=\"class-name\">'ExternalPath'</span> (1 artifact)<span class=\"deemphasize\"> at 0x7f57d69b2518</span></div><table class=\"attr-table\"><tr><td class=\"attr-name\">.type_name</td><td class = \"attrvalue\">ExternalPath</td></tr><tr><td class=\"attr-name\">._artifacts</td><td class = \"attrvalue\"><table class=\"attr-table\"><tr><td class=\"attr-name\">[0]</td><td class = \"attrvalue\"><style>\n",
       ".tfx-object.expanded {\n",
       "  padding: 4px 8px 4px 8px;\n",
       "  background: white;\n",
       "  border: 1px solid #bbbbbb;\n",
       "  box-shadow: 4px 4px 2px rgba(0,0,0,0.05);\n",
       "}\n",
       ".tfx-object, .tfx-object * {\n",
       "  font-size: 11pt;\n",
       "}\n",
       ".tfx-object > .title {\n",
       "  cursor: pointer;\n",
       "}\n",
       ".tfx-object .expansion-marker {\n",
       "  color: #999999;\n",
       "}\n",
       ".tfx-object.expanded > .title > .expansion-marker:before {\n",
       "  content: '▼';\n",
       "}\n",
       ".tfx-object.collapsed > .title > .expansion-marker:before {\n",
       "  content: '▶';\n",
       "}\n",
       ".tfx-object .class-name {\n",
       "  font-weight: bold;\n",
       "}\n",
       ".tfx-object .deemphasize {\n",
       "  opacity: 0.5;\n",
       "}\n",
       ".tfx-object.collapsed > table.attr-table {\n",
       "  display: none;\n",
       "}\n",
       ".tfx-object.expanded > table.attr-table {\n",
       "  display: block;\n",
       "}\n",
       ".tfx-object table.attr-table {\n",
       "  border: 2px solid white;\n",
       "  margin-top: 5px;\n",
       "}\n",
       ".tfx-object table.attr-table td.attr-name {\n",
       "  vertical-align: top;\n",
       "  font-weight: bold;\n",
       "}\n",
       ".tfx-object table.attr-table td.attrvalue {\n",
       "  text-align: left;\n",
       "}\n",
       "</style>\n",
       "<script>\n",
       "function toggleTfxObject(element) {\n",
       "  var objElement = element.parentElement;\n",
       "  if (objElement.classList.contains('collapsed')) {\n",
       "    objElement.classList.remove('collapsed');\n",
       "    objElement.classList.add('expanded');\n",
       "  } else {\n",
       "    objElement.classList.add('collapsed');\n",
       "    objElement.classList.remove('expanded');\n",
       "  }\n",
       "}\n",
       "</script>\n",
       "<div class=\"tfx-object collapsed\"><div class = \"title\" onclick=\"toggleTfxObject(this)\"><span class=\"expansion-marker\"></span><span class=\"class-name\">Artifact</span> of type <span class=\"class-name\">'ExternalPath'</span> (uri: /tmp/tfx-datat05a0x3d)<span class=\"deemphasize\"> at 0x7f57d69b27b8</span></div><table class=\"attr-table\"><tr><td class=\"attr-name\">.type_name</td><td class = \"attrvalue\">ExternalPath</td></tr><tr><td class=\"attr-name\">.uri</td><td class = \"attrvalue\">/tmp/tfx-datat05a0x3d</td></tr><tr><td class=\"attr-name\">.span</td><td class = \"attrvalue\">0</td></tr><tr><td class=\"attr-name\">.split</td><td class = \"attrvalue\"></td></tr></table></div></td></tr></table></td></tr></table></div></td></tr></table></td></tr><tr><td class=\"attr-name\">.component.outputs</td><td class = \"attrvalue\"><table class=\"attr-table\"><tr><td class=\"attr-name\">['examples']</td><td class = \"attrvalue\"><style>\n",
       ".tfx-object.expanded {\n",
       "  padding: 4px 8px 4px 8px;\n",
       "  background: white;\n",
       "  border: 1px solid #bbbbbb;\n",
       "  box-shadow: 4px 4px 2px rgba(0,0,0,0.05);\n",
       "}\n",
       ".tfx-object, .tfx-object * {\n",
       "  font-size: 11pt;\n",
       "}\n",
       ".tfx-object > .title {\n",
       "  cursor: pointer;\n",
       "}\n",
       ".tfx-object .expansion-marker {\n",
       "  color: #999999;\n",
       "}\n",
       ".tfx-object.expanded > .title > .expansion-marker:before {\n",
       "  content: '▼';\n",
       "}\n",
       ".tfx-object.collapsed > .title > .expansion-marker:before {\n",
       "  content: '▶';\n",
       "}\n",
       ".tfx-object .class-name {\n",
       "  font-weight: bold;\n",
       "}\n",
       ".tfx-object .deemphasize {\n",
       "  opacity: 0.5;\n",
       "}\n",
       ".tfx-object.collapsed > table.attr-table {\n",
       "  display: none;\n",
       "}\n",
       ".tfx-object.expanded > table.attr-table {\n",
       "  display: block;\n",
       "}\n",
       ".tfx-object table.attr-table {\n",
       "  border: 2px solid white;\n",
       "  margin-top: 5px;\n",
       "}\n",
       ".tfx-object table.attr-table td.attr-name {\n",
       "  vertical-align: top;\n",
       "  font-weight: bold;\n",
       "}\n",
       ".tfx-object table.attr-table td.attrvalue {\n",
       "  text-align: left;\n",
       "}\n",
       "</style>\n",
       "<script>\n",
       "function toggleTfxObject(element) {\n",
       "  var objElement = element.parentElement;\n",
       "  if (objElement.classList.contains('collapsed')) {\n",
       "    objElement.classList.remove('collapsed');\n",
       "    objElement.classList.add('expanded');\n",
       "  } else {\n",
       "    objElement.classList.add('collapsed');\n",
       "    objElement.classList.remove('expanded');\n",
       "  }\n",
       "}\n",
       "</script>\n",
       "<div class=\"tfx-object collapsed\"><div class = \"title\" onclick=\"toggleTfxObject(this)\"><span class=\"expansion-marker\"></span><span class=\"class-name\">Channel</span> of type <span class=\"class-name\">'ExamplesPath'</span> (2 artifacts)<span class=\"deemphasize\"> at 0x7f57d69b2278</span></div><table class=\"attr-table\"><tr><td class=\"attr-name\">.type_name</td><td class = \"attrvalue\">ExamplesPath</td></tr><tr><td class=\"attr-name\">._artifacts</td><td class = \"attrvalue\"><table class=\"attr-table\"><tr><td class=\"attr-name\">[0]</td><td class = \"attrvalue\"><style>\n",
       ".tfx-object.expanded {\n",
       "  padding: 4px 8px 4px 8px;\n",
       "  background: white;\n",
       "  border: 1px solid #bbbbbb;\n",
       "  box-shadow: 4px 4px 2px rgba(0,0,0,0.05);\n",
       "}\n",
       ".tfx-object, .tfx-object * {\n",
       "  font-size: 11pt;\n",
       "}\n",
       ".tfx-object > .title {\n",
       "  cursor: pointer;\n",
       "}\n",
       ".tfx-object .expansion-marker {\n",
       "  color: #999999;\n",
       "}\n",
       ".tfx-object.expanded > .title > .expansion-marker:before {\n",
       "  content: '▼';\n",
       "}\n",
       ".tfx-object.collapsed > .title > .expansion-marker:before {\n",
       "  content: '▶';\n",
       "}\n",
       ".tfx-object .class-name {\n",
       "  font-weight: bold;\n",
       "}\n",
       ".tfx-object .deemphasize {\n",
       "  opacity: 0.5;\n",
       "}\n",
       ".tfx-object.collapsed > table.attr-table {\n",
       "  display: none;\n",
       "}\n",
       ".tfx-object.expanded > table.attr-table {\n",
       "  display: block;\n",
       "}\n",
       ".tfx-object table.attr-table {\n",
       "  border: 2px solid white;\n",
       "  margin-top: 5px;\n",
       "}\n",
       ".tfx-object table.attr-table td.attr-name {\n",
       "  vertical-align: top;\n",
       "  font-weight: bold;\n",
       "}\n",
       ".tfx-object table.attr-table td.attrvalue {\n",
       "  text-align: left;\n",
       "}\n",
       "</style>\n",
       "<script>\n",
       "function toggleTfxObject(element) {\n",
       "  var objElement = element.parentElement;\n",
       "  if (objElement.classList.contains('collapsed')) {\n",
       "    objElement.classList.remove('collapsed');\n",
       "    objElement.classList.add('expanded');\n",
       "  } else {\n",
       "    objElement.classList.add('collapsed');\n",
       "    objElement.classList.remove('expanded');\n",
       "  }\n",
       "}\n",
       "</script>\n",
       "<div class=\"tfx-object collapsed\"><div class = \"title\" onclick=\"toggleTfxObject(this)\"><span class=\"expansion-marker\"></span><span class=\"class-name\">Artifact</span> of type <span class=\"class-name\">'ExamplesPath'</span> (uri: /tmp/tfx-interactive-2019-08-31T21_40_43.017915-r5zd0p45/CsvExampleGen/examples/1/train/)<span class=\"deemphasize\"> at 0x7f57d69b2ba8</span></div><table class=\"attr-table\"><tr><td class=\"attr-name\">.type_name</td><td class = \"attrvalue\">ExamplesPath</td></tr><tr><td class=\"attr-name\">.uri</td><td class = \"attrvalue\">/tmp/tfx-interactive-2019-08-31T21_40_43.017915-r5zd0p45/CsvExampleGen/examples/1/train/</td></tr><tr><td class=\"attr-name\">.span</td><td class = \"attrvalue\">0</td></tr><tr><td class=\"attr-name\">.split</td><td class = \"attrvalue\">train</td></tr></table></div></td></tr><tr><td class=\"attr-name\">[1]</td><td class = \"attrvalue\"><style>\n",
       ".tfx-object.expanded {\n",
       "  padding: 4px 8px 4px 8px;\n",
       "  background: white;\n",
       "  border: 1px solid #bbbbbb;\n",
       "  box-shadow: 4px 4px 2px rgba(0,0,0,0.05);\n",
       "}\n",
       ".tfx-object, .tfx-object * {\n",
       "  font-size: 11pt;\n",
       "}\n",
       ".tfx-object > .title {\n",
       "  cursor: pointer;\n",
       "}\n",
       ".tfx-object .expansion-marker {\n",
       "  color: #999999;\n",
       "}\n",
       ".tfx-object.expanded > .title > .expansion-marker:before {\n",
       "  content: '▼';\n",
       "}\n",
       ".tfx-object.collapsed > .title > .expansion-marker:before {\n",
       "  content: '▶';\n",
       "}\n",
       ".tfx-object .class-name {\n",
       "  font-weight: bold;\n",
       "}\n",
       ".tfx-object .deemphasize {\n",
       "  opacity: 0.5;\n",
       "}\n",
       ".tfx-object.collapsed > table.attr-table {\n",
       "  display: none;\n",
       "}\n",
       ".tfx-object.expanded > table.attr-table {\n",
       "  display: block;\n",
       "}\n",
       ".tfx-object table.attr-table {\n",
       "  border: 2px solid white;\n",
       "  margin-top: 5px;\n",
       "}\n",
       ".tfx-object table.attr-table td.attr-name {\n",
       "  vertical-align: top;\n",
       "  font-weight: bold;\n",
       "}\n",
       ".tfx-object table.attr-table td.attrvalue {\n",
       "  text-align: left;\n",
       "}\n",
       "</style>\n",
       "<script>\n",
       "function toggleTfxObject(element) {\n",
       "  var objElement = element.parentElement;\n",
       "  if (objElement.classList.contains('collapsed')) {\n",
       "    objElement.classList.remove('collapsed');\n",
       "    objElement.classList.add('expanded');\n",
       "  } else {\n",
       "    objElement.classList.add('collapsed');\n",
       "    objElement.classList.remove('expanded');\n",
       "  }\n",
       "}\n",
       "</script>\n",
       "<div class=\"tfx-object collapsed\"><div class = \"title\" onclick=\"toggleTfxObject(this)\"><span class=\"expansion-marker\"></span><span class=\"class-name\">Artifact</span> of type <span class=\"class-name\">'ExamplesPath'</span> (uri: /tmp/tfx-interactive-2019-08-31T21_40_43.017915-r5zd0p45/CsvExampleGen/examples/1/eval/)<span class=\"deemphasize\"> at 0x7f57d6a0dac8</span></div><table class=\"attr-table\"><tr><td class=\"attr-name\">.type_name</td><td class = \"attrvalue\">ExamplesPath</td></tr><tr><td class=\"attr-name\">.uri</td><td class = \"attrvalue\">/tmp/tfx-interactive-2019-08-31T21_40_43.017915-r5zd0p45/CsvExampleGen/examples/1/eval/</td></tr><tr><td class=\"attr-name\">.span</td><td class = \"attrvalue\">0</td></tr><tr><td class=\"attr-name\">.split</td><td class = \"attrvalue\">eval</td></tr></table></div></td></tr></table></td></tr></table></div></td></tr></table></td></tr></table></div>"
      ],
      "text/plain": [
       "ExecutionResult(\n",
       "    component_id: CsvExampleGen\n",
       "    execution_id: 2\n",
       "    outputs:\n",
       "        examples: Channel(\n",
       "            type_name: ExamplesPath\n",
       "            artifacts: [Artifact(type_name: ExamplesPath, uri: /tmp/tfx-interactive-2019-08-31T21_40_43.017915-r5zd0p45/CsvExampleGen/examples/1/train/, split: train, id: 2)\n",
       "            Artifact(type_name: ExamplesPath, uri: /tmp/tfx-interactive-2019-08-31T21_40_43.017915-r5zd0p45/CsvExampleGen/examples/1/eval/, split: eval, id: 3)]\n",
       "        ))"
      ]
     },
     "execution_count": 6,
     "metadata": {},
     "output_type": "execute_result"
    }
   ],
   "source": [
    "# Use the packaged CSV input data.\n",
    "examples = csv_input(_data_root)\n",
    "\n",
    "# Brings data into the pipeline or otherwise joins/converts training data.\n",
    "example_gen = CsvExampleGen(input_base=examples)\n",
    "context.run(example_gen)"
   ]
  },
  {
   "cell_type": "markdown",
   "metadata": {
    "colab_type": "text",
    "id": "csM6BFhtk5Aa"
   },
   "source": [
    "### StatisticsGen (using Tensorflow Data Validation)\n",
    "`StatisticsGen` computes statistics for visualization and example validation. This uses the [Tensorflow Data Validation](https://www.tensorflow.org/tfx/data_validation/get_started) library."
   ]
  },
  {
   "cell_type": "markdown",
   "metadata": {
    "colab_type": "text",
    "id": "W0tl75TMW3DR"
   },
   "source": [
    "#### Run TFDV statistics computation using the StatisticsGen component"
   ]
  },
  {
   "cell_type": "code",
   "execution_count": 7,
   "metadata": {
    "colab": {},
    "colab_type": "code",
    "id": "MAscCCYWgA-9"
   },
   "outputs": [
    {
     "name": "stdout",
     "output_type": "stream",
     "text": [
      "INFO:tensorflow:Run driver for StatisticsGen\n"
     ]
    },
    {
     "name": "stderr",
     "output_type": "stream",
     "text": [
      "INFO:tensorflow:Run driver for StatisticsGen\n"
     ]
    },
    {
     "name": "stdout",
     "output_type": "stream",
     "text": [
      "INFO:tensorflow:Created run context interactive-2019-08-31T21_40_43.017915.2019-08-31T21:42:26.202498.\n"
     ]
    },
    {
     "name": "stderr",
     "output_type": "stream",
     "text": [
      "INFO:tensorflow:Created run context interactive-2019-08-31T21_40_43.017915.2019-08-31T21:42:26.202498.\n"
     ]
    },
    {
     "name": "stdout",
     "output_type": "stream",
     "text": [
      "INFO:tensorflow:ID of run context interactive-2019-08-31T21_40_43.017915.2019-08-31T21:42:26.202498 is 3.\n"
     ]
    },
    {
     "name": "stderr",
     "output_type": "stream",
     "text": [
      "INFO:tensorflow:ID of run context interactive-2019-08-31T21_40_43.017915.2019-08-31T21:42:26.202498 is 3.\n"
     ]
    },
    {
     "name": "stdout",
     "output_type": "stream",
     "text": [
      "INFO:tensorflow:Resolved input artifacts are: {'input_data': [Artifact(type_name: ExamplesPath, uri: /tmp/tfx-interactive-2019-08-31T21_40_43.017915-r5zd0p45/CsvExampleGen/examples/1/train/, split: train, id: 2), Artifact(type_name: ExamplesPath, uri: /tmp/tfx-interactive-2019-08-31T21_40_43.017915-r5zd0p45/CsvExampleGen/examples/1/eval/, split: eval, id: 3)]}\n"
     ]
    },
    {
     "name": "stderr",
     "output_type": "stream",
     "text": [
      "INFO:tensorflow:Resolved input artifacts are: {'input_data': [Artifact(type_name: ExamplesPath, uri: /tmp/tfx-interactive-2019-08-31T21_40_43.017915-r5zd0p45/CsvExampleGen/examples/1/train/, split: train, id: 2), Artifact(type_name: ExamplesPath, uri: /tmp/tfx-interactive-2019-08-31T21_40_43.017915-r5zd0p45/CsvExampleGen/examples/1/eval/, split: eval, id: 3)]}\n"
     ]
    },
    {
     "name": "stdout",
     "output_type": "stream",
     "text": [
      "INFO:tensorflow:Prepared EXECUTION:\n",
      " type_id: 5\n",
      "properties {\n",
      "  key: \"component_id\"\n",
      "  value {\n",
      "    string_value: \"StatisticsGen\"\n",
      "  }\n",
      "}\n",
      "properties {\n",
      "  key: \"pipeline_name\"\n",
      "  value {\n",
      "    string_value: \"interactive-2019-08-31T21_40_43.017915\"\n",
      "  }\n",
      "}\n",
      "properties {\n",
      "  key: \"pipeline_root\"\n",
      "  value {\n",
      "    string_value: \"/tmp/tfx-interactive-2019-08-31T21_40_43.017915-r5zd0p45\"\n",
      "  }\n",
      "}\n",
      "properties {\n",
      "  key: \"run_id\"\n",
      "  value {\n",
      "    string_value: \"2019-08-31T21:42:26.202498\"\n",
      "  }\n",
      "}\n",
      "properties {\n",
      "  key: \"state\"\n",
      "  value {\n",
      "    string_value: \"new\"\n",
      "  }\n",
      "}\n",
      "\n"
     ]
    },
    {
     "name": "stderr",
     "output_type": "stream",
     "text": [
      "INFO:tensorflow:Prepared EXECUTION:\n",
      " type_id: 5\n",
      "properties {\n",
      "  key: \"component_id\"\n",
      "  value {\n",
      "    string_value: \"StatisticsGen\"\n",
      "  }\n",
      "}\n",
      "properties {\n",
      "  key: \"pipeline_name\"\n",
      "  value {\n",
      "    string_value: \"interactive-2019-08-31T21_40_43.017915\"\n",
      "  }\n",
      "}\n",
      "properties {\n",
      "  key: \"pipeline_root\"\n",
      "  value {\n",
      "    string_value: \"/tmp/tfx-interactive-2019-08-31T21_40_43.017915-r5zd0p45\"\n",
      "  }\n",
      "}\n",
      "properties {\n",
      "  key: \"run_id\"\n",
      "  value {\n",
      "    string_value: \"2019-08-31T21:42:26.202498\"\n",
      "  }\n",
      "}\n",
      "properties {\n",
      "  key: \"state\"\n",
      "  value {\n",
      "    string_value: \"new\"\n",
      "  }\n",
      "}\n",
      "\n"
     ]
    },
    {
     "name": "stdout",
     "output_type": "stream",
     "text": [
      "INFO:tensorflow:Execution id of the upcoming component execution is 3\n"
     ]
    },
    {
     "name": "stderr",
     "output_type": "stream",
     "text": [
      "INFO:tensorflow:Execution id of the upcoming component execution is 3\n"
     ]
    },
    {
     "name": "stdout",
     "output_type": "stream",
     "text": [
      "INFO:tensorflow:Checking previous run for execution_type_name tfx.components.statistics_gen.component.StatisticsGen and input_artifacts {'input_data': [Artifact(type_name: ExamplesPath, uri: /tmp/tfx-interactive-2019-08-31T21_40_43.017915-r5zd0p45/CsvExampleGen/examples/1/train/, split: train, id: 2), Artifact(type_name: ExamplesPath, uri: /tmp/tfx-interactive-2019-08-31T21_40_43.017915-r5zd0p45/CsvExampleGen/examples/1/eval/, split: eval, id: 3)]}\n"
     ]
    },
    {
     "name": "stderr",
     "output_type": "stream",
     "text": [
      "INFO:tensorflow:Checking previous run for execution_type_name tfx.components.statistics_gen.component.StatisticsGen and input_artifacts {'input_data': [Artifact(type_name: ExamplesPath, uri: /tmp/tfx-interactive-2019-08-31T21_40_43.017915-r5zd0p45/CsvExampleGen/examples/1/train/, split: train, id: 2), Artifact(type_name: ExamplesPath, uri: /tmp/tfx-interactive-2019-08-31T21_40_43.017915-r5zd0p45/CsvExampleGen/examples/1/eval/, split: eval, id: 3)]}\n"
     ]
    },
    {
     "name": "stdout",
     "output_type": "stream",
     "text": [
      "INFO:tensorflow:Prepared EXECUTION:\n",
      " type_id: 5\n",
      "properties {\n",
      "  key: \"component_id\"\n",
      "  value {\n",
      "    string_value: \"StatisticsGen\"\n",
      "  }\n",
      "}\n",
      "properties {\n",
      "  key: \"pipeline_name\"\n",
      "  value {\n",
      "    string_value: \"interactive-2019-08-31T21_40_43.017915\"\n",
      "  }\n",
      "}\n",
      "properties {\n",
      "  key: \"pipeline_root\"\n",
      "  value {\n",
      "    string_value: \"/tmp/tfx-interactive-2019-08-31T21_40_43.017915-r5zd0p45\"\n",
      "  }\n",
      "}\n",
      "properties {\n",
      "  key: \"run_id\"\n",
      "  value {\n",
      "    string_value: \"2019-08-31T21:42:26.202498\"\n",
      "  }\n",
      "}\n",
      "properties {\n",
      "  key: \"state\"\n",
      "  value {\n",
      "    string_value: \"complete\"\n",
      "  }\n",
      "}\n",
      "\n"
     ]
    },
    {
     "name": "stderr",
     "output_type": "stream",
     "text": [
      "INFO:tensorflow:Prepared EXECUTION:\n",
      " type_id: 5\n",
      "properties {\n",
      "  key: \"component_id\"\n",
      "  value {\n",
      "    string_value: \"StatisticsGen\"\n",
      "  }\n",
      "}\n",
      "properties {\n",
      "  key: \"pipeline_name\"\n",
      "  value {\n",
      "    string_value: \"interactive-2019-08-31T21_40_43.017915\"\n",
      "  }\n",
      "}\n",
      "properties {\n",
      "  key: \"pipeline_root\"\n",
      "  value {\n",
      "    string_value: \"/tmp/tfx-interactive-2019-08-31T21_40_43.017915-r5zd0p45\"\n",
      "  }\n",
      "}\n",
      "properties {\n",
      "  key: \"run_id\"\n",
      "  value {\n",
      "    string_value: \"2019-08-31T21:42:26.202498\"\n",
      "  }\n",
      "}\n",
      "properties {\n",
      "  key: \"state\"\n",
      "  value {\n",
      "    string_value: \"complete\"\n",
      "  }\n",
      "}\n",
      "\n"
     ]
    },
    {
     "name": "stdout",
     "output_type": "stream",
     "text": [
      "INFO:tensorflow:No execution matching type id and input artifacts found\n"
     ]
    },
    {
     "name": "stderr",
     "output_type": "stream",
     "text": [
      "INFO:tensorflow:No execution matching type id and input artifacts found\n"
     ]
    },
    {
     "name": "stdout",
     "output_type": "stream",
     "text": [
      "INFO:tensorflow:Cached results not found, move on to new execution\n"
     ]
    },
    {
     "name": "stderr",
     "output_type": "stream",
     "text": [
      "INFO:tensorflow:Cached results not found, move on to new execution\n"
     ]
    },
    {
     "name": "stdout",
     "output_type": "stream",
     "text": [
      "INFO:tensorflow:Creating output artifact uri /tmp/tfx-interactive-2019-08-31T21_40_43.017915-r5zd0p45/StatisticsGen/output/3/train/ as directory\n"
     ]
    },
    {
     "name": "stderr",
     "output_type": "stream",
     "text": [
      "INFO:tensorflow:Creating output artifact uri /tmp/tfx-interactive-2019-08-31T21_40_43.017915-r5zd0p45/StatisticsGen/output/3/train/ as directory\n"
     ]
    },
    {
     "name": "stdout",
     "output_type": "stream",
     "text": [
      "INFO:tensorflow:Creating output artifact uri /tmp/tfx-interactive-2019-08-31T21_40_43.017915-r5zd0p45/StatisticsGen/output/3/eval/ as directory\n"
     ]
    },
    {
     "name": "stderr",
     "output_type": "stream",
     "text": [
      "INFO:tensorflow:Creating output artifact uri /tmp/tfx-interactive-2019-08-31T21_40_43.017915-r5zd0p45/StatisticsGen/output/3/eval/ as directory\n"
     ]
    },
    {
     "name": "stdout",
     "output_type": "stream",
     "text": [
      "INFO:tensorflow:Output artifacts skeleton for the upcoming execution are: {'output': [Artifact(type_name: ExampleStatisticsPath, uri: /tmp/tfx-interactive-2019-08-31T21_40_43.017915-r5zd0p45/StatisticsGen/output/3/train/, split: train, id: 0), Artifact(type_name: ExampleStatisticsPath, uri: /tmp/tfx-interactive-2019-08-31T21_40_43.017915-r5zd0p45/StatisticsGen/output/3/eval/, split: eval, id: 0)]}\n"
     ]
    },
    {
     "name": "stderr",
     "output_type": "stream",
     "text": [
      "INFO:tensorflow:Output artifacts skeleton for the upcoming execution are: {'output': [Artifact(type_name: ExampleStatisticsPath, uri: /tmp/tfx-interactive-2019-08-31T21_40_43.017915-r5zd0p45/StatisticsGen/output/3/train/, split: train, id: 0), Artifact(type_name: ExampleStatisticsPath, uri: /tmp/tfx-interactive-2019-08-31T21_40_43.017915-r5zd0p45/StatisticsGen/output/3/eval/, split: eval, id: 0)]}\n"
     ]
    },
    {
     "name": "stdout",
     "output_type": "stream",
     "text": [
      "INFO:tensorflow:Execution properties for the upcoming execution are: {}\n"
     ]
    },
    {
     "name": "stderr",
     "output_type": "stream",
     "text": [
      "INFO:tensorflow:Execution properties for the upcoming execution are: {}\n"
     ]
    },
    {
     "name": "stdout",
     "output_type": "stream",
     "text": [
      "INFO:tensorflow:Run executor for StatisticsGen\n"
     ]
    },
    {
     "name": "stderr",
     "output_type": "stream",
     "text": [
      "INFO:tensorflow:Run executor for StatisticsGen\n"
     ]
    },
    {
     "name": "stdout",
     "output_type": "stream",
     "text": [
      "INFO:tensorflow:Starting Executor execution.\n"
     ]
    },
    {
     "name": "stderr",
     "output_type": "stream",
     "text": [
      "INFO:tensorflow:Starting Executor execution.\n"
     ]
    },
    {
     "name": "stdout",
     "output_type": "stream",
     "text": [
      "INFO:tensorflow:Inputs for Executor is: {\"input_data\": [{\"artifact\": {\"id\": \"2\", \"typeId\": \"4\", \"uri\": \"/tmp/tfx-interactive-2019-08-31T21_40_43.017915-r5zd0p45/CsvExampleGen/examples/1/train/\", \"properties\": {\"name\": {\"stringValue\": \"examples\"}, \"type_name\": {\"stringValue\": \"ExamplesPath\"}, \"state\": {\"stringValue\": \"published\"}, \"span\": {}, \"producer_component\": {\"stringValue\": \"CsvExampleGen\"}, \"pipeline_name\": {\"stringValue\": \"interactive-2019-08-31T21_40_43.017915\"}, \"split\": {\"stringValue\": \"train\"}}}, \"artifact_type\": {\"name\": \"ExamplesPath\", \"properties\": {\"type_name\": \"STRING\", \"state\": \"STRING\", \"producer_component\": \"STRING\", \"span\": \"INT\", \"pipeline_name\": \"STRING\", \"split\": \"STRING\", \"name\": \"STRING\"}}}, {\"artifact\": {\"id\": \"3\", \"typeId\": \"4\", \"uri\": \"/tmp/tfx-interactive-2019-08-31T21_40_43.017915-r5zd0p45/CsvExampleGen/examples/1/eval/\", \"properties\": {\"split\": {\"stringValue\": \"eval\"}, \"name\": {\"stringValue\": \"examples\"}, \"type_name\": {\"stringValue\": \"ExamplesPath\"}, \"state\": {\"stringValue\": \"published\"}, \"span\": {}, \"pipeline_name\": {\"stringValue\": \"interactive-2019-08-31T21_40_43.017915\"}, \"producer_component\": {\"stringValue\": \"CsvExampleGen\"}}}, \"artifact_type\": {\"name\": \"ExamplesPath\", \"properties\": {\"split\": \"STRING\", \"name\": \"STRING\", \"type_name\": \"STRING\", \"state\": \"STRING\", \"producer_component\": \"STRING\", \"span\": \"INT\", \"pipeline_name\": \"STRING\"}}}]}\n"
     ]
    },
    {
     "name": "stderr",
     "output_type": "stream",
     "text": [
      "INFO:tensorflow:Inputs for Executor is: {\"input_data\": [{\"artifact\": {\"id\": \"2\", \"typeId\": \"4\", \"uri\": \"/tmp/tfx-interactive-2019-08-31T21_40_43.017915-r5zd0p45/CsvExampleGen/examples/1/train/\", \"properties\": {\"name\": {\"stringValue\": \"examples\"}, \"type_name\": {\"stringValue\": \"ExamplesPath\"}, \"state\": {\"stringValue\": \"published\"}, \"span\": {}, \"producer_component\": {\"stringValue\": \"CsvExampleGen\"}, \"pipeline_name\": {\"stringValue\": \"interactive-2019-08-31T21_40_43.017915\"}, \"split\": {\"stringValue\": \"train\"}}}, \"artifact_type\": {\"name\": \"ExamplesPath\", \"properties\": {\"type_name\": \"STRING\", \"state\": \"STRING\", \"producer_component\": \"STRING\", \"span\": \"INT\", \"pipeline_name\": \"STRING\", \"split\": \"STRING\", \"name\": \"STRING\"}}}, {\"artifact\": {\"id\": \"3\", \"typeId\": \"4\", \"uri\": \"/tmp/tfx-interactive-2019-08-31T21_40_43.017915-r5zd0p45/CsvExampleGen/examples/1/eval/\", \"properties\": {\"split\": {\"stringValue\": \"eval\"}, \"name\": {\"stringValue\": \"examples\"}, \"type_name\": {\"stringValue\": \"ExamplesPath\"}, \"state\": {\"stringValue\": \"published\"}, \"span\": {}, \"pipeline_name\": {\"stringValue\": \"interactive-2019-08-31T21_40_43.017915\"}, \"producer_component\": {\"stringValue\": \"CsvExampleGen\"}}}, \"artifact_type\": {\"name\": \"ExamplesPath\", \"properties\": {\"split\": \"STRING\", \"name\": \"STRING\", \"type_name\": \"STRING\", \"state\": \"STRING\", \"producer_component\": \"STRING\", \"span\": \"INT\", \"pipeline_name\": \"STRING\"}}}]}\n"
     ]
    },
    {
     "name": "stdout",
     "output_type": "stream",
     "text": [
      "INFO:tensorflow:Outputs for Executor is: {\"output\": [{\"artifact\": {\"uri\": \"/tmp/tfx-interactive-2019-08-31T21_40_43.017915-r5zd0p45/StatisticsGen/output/3/train/\", \"properties\": {\"split\": {\"stringValue\": \"train\"}, \"producer_component\": {\"stringValue\": \"StatisticsGen\"}, \"pipeline_name\": {\"stringValue\": \"interactive-2019-08-31T21_40_43.017915\"}, \"name\": {\"stringValue\": \"output\"}, \"type_name\": {\"stringValue\": \"ExampleStatisticsPath\"}}}, \"artifact_type\": {\"name\": \"ExampleStatisticsPath\", \"properties\": {\"split\": \"STRING\", \"name\": \"STRING\", \"type_name\": \"STRING\", \"state\": \"STRING\", \"producer_component\": \"STRING\", \"span\": \"INT\", \"pipeline_name\": \"STRING\"}}}, {\"artifact\": {\"uri\": \"/tmp/tfx-interactive-2019-08-31T21_40_43.017915-r5zd0p45/StatisticsGen/output/3/eval/\", \"properties\": {\"producer_component\": {\"stringValue\": \"StatisticsGen\"}, \"pipeline_name\": {\"stringValue\": \"interactive-2019-08-31T21_40_43.017915\"}, \"name\": {\"stringValue\": \"output\"}, \"type_name\": {\"stringValue\": \"ExampleStatisticsPath\"}, \"split\": {\"stringValue\": \"eval\"}}}, \"artifact_type\": {\"name\": \"ExampleStatisticsPath\", \"properties\": {\"name\": \"STRING\", \"type_name\": \"STRING\", \"state\": \"STRING\", \"producer_component\": \"STRING\", \"span\": \"INT\", \"pipeline_name\": \"STRING\", \"split\": \"STRING\"}}}]}\n"
     ]
    },
    {
     "name": "stderr",
     "output_type": "stream",
     "text": [
      "INFO:tensorflow:Outputs for Executor is: {\"output\": [{\"artifact\": {\"uri\": \"/tmp/tfx-interactive-2019-08-31T21_40_43.017915-r5zd0p45/StatisticsGen/output/3/train/\", \"properties\": {\"split\": {\"stringValue\": \"train\"}, \"producer_component\": {\"stringValue\": \"StatisticsGen\"}, \"pipeline_name\": {\"stringValue\": \"interactive-2019-08-31T21_40_43.017915\"}, \"name\": {\"stringValue\": \"output\"}, \"type_name\": {\"stringValue\": \"ExampleStatisticsPath\"}}}, \"artifact_type\": {\"name\": \"ExampleStatisticsPath\", \"properties\": {\"split\": \"STRING\", \"name\": \"STRING\", \"type_name\": \"STRING\", \"state\": \"STRING\", \"producer_component\": \"STRING\", \"span\": \"INT\", \"pipeline_name\": \"STRING\"}}}, {\"artifact\": {\"uri\": \"/tmp/tfx-interactive-2019-08-31T21_40_43.017915-r5zd0p45/StatisticsGen/output/3/eval/\", \"properties\": {\"producer_component\": {\"stringValue\": \"StatisticsGen\"}, \"pipeline_name\": {\"stringValue\": \"interactive-2019-08-31T21_40_43.017915\"}, \"name\": {\"stringValue\": \"output\"}, \"type_name\": {\"stringValue\": \"ExampleStatisticsPath\"}, \"split\": {\"stringValue\": \"eval\"}}}, \"artifact_type\": {\"name\": \"ExampleStatisticsPath\", \"properties\": {\"name\": \"STRING\", \"type_name\": \"STRING\", \"state\": \"STRING\", \"producer_component\": \"STRING\", \"span\": \"INT\", \"pipeline_name\": \"STRING\", \"split\": \"STRING\"}}}]}\n"
     ]
    },
    {
     "name": "stdout",
     "output_type": "stream",
     "text": [
      "INFO:tensorflow:Execution properties for Executor is: {}\n"
     ]
    },
    {
     "name": "stderr",
     "output_type": "stream",
     "text": [
      "INFO:tensorflow:Execution properties for Executor is: {}\n"
     ]
    },
    {
     "name": "stdout",
     "output_type": "stream",
     "text": [
      "INFO:tensorflow:Generating statistics for split train\n"
     ]
    },
    {
     "name": "stderr",
     "output_type": "stream",
     "text": [
      "INFO:tensorflow:Generating statistics for split train\n"
     ]
    },
    {
     "name": "stdout",
     "output_type": "stream",
     "text": [
      "INFO:tensorflow:Statistics for split train written to /tmp/tfx-interactive-2019-08-31T21_40_43.017915-r5zd0p45/StatisticsGen/output/3/train/.\n"
     ]
    },
    {
     "name": "stderr",
     "output_type": "stream",
     "text": [
      "INFO:tensorflow:Statistics for split train written to /tmp/tfx-interactive-2019-08-31T21_40_43.017915-r5zd0p45/StatisticsGen/output/3/train/.\n"
     ]
    },
    {
     "name": "stdout",
     "output_type": "stream",
     "text": [
      "INFO:tensorflow:Generating statistics for split eval\n"
     ]
    },
    {
     "name": "stderr",
     "output_type": "stream",
     "text": [
      "INFO:tensorflow:Generating statistics for split eval\n"
     ]
    },
    {
     "name": "stdout",
     "output_type": "stream",
     "text": [
      "INFO:tensorflow:Statistics for split eval written to /tmp/tfx-interactive-2019-08-31T21_40_43.017915-r5zd0p45/StatisticsGen/output/3/eval/.\n"
     ]
    },
    {
     "name": "stderr",
     "output_type": "stream",
     "text": [
      "INFO:tensorflow:Statistics for split eval written to /tmp/tfx-interactive-2019-08-31T21_40_43.017915-r5zd0p45/StatisticsGen/output/3/eval/.\n"
     ]
    },
    {
     "name": "stdout",
     "output_type": "stream",
     "text": [
      "INFO:tensorflow:Run publisher for StatisticsGen\n"
     ]
    },
    {
     "name": "stderr",
     "output_type": "stream",
     "text": [
      "INFO:tensorflow:Run publisher for StatisticsGen\n"
     ]
    },
    {
     "name": "stdout",
     "output_type": "stream",
     "text": [
      "INFO:tensorflow:Whether cached results are used: False\n"
     ]
    },
    {
     "name": "stderr",
     "output_type": "stream",
     "text": [
      "INFO:tensorflow:Whether cached results are used: False\n"
     ]
    },
    {
     "name": "stdout",
     "output_type": "stream",
     "text": [
      "INFO:tensorflow:Execution id: 3\n"
     ]
    },
    {
     "name": "stderr",
     "output_type": "stream",
     "text": [
      "INFO:tensorflow:Execution id: 3\n"
     ]
    },
    {
     "name": "stdout",
     "output_type": "stream",
     "text": [
      "INFO:tensorflow:Inputs: {'input_data': [Artifact(type_name: ExamplesPath, uri: /tmp/tfx-interactive-2019-08-31T21_40_43.017915-r5zd0p45/CsvExampleGen/examples/1/train/, split: train, id: 2), Artifact(type_name: ExamplesPath, uri: /tmp/tfx-interactive-2019-08-31T21_40_43.017915-r5zd0p45/CsvExampleGen/examples/1/eval/, split: eval, id: 3)]}\n"
     ]
    },
    {
     "name": "stderr",
     "output_type": "stream",
     "text": [
      "INFO:tensorflow:Inputs: {'input_data': [Artifact(type_name: ExamplesPath, uri: /tmp/tfx-interactive-2019-08-31T21_40_43.017915-r5zd0p45/CsvExampleGen/examples/1/train/, split: train, id: 2), Artifact(type_name: ExamplesPath, uri: /tmp/tfx-interactive-2019-08-31T21_40_43.017915-r5zd0p45/CsvExampleGen/examples/1/eval/, split: eval, id: 3)]}\n"
     ]
    },
    {
     "name": "stdout",
     "output_type": "stream",
     "text": [
      "INFO:tensorflow:Outputs: {'output': [Artifact(type_name: ExampleStatisticsPath, uri: /tmp/tfx-interactive-2019-08-31T21_40_43.017915-r5zd0p45/StatisticsGen/output/3/train/, split: train, id: 0), Artifact(type_name: ExampleStatisticsPath, uri: /tmp/tfx-interactive-2019-08-31T21_40_43.017915-r5zd0p45/StatisticsGen/output/3/eval/, split: eval, id: 0)]}\n"
     ]
    },
    {
     "name": "stderr",
     "output_type": "stream",
     "text": [
      "INFO:tensorflow:Outputs: {'output': [Artifact(type_name: ExampleStatisticsPath, uri: /tmp/tfx-interactive-2019-08-31T21_40_43.017915-r5zd0p45/StatisticsGen/output/3/train/, split: train, id: 0), Artifact(type_name: ExampleStatisticsPath, uri: /tmp/tfx-interactive-2019-08-31T21_40_43.017915-r5zd0p45/StatisticsGen/output/3/eval/, split: eval, id: 0)]}\n"
     ]
    },
    {
     "name": "stdout",
     "output_type": "stream",
     "text": [
      "INFO:tensorflow:Publishing execution id: 3\n",
      "type_id: 5\n",
      "properties {\n",
      "  key: \"component_id\"\n",
      "  value {\n",
      "    string_value: \"StatisticsGen\"\n",
      "  }\n",
      "}\n",
      "properties {\n",
      "  key: \"pipeline_name\"\n",
      "  value {\n",
      "    string_value: \"interactive-2019-08-31T21_40_43.017915\"\n",
      "  }\n",
      "}\n",
      "properties {\n",
      "  key: \"pipeline_root\"\n",
      "  value {\n",
      "    string_value: \"/tmp/tfx-interactive-2019-08-31T21_40_43.017915-r5zd0p45\"\n",
      "  }\n",
      "}\n",
      "properties {\n",
      "  key: \"run_id\"\n",
      "  value {\n",
      "    string_value: \"2019-08-31T21:42:26.202498\"\n",
      "  }\n",
      "}\n",
      "properties {\n",
      "  key: \"state\"\n",
      "  value {\n",
      "    string_value: \"complete\"\n",
      "  }\n",
      "}\n",
      ", with inputs {'input_data': [Artifact(type_name: ExamplesPath, uri: /tmp/tfx-interactive-2019-08-31T21_40_43.017915-r5zd0p45/CsvExampleGen/examples/1/train/, split: train, id: 2), Artifact(type_name: ExamplesPath, uri: /tmp/tfx-interactive-2019-08-31T21_40_43.017915-r5zd0p45/CsvExampleGen/examples/1/eval/, split: eval, id: 3)]} and outputs {'output': [Artifact(type_name: ExampleStatisticsPath, uri: /tmp/tfx-interactive-2019-08-31T21_40_43.017915-r5zd0p45/StatisticsGen/output/3/train/, split: train, id: 0), Artifact(type_name: ExampleStatisticsPath, uri: /tmp/tfx-interactive-2019-08-31T21_40_43.017915-r5zd0p45/StatisticsGen/output/3/eval/, split: eval, id: 0)]}\n"
     ]
    },
    {
     "name": "stderr",
     "output_type": "stream",
     "text": [
      "INFO:tensorflow:Publishing execution id: 3\n",
      "type_id: 5\n",
      "properties {\n",
      "  key: \"component_id\"\n",
      "  value {\n",
      "    string_value: \"StatisticsGen\"\n",
      "  }\n",
      "}\n",
      "properties {\n",
      "  key: \"pipeline_name\"\n",
      "  value {\n",
      "    string_value: \"interactive-2019-08-31T21_40_43.017915\"\n",
      "  }\n",
      "}\n",
      "properties {\n",
      "  key: \"pipeline_root\"\n",
      "  value {\n",
      "    string_value: \"/tmp/tfx-interactive-2019-08-31T21_40_43.017915-r5zd0p45\"\n",
      "  }\n",
      "}\n",
      "properties {\n",
      "  key: \"run_id\"\n",
      "  value {\n",
      "    string_value: \"2019-08-31T21:42:26.202498\"\n",
      "  }\n",
      "}\n",
      "properties {\n",
      "  key: \"state\"\n",
      "  value {\n",
      "    string_value: \"complete\"\n",
      "  }\n",
      "}\n",
      ", with inputs {'input_data': [Artifact(type_name: ExamplesPath, uri: /tmp/tfx-interactive-2019-08-31T21_40_43.017915-r5zd0p45/CsvExampleGen/examples/1/train/, split: train, id: 2), Artifact(type_name: ExamplesPath, uri: /tmp/tfx-interactive-2019-08-31T21_40_43.017915-r5zd0p45/CsvExampleGen/examples/1/eval/, split: eval, id: 3)]} and outputs {'output': [Artifact(type_name: ExampleStatisticsPath, uri: /tmp/tfx-interactive-2019-08-31T21_40_43.017915-r5zd0p45/StatisticsGen/output/3/train/, split: train, id: 0), Artifact(type_name: ExampleStatisticsPath, uri: /tmp/tfx-interactive-2019-08-31T21_40_43.017915-r5zd0p45/StatisticsGen/output/3/eval/, split: eval, id: 0)]}\n"
     ]
    },
    {
     "name": "stdout",
     "output_type": "stream",
     "text": [
      "INFO:tensorflow:Published execution with final outputs {'output': [Artifact(type_name: ExampleStatisticsPath, uri: /tmp/tfx-interactive-2019-08-31T21_40_43.017915-r5zd0p45/StatisticsGen/output/3/train/, split: train, id: 4), Artifact(type_name: ExampleStatisticsPath, uri: /tmp/tfx-interactive-2019-08-31T21_40_43.017915-r5zd0p45/StatisticsGen/output/3/eval/, split: eval, id: 5)]}\n"
     ]
    },
    {
     "name": "stderr",
     "output_type": "stream",
     "text": [
      "INFO:tensorflow:Published execution with final outputs {'output': [Artifact(type_name: ExampleStatisticsPath, uri: /tmp/tfx-interactive-2019-08-31T21_40_43.017915-r5zd0p45/StatisticsGen/output/3/train/, split: train, id: 4), Artifact(type_name: ExampleStatisticsPath, uri: /tmp/tfx-interactive-2019-08-31T21_40_43.017915-r5zd0p45/StatisticsGen/output/3/eval/, split: eval, id: 5)]}\n"
     ]
    },
    {
     "data": {
      "text/html": [
       "<style>\n",
       ".tfx-object.expanded {\n",
       "  padding: 4px 8px 4px 8px;\n",
       "  background: white;\n",
       "  border: 1px solid #bbbbbb;\n",
       "  box-shadow: 4px 4px 2px rgba(0,0,0,0.05);\n",
       "}\n",
       ".tfx-object, .tfx-object * {\n",
       "  font-size: 11pt;\n",
       "}\n",
       ".tfx-object > .title {\n",
       "  cursor: pointer;\n",
       "}\n",
       ".tfx-object .expansion-marker {\n",
       "  color: #999999;\n",
       "}\n",
       ".tfx-object.expanded > .title > .expansion-marker:before {\n",
       "  content: '▼';\n",
       "}\n",
       ".tfx-object.collapsed > .title > .expansion-marker:before {\n",
       "  content: '▶';\n",
       "}\n",
       ".tfx-object .class-name {\n",
       "  font-weight: bold;\n",
       "}\n",
       ".tfx-object .deemphasize {\n",
       "  opacity: 0.5;\n",
       "}\n",
       ".tfx-object.collapsed > table.attr-table {\n",
       "  display: none;\n",
       "}\n",
       ".tfx-object.expanded > table.attr-table {\n",
       "  display: block;\n",
       "}\n",
       ".tfx-object table.attr-table {\n",
       "  border: 2px solid white;\n",
       "  margin-top: 5px;\n",
       "}\n",
       ".tfx-object table.attr-table td.attr-name {\n",
       "  vertical-align: top;\n",
       "  font-weight: bold;\n",
       "}\n",
       ".tfx-object table.attr-table td.attrvalue {\n",
       "  text-align: left;\n",
       "}\n",
       "</style>\n",
       "<script>\n",
       "function toggleTfxObject(element) {\n",
       "  var objElement = element.parentElement;\n",
       "  if (objElement.classList.contains('collapsed')) {\n",
       "    objElement.classList.remove('collapsed');\n",
       "    objElement.classList.add('expanded');\n",
       "  } else {\n",
       "    objElement.classList.add('collapsed');\n",
       "    objElement.classList.remove('expanded');\n",
       "  }\n",
       "}\n",
       "</script>\n",
       "<div class=\"tfx-object expanded\"><div class = \"title\" onclick=\"toggleTfxObject(this)\"><span class=\"expansion-marker\"></span><span class=\"class-name\">ExecutionResult</span><span class=\"deemphasize\"> at 0x7f57d6956da0</span></div><table class=\"attr-table\"><tr><td class=\"attr-name\">.execution_id</td><td class = \"attrvalue\">3</td></tr><tr><td class=\"attr-name\">.component</td><td class = \"attrvalue\"><style>\n",
       ".tfx-object.expanded {\n",
       "  padding: 4px 8px 4px 8px;\n",
       "  background: white;\n",
       "  border: 1px solid #bbbbbb;\n",
       "  box-shadow: 4px 4px 2px rgba(0,0,0,0.05);\n",
       "}\n",
       ".tfx-object, .tfx-object * {\n",
       "  font-size: 11pt;\n",
       "}\n",
       ".tfx-object > .title {\n",
       "  cursor: pointer;\n",
       "}\n",
       ".tfx-object .expansion-marker {\n",
       "  color: #999999;\n",
       "}\n",
       ".tfx-object.expanded > .title > .expansion-marker:before {\n",
       "  content: '▼';\n",
       "}\n",
       ".tfx-object.collapsed > .title > .expansion-marker:before {\n",
       "  content: '▶';\n",
       "}\n",
       ".tfx-object .class-name {\n",
       "  font-weight: bold;\n",
       "}\n",
       ".tfx-object .deemphasize {\n",
       "  opacity: 0.5;\n",
       "}\n",
       ".tfx-object.collapsed > table.attr-table {\n",
       "  display: none;\n",
       "}\n",
       ".tfx-object.expanded > table.attr-table {\n",
       "  display: block;\n",
       "}\n",
       ".tfx-object table.attr-table {\n",
       "  border: 2px solid white;\n",
       "  margin-top: 5px;\n",
       "}\n",
       ".tfx-object table.attr-table td.attr-name {\n",
       "  vertical-align: top;\n",
       "  font-weight: bold;\n",
       "}\n",
       ".tfx-object table.attr-table td.attrvalue {\n",
       "  text-align: left;\n",
       "}\n",
       "</style>\n",
       "<script>\n",
       "function toggleTfxObject(element) {\n",
       "  var objElement = element.parentElement;\n",
       "  if (objElement.classList.contains('collapsed')) {\n",
       "    objElement.classList.remove('collapsed');\n",
       "    objElement.classList.add('expanded');\n",
       "  } else {\n",
       "    objElement.classList.add('collapsed');\n",
       "    objElement.classList.remove('expanded');\n",
       "  }\n",
       "}\n",
       "</script>\n",
       "<div class=\"tfx-object collapsed\"><div class = \"title\" onclick=\"toggleTfxObject(this)\"><span class=\"expansion-marker\"></span><span class=\"class-name\">StatisticsGen</span><span class=\"deemphasize\"> at 0x7f57d6dc30f0</span></div><table class=\"attr-table\"><tr><td class=\"attr-name\">.inputs</td><td class = \"attrvalue\"><table class=\"attr-table\"><tr><td class=\"attr-name\">['input_data']</td><td class = \"attrvalue\"><style>\n",
       ".tfx-object.expanded {\n",
       "  padding: 4px 8px 4px 8px;\n",
       "  background: white;\n",
       "  border: 1px solid #bbbbbb;\n",
       "  box-shadow: 4px 4px 2px rgba(0,0,0,0.05);\n",
       "}\n",
       ".tfx-object, .tfx-object * {\n",
       "  font-size: 11pt;\n",
       "}\n",
       ".tfx-object > .title {\n",
       "  cursor: pointer;\n",
       "}\n",
       ".tfx-object .expansion-marker {\n",
       "  color: #999999;\n",
       "}\n",
       ".tfx-object.expanded > .title > .expansion-marker:before {\n",
       "  content: '▼';\n",
       "}\n",
       ".tfx-object.collapsed > .title > .expansion-marker:before {\n",
       "  content: '▶';\n",
       "}\n",
       ".tfx-object .class-name {\n",
       "  font-weight: bold;\n",
       "}\n",
       ".tfx-object .deemphasize {\n",
       "  opacity: 0.5;\n",
       "}\n",
       ".tfx-object.collapsed > table.attr-table {\n",
       "  display: none;\n",
       "}\n",
       ".tfx-object.expanded > table.attr-table {\n",
       "  display: block;\n",
       "}\n",
       ".tfx-object table.attr-table {\n",
       "  border: 2px solid white;\n",
       "  margin-top: 5px;\n",
       "}\n",
       ".tfx-object table.attr-table td.attr-name {\n",
       "  vertical-align: top;\n",
       "  font-weight: bold;\n",
       "}\n",
       ".tfx-object table.attr-table td.attrvalue {\n",
       "  text-align: left;\n",
       "}\n",
       "</style>\n",
       "<script>\n",
       "function toggleTfxObject(element) {\n",
       "  var objElement = element.parentElement;\n",
       "  if (objElement.classList.contains('collapsed')) {\n",
       "    objElement.classList.remove('collapsed');\n",
       "    objElement.classList.add('expanded');\n",
       "  } else {\n",
       "    objElement.classList.add('collapsed');\n",
       "    objElement.classList.remove('expanded');\n",
       "  }\n",
       "}\n",
       "</script>\n",
       "<div class=\"tfx-object collapsed\"><div class = \"title\" onclick=\"toggleTfxObject(this)\"><span class=\"expansion-marker\"></span><span class=\"class-name\">Channel</span> of type <span class=\"class-name\">'ExamplesPath'</span> (2 artifacts)<span class=\"deemphasize\"> at 0x7f57d69b2278</span></div><table class=\"attr-table\"><tr><td class=\"attr-name\">.type_name</td><td class = \"attrvalue\">ExamplesPath</td></tr><tr><td class=\"attr-name\">._artifacts</td><td class = \"attrvalue\"><table class=\"attr-table\"><tr><td class=\"attr-name\">[0]</td><td class = \"attrvalue\"><style>\n",
       ".tfx-object.expanded {\n",
       "  padding: 4px 8px 4px 8px;\n",
       "  background: white;\n",
       "  border: 1px solid #bbbbbb;\n",
       "  box-shadow: 4px 4px 2px rgba(0,0,0,0.05);\n",
       "}\n",
       ".tfx-object, .tfx-object * {\n",
       "  font-size: 11pt;\n",
       "}\n",
       ".tfx-object > .title {\n",
       "  cursor: pointer;\n",
       "}\n",
       ".tfx-object .expansion-marker {\n",
       "  color: #999999;\n",
       "}\n",
       ".tfx-object.expanded > .title > .expansion-marker:before {\n",
       "  content: '▼';\n",
       "}\n",
       ".tfx-object.collapsed > .title > .expansion-marker:before {\n",
       "  content: '▶';\n",
       "}\n",
       ".tfx-object .class-name {\n",
       "  font-weight: bold;\n",
       "}\n",
       ".tfx-object .deemphasize {\n",
       "  opacity: 0.5;\n",
       "}\n",
       ".tfx-object.collapsed > table.attr-table {\n",
       "  display: none;\n",
       "}\n",
       ".tfx-object.expanded > table.attr-table {\n",
       "  display: block;\n",
       "}\n",
       ".tfx-object table.attr-table {\n",
       "  border: 2px solid white;\n",
       "  margin-top: 5px;\n",
       "}\n",
       ".tfx-object table.attr-table td.attr-name {\n",
       "  vertical-align: top;\n",
       "  font-weight: bold;\n",
       "}\n",
       ".tfx-object table.attr-table td.attrvalue {\n",
       "  text-align: left;\n",
       "}\n",
       "</style>\n",
       "<script>\n",
       "function toggleTfxObject(element) {\n",
       "  var objElement = element.parentElement;\n",
       "  if (objElement.classList.contains('collapsed')) {\n",
       "    objElement.classList.remove('collapsed');\n",
       "    objElement.classList.add('expanded');\n",
       "  } else {\n",
       "    objElement.classList.add('collapsed');\n",
       "    objElement.classList.remove('expanded');\n",
       "  }\n",
       "}\n",
       "</script>\n",
       "<div class=\"tfx-object collapsed\"><div class = \"title\" onclick=\"toggleTfxObject(this)\"><span class=\"expansion-marker\"></span><span class=\"class-name\">Artifact</span> of type <span class=\"class-name\">'ExamplesPath'</span> (uri: /tmp/tfx-interactive-2019-08-31T21_40_43.017915-r5zd0p45/CsvExampleGen/examples/1/train/)<span class=\"deemphasize\"> at 0x7f57d69b2ba8</span></div><table class=\"attr-table\"><tr><td class=\"attr-name\">.type_name</td><td class = \"attrvalue\">ExamplesPath</td></tr><tr><td class=\"attr-name\">.uri</td><td class = \"attrvalue\">/tmp/tfx-interactive-2019-08-31T21_40_43.017915-r5zd0p45/CsvExampleGen/examples/1/train/</td></tr><tr><td class=\"attr-name\">.span</td><td class = \"attrvalue\">0</td></tr><tr><td class=\"attr-name\">.split</td><td class = \"attrvalue\">train</td></tr></table></div></td></tr><tr><td class=\"attr-name\">[1]</td><td class = \"attrvalue\"><style>\n",
       ".tfx-object.expanded {\n",
       "  padding: 4px 8px 4px 8px;\n",
       "  background: white;\n",
       "  border: 1px solid #bbbbbb;\n",
       "  box-shadow: 4px 4px 2px rgba(0,0,0,0.05);\n",
       "}\n",
       ".tfx-object, .tfx-object * {\n",
       "  font-size: 11pt;\n",
       "}\n",
       ".tfx-object > .title {\n",
       "  cursor: pointer;\n",
       "}\n",
       ".tfx-object .expansion-marker {\n",
       "  color: #999999;\n",
       "}\n",
       ".tfx-object.expanded > .title > .expansion-marker:before {\n",
       "  content: '▼';\n",
       "}\n",
       ".tfx-object.collapsed > .title > .expansion-marker:before {\n",
       "  content: '▶';\n",
       "}\n",
       ".tfx-object .class-name {\n",
       "  font-weight: bold;\n",
       "}\n",
       ".tfx-object .deemphasize {\n",
       "  opacity: 0.5;\n",
       "}\n",
       ".tfx-object.collapsed > table.attr-table {\n",
       "  display: none;\n",
       "}\n",
       ".tfx-object.expanded > table.attr-table {\n",
       "  display: block;\n",
       "}\n",
       ".tfx-object table.attr-table {\n",
       "  border: 2px solid white;\n",
       "  margin-top: 5px;\n",
       "}\n",
       ".tfx-object table.attr-table td.attr-name {\n",
       "  vertical-align: top;\n",
       "  font-weight: bold;\n",
       "}\n",
       ".tfx-object table.attr-table td.attrvalue {\n",
       "  text-align: left;\n",
       "}\n",
       "</style>\n",
       "<script>\n",
       "function toggleTfxObject(element) {\n",
       "  var objElement = element.parentElement;\n",
       "  if (objElement.classList.contains('collapsed')) {\n",
       "    objElement.classList.remove('collapsed');\n",
       "    objElement.classList.add('expanded');\n",
       "  } else {\n",
       "    objElement.classList.add('collapsed');\n",
       "    objElement.classList.remove('expanded');\n",
       "  }\n",
       "}\n",
       "</script>\n",
       "<div class=\"tfx-object collapsed\"><div class = \"title\" onclick=\"toggleTfxObject(this)\"><span class=\"expansion-marker\"></span><span class=\"class-name\">Artifact</span> of type <span class=\"class-name\">'ExamplesPath'</span> (uri: /tmp/tfx-interactive-2019-08-31T21_40_43.017915-r5zd0p45/CsvExampleGen/examples/1/eval/)<span class=\"deemphasize\"> at 0x7f57d6a0dac8</span></div><table class=\"attr-table\"><tr><td class=\"attr-name\">.type_name</td><td class = \"attrvalue\">ExamplesPath</td></tr><tr><td class=\"attr-name\">.uri</td><td class = \"attrvalue\">/tmp/tfx-interactive-2019-08-31T21_40_43.017915-r5zd0p45/CsvExampleGen/examples/1/eval/</td></tr><tr><td class=\"attr-name\">.span</td><td class = \"attrvalue\">0</td></tr><tr><td class=\"attr-name\">.split</td><td class = \"attrvalue\">eval</td></tr></table></div></td></tr></table></td></tr></table></div></td></tr></table></td></tr><tr><td class=\"attr-name\">.outputs</td><td class = \"attrvalue\"><table class=\"attr-table\"><tr><td class=\"attr-name\">['output']</td><td class = \"attrvalue\"><style>\n",
       ".tfx-object.expanded {\n",
       "  padding: 4px 8px 4px 8px;\n",
       "  background: white;\n",
       "  border: 1px solid #bbbbbb;\n",
       "  box-shadow: 4px 4px 2px rgba(0,0,0,0.05);\n",
       "}\n",
       ".tfx-object, .tfx-object * {\n",
       "  font-size: 11pt;\n",
       "}\n",
       ".tfx-object > .title {\n",
       "  cursor: pointer;\n",
       "}\n",
       ".tfx-object .expansion-marker {\n",
       "  color: #999999;\n",
       "}\n",
       ".tfx-object.expanded > .title > .expansion-marker:before {\n",
       "  content: '▼';\n",
       "}\n",
       ".tfx-object.collapsed > .title > .expansion-marker:before {\n",
       "  content: '▶';\n",
       "}\n",
       ".tfx-object .class-name {\n",
       "  font-weight: bold;\n",
       "}\n",
       ".tfx-object .deemphasize {\n",
       "  opacity: 0.5;\n",
       "}\n",
       ".tfx-object.collapsed > table.attr-table {\n",
       "  display: none;\n",
       "}\n",
       ".tfx-object.expanded > table.attr-table {\n",
       "  display: block;\n",
       "}\n",
       ".tfx-object table.attr-table {\n",
       "  border: 2px solid white;\n",
       "  margin-top: 5px;\n",
       "}\n",
       ".tfx-object table.attr-table td.attr-name {\n",
       "  vertical-align: top;\n",
       "  font-weight: bold;\n",
       "}\n",
       ".tfx-object table.attr-table td.attrvalue {\n",
       "  text-align: left;\n",
       "}\n",
       "</style>\n",
       "<script>\n",
       "function toggleTfxObject(element) {\n",
       "  var objElement = element.parentElement;\n",
       "  if (objElement.classList.contains('collapsed')) {\n",
       "    objElement.classList.remove('collapsed');\n",
       "    objElement.classList.add('expanded');\n",
       "  } else {\n",
       "    objElement.classList.add('collapsed');\n",
       "    objElement.classList.remove('expanded');\n",
       "  }\n",
       "}\n",
       "</script>\n",
       "<div class=\"tfx-object collapsed\"><div class = \"title\" onclick=\"toggleTfxObject(this)\"><span class=\"expansion-marker\"></span><span class=\"class-name\">Channel</span> of type <span class=\"class-name\">'ExampleStatisticsPath'</span> (2 artifacts)<span class=\"deemphasize\"> at 0x7f57d6a38b38</span></div><table class=\"attr-table\"><tr><td class=\"attr-name\">.type_name</td><td class = \"attrvalue\">ExampleStatisticsPath</td></tr><tr><td class=\"attr-name\">._artifacts</td><td class = \"attrvalue\"><table class=\"attr-table\"><tr><td class=\"attr-name\">[0]</td><td class = \"attrvalue\"><style>\n",
       ".tfx-object.expanded {\n",
       "  padding: 4px 8px 4px 8px;\n",
       "  background: white;\n",
       "  border: 1px solid #bbbbbb;\n",
       "  box-shadow: 4px 4px 2px rgba(0,0,0,0.05);\n",
       "}\n",
       ".tfx-object, .tfx-object * {\n",
       "  font-size: 11pt;\n",
       "}\n",
       ".tfx-object > .title {\n",
       "  cursor: pointer;\n",
       "}\n",
       ".tfx-object .expansion-marker {\n",
       "  color: #999999;\n",
       "}\n",
       ".tfx-object.expanded > .title > .expansion-marker:before {\n",
       "  content: '▼';\n",
       "}\n",
       ".tfx-object.collapsed > .title > .expansion-marker:before {\n",
       "  content: '▶';\n",
       "}\n",
       ".tfx-object .class-name {\n",
       "  font-weight: bold;\n",
       "}\n",
       ".tfx-object .deemphasize {\n",
       "  opacity: 0.5;\n",
       "}\n",
       ".tfx-object.collapsed > table.attr-table {\n",
       "  display: none;\n",
       "}\n",
       ".tfx-object.expanded > table.attr-table {\n",
       "  display: block;\n",
       "}\n",
       ".tfx-object table.attr-table {\n",
       "  border: 2px solid white;\n",
       "  margin-top: 5px;\n",
       "}\n",
       ".tfx-object table.attr-table td.attr-name {\n",
       "  vertical-align: top;\n",
       "  font-weight: bold;\n",
       "}\n",
       ".tfx-object table.attr-table td.attrvalue {\n",
       "  text-align: left;\n",
       "}\n",
       "</style>\n",
       "<script>\n",
       "function toggleTfxObject(element) {\n",
       "  var objElement = element.parentElement;\n",
       "  if (objElement.classList.contains('collapsed')) {\n",
       "    objElement.classList.remove('collapsed');\n",
       "    objElement.classList.add('expanded');\n",
       "  } else {\n",
       "    objElement.classList.add('collapsed');\n",
       "    objElement.classList.remove('expanded');\n",
       "  }\n",
       "}\n",
       "</script>\n",
       "<div class=\"tfx-object collapsed\"><div class = \"title\" onclick=\"toggleTfxObject(this)\"><span class=\"expansion-marker\"></span><span class=\"class-name\">Artifact</span> of type <span class=\"class-name\">'ExampleStatisticsPath'</span> (uri: /tmp/tfx-interactive-2019-08-31T21_40_43.017915-r5zd0p45/StatisticsGen/output/3/train/)<span class=\"deemphasize\"> at 0x7f57d6a38ac8</span></div><table class=\"attr-table\"><tr><td class=\"attr-name\">.type_name</td><td class = \"attrvalue\">ExampleStatisticsPath</td></tr><tr><td class=\"attr-name\">.uri</td><td class = \"attrvalue\">/tmp/tfx-interactive-2019-08-31T21_40_43.017915-r5zd0p45/StatisticsGen/output/3/train/</td></tr><tr><td class=\"attr-name\">.span</td><td class = \"attrvalue\">0</td></tr><tr><td class=\"attr-name\">.split</td><td class = \"attrvalue\">train</td></tr></table></div></td></tr><tr><td class=\"attr-name\">[1]</td><td class = \"attrvalue\"><style>\n",
       ".tfx-object.expanded {\n",
       "  padding: 4px 8px 4px 8px;\n",
       "  background: white;\n",
       "  border: 1px solid #bbbbbb;\n",
       "  box-shadow: 4px 4px 2px rgba(0,0,0,0.05);\n",
       "}\n",
       ".tfx-object, .tfx-object * {\n",
       "  font-size: 11pt;\n",
       "}\n",
       ".tfx-object > .title {\n",
       "  cursor: pointer;\n",
       "}\n",
       ".tfx-object .expansion-marker {\n",
       "  color: #999999;\n",
       "}\n",
       ".tfx-object.expanded > .title > .expansion-marker:before {\n",
       "  content: '▼';\n",
       "}\n",
       ".tfx-object.collapsed > .title > .expansion-marker:before {\n",
       "  content: '▶';\n",
       "}\n",
       ".tfx-object .class-name {\n",
       "  font-weight: bold;\n",
       "}\n",
       ".tfx-object .deemphasize {\n",
       "  opacity: 0.5;\n",
       "}\n",
       ".tfx-object.collapsed > table.attr-table {\n",
       "  display: none;\n",
       "}\n",
       ".tfx-object.expanded > table.attr-table {\n",
       "  display: block;\n",
       "}\n",
       ".tfx-object table.attr-table {\n",
       "  border: 2px solid white;\n",
       "  margin-top: 5px;\n",
       "}\n",
       ".tfx-object table.attr-table td.attr-name {\n",
       "  vertical-align: top;\n",
       "  font-weight: bold;\n",
       "}\n",
       ".tfx-object table.attr-table td.attrvalue {\n",
       "  text-align: left;\n",
       "}\n",
       "</style>\n",
       "<script>\n",
       "function toggleTfxObject(element) {\n",
       "  var objElement = element.parentElement;\n",
       "  if (objElement.classList.contains('collapsed')) {\n",
       "    objElement.classList.remove('collapsed');\n",
       "    objElement.classList.add('expanded');\n",
       "  } else {\n",
       "    objElement.classList.add('collapsed');\n",
       "    objElement.classList.remove('expanded');\n",
       "  }\n",
       "}\n",
       "</script>\n",
       "<div class=\"tfx-object collapsed\"><div class = \"title\" onclick=\"toggleTfxObject(this)\"><span class=\"expansion-marker\"></span><span class=\"class-name\">Artifact</span> of type <span class=\"class-name\">'ExampleStatisticsPath'</span> (uri: /tmp/tfx-interactive-2019-08-31T21_40_43.017915-r5zd0p45/StatisticsGen/output/3/eval/)<span class=\"deemphasize\"> at 0x7f57d6a38320</span></div><table class=\"attr-table\"><tr><td class=\"attr-name\">.type_name</td><td class = \"attrvalue\">ExampleStatisticsPath</td></tr><tr><td class=\"attr-name\">.uri</td><td class = \"attrvalue\">/tmp/tfx-interactive-2019-08-31T21_40_43.017915-r5zd0p45/StatisticsGen/output/3/eval/</td></tr><tr><td class=\"attr-name\">.span</td><td class = \"attrvalue\">0</td></tr><tr><td class=\"attr-name\">.split</td><td class = \"attrvalue\">eval</td></tr></table></div></td></tr></table></td></tr></table></div></td></tr></table></td></tr><tr><td class=\"attr-name\">.exec_properties</td><td class = \"attrvalue\">{}</td></tr></table></div></td></tr><tr><td class=\"attr-name\">.component.inputs</td><td class = \"attrvalue\"><table class=\"attr-table\"><tr><td class=\"attr-name\">['input_data']</td><td class = \"attrvalue\"><style>\n",
       ".tfx-object.expanded {\n",
       "  padding: 4px 8px 4px 8px;\n",
       "  background: white;\n",
       "  border: 1px solid #bbbbbb;\n",
       "  box-shadow: 4px 4px 2px rgba(0,0,0,0.05);\n",
       "}\n",
       ".tfx-object, .tfx-object * {\n",
       "  font-size: 11pt;\n",
       "}\n",
       ".tfx-object > .title {\n",
       "  cursor: pointer;\n",
       "}\n",
       ".tfx-object .expansion-marker {\n",
       "  color: #999999;\n",
       "}\n",
       ".tfx-object.expanded > .title > .expansion-marker:before {\n",
       "  content: '▼';\n",
       "}\n",
       ".tfx-object.collapsed > .title > .expansion-marker:before {\n",
       "  content: '▶';\n",
       "}\n",
       ".tfx-object .class-name {\n",
       "  font-weight: bold;\n",
       "}\n",
       ".tfx-object .deemphasize {\n",
       "  opacity: 0.5;\n",
       "}\n",
       ".tfx-object.collapsed > table.attr-table {\n",
       "  display: none;\n",
       "}\n",
       ".tfx-object.expanded > table.attr-table {\n",
       "  display: block;\n",
       "}\n",
       ".tfx-object table.attr-table {\n",
       "  border: 2px solid white;\n",
       "  margin-top: 5px;\n",
       "}\n",
       ".tfx-object table.attr-table td.attr-name {\n",
       "  vertical-align: top;\n",
       "  font-weight: bold;\n",
       "}\n",
       ".tfx-object table.attr-table td.attrvalue {\n",
       "  text-align: left;\n",
       "}\n",
       "</style>\n",
       "<script>\n",
       "function toggleTfxObject(element) {\n",
       "  var objElement = element.parentElement;\n",
       "  if (objElement.classList.contains('collapsed')) {\n",
       "    objElement.classList.remove('collapsed');\n",
       "    objElement.classList.add('expanded');\n",
       "  } else {\n",
       "    objElement.classList.add('collapsed');\n",
       "    objElement.classList.remove('expanded');\n",
       "  }\n",
       "}\n",
       "</script>\n",
       "<div class=\"tfx-object collapsed\"><div class = \"title\" onclick=\"toggleTfxObject(this)\"><span class=\"expansion-marker\"></span><span class=\"class-name\">Channel</span> of type <span class=\"class-name\">'ExamplesPath'</span> (2 artifacts)<span class=\"deemphasize\"> at 0x7f57d69b2278</span></div><table class=\"attr-table\"><tr><td class=\"attr-name\">.type_name</td><td class = \"attrvalue\">ExamplesPath</td></tr><tr><td class=\"attr-name\">._artifacts</td><td class = \"attrvalue\"><table class=\"attr-table\"><tr><td class=\"attr-name\">[0]</td><td class = \"attrvalue\"><style>\n",
       ".tfx-object.expanded {\n",
       "  padding: 4px 8px 4px 8px;\n",
       "  background: white;\n",
       "  border: 1px solid #bbbbbb;\n",
       "  box-shadow: 4px 4px 2px rgba(0,0,0,0.05);\n",
       "}\n",
       ".tfx-object, .tfx-object * {\n",
       "  font-size: 11pt;\n",
       "}\n",
       ".tfx-object > .title {\n",
       "  cursor: pointer;\n",
       "}\n",
       ".tfx-object .expansion-marker {\n",
       "  color: #999999;\n",
       "}\n",
       ".tfx-object.expanded > .title > .expansion-marker:before {\n",
       "  content: '▼';\n",
       "}\n",
       ".tfx-object.collapsed > .title > .expansion-marker:before {\n",
       "  content: '▶';\n",
       "}\n",
       ".tfx-object .class-name {\n",
       "  font-weight: bold;\n",
       "}\n",
       ".tfx-object .deemphasize {\n",
       "  opacity: 0.5;\n",
       "}\n",
       ".tfx-object.collapsed > table.attr-table {\n",
       "  display: none;\n",
       "}\n",
       ".tfx-object.expanded > table.attr-table {\n",
       "  display: block;\n",
       "}\n",
       ".tfx-object table.attr-table {\n",
       "  border: 2px solid white;\n",
       "  margin-top: 5px;\n",
       "}\n",
       ".tfx-object table.attr-table td.attr-name {\n",
       "  vertical-align: top;\n",
       "  font-weight: bold;\n",
       "}\n",
       ".tfx-object table.attr-table td.attrvalue {\n",
       "  text-align: left;\n",
       "}\n",
       "</style>\n",
       "<script>\n",
       "function toggleTfxObject(element) {\n",
       "  var objElement = element.parentElement;\n",
       "  if (objElement.classList.contains('collapsed')) {\n",
       "    objElement.classList.remove('collapsed');\n",
       "    objElement.classList.add('expanded');\n",
       "  } else {\n",
       "    objElement.classList.add('collapsed');\n",
       "    objElement.classList.remove('expanded');\n",
       "  }\n",
       "}\n",
       "</script>\n",
       "<div class=\"tfx-object collapsed\"><div class = \"title\" onclick=\"toggleTfxObject(this)\"><span class=\"expansion-marker\"></span><span class=\"class-name\">Artifact</span> of type <span class=\"class-name\">'ExamplesPath'</span> (uri: /tmp/tfx-interactive-2019-08-31T21_40_43.017915-r5zd0p45/CsvExampleGen/examples/1/train/)<span class=\"deemphasize\"> at 0x7f57d69b2ba8</span></div><table class=\"attr-table\"><tr><td class=\"attr-name\">.type_name</td><td class = \"attrvalue\">ExamplesPath</td></tr><tr><td class=\"attr-name\">.uri</td><td class = \"attrvalue\">/tmp/tfx-interactive-2019-08-31T21_40_43.017915-r5zd0p45/CsvExampleGen/examples/1/train/</td></tr><tr><td class=\"attr-name\">.span</td><td class = \"attrvalue\">0</td></tr><tr><td class=\"attr-name\">.split</td><td class = \"attrvalue\">train</td></tr></table></div></td></tr><tr><td class=\"attr-name\">[1]</td><td class = \"attrvalue\"><style>\n",
       ".tfx-object.expanded {\n",
       "  padding: 4px 8px 4px 8px;\n",
       "  background: white;\n",
       "  border: 1px solid #bbbbbb;\n",
       "  box-shadow: 4px 4px 2px rgba(0,0,0,0.05);\n",
       "}\n",
       ".tfx-object, .tfx-object * {\n",
       "  font-size: 11pt;\n",
       "}\n",
       ".tfx-object > .title {\n",
       "  cursor: pointer;\n",
       "}\n",
       ".tfx-object .expansion-marker {\n",
       "  color: #999999;\n",
       "}\n",
       ".tfx-object.expanded > .title > .expansion-marker:before {\n",
       "  content: '▼';\n",
       "}\n",
       ".tfx-object.collapsed > .title > .expansion-marker:before {\n",
       "  content: '▶';\n",
       "}\n",
       ".tfx-object .class-name {\n",
       "  font-weight: bold;\n",
       "}\n",
       ".tfx-object .deemphasize {\n",
       "  opacity: 0.5;\n",
       "}\n",
       ".tfx-object.collapsed > table.attr-table {\n",
       "  display: none;\n",
       "}\n",
       ".tfx-object.expanded > table.attr-table {\n",
       "  display: block;\n",
       "}\n",
       ".tfx-object table.attr-table {\n",
       "  border: 2px solid white;\n",
       "  margin-top: 5px;\n",
       "}\n",
       ".tfx-object table.attr-table td.attr-name {\n",
       "  vertical-align: top;\n",
       "  font-weight: bold;\n",
       "}\n",
       ".tfx-object table.attr-table td.attrvalue {\n",
       "  text-align: left;\n",
       "}\n",
       "</style>\n",
       "<script>\n",
       "function toggleTfxObject(element) {\n",
       "  var objElement = element.parentElement;\n",
       "  if (objElement.classList.contains('collapsed')) {\n",
       "    objElement.classList.remove('collapsed');\n",
       "    objElement.classList.add('expanded');\n",
       "  } else {\n",
       "    objElement.classList.add('collapsed');\n",
       "    objElement.classList.remove('expanded');\n",
       "  }\n",
       "}\n",
       "</script>\n",
       "<div class=\"tfx-object collapsed\"><div class = \"title\" onclick=\"toggleTfxObject(this)\"><span class=\"expansion-marker\"></span><span class=\"class-name\">Artifact</span> of type <span class=\"class-name\">'ExamplesPath'</span> (uri: /tmp/tfx-interactive-2019-08-31T21_40_43.017915-r5zd0p45/CsvExampleGen/examples/1/eval/)<span class=\"deemphasize\"> at 0x7f57d6a0dac8</span></div><table class=\"attr-table\"><tr><td class=\"attr-name\">.type_name</td><td class = \"attrvalue\">ExamplesPath</td></tr><tr><td class=\"attr-name\">.uri</td><td class = \"attrvalue\">/tmp/tfx-interactive-2019-08-31T21_40_43.017915-r5zd0p45/CsvExampleGen/examples/1/eval/</td></tr><tr><td class=\"attr-name\">.span</td><td class = \"attrvalue\">0</td></tr><tr><td class=\"attr-name\">.split</td><td class = \"attrvalue\">eval</td></tr></table></div></td></tr></table></td></tr></table></div></td></tr></table></td></tr><tr><td class=\"attr-name\">.component.outputs</td><td class = \"attrvalue\"><table class=\"attr-table\"><tr><td class=\"attr-name\">['output']</td><td class = \"attrvalue\"><style>\n",
       ".tfx-object.expanded {\n",
       "  padding: 4px 8px 4px 8px;\n",
       "  background: white;\n",
       "  border: 1px solid #bbbbbb;\n",
       "  box-shadow: 4px 4px 2px rgba(0,0,0,0.05);\n",
       "}\n",
       ".tfx-object, .tfx-object * {\n",
       "  font-size: 11pt;\n",
       "}\n",
       ".tfx-object > .title {\n",
       "  cursor: pointer;\n",
       "}\n",
       ".tfx-object .expansion-marker {\n",
       "  color: #999999;\n",
       "}\n",
       ".tfx-object.expanded > .title > .expansion-marker:before {\n",
       "  content: '▼';\n",
       "}\n",
       ".tfx-object.collapsed > .title > .expansion-marker:before {\n",
       "  content: '▶';\n",
       "}\n",
       ".tfx-object .class-name {\n",
       "  font-weight: bold;\n",
       "}\n",
       ".tfx-object .deemphasize {\n",
       "  opacity: 0.5;\n",
       "}\n",
       ".tfx-object.collapsed > table.attr-table {\n",
       "  display: none;\n",
       "}\n",
       ".tfx-object.expanded > table.attr-table {\n",
       "  display: block;\n",
       "}\n",
       ".tfx-object table.attr-table {\n",
       "  border: 2px solid white;\n",
       "  margin-top: 5px;\n",
       "}\n",
       ".tfx-object table.attr-table td.attr-name {\n",
       "  vertical-align: top;\n",
       "  font-weight: bold;\n",
       "}\n",
       ".tfx-object table.attr-table td.attrvalue {\n",
       "  text-align: left;\n",
       "}\n",
       "</style>\n",
       "<script>\n",
       "function toggleTfxObject(element) {\n",
       "  var objElement = element.parentElement;\n",
       "  if (objElement.classList.contains('collapsed')) {\n",
       "    objElement.classList.remove('collapsed');\n",
       "    objElement.classList.add('expanded');\n",
       "  } else {\n",
       "    objElement.classList.add('collapsed');\n",
       "    objElement.classList.remove('expanded');\n",
       "  }\n",
       "}\n",
       "</script>\n",
       "<div class=\"tfx-object collapsed\"><div class = \"title\" onclick=\"toggleTfxObject(this)\"><span class=\"expansion-marker\"></span><span class=\"class-name\">Channel</span> of type <span class=\"class-name\">'ExampleStatisticsPath'</span> (2 artifacts)<span class=\"deemphasize\"> at 0x7f57d6a38b38</span></div><table class=\"attr-table\"><tr><td class=\"attr-name\">.type_name</td><td class = \"attrvalue\">ExampleStatisticsPath</td></tr><tr><td class=\"attr-name\">._artifacts</td><td class = \"attrvalue\"><table class=\"attr-table\"><tr><td class=\"attr-name\">[0]</td><td class = \"attrvalue\"><style>\n",
       ".tfx-object.expanded {\n",
       "  padding: 4px 8px 4px 8px;\n",
       "  background: white;\n",
       "  border: 1px solid #bbbbbb;\n",
       "  box-shadow: 4px 4px 2px rgba(0,0,0,0.05);\n",
       "}\n",
       ".tfx-object, .tfx-object * {\n",
       "  font-size: 11pt;\n",
       "}\n",
       ".tfx-object > .title {\n",
       "  cursor: pointer;\n",
       "}\n",
       ".tfx-object .expansion-marker {\n",
       "  color: #999999;\n",
       "}\n",
       ".tfx-object.expanded > .title > .expansion-marker:before {\n",
       "  content: '▼';\n",
       "}\n",
       ".tfx-object.collapsed > .title > .expansion-marker:before {\n",
       "  content: '▶';\n",
       "}\n",
       ".tfx-object .class-name {\n",
       "  font-weight: bold;\n",
       "}\n",
       ".tfx-object .deemphasize {\n",
       "  opacity: 0.5;\n",
       "}\n",
       ".tfx-object.collapsed > table.attr-table {\n",
       "  display: none;\n",
       "}\n",
       ".tfx-object.expanded > table.attr-table {\n",
       "  display: block;\n",
       "}\n",
       ".tfx-object table.attr-table {\n",
       "  border: 2px solid white;\n",
       "  margin-top: 5px;\n",
       "}\n",
       ".tfx-object table.attr-table td.attr-name {\n",
       "  vertical-align: top;\n",
       "  font-weight: bold;\n",
       "}\n",
       ".tfx-object table.attr-table td.attrvalue {\n",
       "  text-align: left;\n",
       "}\n",
       "</style>\n",
       "<script>\n",
       "function toggleTfxObject(element) {\n",
       "  var objElement = element.parentElement;\n",
       "  if (objElement.classList.contains('collapsed')) {\n",
       "    objElement.classList.remove('collapsed');\n",
       "    objElement.classList.add('expanded');\n",
       "  } else {\n",
       "    objElement.classList.add('collapsed');\n",
       "    objElement.classList.remove('expanded');\n",
       "  }\n",
       "}\n",
       "</script>\n",
       "<div class=\"tfx-object collapsed\"><div class = \"title\" onclick=\"toggleTfxObject(this)\"><span class=\"expansion-marker\"></span><span class=\"class-name\">Artifact</span> of type <span class=\"class-name\">'ExampleStatisticsPath'</span> (uri: /tmp/tfx-interactive-2019-08-31T21_40_43.017915-r5zd0p45/StatisticsGen/output/3/train/)<span class=\"deemphasize\"> at 0x7f57d6a38ac8</span></div><table class=\"attr-table\"><tr><td class=\"attr-name\">.type_name</td><td class = \"attrvalue\">ExampleStatisticsPath</td></tr><tr><td class=\"attr-name\">.uri</td><td class = \"attrvalue\">/tmp/tfx-interactive-2019-08-31T21_40_43.017915-r5zd0p45/StatisticsGen/output/3/train/</td></tr><tr><td class=\"attr-name\">.span</td><td class = \"attrvalue\">0</td></tr><tr><td class=\"attr-name\">.split</td><td class = \"attrvalue\">train</td></tr></table></div></td></tr><tr><td class=\"attr-name\">[1]</td><td class = \"attrvalue\"><style>\n",
       ".tfx-object.expanded {\n",
       "  padding: 4px 8px 4px 8px;\n",
       "  background: white;\n",
       "  border: 1px solid #bbbbbb;\n",
       "  box-shadow: 4px 4px 2px rgba(0,0,0,0.05);\n",
       "}\n",
       ".tfx-object, .tfx-object * {\n",
       "  font-size: 11pt;\n",
       "}\n",
       ".tfx-object > .title {\n",
       "  cursor: pointer;\n",
       "}\n",
       ".tfx-object .expansion-marker {\n",
       "  color: #999999;\n",
       "}\n",
       ".tfx-object.expanded > .title > .expansion-marker:before {\n",
       "  content: '▼';\n",
       "}\n",
       ".tfx-object.collapsed > .title > .expansion-marker:before {\n",
       "  content: '▶';\n",
       "}\n",
       ".tfx-object .class-name {\n",
       "  font-weight: bold;\n",
       "}\n",
       ".tfx-object .deemphasize {\n",
       "  opacity: 0.5;\n",
       "}\n",
       ".tfx-object.collapsed > table.attr-table {\n",
       "  display: none;\n",
       "}\n",
       ".tfx-object.expanded > table.attr-table {\n",
       "  display: block;\n",
       "}\n",
       ".tfx-object table.attr-table {\n",
       "  border: 2px solid white;\n",
       "  margin-top: 5px;\n",
       "}\n",
       ".tfx-object table.attr-table td.attr-name {\n",
       "  vertical-align: top;\n",
       "  font-weight: bold;\n",
       "}\n",
       ".tfx-object table.attr-table td.attrvalue {\n",
       "  text-align: left;\n",
       "}\n",
       "</style>\n",
       "<script>\n",
       "function toggleTfxObject(element) {\n",
       "  var objElement = element.parentElement;\n",
       "  if (objElement.classList.contains('collapsed')) {\n",
       "    objElement.classList.remove('collapsed');\n",
       "    objElement.classList.add('expanded');\n",
       "  } else {\n",
       "    objElement.classList.add('collapsed');\n",
       "    objElement.classList.remove('expanded');\n",
       "  }\n",
       "}\n",
       "</script>\n",
       "<div class=\"tfx-object collapsed\"><div class = \"title\" onclick=\"toggleTfxObject(this)\"><span class=\"expansion-marker\"></span><span class=\"class-name\">Artifact</span> of type <span class=\"class-name\">'ExampleStatisticsPath'</span> (uri: /tmp/tfx-interactive-2019-08-31T21_40_43.017915-r5zd0p45/StatisticsGen/output/3/eval/)<span class=\"deemphasize\"> at 0x7f57d6a38320</span></div><table class=\"attr-table\"><tr><td class=\"attr-name\">.type_name</td><td class = \"attrvalue\">ExampleStatisticsPath</td></tr><tr><td class=\"attr-name\">.uri</td><td class = \"attrvalue\">/tmp/tfx-interactive-2019-08-31T21_40_43.017915-r5zd0p45/StatisticsGen/output/3/eval/</td></tr><tr><td class=\"attr-name\">.span</td><td class = \"attrvalue\">0</td></tr><tr><td class=\"attr-name\">.split</td><td class = \"attrvalue\">eval</td></tr></table></div></td></tr></table></td></tr></table></div></td></tr></table></td></tr></table></div>"
      ],
      "text/plain": [
       "ExecutionResult(\n",
       "    component_id: StatisticsGen\n",
       "    execution_id: 3\n",
       "    outputs:\n",
       "        output: Channel(\n",
       "            type_name: ExampleStatisticsPath\n",
       "            artifacts: [Artifact(type_name: ExampleStatisticsPath, uri: /tmp/tfx-interactive-2019-08-31T21_40_43.017915-r5zd0p45/StatisticsGen/output/3/train/, split: train, id: 4)\n",
       "            Artifact(type_name: ExampleStatisticsPath, uri: /tmp/tfx-interactive-2019-08-31T21_40_43.017915-r5zd0p45/StatisticsGen/output/3/eval/, split: eval, id: 5)]\n",
       "        ))"
      ]
     },
     "execution_count": 7,
     "metadata": {},
     "output_type": "execute_result"
    }
   ],
   "source": [
    "# Computes statistics over data for visualization and example validation.\n",
    "statistics_gen = StatisticsGen(\n",
    "    input_data=example_gen.outputs['examples'])\n",
    "context.run(statistics_gen)"
   ]
  },
  {
   "cell_type": "markdown",
   "metadata": {
    "colab_type": "text",
    "id": "HLI6cb_5WugZ"
   },
   "source": [
    "#### Import TFDV and visualize the statistics result"
   ]
  },
  {
   "cell_type": "code",
   "execution_count": 8,
   "metadata": {
    "colab": {},
    "colab_type": "code",
    "id": "tLjXy7K6Tp_G"
   },
   "outputs": [],
   "source": [
    "# Import TFDV and get the train statistics path.\n",
    "import tensorflow_data_validation as tfdv\n",
    "from tfx.types.artifact_utils import get_split_uri\n",
    "artifact_list = statistics_gen.outputs['output'].get()\n",
    "train_artifact_uri = get_split_uri(artifact_list, 'train')\n",
    "train_stats_path = os.path.join(train_artifact_uri, 'stats_tfrecord')"
   ]
  },
  {
   "cell_type": "code",
   "execution_count": 9,
   "metadata": {
    "colab": {},
    "colab_type": "code",
    "id": "bKicTZkPTUY8"
   },
   "outputs": [
    {
     "name": "stdout",
     "output_type": "stream",
     "text": [
      "WARNING:tensorflow:From /root/miniconda3/envs/tfx/lib/python3.7/site-packages/tensorflow_data_validation/utils/stats_gen_lib.py:357: tf_record_iterator (from tensorflow.python.lib.io.tf_record) is deprecated and will be removed in a future version.\n",
      "Instructions for updating:\n",
      "Use eager execution and: \n",
      "`tf.data.TFRecordDataset(path)`\n"
     ]
    },
    {
     "name": "stderr",
     "output_type": "stream",
     "text": [
      "WARNING:tensorflow:From /root/miniconda3/envs/tfx/lib/python3.7/site-packages/tensorflow_data_validation/utils/stats_gen_lib.py:357: tf_record_iterator (from tensorflow.python.lib.io.tf_record) is deprecated and will be removed in a future version.\n",
      "Instructions for updating:\n",
      "Use eager execution and: \n",
      "`tf.data.TFRecordDataset(path)`\n"
     ]
    },
    {
     "data": {
      "text/html": [
       "<iframe id='facets-iframe' width=\"100%\" height=\"500px\"></iframe>\n",
       "        <script>\n",
       "        facets_iframe = document.getElementById('facets-iframe');\n",
       "        facets_html = '<link rel=\"import\" href=\"https://raw.githubusercontent.com/PAIR-code/facets/master/facets-dist/facets-jupyter.html\"><facets-overview proto-input=\"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\"></facets-overview>';\n",
       "        facets_iframe.srcdoc = facets_html;\n",
       "         facets_iframe.id = \"\";\n",
       "         setTimeout(() => {\n",
       "           facets_iframe.setAttribute('height', facets_iframe.contentWindow.document.body.offsetHeight + 'px')\n",
       "         }, 1500)\n",
       "         </script>"
      ],
      "text/plain": [
       "<IPython.core.display.HTML object>"
      ]
     },
     "metadata": {},
     "output_type": "display_data"
    }
   ],
   "source": [
    "# Load statistics and visualize training data stats.\n",
    "train_stats = tfdv.load_statistics(train_stats_path)\n",
    "tfdv.visualize_statistics(train_stats)"
   ]
  },
  {
   "cell_type": "markdown",
   "metadata": {
    "colab_type": "text",
    "id": "HLKLTO9Nk60p"
   },
   "source": [
    "### SchemaGen (using Tensorflow Data Validation)\n",
    "`SchemaGen` generates a schema for your data based on computed statistics. This component also uses the [Tensorflow Data Validation](https://www.tensorflow.org/tfx/data_validation/get_started) library."
   ]
  },
  {
   "cell_type": "markdown",
   "metadata": {
    "colab_type": "text",
    "id": "L0xvulenXSK3"
   },
   "source": [
    "#### Run TFDV schema inference using the SchemaGen component"
   ]
  },
  {
   "cell_type": "code",
   "execution_count": 10,
   "metadata": {
    "colab": {},
    "colab_type": "code",
    "id": "ygQvZ6hsiQ_J"
   },
   "outputs": [
    {
     "name": "stdout",
     "output_type": "stream",
     "text": [
      "INFO:tensorflow:Run driver for SchemaGen\n"
     ]
    },
    {
     "name": "stderr",
     "output_type": "stream",
     "text": [
      "INFO:tensorflow:Run driver for SchemaGen\n"
     ]
    },
    {
     "name": "stdout",
     "output_type": "stream",
     "text": [
      "INFO:tensorflow:Created run context interactive-2019-08-31T21_40_43.017915.2019-08-31T21:42:57.398113.\n"
     ]
    },
    {
     "name": "stderr",
     "output_type": "stream",
     "text": [
      "INFO:tensorflow:Created run context interactive-2019-08-31T21_40_43.017915.2019-08-31T21:42:57.398113.\n"
     ]
    },
    {
     "name": "stdout",
     "output_type": "stream",
     "text": [
      "INFO:tensorflow:ID of run context interactive-2019-08-31T21_40_43.017915.2019-08-31T21:42:57.398113 is 4.\n"
     ]
    },
    {
     "name": "stderr",
     "output_type": "stream",
     "text": [
      "INFO:tensorflow:ID of run context interactive-2019-08-31T21_40_43.017915.2019-08-31T21:42:57.398113 is 4.\n"
     ]
    },
    {
     "name": "stdout",
     "output_type": "stream",
     "text": [
      "INFO:tensorflow:Resolved input artifacts are: {'stats': [Artifact(type_name: ExampleStatisticsPath, uri: /tmp/tfx-interactive-2019-08-31T21_40_43.017915-r5zd0p45/StatisticsGen/output/3/train/, split: train, id: 4), Artifact(type_name: ExampleStatisticsPath, uri: /tmp/tfx-interactive-2019-08-31T21_40_43.017915-r5zd0p45/StatisticsGen/output/3/eval/, split: eval, id: 5)]}\n"
     ]
    },
    {
     "name": "stderr",
     "output_type": "stream",
     "text": [
      "INFO:tensorflow:Resolved input artifacts are: {'stats': [Artifact(type_name: ExampleStatisticsPath, uri: /tmp/tfx-interactive-2019-08-31T21_40_43.017915-r5zd0p45/StatisticsGen/output/3/train/, split: train, id: 4), Artifact(type_name: ExampleStatisticsPath, uri: /tmp/tfx-interactive-2019-08-31T21_40_43.017915-r5zd0p45/StatisticsGen/output/3/eval/, split: eval, id: 5)]}\n"
     ]
    },
    {
     "name": "stdout",
     "output_type": "stream",
     "text": [
      "INFO:tensorflow:Prepared EXECUTION:\n",
      " type_id: 7\n",
      "properties {\n",
      "  key: \"component_id\"\n",
      "  value {\n",
      "    string_value: \"SchemaGen\"\n",
      "  }\n",
      "}\n",
      "properties {\n",
      "  key: \"infer_feature_shape\"\n",
      "  value {\n",
      "    string_value: \"False\"\n",
      "  }\n",
      "}\n",
      "properties {\n",
      "  key: \"pipeline_name\"\n",
      "  value {\n",
      "    string_value: \"interactive-2019-08-31T21_40_43.017915\"\n",
      "  }\n",
      "}\n",
      "properties {\n",
      "  key: \"pipeline_root\"\n",
      "  value {\n",
      "    string_value: \"/tmp/tfx-interactive-2019-08-31T21_40_43.017915-r5zd0p45\"\n",
      "  }\n",
      "}\n",
      "properties {\n",
      "  key: \"run_id\"\n",
      "  value {\n",
      "    string_value: \"2019-08-31T21:42:57.398113\"\n",
      "  }\n",
      "}\n",
      "properties {\n",
      "  key: \"state\"\n",
      "  value {\n",
      "    string_value: \"new\"\n",
      "  }\n",
      "}\n",
      "\n"
     ]
    },
    {
     "name": "stderr",
     "output_type": "stream",
     "text": [
      "INFO:tensorflow:Prepared EXECUTION:\n",
      " type_id: 7\n",
      "properties {\n",
      "  key: \"component_id\"\n",
      "  value {\n",
      "    string_value: \"SchemaGen\"\n",
      "  }\n",
      "}\n",
      "properties {\n",
      "  key: \"infer_feature_shape\"\n",
      "  value {\n",
      "    string_value: \"False\"\n",
      "  }\n",
      "}\n",
      "properties {\n",
      "  key: \"pipeline_name\"\n",
      "  value {\n",
      "    string_value: \"interactive-2019-08-31T21_40_43.017915\"\n",
      "  }\n",
      "}\n",
      "properties {\n",
      "  key: \"pipeline_root\"\n",
      "  value {\n",
      "    string_value: \"/tmp/tfx-interactive-2019-08-31T21_40_43.017915-r5zd0p45\"\n",
      "  }\n",
      "}\n",
      "properties {\n",
      "  key: \"run_id\"\n",
      "  value {\n",
      "    string_value: \"2019-08-31T21:42:57.398113\"\n",
      "  }\n",
      "}\n",
      "properties {\n",
      "  key: \"state\"\n",
      "  value {\n",
      "    string_value: \"new\"\n",
      "  }\n",
      "}\n",
      "\n"
     ]
    },
    {
     "name": "stdout",
     "output_type": "stream",
     "text": [
      "INFO:tensorflow:Execution id of the upcoming component execution is 4\n"
     ]
    },
    {
     "name": "stderr",
     "output_type": "stream",
     "text": [
      "INFO:tensorflow:Execution id of the upcoming component execution is 4\n"
     ]
    },
    {
     "name": "stdout",
     "output_type": "stream",
     "text": [
      "INFO:tensorflow:Checking previous run for execution_type_name tfx.components.schema_gen.component.SchemaGen and input_artifacts {'stats': [Artifact(type_name: ExampleStatisticsPath, uri: /tmp/tfx-interactive-2019-08-31T21_40_43.017915-r5zd0p45/StatisticsGen/output/3/train/, split: train, id: 4), Artifact(type_name: ExampleStatisticsPath, uri: /tmp/tfx-interactive-2019-08-31T21_40_43.017915-r5zd0p45/StatisticsGen/output/3/eval/, split: eval, id: 5)]}\n"
     ]
    },
    {
     "name": "stderr",
     "output_type": "stream",
     "text": [
      "INFO:tensorflow:Checking previous run for execution_type_name tfx.components.schema_gen.component.SchemaGen and input_artifacts {'stats': [Artifact(type_name: ExampleStatisticsPath, uri: /tmp/tfx-interactive-2019-08-31T21_40_43.017915-r5zd0p45/StatisticsGen/output/3/train/, split: train, id: 4), Artifact(type_name: ExampleStatisticsPath, uri: /tmp/tfx-interactive-2019-08-31T21_40_43.017915-r5zd0p45/StatisticsGen/output/3/eval/, split: eval, id: 5)]}\n"
     ]
    },
    {
     "name": "stdout",
     "output_type": "stream",
     "text": [
      "INFO:tensorflow:Prepared EXECUTION:\n",
      " type_id: 7\n",
      "properties {\n",
      "  key: \"component_id\"\n",
      "  value {\n",
      "    string_value: \"SchemaGen\"\n",
      "  }\n",
      "}\n",
      "properties {\n",
      "  key: \"infer_feature_shape\"\n",
      "  value {\n",
      "    string_value: \"False\"\n",
      "  }\n",
      "}\n",
      "properties {\n",
      "  key: \"pipeline_name\"\n",
      "  value {\n",
      "    string_value: \"interactive-2019-08-31T21_40_43.017915\"\n",
      "  }\n",
      "}\n",
      "properties {\n",
      "  key: \"pipeline_root\"\n",
      "  value {\n",
      "    string_value: \"/tmp/tfx-interactive-2019-08-31T21_40_43.017915-r5zd0p45\"\n",
      "  }\n",
      "}\n",
      "properties {\n",
      "  key: \"run_id\"\n",
      "  value {\n",
      "    string_value: \"2019-08-31T21:42:57.398113\"\n",
      "  }\n",
      "}\n",
      "properties {\n",
      "  key: \"state\"\n",
      "  value {\n",
      "    string_value: \"complete\"\n",
      "  }\n",
      "}\n",
      "\n"
     ]
    },
    {
     "name": "stderr",
     "output_type": "stream",
     "text": [
      "INFO:tensorflow:Prepared EXECUTION:\n",
      " type_id: 7\n",
      "properties {\n",
      "  key: \"component_id\"\n",
      "  value {\n",
      "    string_value: \"SchemaGen\"\n",
      "  }\n",
      "}\n",
      "properties {\n",
      "  key: \"infer_feature_shape\"\n",
      "  value {\n",
      "    string_value: \"False\"\n",
      "  }\n",
      "}\n",
      "properties {\n",
      "  key: \"pipeline_name\"\n",
      "  value {\n",
      "    string_value: \"interactive-2019-08-31T21_40_43.017915\"\n",
      "  }\n",
      "}\n",
      "properties {\n",
      "  key: \"pipeline_root\"\n",
      "  value {\n",
      "    string_value: \"/tmp/tfx-interactive-2019-08-31T21_40_43.017915-r5zd0p45\"\n",
      "  }\n",
      "}\n",
      "properties {\n",
      "  key: \"run_id\"\n",
      "  value {\n",
      "    string_value: \"2019-08-31T21:42:57.398113\"\n",
      "  }\n",
      "}\n",
      "properties {\n",
      "  key: \"state\"\n",
      "  value {\n",
      "    string_value: \"complete\"\n",
      "  }\n",
      "}\n",
      "\n"
     ]
    },
    {
     "name": "stdout",
     "output_type": "stream",
     "text": [
      "INFO:tensorflow:No execution matching type id and input artifacts found\n"
     ]
    },
    {
     "name": "stderr",
     "output_type": "stream",
     "text": [
      "INFO:tensorflow:No execution matching type id and input artifacts found\n"
     ]
    },
    {
     "name": "stdout",
     "output_type": "stream",
     "text": [
      "INFO:tensorflow:Cached results not found, move on to new execution\n"
     ]
    },
    {
     "name": "stderr",
     "output_type": "stream",
     "text": [
      "INFO:tensorflow:Cached results not found, move on to new execution\n"
     ]
    },
    {
     "name": "stdout",
     "output_type": "stream",
     "text": [
      "INFO:tensorflow:Creating output artifact uri /tmp/tfx-interactive-2019-08-31T21_40_43.017915-r5zd0p45/SchemaGen/output/4/ as directory\n"
     ]
    },
    {
     "name": "stderr",
     "output_type": "stream",
     "text": [
      "INFO:tensorflow:Creating output artifact uri /tmp/tfx-interactive-2019-08-31T21_40_43.017915-r5zd0p45/SchemaGen/output/4/ as directory\n"
     ]
    },
    {
     "name": "stdout",
     "output_type": "stream",
     "text": [
      "INFO:tensorflow:Output artifacts skeleton for the upcoming execution are: {'output': [Artifact(type_name: SchemaPath, uri: /tmp/tfx-interactive-2019-08-31T21_40_43.017915-r5zd0p45/SchemaGen/output/4/, split: , id: 0)]}\n"
     ]
    },
    {
     "name": "stderr",
     "output_type": "stream",
     "text": [
      "INFO:tensorflow:Output artifacts skeleton for the upcoming execution are: {'output': [Artifact(type_name: SchemaPath, uri: /tmp/tfx-interactive-2019-08-31T21_40_43.017915-r5zd0p45/SchemaGen/output/4/, split: , id: 0)]}\n"
     ]
    },
    {
     "name": "stdout",
     "output_type": "stream",
     "text": [
      "INFO:tensorflow:Execution properties for the upcoming execution are: {'infer_feature_shape': False}\n"
     ]
    },
    {
     "name": "stderr",
     "output_type": "stream",
     "text": [
      "INFO:tensorflow:Execution properties for the upcoming execution are: {'infer_feature_shape': False}\n"
     ]
    },
    {
     "name": "stdout",
     "output_type": "stream",
     "text": [
      "INFO:tensorflow:Run executor for SchemaGen\n"
     ]
    },
    {
     "name": "stderr",
     "output_type": "stream",
     "text": [
      "INFO:tensorflow:Run executor for SchemaGen\n"
     ]
    },
    {
     "name": "stdout",
     "output_type": "stream",
     "text": [
      "WARNING:tensorflow:From /root/miniconda3/envs/tfx/lib/python3.7/site-packages/tfx/utils/io_utils.py:76: The name tf.gfile.ListDirectory is deprecated. Please use tf.io.gfile.listdir instead.\n",
      "\n"
     ]
    },
    {
     "name": "stderr",
     "output_type": "stream",
     "text": [
      "WARNING:tensorflow:From /root/miniconda3/envs/tfx/lib/python3.7/site-packages/tfx/utils/io_utils.py:76: The name tf.gfile.ListDirectory is deprecated. Please use tf.io.gfile.listdir instead.\n",
      "\n"
     ]
    },
    {
     "name": "stdout",
     "output_type": "stream",
     "text": [
      "INFO:tensorflow:Infering schema from statistics.\n"
     ]
    },
    {
     "name": "stderr",
     "output_type": "stream",
     "text": [
      "INFO:tensorflow:Infering schema from statistics.\n"
     ]
    },
    {
     "name": "stdout",
     "output_type": "stream",
     "text": [
      "INFO:tensorflow:Schema written to /tmp/tfx-interactive-2019-08-31T21_40_43.017915-r5zd0p45/SchemaGen/output/4/schema.pbtxt.\n"
     ]
    },
    {
     "name": "stderr",
     "output_type": "stream",
     "text": [
      "INFO:tensorflow:Schema written to /tmp/tfx-interactive-2019-08-31T21_40_43.017915-r5zd0p45/SchemaGen/output/4/schema.pbtxt.\n"
     ]
    },
    {
     "name": "stdout",
     "output_type": "stream",
     "text": [
      "INFO:tensorflow:Run publisher for SchemaGen\n"
     ]
    },
    {
     "name": "stderr",
     "output_type": "stream",
     "text": [
      "INFO:tensorflow:Run publisher for SchemaGen\n"
     ]
    },
    {
     "name": "stdout",
     "output_type": "stream",
     "text": [
      "INFO:tensorflow:Whether cached results are used: False\n"
     ]
    },
    {
     "name": "stderr",
     "output_type": "stream",
     "text": [
      "INFO:tensorflow:Whether cached results are used: False\n"
     ]
    },
    {
     "name": "stdout",
     "output_type": "stream",
     "text": [
      "INFO:tensorflow:Execution id: 4\n"
     ]
    },
    {
     "name": "stderr",
     "output_type": "stream",
     "text": [
      "INFO:tensorflow:Execution id: 4\n"
     ]
    },
    {
     "name": "stdout",
     "output_type": "stream",
     "text": [
      "INFO:tensorflow:Inputs: {'stats': [Artifact(type_name: ExampleStatisticsPath, uri: /tmp/tfx-interactive-2019-08-31T21_40_43.017915-r5zd0p45/StatisticsGen/output/3/train/, split: train, id: 4), Artifact(type_name: ExampleStatisticsPath, uri: /tmp/tfx-interactive-2019-08-31T21_40_43.017915-r5zd0p45/StatisticsGen/output/3/eval/, split: eval, id: 5)]}\n"
     ]
    },
    {
     "name": "stderr",
     "output_type": "stream",
     "text": [
      "INFO:tensorflow:Inputs: {'stats': [Artifact(type_name: ExampleStatisticsPath, uri: /tmp/tfx-interactive-2019-08-31T21_40_43.017915-r5zd0p45/StatisticsGen/output/3/train/, split: train, id: 4), Artifact(type_name: ExampleStatisticsPath, uri: /tmp/tfx-interactive-2019-08-31T21_40_43.017915-r5zd0p45/StatisticsGen/output/3/eval/, split: eval, id: 5)]}\n"
     ]
    },
    {
     "name": "stdout",
     "output_type": "stream",
     "text": [
      "INFO:tensorflow:Outputs: {'output': [Artifact(type_name: SchemaPath, uri: /tmp/tfx-interactive-2019-08-31T21_40_43.017915-r5zd0p45/SchemaGen/output/4/, split: , id: 0)]}\n"
     ]
    },
    {
     "name": "stderr",
     "output_type": "stream",
     "text": [
      "INFO:tensorflow:Outputs: {'output': [Artifact(type_name: SchemaPath, uri: /tmp/tfx-interactive-2019-08-31T21_40_43.017915-r5zd0p45/SchemaGen/output/4/, split: , id: 0)]}\n"
     ]
    },
    {
     "name": "stdout",
     "output_type": "stream",
     "text": [
      "INFO:tensorflow:Publishing execution id: 4\n",
      "type_id: 7\n",
      "properties {\n",
      "  key: \"component_id\"\n",
      "  value {\n",
      "    string_value: \"SchemaGen\"\n",
      "  }\n",
      "}\n",
      "properties {\n",
      "  key: \"infer_feature_shape\"\n",
      "  value {\n",
      "    string_value: \"False\"\n",
      "  }\n",
      "}\n",
      "properties {\n",
      "  key: \"pipeline_name\"\n",
      "  value {\n",
      "    string_value: \"interactive-2019-08-31T21_40_43.017915\"\n",
      "  }\n",
      "}\n",
      "properties {\n",
      "  key: \"pipeline_root\"\n",
      "  value {\n",
      "    string_value: \"/tmp/tfx-interactive-2019-08-31T21_40_43.017915-r5zd0p45\"\n",
      "  }\n",
      "}\n",
      "properties {\n",
      "  key: \"run_id\"\n",
      "  value {\n",
      "    string_value: \"2019-08-31T21:42:57.398113\"\n",
      "  }\n",
      "}\n",
      "properties {\n",
      "  key: \"state\"\n",
      "  value {\n",
      "    string_value: \"complete\"\n",
      "  }\n",
      "}\n",
      ", with inputs {'stats': [Artifact(type_name: ExampleStatisticsPath, uri: /tmp/tfx-interactive-2019-08-31T21_40_43.017915-r5zd0p45/StatisticsGen/output/3/train/, split: train, id: 4), Artifact(type_name: ExampleStatisticsPath, uri: /tmp/tfx-interactive-2019-08-31T21_40_43.017915-r5zd0p45/StatisticsGen/output/3/eval/, split: eval, id: 5)]} and outputs {'output': [Artifact(type_name: SchemaPath, uri: /tmp/tfx-interactive-2019-08-31T21_40_43.017915-r5zd0p45/SchemaGen/output/4/, split: , id: 0)]}\n"
     ]
    },
    {
     "name": "stderr",
     "output_type": "stream",
     "text": [
      "INFO:tensorflow:Publishing execution id: 4\n",
      "type_id: 7\n",
      "properties {\n",
      "  key: \"component_id\"\n",
      "  value {\n",
      "    string_value: \"SchemaGen\"\n",
      "  }\n",
      "}\n",
      "properties {\n",
      "  key: \"infer_feature_shape\"\n",
      "  value {\n",
      "    string_value: \"False\"\n",
      "  }\n",
      "}\n",
      "properties {\n",
      "  key: \"pipeline_name\"\n",
      "  value {\n",
      "    string_value: \"interactive-2019-08-31T21_40_43.017915\"\n",
      "  }\n",
      "}\n",
      "properties {\n",
      "  key: \"pipeline_root\"\n",
      "  value {\n",
      "    string_value: \"/tmp/tfx-interactive-2019-08-31T21_40_43.017915-r5zd0p45\"\n",
      "  }\n",
      "}\n",
      "properties {\n",
      "  key: \"run_id\"\n",
      "  value {\n",
      "    string_value: \"2019-08-31T21:42:57.398113\"\n",
      "  }\n",
      "}\n",
      "properties {\n",
      "  key: \"state\"\n",
      "  value {\n",
      "    string_value: \"complete\"\n",
      "  }\n",
      "}\n",
      ", with inputs {'stats': [Artifact(type_name: ExampleStatisticsPath, uri: /tmp/tfx-interactive-2019-08-31T21_40_43.017915-r5zd0p45/StatisticsGen/output/3/train/, split: train, id: 4), Artifact(type_name: ExampleStatisticsPath, uri: /tmp/tfx-interactive-2019-08-31T21_40_43.017915-r5zd0p45/StatisticsGen/output/3/eval/, split: eval, id: 5)]} and outputs {'output': [Artifact(type_name: SchemaPath, uri: /tmp/tfx-interactive-2019-08-31T21_40_43.017915-r5zd0p45/SchemaGen/output/4/, split: , id: 0)]}\n"
     ]
    },
    {
     "name": "stdout",
     "output_type": "stream",
     "text": [
      "INFO:tensorflow:Published execution with final outputs {'output': [Artifact(type_name: SchemaPath, uri: /tmp/tfx-interactive-2019-08-31T21_40_43.017915-r5zd0p45/SchemaGen/output/4/, split: , id: 6)]}\n"
     ]
    },
    {
     "name": "stderr",
     "output_type": "stream",
     "text": [
      "INFO:tensorflow:Published execution with final outputs {'output': [Artifact(type_name: SchemaPath, uri: /tmp/tfx-interactive-2019-08-31T21_40_43.017915-r5zd0p45/SchemaGen/output/4/, split: , id: 6)]}\n"
     ]
    },
    {
     "data": {
      "text/html": [
       "<style>\n",
       ".tfx-object.expanded {\n",
       "  padding: 4px 8px 4px 8px;\n",
       "  background: white;\n",
       "  border: 1px solid #bbbbbb;\n",
       "  box-shadow: 4px 4px 2px rgba(0,0,0,0.05);\n",
       "}\n",
       ".tfx-object, .tfx-object * {\n",
       "  font-size: 11pt;\n",
       "}\n",
       ".tfx-object > .title {\n",
       "  cursor: pointer;\n",
       "}\n",
       ".tfx-object .expansion-marker {\n",
       "  color: #999999;\n",
       "}\n",
       ".tfx-object.expanded > .title > .expansion-marker:before {\n",
       "  content: '▼';\n",
       "}\n",
       ".tfx-object.collapsed > .title > .expansion-marker:before {\n",
       "  content: '▶';\n",
       "}\n",
       ".tfx-object .class-name {\n",
       "  font-weight: bold;\n",
       "}\n",
       ".tfx-object .deemphasize {\n",
       "  opacity: 0.5;\n",
       "}\n",
       ".tfx-object.collapsed > table.attr-table {\n",
       "  display: none;\n",
       "}\n",
       ".tfx-object.expanded > table.attr-table {\n",
       "  display: block;\n",
       "}\n",
       ".tfx-object table.attr-table {\n",
       "  border: 2px solid white;\n",
       "  margin-top: 5px;\n",
       "}\n",
       ".tfx-object table.attr-table td.attr-name {\n",
       "  vertical-align: top;\n",
       "  font-weight: bold;\n",
       "}\n",
       ".tfx-object table.attr-table td.attrvalue {\n",
       "  text-align: left;\n",
       "}\n",
       "</style>\n",
       "<script>\n",
       "function toggleTfxObject(element) {\n",
       "  var objElement = element.parentElement;\n",
       "  if (objElement.classList.contains('collapsed')) {\n",
       "    objElement.classList.remove('collapsed');\n",
       "    objElement.classList.add('expanded');\n",
       "  } else {\n",
       "    objElement.classList.add('collapsed');\n",
       "    objElement.classList.remove('expanded');\n",
       "  }\n",
       "}\n",
       "</script>\n",
       "<div class=\"tfx-object expanded\"><div class = \"title\" onclick=\"toggleTfxObject(this)\"><span class=\"expansion-marker\"></span><span class=\"class-name\">ExecutionResult</span><span class=\"deemphasize\"> at 0x7f5778208be0</span></div><table class=\"attr-table\"><tr><td class=\"attr-name\">.execution_id</td><td class = \"attrvalue\">4</td></tr><tr><td class=\"attr-name\">.component</td><td class = \"attrvalue\"><style>\n",
       ".tfx-object.expanded {\n",
       "  padding: 4px 8px 4px 8px;\n",
       "  background: white;\n",
       "  border: 1px solid #bbbbbb;\n",
       "  box-shadow: 4px 4px 2px rgba(0,0,0,0.05);\n",
       "}\n",
       ".tfx-object, .tfx-object * {\n",
       "  font-size: 11pt;\n",
       "}\n",
       ".tfx-object > .title {\n",
       "  cursor: pointer;\n",
       "}\n",
       ".tfx-object .expansion-marker {\n",
       "  color: #999999;\n",
       "}\n",
       ".tfx-object.expanded > .title > .expansion-marker:before {\n",
       "  content: '▼';\n",
       "}\n",
       ".tfx-object.collapsed > .title > .expansion-marker:before {\n",
       "  content: '▶';\n",
       "}\n",
       ".tfx-object .class-name {\n",
       "  font-weight: bold;\n",
       "}\n",
       ".tfx-object .deemphasize {\n",
       "  opacity: 0.5;\n",
       "}\n",
       ".tfx-object.collapsed > table.attr-table {\n",
       "  display: none;\n",
       "}\n",
       ".tfx-object.expanded > table.attr-table {\n",
       "  display: block;\n",
       "}\n",
       ".tfx-object table.attr-table {\n",
       "  border: 2px solid white;\n",
       "  margin-top: 5px;\n",
       "}\n",
       ".tfx-object table.attr-table td.attr-name {\n",
       "  vertical-align: top;\n",
       "  font-weight: bold;\n",
       "}\n",
       ".tfx-object table.attr-table td.attrvalue {\n",
       "  text-align: left;\n",
       "}\n",
       "</style>\n",
       "<script>\n",
       "function toggleTfxObject(element) {\n",
       "  var objElement = element.parentElement;\n",
       "  if (objElement.classList.contains('collapsed')) {\n",
       "    objElement.classList.remove('collapsed');\n",
       "    objElement.classList.add('expanded');\n",
       "  } else {\n",
       "    objElement.classList.add('collapsed');\n",
       "    objElement.classList.remove('expanded');\n",
       "  }\n",
       "}\n",
       "</script>\n",
       "<div class=\"tfx-object collapsed\"><div class = \"title\" onclick=\"toggleTfxObject(this)\"><span class=\"expansion-marker\"></span><span class=\"class-name\">SchemaGen</span><span class=\"deemphasize\"> at 0x7f57c4215860</span></div><table class=\"attr-table\"><tr><td class=\"attr-name\">.inputs</td><td class = \"attrvalue\"><table class=\"attr-table\"><tr><td class=\"attr-name\">['stats']</td><td class = \"attrvalue\"><style>\n",
       ".tfx-object.expanded {\n",
       "  padding: 4px 8px 4px 8px;\n",
       "  background: white;\n",
       "  border: 1px solid #bbbbbb;\n",
       "  box-shadow: 4px 4px 2px rgba(0,0,0,0.05);\n",
       "}\n",
       ".tfx-object, .tfx-object * {\n",
       "  font-size: 11pt;\n",
       "}\n",
       ".tfx-object > .title {\n",
       "  cursor: pointer;\n",
       "}\n",
       ".tfx-object .expansion-marker {\n",
       "  color: #999999;\n",
       "}\n",
       ".tfx-object.expanded > .title > .expansion-marker:before {\n",
       "  content: '▼';\n",
       "}\n",
       ".tfx-object.collapsed > .title > .expansion-marker:before {\n",
       "  content: '▶';\n",
       "}\n",
       ".tfx-object .class-name {\n",
       "  font-weight: bold;\n",
       "}\n",
       ".tfx-object .deemphasize {\n",
       "  opacity: 0.5;\n",
       "}\n",
       ".tfx-object.collapsed > table.attr-table {\n",
       "  display: none;\n",
       "}\n",
       ".tfx-object.expanded > table.attr-table {\n",
       "  display: block;\n",
       "}\n",
       ".tfx-object table.attr-table {\n",
       "  border: 2px solid white;\n",
       "  margin-top: 5px;\n",
       "}\n",
       ".tfx-object table.attr-table td.attr-name {\n",
       "  vertical-align: top;\n",
       "  font-weight: bold;\n",
       "}\n",
       ".tfx-object table.attr-table td.attrvalue {\n",
       "  text-align: left;\n",
       "}\n",
       "</style>\n",
       "<script>\n",
       "function toggleTfxObject(element) {\n",
       "  var objElement = element.parentElement;\n",
       "  if (objElement.classList.contains('collapsed')) {\n",
       "    objElement.classList.remove('collapsed');\n",
       "    objElement.classList.add('expanded');\n",
       "  } else {\n",
       "    objElement.classList.add('collapsed');\n",
       "    objElement.classList.remove('expanded');\n",
       "  }\n",
       "}\n",
       "</script>\n",
       "<div class=\"tfx-object collapsed\"><div class = \"title\" onclick=\"toggleTfxObject(this)\"><span class=\"expansion-marker\"></span><span class=\"class-name\">Channel</span> of type <span class=\"class-name\">'ExampleStatisticsPath'</span> (2 artifacts)<span class=\"deemphasize\"> at 0x7f57d6a38b38</span></div><table class=\"attr-table\"><tr><td class=\"attr-name\">.type_name</td><td class = \"attrvalue\">ExampleStatisticsPath</td></tr><tr><td class=\"attr-name\">._artifacts</td><td class = \"attrvalue\"><table class=\"attr-table\"><tr><td class=\"attr-name\">[0]</td><td class = \"attrvalue\"><style>\n",
       ".tfx-object.expanded {\n",
       "  padding: 4px 8px 4px 8px;\n",
       "  background: white;\n",
       "  border: 1px solid #bbbbbb;\n",
       "  box-shadow: 4px 4px 2px rgba(0,0,0,0.05);\n",
       "}\n",
       ".tfx-object, .tfx-object * {\n",
       "  font-size: 11pt;\n",
       "}\n",
       ".tfx-object > .title {\n",
       "  cursor: pointer;\n",
       "}\n",
       ".tfx-object .expansion-marker {\n",
       "  color: #999999;\n",
       "}\n",
       ".tfx-object.expanded > .title > .expansion-marker:before {\n",
       "  content: '▼';\n",
       "}\n",
       ".tfx-object.collapsed > .title > .expansion-marker:before {\n",
       "  content: '▶';\n",
       "}\n",
       ".tfx-object .class-name {\n",
       "  font-weight: bold;\n",
       "}\n",
       ".tfx-object .deemphasize {\n",
       "  opacity: 0.5;\n",
       "}\n",
       ".tfx-object.collapsed > table.attr-table {\n",
       "  display: none;\n",
       "}\n",
       ".tfx-object.expanded > table.attr-table {\n",
       "  display: block;\n",
       "}\n",
       ".tfx-object table.attr-table {\n",
       "  border: 2px solid white;\n",
       "  margin-top: 5px;\n",
       "}\n",
       ".tfx-object table.attr-table td.attr-name {\n",
       "  vertical-align: top;\n",
       "  font-weight: bold;\n",
       "}\n",
       ".tfx-object table.attr-table td.attrvalue {\n",
       "  text-align: left;\n",
       "}\n",
       "</style>\n",
       "<script>\n",
       "function toggleTfxObject(element) {\n",
       "  var objElement = element.parentElement;\n",
       "  if (objElement.classList.contains('collapsed')) {\n",
       "    objElement.classList.remove('collapsed');\n",
       "    objElement.classList.add('expanded');\n",
       "  } else {\n",
       "    objElement.classList.add('collapsed');\n",
       "    objElement.classList.remove('expanded');\n",
       "  }\n",
       "}\n",
       "</script>\n",
       "<div class=\"tfx-object collapsed\"><div class = \"title\" onclick=\"toggleTfxObject(this)\"><span class=\"expansion-marker\"></span><span class=\"class-name\">Artifact</span> of type <span class=\"class-name\">'ExampleStatisticsPath'</span> (uri: /tmp/tfx-interactive-2019-08-31T21_40_43.017915-r5zd0p45/StatisticsGen/output/3/train/)<span class=\"deemphasize\"> at 0x7f57d6a38ac8</span></div><table class=\"attr-table\"><tr><td class=\"attr-name\">.type_name</td><td class = \"attrvalue\">ExampleStatisticsPath</td></tr><tr><td class=\"attr-name\">.uri</td><td class = \"attrvalue\">/tmp/tfx-interactive-2019-08-31T21_40_43.017915-r5zd0p45/StatisticsGen/output/3/train/</td></tr><tr><td class=\"attr-name\">.span</td><td class = \"attrvalue\">0</td></tr><tr><td class=\"attr-name\">.split</td><td class = \"attrvalue\">train</td></tr></table></div></td></tr><tr><td class=\"attr-name\">[1]</td><td class = \"attrvalue\"><style>\n",
       ".tfx-object.expanded {\n",
       "  padding: 4px 8px 4px 8px;\n",
       "  background: white;\n",
       "  border: 1px solid #bbbbbb;\n",
       "  box-shadow: 4px 4px 2px rgba(0,0,0,0.05);\n",
       "}\n",
       ".tfx-object, .tfx-object * {\n",
       "  font-size: 11pt;\n",
       "}\n",
       ".tfx-object > .title {\n",
       "  cursor: pointer;\n",
       "}\n",
       ".tfx-object .expansion-marker {\n",
       "  color: #999999;\n",
       "}\n",
       ".tfx-object.expanded > .title > .expansion-marker:before {\n",
       "  content: '▼';\n",
       "}\n",
       ".tfx-object.collapsed > .title > .expansion-marker:before {\n",
       "  content: '▶';\n",
       "}\n",
       ".tfx-object .class-name {\n",
       "  font-weight: bold;\n",
       "}\n",
       ".tfx-object .deemphasize {\n",
       "  opacity: 0.5;\n",
       "}\n",
       ".tfx-object.collapsed > table.attr-table {\n",
       "  display: none;\n",
       "}\n",
       ".tfx-object.expanded > table.attr-table {\n",
       "  display: block;\n",
       "}\n",
       ".tfx-object table.attr-table {\n",
       "  border: 2px solid white;\n",
       "  margin-top: 5px;\n",
       "}\n",
       ".tfx-object table.attr-table td.attr-name {\n",
       "  vertical-align: top;\n",
       "  font-weight: bold;\n",
       "}\n",
       ".tfx-object table.attr-table td.attrvalue {\n",
       "  text-align: left;\n",
       "}\n",
       "</style>\n",
       "<script>\n",
       "function toggleTfxObject(element) {\n",
       "  var objElement = element.parentElement;\n",
       "  if (objElement.classList.contains('collapsed')) {\n",
       "    objElement.classList.remove('collapsed');\n",
       "    objElement.classList.add('expanded');\n",
       "  } else {\n",
       "    objElement.classList.add('collapsed');\n",
       "    objElement.classList.remove('expanded');\n",
       "  }\n",
       "}\n",
       "</script>\n",
       "<div class=\"tfx-object collapsed\"><div class = \"title\" onclick=\"toggleTfxObject(this)\"><span class=\"expansion-marker\"></span><span class=\"class-name\">Artifact</span> of type <span class=\"class-name\">'ExampleStatisticsPath'</span> (uri: /tmp/tfx-interactive-2019-08-31T21_40_43.017915-r5zd0p45/StatisticsGen/output/3/eval/)<span class=\"deemphasize\"> at 0x7f57d6a38320</span></div><table class=\"attr-table\"><tr><td class=\"attr-name\">.type_name</td><td class = \"attrvalue\">ExampleStatisticsPath</td></tr><tr><td class=\"attr-name\">.uri</td><td class = \"attrvalue\">/tmp/tfx-interactive-2019-08-31T21_40_43.017915-r5zd0p45/StatisticsGen/output/3/eval/</td></tr><tr><td class=\"attr-name\">.span</td><td class = \"attrvalue\">0</td></tr><tr><td class=\"attr-name\">.split</td><td class = \"attrvalue\">eval</td></tr></table></div></td></tr></table></td></tr></table></div></td></tr></table></td></tr><tr><td class=\"attr-name\">.outputs</td><td class = \"attrvalue\"><table class=\"attr-table\"><tr><td class=\"attr-name\">['output']</td><td class = \"attrvalue\"><style>\n",
       ".tfx-object.expanded {\n",
       "  padding: 4px 8px 4px 8px;\n",
       "  background: white;\n",
       "  border: 1px solid #bbbbbb;\n",
       "  box-shadow: 4px 4px 2px rgba(0,0,0,0.05);\n",
       "}\n",
       ".tfx-object, .tfx-object * {\n",
       "  font-size: 11pt;\n",
       "}\n",
       ".tfx-object > .title {\n",
       "  cursor: pointer;\n",
       "}\n",
       ".tfx-object .expansion-marker {\n",
       "  color: #999999;\n",
       "}\n",
       ".tfx-object.expanded > .title > .expansion-marker:before {\n",
       "  content: '▼';\n",
       "}\n",
       ".tfx-object.collapsed > .title > .expansion-marker:before {\n",
       "  content: '▶';\n",
       "}\n",
       ".tfx-object .class-name {\n",
       "  font-weight: bold;\n",
       "}\n",
       ".tfx-object .deemphasize {\n",
       "  opacity: 0.5;\n",
       "}\n",
       ".tfx-object.collapsed > table.attr-table {\n",
       "  display: none;\n",
       "}\n",
       ".tfx-object.expanded > table.attr-table {\n",
       "  display: block;\n",
       "}\n",
       ".tfx-object table.attr-table {\n",
       "  border: 2px solid white;\n",
       "  margin-top: 5px;\n",
       "}\n",
       ".tfx-object table.attr-table td.attr-name {\n",
       "  vertical-align: top;\n",
       "  font-weight: bold;\n",
       "}\n",
       ".tfx-object table.attr-table td.attrvalue {\n",
       "  text-align: left;\n",
       "}\n",
       "</style>\n",
       "<script>\n",
       "function toggleTfxObject(element) {\n",
       "  var objElement = element.parentElement;\n",
       "  if (objElement.classList.contains('collapsed')) {\n",
       "    objElement.classList.remove('collapsed');\n",
       "    objElement.classList.add('expanded');\n",
       "  } else {\n",
       "    objElement.classList.add('collapsed');\n",
       "    objElement.classList.remove('expanded');\n",
       "  }\n",
       "}\n",
       "</script>\n",
       "<div class=\"tfx-object collapsed\"><div class = \"title\" onclick=\"toggleTfxObject(this)\"><span class=\"expansion-marker\"></span><span class=\"class-name\">Channel</span> of type <span class=\"class-name\">'SchemaPath'</span> (1 artifact)<span class=\"deemphasize\"> at 0x7f57c4215668</span></div><table class=\"attr-table\"><tr><td class=\"attr-name\">.type_name</td><td class = \"attrvalue\">SchemaPath</td></tr><tr><td class=\"attr-name\">._artifacts</td><td class = \"attrvalue\"><table class=\"attr-table\"><tr><td class=\"attr-name\">[0]</td><td class = \"attrvalue\"><style>\n",
       ".tfx-object.expanded {\n",
       "  padding: 4px 8px 4px 8px;\n",
       "  background: white;\n",
       "  border: 1px solid #bbbbbb;\n",
       "  box-shadow: 4px 4px 2px rgba(0,0,0,0.05);\n",
       "}\n",
       ".tfx-object, .tfx-object * {\n",
       "  font-size: 11pt;\n",
       "}\n",
       ".tfx-object > .title {\n",
       "  cursor: pointer;\n",
       "}\n",
       ".tfx-object .expansion-marker {\n",
       "  color: #999999;\n",
       "}\n",
       ".tfx-object.expanded > .title > .expansion-marker:before {\n",
       "  content: '▼';\n",
       "}\n",
       ".tfx-object.collapsed > .title > .expansion-marker:before {\n",
       "  content: '▶';\n",
       "}\n",
       ".tfx-object .class-name {\n",
       "  font-weight: bold;\n",
       "}\n",
       ".tfx-object .deemphasize {\n",
       "  opacity: 0.5;\n",
       "}\n",
       ".tfx-object.collapsed > table.attr-table {\n",
       "  display: none;\n",
       "}\n",
       ".tfx-object.expanded > table.attr-table {\n",
       "  display: block;\n",
       "}\n",
       ".tfx-object table.attr-table {\n",
       "  border: 2px solid white;\n",
       "  margin-top: 5px;\n",
       "}\n",
       ".tfx-object table.attr-table td.attr-name {\n",
       "  vertical-align: top;\n",
       "  font-weight: bold;\n",
       "}\n",
       ".tfx-object table.attr-table td.attrvalue {\n",
       "  text-align: left;\n",
       "}\n",
       "</style>\n",
       "<script>\n",
       "function toggleTfxObject(element) {\n",
       "  var objElement = element.parentElement;\n",
       "  if (objElement.classList.contains('collapsed')) {\n",
       "    objElement.classList.remove('collapsed');\n",
       "    objElement.classList.add('expanded');\n",
       "  } else {\n",
       "    objElement.classList.add('collapsed');\n",
       "    objElement.classList.remove('expanded');\n",
       "  }\n",
       "}\n",
       "</script>\n",
       "<div class=\"tfx-object collapsed\"><div class = \"title\" onclick=\"toggleTfxObject(this)\"><span class=\"expansion-marker\"></span><span class=\"class-name\">Artifact</span> of type <span class=\"class-name\">'SchemaPath'</span> (uri: /tmp/tfx-interactive-2019-08-31T21_40_43.017915-r5zd0p45/SchemaGen/output/4/)<span class=\"deemphasize\"> at 0x7f57c4215828</span></div><table class=\"attr-table\"><tr><td class=\"attr-name\">.type_name</td><td class = \"attrvalue\">SchemaPath</td></tr><tr><td class=\"attr-name\">.uri</td><td class = \"attrvalue\">/tmp/tfx-interactive-2019-08-31T21_40_43.017915-r5zd0p45/SchemaGen/output/4/</td></tr><tr><td class=\"attr-name\">.span</td><td class = \"attrvalue\">0</td></tr><tr><td class=\"attr-name\">.split</td><td class = \"attrvalue\"></td></tr></table></div></td></tr></table></td></tr></table></div></td></tr></table></td></tr><tr><td class=\"attr-name\">.exec_properties</td><td class = \"attrvalue\"><table class=\"attr-table\"><tr><td class=\"attr-name\">['infer_feature_shape']</td><td class = \"attrvalue\">False</td></tr></table></td></tr></table></div></td></tr><tr><td class=\"attr-name\">.component.inputs</td><td class = \"attrvalue\"><table class=\"attr-table\"><tr><td class=\"attr-name\">['stats']</td><td class = \"attrvalue\"><style>\n",
       ".tfx-object.expanded {\n",
       "  padding: 4px 8px 4px 8px;\n",
       "  background: white;\n",
       "  border: 1px solid #bbbbbb;\n",
       "  box-shadow: 4px 4px 2px rgba(0,0,0,0.05);\n",
       "}\n",
       ".tfx-object, .tfx-object * {\n",
       "  font-size: 11pt;\n",
       "}\n",
       ".tfx-object > .title {\n",
       "  cursor: pointer;\n",
       "}\n",
       ".tfx-object .expansion-marker {\n",
       "  color: #999999;\n",
       "}\n",
       ".tfx-object.expanded > .title > .expansion-marker:before {\n",
       "  content: '▼';\n",
       "}\n",
       ".tfx-object.collapsed > .title > .expansion-marker:before {\n",
       "  content: '▶';\n",
       "}\n",
       ".tfx-object .class-name {\n",
       "  font-weight: bold;\n",
       "}\n",
       ".tfx-object .deemphasize {\n",
       "  opacity: 0.5;\n",
       "}\n",
       ".tfx-object.collapsed > table.attr-table {\n",
       "  display: none;\n",
       "}\n",
       ".tfx-object.expanded > table.attr-table {\n",
       "  display: block;\n",
       "}\n",
       ".tfx-object table.attr-table {\n",
       "  border: 2px solid white;\n",
       "  margin-top: 5px;\n",
       "}\n",
       ".tfx-object table.attr-table td.attr-name {\n",
       "  vertical-align: top;\n",
       "  font-weight: bold;\n",
       "}\n",
       ".tfx-object table.attr-table td.attrvalue {\n",
       "  text-align: left;\n",
       "}\n",
       "</style>\n",
       "<script>\n",
       "function toggleTfxObject(element) {\n",
       "  var objElement = element.parentElement;\n",
       "  if (objElement.classList.contains('collapsed')) {\n",
       "    objElement.classList.remove('collapsed');\n",
       "    objElement.classList.add('expanded');\n",
       "  } else {\n",
       "    objElement.classList.add('collapsed');\n",
       "    objElement.classList.remove('expanded');\n",
       "  }\n",
       "}\n",
       "</script>\n",
       "<div class=\"tfx-object collapsed\"><div class = \"title\" onclick=\"toggleTfxObject(this)\"><span class=\"expansion-marker\"></span><span class=\"class-name\">Channel</span> of type <span class=\"class-name\">'ExampleStatisticsPath'</span> (2 artifacts)<span class=\"deemphasize\"> at 0x7f57d6a38b38</span></div><table class=\"attr-table\"><tr><td class=\"attr-name\">.type_name</td><td class = \"attrvalue\">ExampleStatisticsPath</td></tr><tr><td class=\"attr-name\">._artifacts</td><td class = \"attrvalue\"><table class=\"attr-table\"><tr><td class=\"attr-name\">[0]</td><td class = \"attrvalue\"><style>\n",
       ".tfx-object.expanded {\n",
       "  padding: 4px 8px 4px 8px;\n",
       "  background: white;\n",
       "  border: 1px solid #bbbbbb;\n",
       "  box-shadow: 4px 4px 2px rgba(0,0,0,0.05);\n",
       "}\n",
       ".tfx-object, .tfx-object * {\n",
       "  font-size: 11pt;\n",
       "}\n",
       ".tfx-object > .title {\n",
       "  cursor: pointer;\n",
       "}\n",
       ".tfx-object .expansion-marker {\n",
       "  color: #999999;\n",
       "}\n",
       ".tfx-object.expanded > .title > .expansion-marker:before {\n",
       "  content: '▼';\n",
       "}\n",
       ".tfx-object.collapsed > .title > .expansion-marker:before {\n",
       "  content: '▶';\n",
       "}\n",
       ".tfx-object .class-name {\n",
       "  font-weight: bold;\n",
       "}\n",
       ".tfx-object .deemphasize {\n",
       "  opacity: 0.5;\n",
       "}\n",
       ".tfx-object.collapsed > table.attr-table {\n",
       "  display: none;\n",
       "}\n",
       ".tfx-object.expanded > table.attr-table {\n",
       "  display: block;\n",
       "}\n",
       ".tfx-object table.attr-table {\n",
       "  border: 2px solid white;\n",
       "  margin-top: 5px;\n",
       "}\n",
       ".tfx-object table.attr-table td.attr-name {\n",
       "  vertical-align: top;\n",
       "  font-weight: bold;\n",
       "}\n",
       ".tfx-object table.attr-table td.attrvalue {\n",
       "  text-align: left;\n",
       "}\n",
       "</style>\n",
       "<script>\n",
       "function toggleTfxObject(element) {\n",
       "  var objElement = element.parentElement;\n",
       "  if (objElement.classList.contains('collapsed')) {\n",
       "    objElement.classList.remove('collapsed');\n",
       "    objElement.classList.add('expanded');\n",
       "  } else {\n",
       "    objElement.classList.add('collapsed');\n",
       "    objElement.classList.remove('expanded');\n",
       "  }\n",
       "}\n",
       "</script>\n",
       "<div class=\"tfx-object collapsed\"><div class = \"title\" onclick=\"toggleTfxObject(this)\"><span class=\"expansion-marker\"></span><span class=\"class-name\">Artifact</span> of type <span class=\"class-name\">'ExampleStatisticsPath'</span> (uri: /tmp/tfx-interactive-2019-08-31T21_40_43.017915-r5zd0p45/StatisticsGen/output/3/train/)<span class=\"deemphasize\"> at 0x7f57d6a38ac8</span></div><table class=\"attr-table\"><tr><td class=\"attr-name\">.type_name</td><td class = \"attrvalue\">ExampleStatisticsPath</td></tr><tr><td class=\"attr-name\">.uri</td><td class = \"attrvalue\">/tmp/tfx-interactive-2019-08-31T21_40_43.017915-r5zd0p45/StatisticsGen/output/3/train/</td></tr><tr><td class=\"attr-name\">.span</td><td class = \"attrvalue\">0</td></tr><tr><td class=\"attr-name\">.split</td><td class = \"attrvalue\">train</td></tr></table></div></td></tr><tr><td class=\"attr-name\">[1]</td><td class = \"attrvalue\"><style>\n",
       ".tfx-object.expanded {\n",
       "  padding: 4px 8px 4px 8px;\n",
       "  background: white;\n",
       "  border: 1px solid #bbbbbb;\n",
       "  box-shadow: 4px 4px 2px rgba(0,0,0,0.05);\n",
       "}\n",
       ".tfx-object, .tfx-object * {\n",
       "  font-size: 11pt;\n",
       "}\n",
       ".tfx-object > .title {\n",
       "  cursor: pointer;\n",
       "}\n",
       ".tfx-object .expansion-marker {\n",
       "  color: #999999;\n",
       "}\n",
       ".tfx-object.expanded > .title > .expansion-marker:before {\n",
       "  content: '▼';\n",
       "}\n",
       ".tfx-object.collapsed > .title > .expansion-marker:before {\n",
       "  content: '▶';\n",
       "}\n",
       ".tfx-object .class-name {\n",
       "  font-weight: bold;\n",
       "}\n",
       ".tfx-object .deemphasize {\n",
       "  opacity: 0.5;\n",
       "}\n",
       ".tfx-object.collapsed > table.attr-table {\n",
       "  display: none;\n",
       "}\n",
       ".tfx-object.expanded > table.attr-table {\n",
       "  display: block;\n",
       "}\n",
       ".tfx-object table.attr-table {\n",
       "  border: 2px solid white;\n",
       "  margin-top: 5px;\n",
       "}\n",
       ".tfx-object table.attr-table td.attr-name {\n",
       "  vertical-align: top;\n",
       "  font-weight: bold;\n",
       "}\n",
       ".tfx-object table.attr-table td.attrvalue {\n",
       "  text-align: left;\n",
       "}\n",
       "</style>\n",
       "<script>\n",
       "function toggleTfxObject(element) {\n",
       "  var objElement = element.parentElement;\n",
       "  if (objElement.classList.contains('collapsed')) {\n",
       "    objElement.classList.remove('collapsed');\n",
       "    objElement.classList.add('expanded');\n",
       "  } else {\n",
       "    objElement.classList.add('collapsed');\n",
       "    objElement.classList.remove('expanded');\n",
       "  }\n",
       "}\n",
       "</script>\n",
       "<div class=\"tfx-object collapsed\"><div class = \"title\" onclick=\"toggleTfxObject(this)\"><span class=\"expansion-marker\"></span><span class=\"class-name\">Artifact</span> of type <span class=\"class-name\">'ExampleStatisticsPath'</span> (uri: /tmp/tfx-interactive-2019-08-31T21_40_43.017915-r5zd0p45/StatisticsGen/output/3/eval/)<span class=\"deemphasize\"> at 0x7f57d6a38320</span></div><table class=\"attr-table\"><tr><td class=\"attr-name\">.type_name</td><td class = \"attrvalue\">ExampleStatisticsPath</td></tr><tr><td class=\"attr-name\">.uri</td><td class = \"attrvalue\">/tmp/tfx-interactive-2019-08-31T21_40_43.017915-r5zd0p45/StatisticsGen/output/3/eval/</td></tr><tr><td class=\"attr-name\">.span</td><td class = \"attrvalue\">0</td></tr><tr><td class=\"attr-name\">.split</td><td class = \"attrvalue\">eval</td></tr></table></div></td></tr></table></td></tr></table></div></td></tr></table></td></tr><tr><td class=\"attr-name\">.component.outputs</td><td class = \"attrvalue\"><table class=\"attr-table\"><tr><td class=\"attr-name\">['output']</td><td class = \"attrvalue\"><style>\n",
       ".tfx-object.expanded {\n",
       "  padding: 4px 8px 4px 8px;\n",
       "  background: white;\n",
       "  border: 1px solid #bbbbbb;\n",
       "  box-shadow: 4px 4px 2px rgba(0,0,0,0.05);\n",
       "}\n",
       ".tfx-object, .tfx-object * {\n",
       "  font-size: 11pt;\n",
       "}\n",
       ".tfx-object > .title {\n",
       "  cursor: pointer;\n",
       "}\n",
       ".tfx-object .expansion-marker {\n",
       "  color: #999999;\n",
       "}\n",
       ".tfx-object.expanded > .title > .expansion-marker:before {\n",
       "  content: '▼';\n",
       "}\n",
       ".tfx-object.collapsed > .title > .expansion-marker:before {\n",
       "  content: '▶';\n",
       "}\n",
       ".tfx-object .class-name {\n",
       "  font-weight: bold;\n",
       "}\n",
       ".tfx-object .deemphasize {\n",
       "  opacity: 0.5;\n",
       "}\n",
       ".tfx-object.collapsed > table.attr-table {\n",
       "  display: none;\n",
       "}\n",
       ".tfx-object.expanded > table.attr-table {\n",
       "  display: block;\n",
       "}\n",
       ".tfx-object table.attr-table {\n",
       "  border: 2px solid white;\n",
       "  margin-top: 5px;\n",
       "}\n",
       ".tfx-object table.attr-table td.attr-name {\n",
       "  vertical-align: top;\n",
       "  font-weight: bold;\n",
       "}\n",
       ".tfx-object table.attr-table td.attrvalue {\n",
       "  text-align: left;\n",
       "}\n",
       "</style>\n",
       "<script>\n",
       "function toggleTfxObject(element) {\n",
       "  var objElement = element.parentElement;\n",
       "  if (objElement.classList.contains('collapsed')) {\n",
       "    objElement.classList.remove('collapsed');\n",
       "    objElement.classList.add('expanded');\n",
       "  } else {\n",
       "    objElement.classList.add('collapsed');\n",
       "    objElement.classList.remove('expanded');\n",
       "  }\n",
       "}\n",
       "</script>\n",
       "<div class=\"tfx-object collapsed\"><div class = \"title\" onclick=\"toggleTfxObject(this)\"><span class=\"expansion-marker\"></span><span class=\"class-name\">Channel</span> of type <span class=\"class-name\">'SchemaPath'</span> (1 artifact)<span class=\"deemphasize\"> at 0x7f57c4215668</span></div><table class=\"attr-table\"><tr><td class=\"attr-name\">.type_name</td><td class = \"attrvalue\">SchemaPath</td></tr><tr><td class=\"attr-name\">._artifacts</td><td class = \"attrvalue\"><table class=\"attr-table\"><tr><td class=\"attr-name\">[0]</td><td class = \"attrvalue\"><style>\n",
       ".tfx-object.expanded {\n",
       "  padding: 4px 8px 4px 8px;\n",
       "  background: white;\n",
       "  border: 1px solid #bbbbbb;\n",
       "  box-shadow: 4px 4px 2px rgba(0,0,0,0.05);\n",
       "}\n",
       ".tfx-object, .tfx-object * {\n",
       "  font-size: 11pt;\n",
       "}\n",
       ".tfx-object > .title {\n",
       "  cursor: pointer;\n",
       "}\n",
       ".tfx-object .expansion-marker {\n",
       "  color: #999999;\n",
       "}\n",
       ".tfx-object.expanded > .title > .expansion-marker:before {\n",
       "  content: '▼';\n",
       "}\n",
       ".tfx-object.collapsed > .title > .expansion-marker:before {\n",
       "  content: '▶';\n",
       "}\n",
       ".tfx-object .class-name {\n",
       "  font-weight: bold;\n",
       "}\n",
       ".tfx-object .deemphasize {\n",
       "  opacity: 0.5;\n",
       "}\n",
       ".tfx-object.collapsed > table.attr-table {\n",
       "  display: none;\n",
       "}\n",
       ".tfx-object.expanded > table.attr-table {\n",
       "  display: block;\n",
       "}\n",
       ".tfx-object table.attr-table {\n",
       "  border: 2px solid white;\n",
       "  margin-top: 5px;\n",
       "}\n",
       ".tfx-object table.attr-table td.attr-name {\n",
       "  vertical-align: top;\n",
       "  font-weight: bold;\n",
       "}\n",
       ".tfx-object table.attr-table td.attrvalue {\n",
       "  text-align: left;\n",
       "}\n",
       "</style>\n",
       "<script>\n",
       "function toggleTfxObject(element) {\n",
       "  var objElement = element.parentElement;\n",
       "  if (objElement.classList.contains('collapsed')) {\n",
       "    objElement.classList.remove('collapsed');\n",
       "    objElement.classList.add('expanded');\n",
       "  } else {\n",
       "    objElement.classList.add('collapsed');\n",
       "    objElement.classList.remove('expanded');\n",
       "  }\n",
       "}\n",
       "</script>\n",
       "<div class=\"tfx-object collapsed\"><div class = \"title\" onclick=\"toggleTfxObject(this)\"><span class=\"expansion-marker\"></span><span class=\"class-name\">Artifact</span> of type <span class=\"class-name\">'SchemaPath'</span> (uri: /tmp/tfx-interactive-2019-08-31T21_40_43.017915-r5zd0p45/SchemaGen/output/4/)<span class=\"deemphasize\"> at 0x7f57c4215828</span></div><table class=\"attr-table\"><tr><td class=\"attr-name\">.type_name</td><td class = \"attrvalue\">SchemaPath</td></tr><tr><td class=\"attr-name\">.uri</td><td class = \"attrvalue\">/tmp/tfx-interactive-2019-08-31T21_40_43.017915-r5zd0p45/SchemaGen/output/4/</td></tr><tr><td class=\"attr-name\">.span</td><td class = \"attrvalue\">0</td></tr><tr><td class=\"attr-name\">.split</td><td class = \"attrvalue\"></td></tr></table></div></td></tr></table></td></tr></table></div></td></tr></table></td></tr></table></div>"
      ],
      "text/plain": [
       "ExecutionResult(\n",
       "    component_id: SchemaGen\n",
       "    execution_id: 4\n",
       "    outputs:\n",
       "        output: Channel(\n",
       "            type_name: SchemaPath\n",
       "            artifacts: [Artifact(type_name: SchemaPath, uri: /tmp/tfx-interactive-2019-08-31T21_40_43.017915-r5zd0p45/SchemaGen/output/4/, split: , id: 6)]\n",
       "        ))"
      ]
     },
     "execution_count": 10,
     "metadata": {},
     "output_type": "execute_result"
    }
   ],
   "source": [
    "# Generates schema based on statistics files.\n",
    "infer_schema = SchemaGen(\n",
    "    stats=statistics_gen.outputs['output'],\n",
    "    infer_feature_shape=False)\n",
    "context.run(infer_schema)"
   ]
  },
  {
   "cell_type": "markdown",
   "metadata": {
    "colab_type": "text",
    "id": "zi6TxTUKXM6b"
   },
   "source": [
    "#### Visualize the inferred schema"
   ]
  },
  {
   "cell_type": "code",
   "execution_count": 11,
   "metadata": {
    "colab": {},
    "colab_type": "code",
    "id": "Ec9vqDXpXeMb"
   },
   "outputs": [],
   "source": [
    "# Get the schema path.\n",
    "schema_dir = infer_schema.outputs['output'].get()[0].uri\n",
    "schema_path = os.path.join(schema_dir, 'schema.pbtxt')"
   ]
  },
  {
   "cell_type": "code",
   "execution_count": 12,
   "metadata": {
    "colab": {},
    "colab_type": "code",
    "id": "HaaA49ArYLQP"
   },
   "outputs": [
    {
     "data": {
      "text/html": [
       "<div>\n",
       "<style scoped>\n",
       "    .dataframe tbody tr th:only-of-type {\n",
       "        vertical-align: middle;\n",
       "    }\n",
       "\n",
       "    .dataframe tbody tr th {\n",
       "        vertical-align: top;\n",
       "    }\n",
       "\n",
       "    .dataframe thead th {\n",
       "        text-align: right;\n",
       "    }\n",
       "</style>\n",
       "<table border=\"1\" class=\"dataframe\">\n",
       "  <thead>\n",
       "    <tr style=\"text-align: right;\">\n",
       "      <th></th>\n",
       "      <th>Type</th>\n",
       "      <th>Presence</th>\n",
       "      <th>Valency</th>\n",
       "      <th>Domain</th>\n",
       "    </tr>\n",
       "    <tr>\n",
       "      <th>Feature name</th>\n",
       "      <th></th>\n",
       "      <th></th>\n",
       "      <th></th>\n",
       "      <th></th>\n",
       "    </tr>\n",
       "  </thead>\n",
       "  <tbody>\n",
       "    <tr>\n",
       "      <td>'company'</td>\n",
       "      <td>STRING</td>\n",
       "      <td>optional</td>\n",
       "      <td>single</td>\n",
       "      <td>'company'</td>\n",
       "    </tr>\n",
       "    <tr>\n",
       "      <td>'payment_type'</td>\n",
       "      <td>STRING</td>\n",
       "      <td>required</td>\n",
       "      <td>single</td>\n",
       "      <td>'payment_type'</td>\n",
       "    </tr>\n",
       "    <tr>\n",
       "      <td>'dropoff_community_area'</td>\n",
       "      <td>FLOAT</td>\n",
       "      <td>optional</td>\n",
       "      <td>single</td>\n",
       "      <td>-</td>\n",
       "    </tr>\n",
       "    <tr>\n",
       "      <td>'pickup_community_area'</td>\n",
       "      <td>INT</td>\n",
       "      <td>required</td>\n",
       "      <td>single</td>\n",
       "      <td>-</td>\n",
       "    </tr>\n",
       "    <tr>\n",
       "      <td>'trip_start_hour'</td>\n",
       "      <td>INT</td>\n",
       "      <td>required</td>\n",
       "      <td>single</td>\n",
       "      <td>-</td>\n",
       "    </tr>\n",
       "    <tr>\n",
       "      <td>'trip_miles'</td>\n",
       "      <td>FLOAT</td>\n",
       "      <td>required</td>\n",
       "      <td>single</td>\n",
       "      <td>-</td>\n",
       "    </tr>\n",
       "    <tr>\n",
       "      <td>'dropoff_latitude'</td>\n",
       "      <td>FLOAT</td>\n",
       "      <td>optional</td>\n",
       "      <td>single</td>\n",
       "      <td>-</td>\n",
       "    </tr>\n",
       "    <tr>\n",
       "      <td>'pickup_census_tract'</td>\n",
       "      <td>BYTES</td>\n",
       "      <td>optional</td>\n",
       "      <td></td>\n",
       "      <td>-</td>\n",
       "    </tr>\n",
       "    <tr>\n",
       "      <td>'pickup_latitude'</td>\n",
       "      <td>FLOAT</td>\n",
       "      <td>required</td>\n",
       "      <td>single</td>\n",
       "      <td>-</td>\n",
       "    </tr>\n",
       "    <tr>\n",
       "      <td>'tips'</td>\n",
       "      <td>FLOAT</td>\n",
       "      <td>required</td>\n",
       "      <td>single</td>\n",
       "      <td>-</td>\n",
       "    </tr>\n",
       "    <tr>\n",
       "      <td>'trip_seconds'</td>\n",
       "      <td>FLOAT</td>\n",
       "      <td>optional</td>\n",
       "      <td>single</td>\n",
       "      <td>-</td>\n",
       "    </tr>\n",
       "    <tr>\n",
       "      <td>'dropoff_longitude'</td>\n",
       "      <td>FLOAT</td>\n",
       "      <td>optional</td>\n",
       "      <td>single</td>\n",
       "      <td>-</td>\n",
       "    </tr>\n",
       "    <tr>\n",
       "      <td>'trip_start_day'</td>\n",
       "      <td>INT</td>\n",
       "      <td>required</td>\n",
       "      <td>single</td>\n",
       "      <td>-</td>\n",
       "    </tr>\n",
       "    <tr>\n",
       "      <td>'dropoff_census_tract'</td>\n",
       "      <td>FLOAT</td>\n",
       "      <td>optional</td>\n",
       "      <td>single</td>\n",
       "      <td>-</td>\n",
       "    </tr>\n",
       "    <tr>\n",
       "      <td>'trip_start_month'</td>\n",
       "      <td>INT</td>\n",
       "      <td>required</td>\n",
       "      <td>single</td>\n",
       "      <td>-</td>\n",
       "    </tr>\n",
       "    <tr>\n",
       "      <td>'trip_start_timestamp'</td>\n",
       "      <td>INT</td>\n",
       "      <td>required</td>\n",
       "      <td>single</td>\n",
       "      <td>-</td>\n",
       "    </tr>\n",
       "    <tr>\n",
       "      <td>'fare'</td>\n",
       "      <td>FLOAT</td>\n",
       "      <td>required</td>\n",
       "      <td>single</td>\n",
       "      <td>-</td>\n",
       "    </tr>\n",
       "    <tr>\n",
       "      <td>'pickup_longitude'</td>\n",
       "      <td>FLOAT</td>\n",
       "      <td>required</td>\n",
       "      <td>single</td>\n",
       "      <td>-</td>\n",
       "    </tr>\n",
       "  </tbody>\n",
       "</table>\n",
       "</div>"
      ],
      "text/plain": [
       "                            Type  Presence Valency          Domain\n",
       "Feature name                                                      \n",
       "'company'                 STRING  optional  single       'company'\n",
       "'payment_type'            STRING  required  single  'payment_type'\n",
       "'dropoff_community_area'   FLOAT  optional  single               -\n",
       "'pickup_community_area'      INT  required  single               -\n",
       "'trip_start_hour'            INT  required  single               -\n",
       "'trip_miles'               FLOAT  required  single               -\n",
       "'dropoff_latitude'         FLOAT  optional  single               -\n",
       "'pickup_census_tract'      BYTES  optional                       -\n",
       "'pickup_latitude'          FLOAT  required  single               -\n",
       "'tips'                     FLOAT  required  single               -\n",
       "'trip_seconds'             FLOAT  optional  single               -\n",
       "'dropoff_longitude'        FLOAT  optional  single               -\n",
       "'trip_start_day'             INT  required  single               -\n",
       "'dropoff_census_tract'     FLOAT  optional  single               -\n",
       "'trip_start_month'           INT  required  single               -\n",
       "'trip_start_timestamp'       INT  required  single               -\n",
       "'fare'                     FLOAT  required  single               -\n",
       "'pickup_longitude'         FLOAT  required  single               -"
      ]
     },
     "metadata": {},
     "output_type": "display_data"
    },
    {
     "data": {
      "text/html": [
       "<div>\n",
       "<style scoped>\n",
       "    .dataframe tbody tr th:only-of-type {\n",
       "        vertical-align: middle;\n",
       "    }\n",
       "\n",
       "    .dataframe tbody tr th {\n",
       "        vertical-align: top;\n",
       "    }\n",
       "\n",
       "    .dataframe thead th {\n",
       "        text-align: right;\n",
       "    }\n",
       "</style>\n",
       "<table border=\"1\" class=\"dataframe\">\n",
       "  <thead>\n",
       "    <tr style=\"text-align: right;\">\n",
       "      <th></th>\n",
       "      <th>Values</th>\n",
       "    </tr>\n",
       "    <tr>\n",
       "      <th>Domain</th>\n",
       "      <th></th>\n",
       "    </tr>\n",
       "  </thead>\n",
       "  <tbody>\n",
       "    <tr>\n",
       "      <td>'company'</td>\n",
       "      <td>'0118 - 42111 Godfrey S.Awir', '0694 - 59280 Chinesco Trans Inc', '2092 - 61288 Sbeih company', '2192 - 73487 Zeymane Corp', '2733 - 74600 Benny Jona', '2823 - 73307 Seung Lee', '3011 - 66308 JBL Cab Inc.', '3094 - 24059 G.L.B. Cab Co', '3152 - 97284 Crystal Abernathy', '3201 - C&amp;D Cab Co Inc', '3201 - CID Cab Co Inc', '3253 - 91138 Gaither Cab Co.', '3319 - CD Cab Co', '3385 - 23210 Eman Cab', '3385 - Eman Cab', '3623 - 72222 Arrington Enterprises', '3897 - Ilie Malec', '4053 - 40193 Adwar H. Nikola', '4053 - Adwar H. Nikola', '4197 - 41842 Royal Star', '4197 - Royal Star', '4615 - 83503 Tyrone Henderson', '4623 - Jay Kim', '5006 - 39261 Salifu Bawa', '5006 - Salifu Bawa', '5074 - 54002 Ahzmi Inc', '5074 - Ahzmi Inc', '5129 - 87128', '5129 - 98755 Mengisti Taxi', '5129 - Mengisti Taxi', '5724 - KYVI Cab Inc', '585 - 88805 Valley Cab Co', '5864 - 73614 Thomas Owusu', '5864 - Thomas Owusu', '5874 - 73628 Sergey Cab Corp.', '5997 - 65283 AW Services Inc.', '6488 - 83287 Zuha Taxi', '6742 - 83735 Tasha ride inc', 'Blue Ribbon Taxi Association Inc.', 'C &amp; D Cab Co Inc', 'Chicago Elite Cab Corp.', 'Chicago Elite Cab Corp. (Chicago Carriag', 'Chicago Medallion Leasing INC', 'Chicago Medallion Management', 'Choice Taxi Association', 'Dispatch Taxi Affiliation', 'KOAM Taxi Association', 'Northwest Management LLC', 'Taxi Affiliation Services', 'Top Cab Affiliation'</td>\n",
       "    </tr>\n",
       "    <tr>\n",
       "      <td>'payment_type'</td>\n",
       "      <td>'Cash', 'Credit Card', 'Dispute', 'No Charge', 'Pcard', 'Prcard', 'Unknown'</td>\n",
       "    </tr>\n",
       "  </tbody>\n",
       "</table>\n",
       "</div>"
      ],
      "text/plain": [
       "                                                                                                                                                                                                                                                                                                                                                                                                                                                                                                                                                                                                                                                                                                                                                                                                                                                                                                                                                                                                                                                                                                                                                                                                                                                                                                                                                                                                                                            Values\n",
       "Domain                                                                                                                                                                                                                                                                                                                                                                                                                                                                                                                                                                                                                                                                                                                                                                                                                                                                                                                                                                                                                                                                                                                                                                                                                                                                                                                                                                                                                                            \n",
       "'company'       '0118 - 42111 Godfrey S.Awir', '0694 - 59280 Chinesco Trans Inc', '2092 - 61288 Sbeih company', '2192 - 73487 Zeymane Corp', '2733 - 74600 Benny Jona', '2823 - 73307 Seung Lee', '3011 - 66308 JBL Cab Inc.', '3094 - 24059 G.L.B. Cab Co', '3152 - 97284 Crystal Abernathy', '3201 - C&D Cab Co Inc', '3201 - CID Cab Co Inc', '3253 - 91138 Gaither Cab Co.', '3319 - CD Cab Co', '3385 - 23210 Eman Cab', '3385 - Eman Cab', '3623 - 72222 Arrington Enterprises', '3897 - Ilie Malec', '4053 - 40193 Adwar H. Nikola', '4053 - Adwar H. Nikola', '4197 - 41842 Royal Star', '4197 - Royal Star', '4615 - 83503 Tyrone Henderson', '4623 - Jay Kim', '5006 - 39261 Salifu Bawa', '5006 - Salifu Bawa', '5074 - 54002 Ahzmi Inc', '5074 - Ahzmi Inc', '5129 - 87128', '5129 - 98755 Mengisti Taxi', '5129 - Mengisti Taxi', '5724 - KYVI Cab Inc', '585 - 88805 Valley Cab Co', '5864 - 73614 Thomas Owusu', '5864 - Thomas Owusu', '5874 - 73628 Sergey Cab Corp.', '5997 - 65283 AW Services Inc.', '6488 - 83287 Zuha Taxi', '6742 - 83735 Tasha ride inc', 'Blue Ribbon Taxi Association Inc.', 'C & D Cab Co Inc', 'Chicago Elite Cab Corp.', 'Chicago Elite Cab Corp. (Chicago Carriag', 'Chicago Medallion Leasing INC', 'Chicago Medallion Management', 'Choice Taxi Association', 'Dispatch Taxi Affiliation', 'KOAM Taxi Association', 'Northwest Management LLC', 'Taxi Affiliation Services', 'Top Cab Affiliation'\n",
       "'payment_type'  'Cash', 'Credit Card', 'Dispute', 'No Charge', 'Pcard', 'Prcard', 'Unknown'                                                                                                                                                                                                                                                                                                                                                                                                                                                                                                                                                                                                                                                                                                                                                                                                                                                                                                                                                                                                                                                                                                                                                                                                                                                                                                                                                       "
      ]
     },
     "metadata": {},
     "output_type": "display_data"
    }
   ],
   "source": [
    "# Load and visualize the generated schema.\n",
    "schema = tfdv.load_schema_text(schema_path)\n",
    "tfdv.display_schema(schema)"
   ]
  },
  {
   "cell_type": "markdown",
   "metadata": {
    "colab_type": "text",
    "id": "V1qcUuO9k9f8"
   },
   "source": [
    "### ExampleValidator\n",
    "`ExampleValidator` performs anomaly detection based on computed statistics and your data schema."
   ]
  },
  {
   "cell_type": "markdown",
   "metadata": {
    "colab_type": "text",
    "id": "ONg1bt57gVna"
   },
   "source": [
    "#### Run TFDV data validation using the ExampleValidation component"
   ]
  },
  {
   "cell_type": "code",
   "execution_count": 13,
   "metadata": {
    "colab": {},
    "colab_type": "code",
    "id": "XRlRUuGgiXks"
   },
   "outputs": [
    {
     "name": "stdout",
     "output_type": "stream",
     "text": [
      "INFO:tensorflow:Run driver for ExampleValidator\n"
     ]
    },
    {
     "name": "stderr",
     "output_type": "stream",
     "text": [
      "INFO:tensorflow:Run driver for ExampleValidator\n"
     ]
    },
    {
     "name": "stdout",
     "output_type": "stream",
     "text": [
      "INFO:tensorflow:Created run context interactive-2019-08-31T21_40_43.017915.2019-08-31T21:43:38.006692.\n"
     ]
    },
    {
     "name": "stderr",
     "output_type": "stream",
     "text": [
      "INFO:tensorflow:Created run context interactive-2019-08-31T21_40_43.017915.2019-08-31T21:43:38.006692.\n"
     ]
    },
    {
     "name": "stdout",
     "output_type": "stream",
     "text": [
      "INFO:tensorflow:ID of run context interactive-2019-08-31T21_40_43.017915.2019-08-31T21:43:38.006692 is 5.\n"
     ]
    },
    {
     "name": "stderr",
     "output_type": "stream",
     "text": [
      "INFO:tensorflow:ID of run context interactive-2019-08-31T21_40_43.017915.2019-08-31T21:43:38.006692 is 5.\n"
     ]
    },
    {
     "name": "stdout",
     "output_type": "stream",
     "text": [
      "INFO:tensorflow:Resolved input artifacts are: {'stats': [Artifact(type_name: ExampleStatisticsPath, uri: /tmp/tfx-interactive-2019-08-31T21_40_43.017915-r5zd0p45/StatisticsGen/output/3/train/, split: train, id: 4), Artifact(type_name: ExampleStatisticsPath, uri: /tmp/tfx-interactive-2019-08-31T21_40_43.017915-r5zd0p45/StatisticsGen/output/3/eval/, split: eval, id: 5)], 'schema': [Artifact(type_name: SchemaPath, uri: /tmp/tfx-interactive-2019-08-31T21_40_43.017915-r5zd0p45/SchemaGen/output/4/, split: , id: 6)]}\n"
     ]
    },
    {
     "name": "stderr",
     "output_type": "stream",
     "text": [
      "INFO:tensorflow:Resolved input artifacts are: {'stats': [Artifact(type_name: ExampleStatisticsPath, uri: /tmp/tfx-interactive-2019-08-31T21_40_43.017915-r5zd0p45/StatisticsGen/output/3/train/, split: train, id: 4), Artifact(type_name: ExampleStatisticsPath, uri: /tmp/tfx-interactive-2019-08-31T21_40_43.017915-r5zd0p45/StatisticsGen/output/3/eval/, split: eval, id: 5)], 'schema': [Artifact(type_name: SchemaPath, uri: /tmp/tfx-interactive-2019-08-31T21_40_43.017915-r5zd0p45/SchemaGen/output/4/, split: , id: 6)]}\n"
     ]
    },
    {
     "name": "stdout",
     "output_type": "stream",
     "text": [
      "INFO:tensorflow:Prepared EXECUTION:\n",
      " type_id: 9\n",
      "properties {\n",
      "  key: \"component_id\"\n",
      "  value {\n",
      "    string_value: \"ExampleValidator\"\n",
      "  }\n",
      "}\n",
      "properties {\n",
      "  key: \"pipeline_name\"\n",
      "  value {\n",
      "    string_value: \"interactive-2019-08-31T21_40_43.017915\"\n",
      "  }\n",
      "}\n",
      "properties {\n",
      "  key: \"pipeline_root\"\n",
      "  value {\n",
      "    string_value: \"/tmp/tfx-interactive-2019-08-31T21_40_43.017915-r5zd0p45\"\n",
      "  }\n",
      "}\n",
      "properties {\n",
      "  key: \"run_id\"\n",
      "  value {\n",
      "    string_value: \"2019-08-31T21:43:38.006692\"\n",
      "  }\n",
      "}\n",
      "properties {\n",
      "  key: \"state\"\n",
      "  value {\n",
      "    string_value: \"new\"\n",
      "  }\n",
      "}\n",
      "\n"
     ]
    },
    {
     "name": "stderr",
     "output_type": "stream",
     "text": [
      "INFO:tensorflow:Prepared EXECUTION:\n",
      " type_id: 9\n",
      "properties {\n",
      "  key: \"component_id\"\n",
      "  value {\n",
      "    string_value: \"ExampleValidator\"\n",
      "  }\n",
      "}\n",
      "properties {\n",
      "  key: \"pipeline_name\"\n",
      "  value {\n",
      "    string_value: \"interactive-2019-08-31T21_40_43.017915\"\n",
      "  }\n",
      "}\n",
      "properties {\n",
      "  key: \"pipeline_root\"\n",
      "  value {\n",
      "    string_value: \"/tmp/tfx-interactive-2019-08-31T21_40_43.017915-r5zd0p45\"\n",
      "  }\n",
      "}\n",
      "properties {\n",
      "  key: \"run_id\"\n",
      "  value {\n",
      "    string_value: \"2019-08-31T21:43:38.006692\"\n",
      "  }\n",
      "}\n",
      "properties {\n",
      "  key: \"state\"\n",
      "  value {\n",
      "    string_value: \"new\"\n",
      "  }\n",
      "}\n",
      "\n"
     ]
    },
    {
     "name": "stdout",
     "output_type": "stream",
     "text": [
      "INFO:tensorflow:Execution id of the upcoming component execution is 5\n"
     ]
    },
    {
     "name": "stderr",
     "output_type": "stream",
     "text": [
      "INFO:tensorflow:Execution id of the upcoming component execution is 5\n"
     ]
    },
    {
     "name": "stdout",
     "output_type": "stream",
     "text": [
      "INFO:tensorflow:Checking previous run for execution_type_name tfx.components.example_validator.component.ExampleValidator and input_artifacts {'stats': [Artifact(type_name: ExampleStatisticsPath, uri: /tmp/tfx-interactive-2019-08-31T21_40_43.017915-r5zd0p45/StatisticsGen/output/3/train/, split: train, id: 4), Artifact(type_name: ExampleStatisticsPath, uri: /tmp/tfx-interactive-2019-08-31T21_40_43.017915-r5zd0p45/StatisticsGen/output/3/eval/, split: eval, id: 5)], 'schema': [Artifact(type_name: SchemaPath, uri: /tmp/tfx-interactive-2019-08-31T21_40_43.017915-r5zd0p45/SchemaGen/output/4/, split: , id: 6)]}\n"
     ]
    },
    {
     "name": "stderr",
     "output_type": "stream",
     "text": [
      "INFO:tensorflow:Checking previous run for execution_type_name tfx.components.example_validator.component.ExampleValidator and input_artifacts {'stats': [Artifact(type_name: ExampleStatisticsPath, uri: /tmp/tfx-interactive-2019-08-31T21_40_43.017915-r5zd0p45/StatisticsGen/output/3/train/, split: train, id: 4), Artifact(type_name: ExampleStatisticsPath, uri: /tmp/tfx-interactive-2019-08-31T21_40_43.017915-r5zd0p45/StatisticsGen/output/3/eval/, split: eval, id: 5)], 'schema': [Artifact(type_name: SchemaPath, uri: /tmp/tfx-interactive-2019-08-31T21_40_43.017915-r5zd0p45/SchemaGen/output/4/, split: , id: 6)]}\n"
     ]
    },
    {
     "name": "stdout",
     "output_type": "stream",
     "text": [
      "INFO:tensorflow:Prepared EXECUTION:\n",
      " type_id: 9\n",
      "properties {\n",
      "  key: \"component_id\"\n",
      "  value {\n",
      "    string_value: \"ExampleValidator\"\n",
      "  }\n",
      "}\n",
      "properties {\n",
      "  key: \"pipeline_name\"\n",
      "  value {\n",
      "    string_value: \"interactive-2019-08-31T21_40_43.017915\"\n",
      "  }\n",
      "}\n",
      "properties {\n",
      "  key: \"pipeline_root\"\n",
      "  value {\n",
      "    string_value: \"/tmp/tfx-interactive-2019-08-31T21_40_43.017915-r5zd0p45\"\n",
      "  }\n",
      "}\n",
      "properties {\n",
      "  key: \"run_id\"\n",
      "  value {\n",
      "    string_value: \"2019-08-31T21:43:38.006692\"\n",
      "  }\n",
      "}\n",
      "properties {\n",
      "  key: \"state\"\n",
      "  value {\n",
      "    string_value: \"complete\"\n",
      "  }\n",
      "}\n",
      "\n"
     ]
    },
    {
     "name": "stderr",
     "output_type": "stream",
     "text": [
      "INFO:tensorflow:Prepared EXECUTION:\n",
      " type_id: 9\n",
      "properties {\n",
      "  key: \"component_id\"\n",
      "  value {\n",
      "    string_value: \"ExampleValidator\"\n",
      "  }\n",
      "}\n",
      "properties {\n",
      "  key: \"pipeline_name\"\n",
      "  value {\n",
      "    string_value: \"interactive-2019-08-31T21_40_43.017915\"\n",
      "  }\n",
      "}\n",
      "properties {\n",
      "  key: \"pipeline_root\"\n",
      "  value {\n",
      "    string_value: \"/tmp/tfx-interactive-2019-08-31T21_40_43.017915-r5zd0p45\"\n",
      "  }\n",
      "}\n",
      "properties {\n",
      "  key: \"run_id\"\n",
      "  value {\n",
      "    string_value: \"2019-08-31T21:43:38.006692\"\n",
      "  }\n",
      "}\n",
      "properties {\n",
      "  key: \"state\"\n",
      "  value {\n",
      "    string_value: \"complete\"\n",
      "  }\n",
      "}\n",
      "\n"
     ]
    },
    {
     "name": "stdout",
     "output_type": "stream",
     "text": [
      "INFO:tensorflow:No execution matching type id and input artifacts found\n"
     ]
    },
    {
     "name": "stderr",
     "output_type": "stream",
     "text": [
      "INFO:tensorflow:No execution matching type id and input artifacts found\n"
     ]
    },
    {
     "name": "stdout",
     "output_type": "stream",
     "text": [
      "INFO:tensorflow:Cached results not found, move on to new execution\n"
     ]
    },
    {
     "name": "stderr",
     "output_type": "stream",
     "text": [
      "INFO:tensorflow:Cached results not found, move on to new execution\n"
     ]
    },
    {
     "name": "stdout",
     "output_type": "stream",
     "text": [
      "INFO:tensorflow:Creating output artifact uri /tmp/tfx-interactive-2019-08-31T21_40_43.017915-r5zd0p45/ExampleValidator/output/5/ as directory\n"
     ]
    },
    {
     "name": "stderr",
     "output_type": "stream",
     "text": [
      "INFO:tensorflow:Creating output artifact uri /tmp/tfx-interactive-2019-08-31T21_40_43.017915-r5zd0p45/ExampleValidator/output/5/ as directory\n"
     ]
    },
    {
     "name": "stdout",
     "output_type": "stream",
     "text": [
      "INFO:tensorflow:Output artifacts skeleton for the upcoming execution are: {'output': [Artifact(type_name: ExampleValidationPath, uri: /tmp/tfx-interactive-2019-08-31T21_40_43.017915-r5zd0p45/ExampleValidator/output/5/, split: , id: 0)]}\n"
     ]
    },
    {
     "name": "stderr",
     "output_type": "stream",
     "text": [
      "INFO:tensorflow:Output artifacts skeleton for the upcoming execution are: {'output': [Artifact(type_name: ExampleValidationPath, uri: /tmp/tfx-interactive-2019-08-31T21_40_43.017915-r5zd0p45/ExampleValidator/output/5/, split: , id: 0)]}\n"
     ]
    },
    {
     "name": "stdout",
     "output_type": "stream",
     "text": [
      "INFO:tensorflow:Execution properties for the upcoming execution are: {}\n"
     ]
    },
    {
     "name": "stderr",
     "output_type": "stream",
     "text": [
      "INFO:tensorflow:Execution properties for the upcoming execution are: {}\n"
     ]
    },
    {
     "name": "stdout",
     "output_type": "stream",
     "text": [
      "INFO:tensorflow:Run executor for ExampleValidator\n"
     ]
    },
    {
     "name": "stderr",
     "output_type": "stream",
     "text": [
      "INFO:tensorflow:Run executor for ExampleValidator\n"
     ]
    },
    {
     "name": "stdout",
     "output_type": "stream",
     "text": [
      "INFO:tensorflow:Starting Executor execution.\n"
     ]
    },
    {
     "name": "stderr",
     "output_type": "stream",
     "text": [
      "INFO:tensorflow:Starting Executor execution.\n"
     ]
    },
    {
     "name": "stdout",
     "output_type": "stream",
     "text": [
      "INFO:tensorflow:Inputs for Executor is: {\"stats\": [{\"artifact\": {\"id\": \"4\", \"typeId\": \"6\", \"uri\": \"/tmp/tfx-interactive-2019-08-31T21_40_43.017915-r5zd0p45/StatisticsGen/output/3/train/\", \"properties\": {\"state\": {\"stringValue\": \"published\"}, \"span\": {}, \"pipeline_name\": {\"stringValue\": \"interactive-2019-08-31T21_40_43.017915\"}, \"producer_component\": {\"stringValue\": \"StatisticsGen\"}, \"split\": {\"stringValue\": \"train\"}, \"name\": {\"stringValue\": \"output\"}, \"type_name\": {\"stringValue\": \"ExampleStatisticsPath\"}}}, \"artifact_type\": {\"id\": \"6\", \"name\": \"ExampleStatisticsPath\", \"properties\": {\"split\": \"STRING\", \"name\": \"STRING\", \"type_name\": \"STRING\", \"state\": \"STRING\", \"producer_component\": \"STRING\", \"span\": \"INT\", \"pipeline_name\": \"STRING\"}}}, {\"artifact\": {\"id\": \"5\", \"typeId\": \"6\", \"uri\": \"/tmp/tfx-interactive-2019-08-31T21_40_43.017915-r5zd0p45/StatisticsGen/output/3/eval/\", \"properties\": {\"span\": {}, \"pipeline_name\": {\"stringValue\": \"interactive-2019-08-31T21_40_43.017915\"}, \"producer_component\": {\"stringValue\": \"StatisticsGen\"}, \"split\": {\"stringValue\": \"eval\"}, \"name\": {\"stringValue\": \"output\"}, \"type_name\": {\"stringValue\": \"ExampleStatisticsPath\"}, \"state\": {\"stringValue\": \"published\"}}}, \"artifact_type\": {\"id\": \"6\", \"name\": \"ExampleStatisticsPath\", \"properties\": {\"name\": \"STRING\", \"type_name\": \"STRING\", \"state\": \"STRING\", \"producer_component\": \"STRING\", \"span\": \"INT\", \"pipeline_name\": \"STRING\", \"split\": \"STRING\"}}}], \"schema\": [{\"artifact\": {\"id\": \"6\", \"typeId\": \"8\", \"uri\": \"/tmp/tfx-interactive-2019-08-31T21_40_43.017915-r5zd0p45/SchemaGen/output/4/\", \"properties\": {\"split\": {\"stringValue\": \"\"}, \"name\": {\"stringValue\": \"output\"}, \"type_name\": {\"stringValue\": \"SchemaPath\"}, \"state\": {\"stringValue\": \"published\"}, \"span\": {}, \"pipeline_name\": {\"stringValue\": \"interactive-2019-08-31T21_40_43.017915\"}, \"producer_component\": {\"stringValue\": \"SchemaGen\"}}}, \"artifact_type\": {\"id\": \"8\", \"name\": \"SchemaPath\", \"properties\": {\"split\": \"STRING\", \"name\": \"STRING\", \"type_name\": \"STRING\", \"state\": \"STRING\", \"producer_component\": \"STRING\", \"span\": \"INT\", \"pipeline_name\": \"STRING\"}}}]}\n"
     ]
    },
    {
     "name": "stderr",
     "output_type": "stream",
     "text": [
      "INFO:tensorflow:Inputs for Executor is: {\"stats\": [{\"artifact\": {\"id\": \"4\", \"typeId\": \"6\", \"uri\": \"/tmp/tfx-interactive-2019-08-31T21_40_43.017915-r5zd0p45/StatisticsGen/output/3/train/\", \"properties\": {\"state\": {\"stringValue\": \"published\"}, \"span\": {}, \"pipeline_name\": {\"stringValue\": \"interactive-2019-08-31T21_40_43.017915\"}, \"producer_component\": {\"stringValue\": \"StatisticsGen\"}, \"split\": {\"stringValue\": \"train\"}, \"name\": {\"stringValue\": \"output\"}, \"type_name\": {\"stringValue\": \"ExampleStatisticsPath\"}}}, \"artifact_type\": {\"id\": \"6\", \"name\": \"ExampleStatisticsPath\", \"properties\": {\"split\": \"STRING\", \"name\": \"STRING\", \"type_name\": \"STRING\", \"state\": \"STRING\", \"producer_component\": \"STRING\", \"span\": \"INT\", \"pipeline_name\": \"STRING\"}}}, {\"artifact\": {\"id\": \"5\", \"typeId\": \"6\", \"uri\": \"/tmp/tfx-interactive-2019-08-31T21_40_43.017915-r5zd0p45/StatisticsGen/output/3/eval/\", \"properties\": {\"span\": {}, \"pipeline_name\": {\"stringValue\": \"interactive-2019-08-31T21_40_43.017915\"}, \"producer_component\": {\"stringValue\": \"StatisticsGen\"}, \"split\": {\"stringValue\": \"eval\"}, \"name\": {\"stringValue\": \"output\"}, \"type_name\": {\"stringValue\": \"ExampleStatisticsPath\"}, \"state\": {\"stringValue\": \"published\"}}}, \"artifact_type\": {\"id\": \"6\", \"name\": \"ExampleStatisticsPath\", \"properties\": {\"name\": \"STRING\", \"type_name\": \"STRING\", \"state\": \"STRING\", \"producer_component\": \"STRING\", \"span\": \"INT\", \"pipeline_name\": \"STRING\", \"split\": \"STRING\"}}}], \"schema\": [{\"artifact\": {\"id\": \"6\", \"typeId\": \"8\", \"uri\": \"/tmp/tfx-interactive-2019-08-31T21_40_43.017915-r5zd0p45/SchemaGen/output/4/\", \"properties\": {\"split\": {\"stringValue\": \"\"}, \"name\": {\"stringValue\": \"output\"}, \"type_name\": {\"stringValue\": \"SchemaPath\"}, \"state\": {\"stringValue\": \"published\"}, \"span\": {}, \"pipeline_name\": {\"stringValue\": \"interactive-2019-08-31T21_40_43.017915\"}, \"producer_component\": {\"stringValue\": \"SchemaGen\"}}}, \"artifact_type\": {\"id\": \"8\", \"name\": \"SchemaPath\", \"properties\": {\"split\": \"STRING\", \"name\": \"STRING\", \"type_name\": \"STRING\", \"state\": \"STRING\", \"producer_component\": \"STRING\", \"span\": \"INT\", \"pipeline_name\": \"STRING\"}}}]}\n"
     ]
    },
    {
     "name": "stdout",
     "output_type": "stream",
     "text": [
      "INFO:tensorflow:Outputs for Executor is: {\"output\": [{\"artifact\": {\"uri\": \"/tmp/tfx-interactive-2019-08-31T21_40_43.017915-r5zd0p45/ExampleValidator/output/5/\", \"properties\": {\"producer_component\": {\"stringValue\": \"ExampleValidator\"}, \"pipeline_name\": {\"stringValue\": \"interactive-2019-08-31T21_40_43.017915\"}, \"name\": {\"stringValue\": \"output\"}, \"type_name\": {\"stringValue\": \"ExampleValidationPath\"}, \"split\": {\"stringValue\": \"\"}}}, \"artifact_type\": {\"name\": \"ExampleValidationPath\", \"properties\": {\"name\": \"STRING\", \"type_name\": \"STRING\", \"state\": \"STRING\", \"producer_component\": \"STRING\", \"span\": \"INT\", \"pipeline_name\": \"STRING\", \"split\": \"STRING\"}}}]}\n"
     ]
    },
    {
     "name": "stderr",
     "output_type": "stream",
     "text": [
      "INFO:tensorflow:Outputs for Executor is: {\"output\": [{\"artifact\": {\"uri\": \"/tmp/tfx-interactive-2019-08-31T21_40_43.017915-r5zd0p45/ExampleValidator/output/5/\", \"properties\": {\"producer_component\": {\"stringValue\": \"ExampleValidator\"}, \"pipeline_name\": {\"stringValue\": \"interactive-2019-08-31T21_40_43.017915\"}, \"name\": {\"stringValue\": \"output\"}, \"type_name\": {\"stringValue\": \"ExampleValidationPath\"}, \"split\": {\"stringValue\": \"\"}}}, \"artifact_type\": {\"name\": \"ExampleValidationPath\", \"properties\": {\"name\": \"STRING\", \"type_name\": \"STRING\", \"state\": \"STRING\", \"producer_component\": \"STRING\", \"span\": \"INT\", \"pipeline_name\": \"STRING\", \"split\": \"STRING\"}}}]}\n"
     ]
    },
    {
     "name": "stdout",
     "output_type": "stream",
     "text": [
      "INFO:tensorflow:Execution properties for Executor is: {}\n"
     ]
    },
    {
     "name": "stderr",
     "output_type": "stream",
     "text": [
      "INFO:tensorflow:Execution properties for Executor is: {}\n"
     ]
    },
    {
     "name": "stdout",
     "output_type": "stream",
     "text": [
      "INFO:tensorflow:Validating schema against the computed statistics.\n"
     ]
    },
    {
     "name": "stderr",
     "output_type": "stream",
     "text": [
      "INFO:tensorflow:Validating schema against the computed statistics.\n"
     ]
    },
    {
     "name": "stdout",
     "output_type": "stream",
     "text": [
      "INFO:tensorflow:Validation complete. Anomalies written to /tmp/tfx-interactive-2019-08-31T21_40_43.017915-r5zd0p45/ExampleValidator/output/5/.\n"
     ]
    },
    {
     "name": "stderr",
     "output_type": "stream",
     "text": [
      "INFO:tensorflow:Validation complete. Anomalies written to /tmp/tfx-interactive-2019-08-31T21_40_43.017915-r5zd0p45/ExampleValidator/output/5/.\n"
     ]
    },
    {
     "name": "stdout",
     "output_type": "stream",
     "text": [
      "INFO:tensorflow:Run publisher for ExampleValidator\n"
     ]
    },
    {
     "name": "stderr",
     "output_type": "stream",
     "text": [
      "INFO:tensorflow:Run publisher for ExampleValidator\n"
     ]
    },
    {
     "name": "stdout",
     "output_type": "stream",
     "text": [
      "INFO:tensorflow:Whether cached results are used: False\n"
     ]
    },
    {
     "name": "stderr",
     "output_type": "stream",
     "text": [
      "INFO:tensorflow:Whether cached results are used: False\n"
     ]
    },
    {
     "name": "stdout",
     "output_type": "stream",
     "text": [
      "INFO:tensorflow:Execution id: 5\n"
     ]
    },
    {
     "name": "stderr",
     "output_type": "stream",
     "text": [
      "INFO:tensorflow:Execution id: 5\n"
     ]
    },
    {
     "name": "stdout",
     "output_type": "stream",
     "text": [
      "INFO:tensorflow:Inputs: {'stats': [Artifact(type_name: ExampleStatisticsPath, uri: /tmp/tfx-interactive-2019-08-31T21_40_43.017915-r5zd0p45/StatisticsGen/output/3/train/, split: train, id: 4), Artifact(type_name: ExampleStatisticsPath, uri: /tmp/tfx-interactive-2019-08-31T21_40_43.017915-r5zd0p45/StatisticsGen/output/3/eval/, split: eval, id: 5)], 'schema': [Artifact(type_name: SchemaPath, uri: /tmp/tfx-interactive-2019-08-31T21_40_43.017915-r5zd0p45/SchemaGen/output/4/, split: , id: 6)]}\n"
     ]
    },
    {
     "name": "stderr",
     "output_type": "stream",
     "text": [
      "INFO:tensorflow:Inputs: {'stats': [Artifact(type_name: ExampleStatisticsPath, uri: /tmp/tfx-interactive-2019-08-31T21_40_43.017915-r5zd0p45/StatisticsGen/output/3/train/, split: train, id: 4), Artifact(type_name: ExampleStatisticsPath, uri: /tmp/tfx-interactive-2019-08-31T21_40_43.017915-r5zd0p45/StatisticsGen/output/3/eval/, split: eval, id: 5)], 'schema': [Artifact(type_name: SchemaPath, uri: /tmp/tfx-interactive-2019-08-31T21_40_43.017915-r5zd0p45/SchemaGen/output/4/, split: , id: 6)]}\n"
     ]
    },
    {
     "name": "stdout",
     "output_type": "stream",
     "text": [
      "INFO:tensorflow:Outputs: {'output': [Artifact(type_name: ExampleValidationPath, uri: /tmp/tfx-interactive-2019-08-31T21_40_43.017915-r5zd0p45/ExampleValidator/output/5/, split: , id: 0)]}\n"
     ]
    },
    {
     "name": "stderr",
     "output_type": "stream",
     "text": [
      "INFO:tensorflow:Outputs: {'output': [Artifact(type_name: ExampleValidationPath, uri: /tmp/tfx-interactive-2019-08-31T21_40_43.017915-r5zd0p45/ExampleValidator/output/5/, split: , id: 0)]}\n"
     ]
    },
    {
     "name": "stdout",
     "output_type": "stream",
     "text": [
      "INFO:tensorflow:Publishing execution id: 5\n",
      "type_id: 9\n",
      "properties {\n",
      "  key: \"component_id\"\n",
      "  value {\n",
      "    string_value: \"ExampleValidator\"\n",
      "  }\n",
      "}\n",
      "properties {\n",
      "  key: \"pipeline_name\"\n",
      "  value {\n",
      "    string_value: \"interactive-2019-08-31T21_40_43.017915\"\n",
      "  }\n",
      "}\n",
      "properties {\n",
      "  key: \"pipeline_root\"\n",
      "  value {\n",
      "    string_value: \"/tmp/tfx-interactive-2019-08-31T21_40_43.017915-r5zd0p45\"\n",
      "  }\n",
      "}\n",
      "properties {\n",
      "  key: \"run_id\"\n",
      "  value {\n",
      "    string_value: \"2019-08-31T21:43:38.006692\"\n",
      "  }\n",
      "}\n",
      "properties {\n",
      "  key: \"state\"\n",
      "  value {\n",
      "    string_value: \"complete\"\n",
      "  }\n",
      "}\n",
      ", with inputs {'stats': [Artifact(type_name: ExampleStatisticsPath, uri: /tmp/tfx-interactive-2019-08-31T21_40_43.017915-r5zd0p45/StatisticsGen/output/3/train/, split: train, id: 4), Artifact(type_name: ExampleStatisticsPath, uri: /tmp/tfx-interactive-2019-08-31T21_40_43.017915-r5zd0p45/StatisticsGen/output/3/eval/, split: eval, id: 5)], 'schema': [Artifact(type_name: SchemaPath, uri: /tmp/tfx-interactive-2019-08-31T21_40_43.017915-r5zd0p45/SchemaGen/output/4/, split: , id: 6)]} and outputs {'output': [Artifact(type_name: ExampleValidationPath, uri: /tmp/tfx-interactive-2019-08-31T21_40_43.017915-r5zd0p45/ExampleValidator/output/5/, split: , id: 0)]}\n"
     ]
    },
    {
     "name": "stderr",
     "output_type": "stream",
     "text": [
      "INFO:tensorflow:Publishing execution id: 5\n",
      "type_id: 9\n",
      "properties {\n",
      "  key: \"component_id\"\n",
      "  value {\n",
      "    string_value: \"ExampleValidator\"\n",
      "  }\n",
      "}\n",
      "properties {\n",
      "  key: \"pipeline_name\"\n",
      "  value {\n",
      "    string_value: \"interactive-2019-08-31T21_40_43.017915\"\n",
      "  }\n",
      "}\n",
      "properties {\n",
      "  key: \"pipeline_root\"\n",
      "  value {\n",
      "    string_value: \"/tmp/tfx-interactive-2019-08-31T21_40_43.017915-r5zd0p45\"\n",
      "  }\n",
      "}\n",
      "properties {\n",
      "  key: \"run_id\"\n",
      "  value {\n",
      "    string_value: \"2019-08-31T21:43:38.006692\"\n",
      "  }\n",
      "}\n",
      "properties {\n",
      "  key: \"state\"\n",
      "  value {\n",
      "    string_value: \"complete\"\n",
      "  }\n",
      "}\n",
      ", with inputs {'stats': [Artifact(type_name: ExampleStatisticsPath, uri: /tmp/tfx-interactive-2019-08-31T21_40_43.017915-r5zd0p45/StatisticsGen/output/3/train/, split: train, id: 4), Artifact(type_name: ExampleStatisticsPath, uri: /tmp/tfx-interactive-2019-08-31T21_40_43.017915-r5zd0p45/StatisticsGen/output/3/eval/, split: eval, id: 5)], 'schema': [Artifact(type_name: SchemaPath, uri: /tmp/tfx-interactive-2019-08-31T21_40_43.017915-r5zd0p45/SchemaGen/output/4/, split: , id: 6)]} and outputs {'output': [Artifact(type_name: ExampleValidationPath, uri: /tmp/tfx-interactive-2019-08-31T21_40_43.017915-r5zd0p45/ExampleValidator/output/5/, split: , id: 0)]}\n"
     ]
    },
    {
     "name": "stdout",
     "output_type": "stream",
     "text": [
      "INFO:tensorflow:Published execution with final outputs {'output': [Artifact(type_name: ExampleValidationPath, uri: /tmp/tfx-interactive-2019-08-31T21_40_43.017915-r5zd0p45/ExampleValidator/output/5/, split: , id: 7)]}\n"
     ]
    },
    {
     "name": "stderr",
     "output_type": "stream",
     "text": [
      "INFO:tensorflow:Published execution with final outputs {'output': [Artifact(type_name: ExampleValidationPath, uri: /tmp/tfx-interactive-2019-08-31T21_40_43.017915-r5zd0p45/ExampleValidator/output/5/, split: , id: 7)]}\n"
     ]
    },
    {
     "data": {
      "text/html": [
       "<style>\n",
       ".tfx-object.expanded {\n",
       "  padding: 4px 8px 4px 8px;\n",
       "  background: white;\n",
       "  border: 1px solid #bbbbbb;\n",
       "  box-shadow: 4px 4px 2px rgba(0,0,0,0.05);\n",
       "}\n",
       ".tfx-object, .tfx-object * {\n",
       "  font-size: 11pt;\n",
       "}\n",
       ".tfx-object > .title {\n",
       "  cursor: pointer;\n",
       "}\n",
       ".tfx-object .expansion-marker {\n",
       "  color: #999999;\n",
       "}\n",
       ".tfx-object.expanded > .title > .expansion-marker:before {\n",
       "  content: '▼';\n",
       "}\n",
       ".tfx-object.collapsed > .title > .expansion-marker:before {\n",
       "  content: '▶';\n",
       "}\n",
       ".tfx-object .class-name {\n",
       "  font-weight: bold;\n",
       "}\n",
       ".tfx-object .deemphasize {\n",
       "  opacity: 0.5;\n",
       "}\n",
       ".tfx-object.collapsed > table.attr-table {\n",
       "  display: none;\n",
       "}\n",
       ".tfx-object.expanded > table.attr-table {\n",
       "  display: block;\n",
       "}\n",
       ".tfx-object table.attr-table {\n",
       "  border: 2px solid white;\n",
       "  margin-top: 5px;\n",
       "}\n",
       ".tfx-object table.attr-table td.attr-name {\n",
       "  vertical-align: top;\n",
       "  font-weight: bold;\n",
       "}\n",
       ".tfx-object table.attr-table td.attrvalue {\n",
       "  text-align: left;\n",
       "}\n",
       "</style>\n",
       "<script>\n",
       "function toggleTfxObject(element) {\n",
       "  var objElement = element.parentElement;\n",
       "  if (objElement.classList.contains('collapsed')) {\n",
       "    objElement.classList.remove('collapsed');\n",
       "    objElement.classList.add('expanded');\n",
       "  } else {\n",
       "    objElement.classList.add('collapsed');\n",
       "    objElement.classList.remove('expanded');\n",
       "  }\n",
       "}\n",
       "</script>\n",
       "<div class=\"tfx-object expanded\"><div class = \"title\" onclick=\"toggleTfxObject(this)\"><span class=\"expansion-marker\"></span><span class=\"class-name\">ExecutionResult</span><span class=\"deemphasize\"> at 0x7f57c4077b38</span></div><table class=\"attr-table\"><tr><td class=\"attr-name\">.execution_id</td><td class = \"attrvalue\">5</td></tr><tr><td class=\"attr-name\">.component</td><td class = \"attrvalue\"><style>\n",
       ".tfx-object.expanded {\n",
       "  padding: 4px 8px 4px 8px;\n",
       "  background: white;\n",
       "  border: 1px solid #bbbbbb;\n",
       "  box-shadow: 4px 4px 2px rgba(0,0,0,0.05);\n",
       "}\n",
       ".tfx-object, .tfx-object * {\n",
       "  font-size: 11pt;\n",
       "}\n",
       ".tfx-object > .title {\n",
       "  cursor: pointer;\n",
       "}\n",
       ".tfx-object .expansion-marker {\n",
       "  color: #999999;\n",
       "}\n",
       ".tfx-object.expanded > .title > .expansion-marker:before {\n",
       "  content: '▼';\n",
       "}\n",
       ".tfx-object.collapsed > .title > .expansion-marker:before {\n",
       "  content: '▶';\n",
       "}\n",
       ".tfx-object .class-name {\n",
       "  font-weight: bold;\n",
       "}\n",
       ".tfx-object .deemphasize {\n",
       "  opacity: 0.5;\n",
       "}\n",
       ".tfx-object.collapsed > table.attr-table {\n",
       "  display: none;\n",
       "}\n",
       ".tfx-object.expanded > table.attr-table {\n",
       "  display: block;\n",
       "}\n",
       ".tfx-object table.attr-table {\n",
       "  border: 2px solid white;\n",
       "  margin-top: 5px;\n",
       "}\n",
       ".tfx-object table.attr-table td.attr-name {\n",
       "  vertical-align: top;\n",
       "  font-weight: bold;\n",
       "}\n",
       ".tfx-object table.attr-table td.attrvalue {\n",
       "  text-align: left;\n",
       "}\n",
       "</style>\n",
       "<script>\n",
       "function toggleTfxObject(element) {\n",
       "  var objElement = element.parentElement;\n",
       "  if (objElement.classList.contains('collapsed')) {\n",
       "    objElement.classList.remove('collapsed');\n",
       "    objElement.classList.add('expanded');\n",
       "  } else {\n",
       "    objElement.classList.add('collapsed');\n",
       "    objElement.classList.remove('expanded');\n",
       "  }\n",
       "}\n",
       "</script>\n",
       "<div class=\"tfx-object collapsed\"><div class = \"title\" onclick=\"toggleTfxObject(this)\"><span class=\"expansion-marker\"></span><span class=\"class-name\">ExampleValidator</span><span class=\"deemphasize\"> at 0x7f57780fe320</span></div><table class=\"attr-table\"><tr><td class=\"attr-name\">.inputs</td><td class = \"attrvalue\"><table class=\"attr-table\"><tr><td class=\"attr-name\">['stats']</td><td class = \"attrvalue\"><style>\n",
       ".tfx-object.expanded {\n",
       "  padding: 4px 8px 4px 8px;\n",
       "  background: white;\n",
       "  border: 1px solid #bbbbbb;\n",
       "  box-shadow: 4px 4px 2px rgba(0,0,0,0.05);\n",
       "}\n",
       ".tfx-object, .tfx-object * {\n",
       "  font-size: 11pt;\n",
       "}\n",
       ".tfx-object > .title {\n",
       "  cursor: pointer;\n",
       "}\n",
       ".tfx-object .expansion-marker {\n",
       "  color: #999999;\n",
       "}\n",
       ".tfx-object.expanded > .title > .expansion-marker:before {\n",
       "  content: '▼';\n",
       "}\n",
       ".tfx-object.collapsed > .title > .expansion-marker:before {\n",
       "  content: '▶';\n",
       "}\n",
       ".tfx-object .class-name {\n",
       "  font-weight: bold;\n",
       "}\n",
       ".tfx-object .deemphasize {\n",
       "  opacity: 0.5;\n",
       "}\n",
       ".tfx-object.collapsed > table.attr-table {\n",
       "  display: none;\n",
       "}\n",
       ".tfx-object.expanded > table.attr-table {\n",
       "  display: block;\n",
       "}\n",
       ".tfx-object table.attr-table {\n",
       "  border: 2px solid white;\n",
       "  margin-top: 5px;\n",
       "}\n",
       ".tfx-object table.attr-table td.attr-name {\n",
       "  vertical-align: top;\n",
       "  font-weight: bold;\n",
       "}\n",
       ".tfx-object table.attr-table td.attrvalue {\n",
       "  text-align: left;\n",
       "}\n",
       "</style>\n",
       "<script>\n",
       "function toggleTfxObject(element) {\n",
       "  var objElement = element.parentElement;\n",
       "  if (objElement.classList.contains('collapsed')) {\n",
       "    objElement.classList.remove('collapsed');\n",
       "    objElement.classList.add('expanded');\n",
       "  } else {\n",
       "    objElement.classList.add('collapsed');\n",
       "    objElement.classList.remove('expanded');\n",
       "  }\n",
       "}\n",
       "</script>\n",
       "<div class=\"tfx-object collapsed\"><div class = \"title\" onclick=\"toggleTfxObject(this)\"><span class=\"expansion-marker\"></span><span class=\"class-name\">Channel</span> of type <span class=\"class-name\">'ExampleStatisticsPath'</span> (2 artifacts)<span class=\"deemphasize\"> at 0x7f57d6a38b38</span></div><table class=\"attr-table\"><tr><td class=\"attr-name\">.type_name</td><td class = \"attrvalue\">ExampleStatisticsPath</td></tr><tr><td class=\"attr-name\">._artifacts</td><td class = \"attrvalue\"><table class=\"attr-table\"><tr><td class=\"attr-name\">[0]</td><td class = \"attrvalue\"><style>\n",
       ".tfx-object.expanded {\n",
       "  padding: 4px 8px 4px 8px;\n",
       "  background: white;\n",
       "  border: 1px solid #bbbbbb;\n",
       "  box-shadow: 4px 4px 2px rgba(0,0,0,0.05);\n",
       "}\n",
       ".tfx-object, .tfx-object * {\n",
       "  font-size: 11pt;\n",
       "}\n",
       ".tfx-object > .title {\n",
       "  cursor: pointer;\n",
       "}\n",
       ".tfx-object .expansion-marker {\n",
       "  color: #999999;\n",
       "}\n",
       ".tfx-object.expanded > .title > .expansion-marker:before {\n",
       "  content: '▼';\n",
       "}\n",
       ".tfx-object.collapsed > .title > .expansion-marker:before {\n",
       "  content: '▶';\n",
       "}\n",
       ".tfx-object .class-name {\n",
       "  font-weight: bold;\n",
       "}\n",
       ".tfx-object .deemphasize {\n",
       "  opacity: 0.5;\n",
       "}\n",
       ".tfx-object.collapsed > table.attr-table {\n",
       "  display: none;\n",
       "}\n",
       ".tfx-object.expanded > table.attr-table {\n",
       "  display: block;\n",
       "}\n",
       ".tfx-object table.attr-table {\n",
       "  border: 2px solid white;\n",
       "  margin-top: 5px;\n",
       "}\n",
       ".tfx-object table.attr-table td.attr-name {\n",
       "  vertical-align: top;\n",
       "  font-weight: bold;\n",
       "}\n",
       ".tfx-object table.attr-table td.attrvalue {\n",
       "  text-align: left;\n",
       "}\n",
       "</style>\n",
       "<script>\n",
       "function toggleTfxObject(element) {\n",
       "  var objElement = element.parentElement;\n",
       "  if (objElement.classList.contains('collapsed')) {\n",
       "    objElement.classList.remove('collapsed');\n",
       "    objElement.classList.add('expanded');\n",
       "  } else {\n",
       "    objElement.classList.add('collapsed');\n",
       "    objElement.classList.remove('expanded');\n",
       "  }\n",
       "}\n",
       "</script>\n",
       "<div class=\"tfx-object collapsed\"><div class = \"title\" onclick=\"toggleTfxObject(this)\"><span class=\"expansion-marker\"></span><span class=\"class-name\">Artifact</span> of type <span class=\"class-name\">'ExampleStatisticsPath'</span> (uri: /tmp/tfx-interactive-2019-08-31T21_40_43.017915-r5zd0p45/StatisticsGen/output/3/train/)<span class=\"deemphasize\"> at 0x7f57d6a38ac8</span></div><table class=\"attr-table\"><tr><td class=\"attr-name\">.type_name</td><td class = \"attrvalue\">ExampleStatisticsPath</td></tr><tr><td class=\"attr-name\">.uri</td><td class = \"attrvalue\">/tmp/tfx-interactive-2019-08-31T21_40_43.017915-r5zd0p45/StatisticsGen/output/3/train/</td></tr><tr><td class=\"attr-name\">.span</td><td class = \"attrvalue\">0</td></tr><tr><td class=\"attr-name\">.split</td><td class = \"attrvalue\">train</td></tr></table></div></td></tr><tr><td class=\"attr-name\">[1]</td><td class = \"attrvalue\"><style>\n",
       ".tfx-object.expanded {\n",
       "  padding: 4px 8px 4px 8px;\n",
       "  background: white;\n",
       "  border: 1px solid #bbbbbb;\n",
       "  box-shadow: 4px 4px 2px rgba(0,0,0,0.05);\n",
       "}\n",
       ".tfx-object, .tfx-object * {\n",
       "  font-size: 11pt;\n",
       "}\n",
       ".tfx-object > .title {\n",
       "  cursor: pointer;\n",
       "}\n",
       ".tfx-object .expansion-marker {\n",
       "  color: #999999;\n",
       "}\n",
       ".tfx-object.expanded > .title > .expansion-marker:before {\n",
       "  content: '▼';\n",
       "}\n",
       ".tfx-object.collapsed > .title > .expansion-marker:before {\n",
       "  content: '▶';\n",
       "}\n",
       ".tfx-object .class-name {\n",
       "  font-weight: bold;\n",
       "}\n",
       ".tfx-object .deemphasize {\n",
       "  opacity: 0.5;\n",
       "}\n",
       ".tfx-object.collapsed > table.attr-table {\n",
       "  display: none;\n",
       "}\n",
       ".tfx-object.expanded > table.attr-table {\n",
       "  display: block;\n",
       "}\n",
       ".tfx-object table.attr-table {\n",
       "  border: 2px solid white;\n",
       "  margin-top: 5px;\n",
       "}\n",
       ".tfx-object table.attr-table td.attr-name {\n",
       "  vertical-align: top;\n",
       "  font-weight: bold;\n",
       "}\n",
       ".tfx-object table.attr-table td.attrvalue {\n",
       "  text-align: left;\n",
       "}\n",
       "</style>\n",
       "<script>\n",
       "function toggleTfxObject(element) {\n",
       "  var objElement = element.parentElement;\n",
       "  if (objElement.classList.contains('collapsed')) {\n",
       "    objElement.classList.remove('collapsed');\n",
       "    objElement.classList.add('expanded');\n",
       "  } else {\n",
       "    objElement.classList.add('collapsed');\n",
       "    objElement.classList.remove('expanded');\n",
       "  }\n",
       "}\n",
       "</script>\n",
       "<div class=\"tfx-object collapsed\"><div class = \"title\" onclick=\"toggleTfxObject(this)\"><span class=\"expansion-marker\"></span><span class=\"class-name\">Artifact</span> of type <span class=\"class-name\">'ExampleStatisticsPath'</span> (uri: /tmp/tfx-interactive-2019-08-31T21_40_43.017915-r5zd0p45/StatisticsGen/output/3/eval/)<span class=\"deemphasize\"> at 0x7f57d6a38320</span></div><table class=\"attr-table\"><tr><td class=\"attr-name\">.type_name</td><td class = \"attrvalue\">ExampleStatisticsPath</td></tr><tr><td class=\"attr-name\">.uri</td><td class = \"attrvalue\">/tmp/tfx-interactive-2019-08-31T21_40_43.017915-r5zd0p45/StatisticsGen/output/3/eval/</td></tr><tr><td class=\"attr-name\">.span</td><td class = \"attrvalue\">0</td></tr><tr><td class=\"attr-name\">.split</td><td class = \"attrvalue\">eval</td></tr></table></div></td></tr></table></td></tr></table></div></td></tr><tr><td class=\"attr-name\">['schema']</td><td class = \"attrvalue\"><style>\n",
       ".tfx-object.expanded {\n",
       "  padding: 4px 8px 4px 8px;\n",
       "  background: white;\n",
       "  border: 1px solid #bbbbbb;\n",
       "  box-shadow: 4px 4px 2px rgba(0,0,0,0.05);\n",
       "}\n",
       ".tfx-object, .tfx-object * {\n",
       "  font-size: 11pt;\n",
       "}\n",
       ".tfx-object > .title {\n",
       "  cursor: pointer;\n",
       "}\n",
       ".tfx-object .expansion-marker {\n",
       "  color: #999999;\n",
       "}\n",
       ".tfx-object.expanded > .title > .expansion-marker:before {\n",
       "  content: '▼';\n",
       "}\n",
       ".tfx-object.collapsed > .title > .expansion-marker:before {\n",
       "  content: '▶';\n",
       "}\n",
       ".tfx-object .class-name {\n",
       "  font-weight: bold;\n",
       "}\n",
       ".tfx-object .deemphasize {\n",
       "  opacity: 0.5;\n",
       "}\n",
       ".tfx-object.collapsed > table.attr-table {\n",
       "  display: none;\n",
       "}\n",
       ".tfx-object.expanded > table.attr-table {\n",
       "  display: block;\n",
       "}\n",
       ".tfx-object table.attr-table {\n",
       "  border: 2px solid white;\n",
       "  margin-top: 5px;\n",
       "}\n",
       ".tfx-object table.attr-table td.attr-name {\n",
       "  vertical-align: top;\n",
       "  font-weight: bold;\n",
       "}\n",
       ".tfx-object table.attr-table td.attrvalue {\n",
       "  text-align: left;\n",
       "}\n",
       "</style>\n",
       "<script>\n",
       "function toggleTfxObject(element) {\n",
       "  var objElement = element.parentElement;\n",
       "  if (objElement.classList.contains('collapsed')) {\n",
       "    objElement.classList.remove('collapsed');\n",
       "    objElement.classList.add('expanded');\n",
       "  } else {\n",
       "    objElement.classList.add('collapsed');\n",
       "    objElement.classList.remove('expanded');\n",
       "  }\n",
       "}\n",
       "</script>\n",
       "<div class=\"tfx-object collapsed\"><div class = \"title\" onclick=\"toggleTfxObject(this)\"><span class=\"expansion-marker\"></span><span class=\"class-name\">Channel</span> of type <span class=\"class-name\">'SchemaPath'</span> (1 artifact)<span class=\"deemphasize\"> at 0x7f57c4215668</span></div><table class=\"attr-table\"><tr><td class=\"attr-name\">.type_name</td><td class = \"attrvalue\">SchemaPath</td></tr><tr><td class=\"attr-name\">._artifacts</td><td class = \"attrvalue\"><table class=\"attr-table\"><tr><td class=\"attr-name\">[0]</td><td class = \"attrvalue\"><style>\n",
       ".tfx-object.expanded {\n",
       "  padding: 4px 8px 4px 8px;\n",
       "  background: white;\n",
       "  border: 1px solid #bbbbbb;\n",
       "  box-shadow: 4px 4px 2px rgba(0,0,0,0.05);\n",
       "}\n",
       ".tfx-object, .tfx-object * {\n",
       "  font-size: 11pt;\n",
       "}\n",
       ".tfx-object > .title {\n",
       "  cursor: pointer;\n",
       "}\n",
       ".tfx-object .expansion-marker {\n",
       "  color: #999999;\n",
       "}\n",
       ".tfx-object.expanded > .title > .expansion-marker:before {\n",
       "  content: '▼';\n",
       "}\n",
       ".tfx-object.collapsed > .title > .expansion-marker:before {\n",
       "  content: '▶';\n",
       "}\n",
       ".tfx-object .class-name {\n",
       "  font-weight: bold;\n",
       "}\n",
       ".tfx-object .deemphasize {\n",
       "  opacity: 0.5;\n",
       "}\n",
       ".tfx-object.collapsed > table.attr-table {\n",
       "  display: none;\n",
       "}\n",
       ".tfx-object.expanded > table.attr-table {\n",
       "  display: block;\n",
       "}\n",
       ".tfx-object table.attr-table {\n",
       "  border: 2px solid white;\n",
       "  margin-top: 5px;\n",
       "}\n",
       ".tfx-object table.attr-table td.attr-name {\n",
       "  vertical-align: top;\n",
       "  font-weight: bold;\n",
       "}\n",
       ".tfx-object table.attr-table td.attrvalue {\n",
       "  text-align: left;\n",
       "}\n",
       "</style>\n",
       "<script>\n",
       "function toggleTfxObject(element) {\n",
       "  var objElement = element.parentElement;\n",
       "  if (objElement.classList.contains('collapsed')) {\n",
       "    objElement.classList.remove('collapsed');\n",
       "    objElement.classList.add('expanded');\n",
       "  } else {\n",
       "    objElement.classList.add('collapsed');\n",
       "    objElement.classList.remove('expanded');\n",
       "  }\n",
       "}\n",
       "</script>\n",
       "<div class=\"tfx-object collapsed\"><div class = \"title\" onclick=\"toggleTfxObject(this)\"><span class=\"expansion-marker\"></span><span class=\"class-name\">Artifact</span> of type <span class=\"class-name\">'SchemaPath'</span> (uri: /tmp/tfx-interactive-2019-08-31T21_40_43.017915-r5zd0p45/SchemaGen/output/4/)<span class=\"deemphasize\"> at 0x7f57c4215828</span></div><table class=\"attr-table\"><tr><td class=\"attr-name\">.type_name</td><td class = \"attrvalue\">SchemaPath</td></tr><tr><td class=\"attr-name\">.uri</td><td class = \"attrvalue\">/tmp/tfx-interactive-2019-08-31T21_40_43.017915-r5zd0p45/SchemaGen/output/4/</td></tr><tr><td class=\"attr-name\">.span</td><td class = \"attrvalue\">0</td></tr><tr><td class=\"attr-name\">.split</td><td class = \"attrvalue\"></td></tr></table></div></td></tr></table></td></tr></table></div></td></tr></table></td></tr><tr><td class=\"attr-name\">.outputs</td><td class = \"attrvalue\"><table class=\"attr-table\"><tr><td class=\"attr-name\">['output']</td><td class = \"attrvalue\"><style>\n",
       ".tfx-object.expanded {\n",
       "  padding: 4px 8px 4px 8px;\n",
       "  background: white;\n",
       "  border: 1px solid #bbbbbb;\n",
       "  box-shadow: 4px 4px 2px rgba(0,0,0,0.05);\n",
       "}\n",
       ".tfx-object, .tfx-object * {\n",
       "  font-size: 11pt;\n",
       "}\n",
       ".tfx-object > .title {\n",
       "  cursor: pointer;\n",
       "}\n",
       ".tfx-object .expansion-marker {\n",
       "  color: #999999;\n",
       "}\n",
       ".tfx-object.expanded > .title > .expansion-marker:before {\n",
       "  content: '▼';\n",
       "}\n",
       ".tfx-object.collapsed > .title > .expansion-marker:before {\n",
       "  content: '▶';\n",
       "}\n",
       ".tfx-object .class-name {\n",
       "  font-weight: bold;\n",
       "}\n",
       ".tfx-object .deemphasize {\n",
       "  opacity: 0.5;\n",
       "}\n",
       ".tfx-object.collapsed > table.attr-table {\n",
       "  display: none;\n",
       "}\n",
       ".tfx-object.expanded > table.attr-table {\n",
       "  display: block;\n",
       "}\n",
       ".tfx-object table.attr-table {\n",
       "  border: 2px solid white;\n",
       "  margin-top: 5px;\n",
       "}\n",
       ".tfx-object table.attr-table td.attr-name {\n",
       "  vertical-align: top;\n",
       "  font-weight: bold;\n",
       "}\n",
       ".tfx-object table.attr-table td.attrvalue {\n",
       "  text-align: left;\n",
       "}\n",
       "</style>\n",
       "<script>\n",
       "function toggleTfxObject(element) {\n",
       "  var objElement = element.parentElement;\n",
       "  if (objElement.classList.contains('collapsed')) {\n",
       "    objElement.classList.remove('collapsed');\n",
       "    objElement.classList.add('expanded');\n",
       "  } else {\n",
       "    objElement.classList.add('collapsed');\n",
       "    objElement.classList.remove('expanded');\n",
       "  }\n",
       "}\n",
       "</script>\n",
       "<div class=\"tfx-object collapsed\"><div class = \"title\" onclick=\"toggleTfxObject(this)\"><span class=\"expansion-marker\"></span><span class=\"class-name\">Channel</span> of type <span class=\"class-name\">'ExampleValidationPath'</span> (1 artifact)<span class=\"deemphasize\"> at 0x7f57780fe080</span></div><table class=\"attr-table\"><tr><td class=\"attr-name\">.type_name</td><td class = \"attrvalue\">ExampleValidationPath</td></tr><tr><td class=\"attr-name\">._artifacts</td><td class = \"attrvalue\"><table class=\"attr-table\"><tr><td class=\"attr-name\">[0]</td><td class = \"attrvalue\"><style>\n",
       ".tfx-object.expanded {\n",
       "  padding: 4px 8px 4px 8px;\n",
       "  background: white;\n",
       "  border: 1px solid #bbbbbb;\n",
       "  box-shadow: 4px 4px 2px rgba(0,0,0,0.05);\n",
       "}\n",
       ".tfx-object, .tfx-object * {\n",
       "  font-size: 11pt;\n",
       "}\n",
       ".tfx-object > .title {\n",
       "  cursor: pointer;\n",
       "}\n",
       ".tfx-object .expansion-marker {\n",
       "  color: #999999;\n",
       "}\n",
       ".tfx-object.expanded > .title > .expansion-marker:before {\n",
       "  content: '▼';\n",
       "}\n",
       ".tfx-object.collapsed > .title > .expansion-marker:before {\n",
       "  content: '▶';\n",
       "}\n",
       ".tfx-object .class-name {\n",
       "  font-weight: bold;\n",
       "}\n",
       ".tfx-object .deemphasize {\n",
       "  opacity: 0.5;\n",
       "}\n",
       ".tfx-object.collapsed > table.attr-table {\n",
       "  display: none;\n",
       "}\n",
       ".tfx-object.expanded > table.attr-table {\n",
       "  display: block;\n",
       "}\n",
       ".tfx-object table.attr-table {\n",
       "  border: 2px solid white;\n",
       "  margin-top: 5px;\n",
       "}\n",
       ".tfx-object table.attr-table td.attr-name {\n",
       "  vertical-align: top;\n",
       "  font-weight: bold;\n",
       "}\n",
       ".tfx-object table.attr-table td.attrvalue {\n",
       "  text-align: left;\n",
       "}\n",
       "</style>\n",
       "<script>\n",
       "function toggleTfxObject(element) {\n",
       "  var objElement = element.parentElement;\n",
       "  if (objElement.classList.contains('collapsed')) {\n",
       "    objElement.classList.remove('collapsed');\n",
       "    objElement.classList.add('expanded');\n",
       "  } else {\n",
       "    objElement.classList.add('collapsed');\n",
       "    objElement.classList.remove('expanded');\n",
       "  }\n",
       "}\n",
       "</script>\n",
       "<div class=\"tfx-object collapsed\"><div class = \"title\" onclick=\"toggleTfxObject(this)\"><span class=\"expansion-marker\"></span><span class=\"class-name\">Artifact</span> of type <span class=\"class-name\">'ExampleValidationPath'</span> (uri: /tmp/tfx-interactive-2019-08-31T21_40_43.017915-r5zd0p45/ExampleValidator/output/5/)<span class=\"deemphasize\"> at 0x7f57780fe198</span></div><table class=\"attr-table\"><tr><td class=\"attr-name\">.type_name</td><td class = \"attrvalue\">ExampleValidationPath</td></tr><tr><td class=\"attr-name\">.uri</td><td class = \"attrvalue\">/tmp/tfx-interactive-2019-08-31T21_40_43.017915-r5zd0p45/ExampleValidator/output/5/</td></tr><tr><td class=\"attr-name\">.span</td><td class = \"attrvalue\">0</td></tr><tr><td class=\"attr-name\">.split</td><td class = \"attrvalue\"></td></tr></table></div></td></tr></table></td></tr></table></div></td></tr></table></td></tr><tr><td class=\"attr-name\">.exec_properties</td><td class = \"attrvalue\">{}</td></tr></table></div></td></tr><tr><td class=\"attr-name\">.component.inputs</td><td class = \"attrvalue\"><table class=\"attr-table\"><tr><td class=\"attr-name\">['stats']</td><td class = \"attrvalue\"><style>\n",
       ".tfx-object.expanded {\n",
       "  padding: 4px 8px 4px 8px;\n",
       "  background: white;\n",
       "  border: 1px solid #bbbbbb;\n",
       "  box-shadow: 4px 4px 2px rgba(0,0,0,0.05);\n",
       "}\n",
       ".tfx-object, .tfx-object * {\n",
       "  font-size: 11pt;\n",
       "}\n",
       ".tfx-object > .title {\n",
       "  cursor: pointer;\n",
       "}\n",
       ".tfx-object .expansion-marker {\n",
       "  color: #999999;\n",
       "}\n",
       ".tfx-object.expanded > .title > .expansion-marker:before {\n",
       "  content: '▼';\n",
       "}\n",
       ".tfx-object.collapsed > .title > .expansion-marker:before {\n",
       "  content: '▶';\n",
       "}\n",
       ".tfx-object .class-name {\n",
       "  font-weight: bold;\n",
       "}\n",
       ".tfx-object .deemphasize {\n",
       "  opacity: 0.5;\n",
       "}\n",
       ".tfx-object.collapsed > table.attr-table {\n",
       "  display: none;\n",
       "}\n",
       ".tfx-object.expanded > table.attr-table {\n",
       "  display: block;\n",
       "}\n",
       ".tfx-object table.attr-table {\n",
       "  border: 2px solid white;\n",
       "  margin-top: 5px;\n",
       "}\n",
       ".tfx-object table.attr-table td.attr-name {\n",
       "  vertical-align: top;\n",
       "  font-weight: bold;\n",
       "}\n",
       ".tfx-object table.attr-table td.attrvalue {\n",
       "  text-align: left;\n",
       "}\n",
       "</style>\n",
       "<script>\n",
       "function toggleTfxObject(element) {\n",
       "  var objElement = element.parentElement;\n",
       "  if (objElement.classList.contains('collapsed')) {\n",
       "    objElement.classList.remove('collapsed');\n",
       "    objElement.classList.add('expanded');\n",
       "  } else {\n",
       "    objElement.classList.add('collapsed');\n",
       "    objElement.classList.remove('expanded');\n",
       "  }\n",
       "}\n",
       "</script>\n",
       "<div class=\"tfx-object collapsed\"><div class = \"title\" onclick=\"toggleTfxObject(this)\"><span class=\"expansion-marker\"></span><span class=\"class-name\">Channel</span> of type <span class=\"class-name\">'ExampleStatisticsPath'</span> (2 artifacts)<span class=\"deemphasize\"> at 0x7f57d6a38b38</span></div><table class=\"attr-table\"><tr><td class=\"attr-name\">.type_name</td><td class = \"attrvalue\">ExampleStatisticsPath</td></tr><tr><td class=\"attr-name\">._artifacts</td><td class = \"attrvalue\"><table class=\"attr-table\"><tr><td class=\"attr-name\">[0]</td><td class = \"attrvalue\"><style>\n",
       ".tfx-object.expanded {\n",
       "  padding: 4px 8px 4px 8px;\n",
       "  background: white;\n",
       "  border: 1px solid #bbbbbb;\n",
       "  box-shadow: 4px 4px 2px rgba(0,0,0,0.05);\n",
       "}\n",
       ".tfx-object, .tfx-object * {\n",
       "  font-size: 11pt;\n",
       "}\n",
       ".tfx-object > .title {\n",
       "  cursor: pointer;\n",
       "}\n",
       ".tfx-object .expansion-marker {\n",
       "  color: #999999;\n",
       "}\n",
       ".tfx-object.expanded > .title > .expansion-marker:before {\n",
       "  content: '▼';\n",
       "}\n",
       ".tfx-object.collapsed > .title > .expansion-marker:before {\n",
       "  content: '▶';\n",
       "}\n",
       ".tfx-object .class-name {\n",
       "  font-weight: bold;\n",
       "}\n",
       ".tfx-object .deemphasize {\n",
       "  opacity: 0.5;\n",
       "}\n",
       ".tfx-object.collapsed > table.attr-table {\n",
       "  display: none;\n",
       "}\n",
       ".tfx-object.expanded > table.attr-table {\n",
       "  display: block;\n",
       "}\n",
       ".tfx-object table.attr-table {\n",
       "  border: 2px solid white;\n",
       "  margin-top: 5px;\n",
       "}\n",
       ".tfx-object table.attr-table td.attr-name {\n",
       "  vertical-align: top;\n",
       "  font-weight: bold;\n",
       "}\n",
       ".tfx-object table.attr-table td.attrvalue {\n",
       "  text-align: left;\n",
       "}\n",
       "</style>\n",
       "<script>\n",
       "function toggleTfxObject(element) {\n",
       "  var objElement = element.parentElement;\n",
       "  if (objElement.classList.contains('collapsed')) {\n",
       "    objElement.classList.remove('collapsed');\n",
       "    objElement.classList.add('expanded');\n",
       "  } else {\n",
       "    objElement.classList.add('collapsed');\n",
       "    objElement.classList.remove('expanded');\n",
       "  }\n",
       "}\n",
       "</script>\n",
       "<div class=\"tfx-object collapsed\"><div class = \"title\" onclick=\"toggleTfxObject(this)\"><span class=\"expansion-marker\"></span><span class=\"class-name\">Artifact</span> of type <span class=\"class-name\">'ExampleStatisticsPath'</span> (uri: /tmp/tfx-interactive-2019-08-31T21_40_43.017915-r5zd0p45/StatisticsGen/output/3/train/)<span class=\"deemphasize\"> at 0x7f57d6a38ac8</span></div><table class=\"attr-table\"><tr><td class=\"attr-name\">.type_name</td><td class = \"attrvalue\">ExampleStatisticsPath</td></tr><tr><td class=\"attr-name\">.uri</td><td class = \"attrvalue\">/tmp/tfx-interactive-2019-08-31T21_40_43.017915-r5zd0p45/StatisticsGen/output/3/train/</td></tr><tr><td class=\"attr-name\">.span</td><td class = \"attrvalue\">0</td></tr><tr><td class=\"attr-name\">.split</td><td class = \"attrvalue\">train</td></tr></table></div></td></tr><tr><td class=\"attr-name\">[1]</td><td class = \"attrvalue\"><style>\n",
       ".tfx-object.expanded {\n",
       "  padding: 4px 8px 4px 8px;\n",
       "  background: white;\n",
       "  border: 1px solid #bbbbbb;\n",
       "  box-shadow: 4px 4px 2px rgba(0,0,0,0.05);\n",
       "}\n",
       ".tfx-object, .tfx-object * {\n",
       "  font-size: 11pt;\n",
       "}\n",
       ".tfx-object > .title {\n",
       "  cursor: pointer;\n",
       "}\n",
       ".tfx-object .expansion-marker {\n",
       "  color: #999999;\n",
       "}\n",
       ".tfx-object.expanded > .title > .expansion-marker:before {\n",
       "  content: '▼';\n",
       "}\n",
       ".tfx-object.collapsed > .title > .expansion-marker:before {\n",
       "  content: '▶';\n",
       "}\n",
       ".tfx-object .class-name {\n",
       "  font-weight: bold;\n",
       "}\n",
       ".tfx-object .deemphasize {\n",
       "  opacity: 0.5;\n",
       "}\n",
       ".tfx-object.collapsed > table.attr-table {\n",
       "  display: none;\n",
       "}\n",
       ".tfx-object.expanded > table.attr-table {\n",
       "  display: block;\n",
       "}\n",
       ".tfx-object table.attr-table {\n",
       "  border: 2px solid white;\n",
       "  margin-top: 5px;\n",
       "}\n",
       ".tfx-object table.attr-table td.attr-name {\n",
       "  vertical-align: top;\n",
       "  font-weight: bold;\n",
       "}\n",
       ".tfx-object table.attr-table td.attrvalue {\n",
       "  text-align: left;\n",
       "}\n",
       "</style>\n",
       "<script>\n",
       "function toggleTfxObject(element) {\n",
       "  var objElement = element.parentElement;\n",
       "  if (objElement.classList.contains('collapsed')) {\n",
       "    objElement.classList.remove('collapsed');\n",
       "    objElement.classList.add('expanded');\n",
       "  } else {\n",
       "    objElement.classList.add('collapsed');\n",
       "    objElement.classList.remove('expanded');\n",
       "  }\n",
       "}\n",
       "</script>\n",
       "<div class=\"tfx-object collapsed\"><div class = \"title\" onclick=\"toggleTfxObject(this)\"><span class=\"expansion-marker\"></span><span class=\"class-name\">Artifact</span> of type <span class=\"class-name\">'ExampleStatisticsPath'</span> (uri: /tmp/tfx-interactive-2019-08-31T21_40_43.017915-r5zd0p45/StatisticsGen/output/3/eval/)<span class=\"deemphasize\"> at 0x7f57d6a38320</span></div><table class=\"attr-table\"><tr><td class=\"attr-name\">.type_name</td><td class = \"attrvalue\">ExampleStatisticsPath</td></tr><tr><td class=\"attr-name\">.uri</td><td class = \"attrvalue\">/tmp/tfx-interactive-2019-08-31T21_40_43.017915-r5zd0p45/StatisticsGen/output/3/eval/</td></tr><tr><td class=\"attr-name\">.span</td><td class = \"attrvalue\">0</td></tr><tr><td class=\"attr-name\">.split</td><td class = \"attrvalue\">eval</td></tr></table></div></td></tr></table></td></tr></table></div></td></tr><tr><td class=\"attr-name\">['schema']</td><td class = \"attrvalue\"><style>\n",
       ".tfx-object.expanded {\n",
       "  padding: 4px 8px 4px 8px;\n",
       "  background: white;\n",
       "  border: 1px solid #bbbbbb;\n",
       "  box-shadow: 4px 4px 2px rgba(0,0,0,0.05);\n",
       "}\n",
       ".tfx-object, .tfx-object * {\n",
       "  font-size: 11pt;\n",
       "}\n",
       ".tfx-object > .title {\n",
       "  cursor: pointer;\n",
       "}\n",
       ".tfx-object .expansion-marker {\n",
       "  color: #999999;\n",
       "}\n",
       ".tfx-object.expanded > .title > .expansion-marker:before {\n",
       "  content: '▼';\n",
       "}\n",
       ".tfx-object.collapsed > .title > .expansion-marker:before {\n",
       "  content: '▶';\n",
       "}\n",
       ".tfx-object .class-name {\n",
       "  font-weight: bold;\n",
       "}\n",
       ".tfx-object .deemphasize {\n",
       "  opacity: 0.5;\n",
       "}\n",
       ".tfx-object.collapsed > table.attr-table {\n",
       "  display: none;\n",
       "}\n",
       ".tfx-object.expanded > table.attr-table {\n",
       "  display: block;\n",
       "}\n",
       ".tfx-object table.attr-table {\n",
       "  border: 2px solid white;\n",
       "  margin-top: 5px;\n",
       "}\n",
       ".tfx-object table.attr-table td.attr-name {\n",
       "  vertical-align: top;\n",
       "  font-weight: bold;\n",
       "}\n",
       ".tfx-object table.attr-table td.attrvalue {\n",
       "  text-align: left;\n",
       "}\n",
       "</style>\n",
       "<script>\n",
       "function toggleTfxObject(element) {\n",
       "  var objElement = element.parentElement;\n",
       "  if (objElement.classList.contains('collapsed')) {\n",
       "    objElement.classList.remove('collapsed');\n",
       "    objElement.classList.add('expanded');\n",
       "  } else {\n",
       "    objElement.classList.add('collapsed');\n",
       "    objElement.classList.remove('expanded');\n",
       "  }\n",
       "}\n",
       "</script>\n",
       "<div class=\"tfx-object collapsed\"><div class = \"title\" onclick=\"toggleTfxObject(this)\"><span class=\"expansion-marker\"></span><span class=\"class-name\">Channel</span> of type <span class=\"class-name\">'SchemaPath'</span> (1 artifact)<span class=\"deemphasize\"> at 0x7f57c4215668</span></div><table class=\"attr-table\"><tr><td class=\"attr-name\">.type_name</td><td class = \"attrvalue\">SchemaPath</td></tr><tr><td class=\"attr-name\">._artifacts</td><td class = \"attrvalue\"><table class=\"attr-table\"><tr><td class=\"attr-name\">[0]</td><td class = \"attrvalue\"><style>\n",
       ".tfx-object.expanded {\n",
       "  padding: 4px 8px 4px 8px;\n",
       "  background: white;\n",
       "  border: 1px solid #bbbbbb;\n",
       "  box-shadow: 4px 4px 2px rgba(0,0,0,0.05);\n",
       "}\n",
       ".tfx-object, .tfx-object * {\n",
       "  font-size: 11pt;\n",
       "}\n",
       ".tfx-object > .title {\n",
       "  cursor: pointer;\n",
       "}\n",
       ".tfx-object .expansion-marker {\n",
       "  color: #999999;\n",
       "}\n",
       ".tfx-object.expanded > .title > .expansion-marker:before {\n",
       "  content: '▼';\n",
       "}\n",
       ".tfx-object.collapsed > .title > .expansion-marker:before {\n",
       "  content: '▶';\n",
       "}\n",
       ".tfx-object .class-name {\n",
       "  font-weight: bold;\n",
       "}\n",
       ".tfx-object .deemphasize {\n",
       "  opacity: 0.5;\n",
       "}\n",
       ".tfx-object.collapsed > table.attr-table {\n",
       "  display: none;\n",
       "}\n",
       ".tfx-object.expanded > table.attr-table {\n",
       "  display: block;\n",
       "}\n",
       ".tfx-object table.attr-table {\n",
       "  border: 2px solid white;\n",
       "  margin-top: 5px;\n",
       "}\n",
       ".tfx-object table.attr-table td.attr-name {\n",
       "  vertical-align: top;\n",
       "  font-weight: bold;\n",
       "}\n",
       ".tfx-object table.attr-table td.attrvalue {\n",
       "  text-align: left;\n",
       "}\n",
       "</style>\n",
       "<script>\n",
       "function toggleTfxObject(element) {\n",
       "  var objElement = element.parentElement;\n",
       "  if (objElement.classList.contains('collapsed')) {\n",
       "    objElement.classList.remove('collapsed');\n",
       "    objElement.classList.add('expanded');\n",
       "  } else {\n",
       "    objElement.classList.add('collapsed');\n",
       "    objElement.classList.remove('expanded');\n",
       "  }\n",
       "}\n",
       "</script>\n",
       "<div class=\"tfx-object collapsed\"><div class = \"title\" onclick=\"toggleTfxObject(this)\"><span class=\"expansion-marker\"></span><span class=\"class-name\">Artifact</span> of type <span class=\"class-name\">'SchemaPath'</span> (uri: /tmp/tfx-interactive-2019-08-31T21_40_43.017915-r5zd0p45/SchemaGen/output/4/)<span class=\"deemphasize\"> at 0x7f57c4215828</span></div><table class=\"attr-table\"><tr><td class=\"attr-name\">.type_name</td><td class = \"attrvalue\">SchemaPath</td></tr><tr><td class=\"attr-name\">.uri</td><td class = \"attrvalue\">/tmp/tfx-interactive-2019-08-31T21_40_43.017915-r5zd0p45/SchemaGen/output/4/</td></tr><tr><td class=\"attr-name\">.span</td><td class = \"attrvalue\">0</td></tr><tr><td class=\"attr-name\">.split</td><td class = \"attrvalue\"></td></tr></table></div></td></tr></table></td></tr></table></div></td></tr></table></td></tr><tr><td class=\"attr-name\">.component.outputs</td><td class = \"attrvalue\"><table class=\"attr-table\"><tr><td class=\"attr-name\">['output']</td><td class = \"attrvalue\"><style>\n",
       ".tfx-object.expanded {\n",
       "  padding: 4px 8px 4px 8px;\n",
       "  background: white;\n",
       "  border: 1px solid #bbbbbb;\n",
       "  box-shadow: 4px 4px 2px rgba(0,0,0,0.05);\n",
       "}\n",
       ".tfx-object, .tfx-object * {\n",
       "  font-size: 11pt;\n",
       "}\n",
       ".tfx-object > .title {\n",
       "  cursor: pointer;\n",
       "}\n",
       ".tfx-object .expansion-marker {\n",
       "  color: #999999;\n",
       "}\n",
       ".tfx-object.expanded > .title > .expansion-marker:before {\n",
       "  content: '▼';\n",
       "}\n",
       ".tfx-object.collapsed > .title > .expansion-marker:before {\n",
       "  content: '▶';\n",
       "}\n",
       ".tfx-object .class-name {\n",
       "  font-weight: bold;\n",
       "}\n",
       ".tfx-object .deemphasize {\n",
       "  opacity: 0.5;\n",
       "}\n",
       ".tfx-object.collapsed > table.attr-table {\n",
       "  display: none;\n",
       "}\n",
       ".tfx-object.expanded > table.attr-table {\n",
       "  display: block;\n",
       "}\n",
       ".tfx-object table.attr-table {\n",
       "  border: 2px solid white;\n",
       "  margin-top: 5px;\n",
       "}\n",
       ".tfx-object table.attr-table td.attr-name {\n",
       "  vertical-align: top;\n",
       "  font-weight: bold;\n",
       "}\n",
       ".tfx-object table.attr-table td.attrvalue {\n",
       "  text-align: left;\n",
       "}\n",
       "</style>\n",
       "<script>\n",
       "function toggleTfxObject(element) {\n",
       "  var objElement = element.parentElement;\n",
       "  if (objElement.classList.contains('collapsed')) {\n",
       "    objElement.classList.remove('collapsed');\n",
       "    objElement.classList.add('expanded');\n",
       "  } else {\n",
       "    objElement.classList.add('collapsed');\n",
       "    objElement.classList.remove('expanded');\n",
       "  }\n",
       "}\n",
       "</script>\n",
       "<div class=\"tfx-object collapsed\"><div class = \"title\" onclick=\"toggleTfxObject(this)\"><span class=\"expansion-marker\"></span><span class=\"class-name\">Channel</span> of type <span class=\"class-name\">'ExampleValidationPath'</span> (1 artifact)<span class=\"deemphasize\"> at 0x7f57780fe080</span></div><table class=\"attr-table\"><tr><td class=\"attr-name\">.type_name</td><td class = \"attrvalue\">ExampleValidationPath</td></tr><tr><td class=\"attr-name\">._artifacts</td><td class = \"attrvalue\"><table class=\"attr-table\"><tr><td class=\"attr-name\">[0]</td><td class = \"attrvalue\"><style>\n",
       ".tfx-object.expanded {\n",
       "  padding: 4px 8px 4px 8px;\n",
       "  background: white;\n",
       "  border: 1px solid #bbbbbb;\n",
       "  box-shadow: 4px 4px 2px rgba(0,0,0,0.05);\n",
       "}\n",
       ".tfx-object, .tfx-object * {\n",
       "  font-size: 11pt;\n",
       "}\n",
       ".tfx-object > .title {\n",
       "  cursor: pointer;\n",
       "}\n",
       ".tfx-object .expansion-marker {\n",
       "  color: #999999;\n",
       "}\n",
       ".tfx-object.expanded > .title > .expansion-marker:before {\n",
       "  content: '▼';\n",
       "}\n",
       ".tfx-object.collapsed > .title > .expansion-marker:before {\n",
       "  content: '▶';\n",
       "}\n",
       ".tfx-object .class-name {\n",
       "  font-weight: bold;\n",
       "}\n",
       ".tfx-object .deemphasize {\n",
       "  opacity: 0.5;\n",
       "}\n",
       ".tfx-object.collapsed > table.attr-table {\n",
       "  display: none;\n",
       "}\n",
       ".tfx-object.expanded > table.attr-table {\n",
       "  display: block;\n",
       "}\n",
       ".tfx-object table.attr-table {\n",
       "  border: 2px solid white;\n",
       "  margin-top: 5px;\n",
       "}\n",
       ".tfx-object table.attr-table td.attr-name {\n",
       "  vertical-align: top;\n",
       "  font-weight: bold;\n",
       "}\n",
       ".tfx-object table.attr-table td.attrvalue {\n",
       "  text-align: left;\n",
       "}\n",
       "</style>\n",
       "<script>\n",
       "function toggleTfxObject(element) {\n",
       "  var objElement = element.parentElement;\n",
       "  if (objElement.classList.contains('collapsed')) {\n",
       "    objElement.classList.remove('collapsed');\n",
       "    objElement.classList.add('expanded');\n",
       "  } else {\n",
       "    objElement.classList.add('collapsed');\n",
       "    objElement.classList.remove('expanded');\n",
       "  }\n",
       "}\n",
       "</script>\n",
       "<div class=\"tfx-object collapsed\"><div class = \"title\" onclick=\"toggleTfxObject(this)\"><span class=\"expansion-marker\"></span><span class=\"class-name\">Artifact</span> of type <span class=\"class-name\">'ExampleValidationPath'</span> (uri: /tmp/tfx-interactive-2019-08-31T21_40_43.017915-r5zd0p45/ExampleValidator/output/5/)<span class=\"deemphasize\"> at 0x7f57780fe198</span></div><table class=\"attr-table\"><tr><td class=\"attr-name\">.type_name</td><td class = \"attrvalue\">ExampleValidationPath</td></tr><tr><td class=\"attr-name\">.uri</td><td class = \"attrvalue\">/tmp/tfx-interactive-2019-08-31T21_40_43.017915-r5zd0p45/ExampleValidator/output/5/</td></tr><tr><td class=\"attr-name\">.span</td><td class = \"attrvalue\">0</td></tr><tr><td class=\"attr-name\">.split</td><td class = \"attrvalue\"></td></tr></table></div></td></tr></table></td></tr></table></div></td></tr></table></td></tr></table></div>"
      ],
      "text/plain": [
       "ExecutionResult(\n",
       "    component_id: ExampleValidator\n",
       "    execution_id: 5\n",
       "    outputs:\n",
       "        output: Channel(\n",
       "            type_name: ExampleValidationPath\n",
       "            artifacts: [Artifact(type_name: ExampleValidationPath, uri: /tmp/tfx-interactive-2019-08-31T21_40_43.017915-r5zd0p45/ExampleValidator/output/5/, split: , id: 7)]\n",
       "        ))"
      ]
     },
     "execution_count": 13,
     "metadata": {},
     "output_type": "execute_result"
    }
   ],
   "source": [
    "# Performs anomaly detection based on statistics and data schema.\n",
    "validate_stats = ExampleValidator(\n",
    "    stats=statistics_gen.outputs['output'],\n",
    "    schema=infer_schema.outputs['output'])\n",
    "context.run(validate_stats)"
   ]
  },
  {
   "cell_type": "markdown",
   "metadata": {
    "colab_type": "text",
    "id": "855mrHgJcoer"
   },
   "source": [
    "#### Visualize the detected anomalies"
   ]
  },
  {
   "cell_type": "code",
   "execution_count": 14,
   "metadata": {
    "colab": {},
    "colab_type": "code",
    "id": "TDyAAozQcrk3"
   },
   "outputs": [],
   "source": [
    "# Get the validation path.\n",
    "validation_dir = validate_stats.outputs['output'].get()[0].uri\n",
    "anomalies_path = os.path.join(validation_dir, 'anomalies.pbtxt')"
   ]
  },
  {
   "cell_type": "code",
   "execution_count": 15,
   "metadata": {
    "colab": {},
    "colab_type": "code",
    "id": "ZDhjfHFjcz1C"
   },
   "outputs": [
    {
     "data": {
      "text/html": [
       "<div>\n",
       "<style scoped>\n",
       "    .dataframe tbody tr th:only-of-type {\n",
       "        vertical-align: middle;\n",
       "    }\n",
       "\n",
       "    .dataframe tbody tr th {\n",
       "        vertical-align: top;\n",
       "    }\n",
       "\n",
       "    .dataframe thead th {\n",
       "        text-align: right;\n",
       "    }\n",
       "</style>\n",
       "<table border=\"1\" class=\"dataframe\">\n",
       "  <thead>\n",
       "    <tr style=\"text-align: right;\">\n",
       "      <th></th>\n",
       "      <th>Anomaly short description</th>\n",
       "      <th>Anomaly long description</th>\n",
       "    </tr>\n",
       "    <tr>\n",
       "      <th>Feature name</th>\n",
       "      <th></th>\n",
       "      <th></th>\n",
       "    </tr>\n",
       "  </thead>\n",
       "  <tbody>\n",
       "    <tr>\n",
       "      <td>'company'</td>\n",
       "      <td>Unexpected string values</td>\n",
       "      <td>Examples contain values missing from the schema: 1085 - 72312 N and W Cab Co (&lt;1%), 2192 - Zeymane Corp (&lt;1%), 2809 - 95474 C &amp; D Cab Co Inc. (&lt;1%), 3897 - 57856 Ilie Malec (&lt;1%), 4615 - Tyrone Henderson (&lt;1%), 585 - Valley Cab Co (&lt;1%), 5874 - Sergey Cab Corp. (&lt;1%), 5997 - AW Services Inc. (&lt;1%), 6057 - 24657 Richard Addo (&lt;1%), 6574 - Babylon Express Inc. (&lt;1%), 6743 - Luhak Corp (&lt;1%).</td>\n",
       "    </tr>\n",
       "  </tbody>\n",
       "</table>\n",
       "</div>"
      ],
      "text/plain": [
       "             Anomaly short description  \\\n",
       "Feature name                             \n",
       "'company'     Unexpected string values   \n",
       "\n",
       "                                                                                                                                                                                                                                                                                                                                                                                               Anomaly long description  \n",
       "Feature name                                                                                                                                                                                                                                                                                                                                                                                                             \n",
       "'company'     Examples contain values missing from the schema: 1085 - 72312 N and W Cab Co (<1%), 2192 - Zeymane Corp (<1%), 2809 - 95474 C & D Cab Co Inc. (<1%), 3897 - 57856 Ilie Malec (<1%), 4615 - Tyrone Henderson (<1%), 585 - Valley Cab Co (<1%), 5874 - Sergey Cab Corp. (<1%), 5997 - AW Services Inc. (<1%), 6057 - 24657 Richard Addo (<1%), 6574 - Babylon Express Inc. (<1%), 6743 - Luhak Corp (<1%).   "
      ]
     },
     "metadata": {},
     "output_type": "display_data"
    }
   ],
   "source": [
    "# Load and visualize the anomalies.\n",
    "anomalies = tfdv.load_anomalies_text(anomalies_path)\n",
    "tfdv.display_anomalies(anomalies)"
   ]
  },
  {
   "cell_type": "markdown",
   "metadata": {
    "colab_type": "text",
    "id": "JPViEz5RlA36"
   },
   "source": [
    "### Transform\n",
    "`Transform` performs data transformations and feature engineering which are kept in sync for training and serving."
   ]
  },
  {
   "cell_type": "markdown",
   "metadata": {
    "colab_type": "text",
    "id": "wgbmZr3sgbWW"
   },
   "source": [
    "#### Run the Transform component"
   ]
  },
  {
   "cell_type": "code",
   "execution_count": 16,
   "metadata": {
    "colab": {},
    "colab_type": "code",
    "id": "jHfhth_GiZI9"
   },
   "outputs": [
    {
     "name": "stdout",
     "output_type": "stream",
     "text": [
      "INFO:tensorflow:Run driver for Transform\n"
     ]
    },
    {
     "name": "stderr",
     "output_type": "stream",
     "text": [
      "INFO:tensorflow:Run driver for Transform\n"
     ]
    },
    {
     "name": "stdout",
     "output_type": "stream",
     "text": [
      "INFO:tensorflow:Created run context interactive-2019-08-31T21_40_43.017915.2019-08-31T21:43:58.233101.\n"
     ]
    },
    {
     "name": "stderr",
     "output_type": "stream",
     "text": [
      "INFO:tensorflow:Created run context interactive-2019-08-31T21_40_43.017915.2019-08-31T21:43:58.233101.\n"
     ]
    },
    {
     "name": "stdout",
     "output_type": "stream",
     "text": [
      "INFO:tensorflow:ID of run context interactive-2019-08-31T21_40_43.017915.2019-08-31T21:43:58.233101 is 6.\n"
     ]
    },
    {
     "name": "stderr",
     "output_type": "stream",
     "text": [
      "INFO:tensorflow:ID of run context interactive-2019-08-31T21_40_43.017915.2019-08-31T21:43:58.233101 is 6.\n"
     ]
    },
    {
     "name": "stdout",
     "output_type": "stream",
     "text": [
      "INFO:tensorflow:Resolved input artifacts are: {'input_data': [Artifact(type_name: ExamplesPath, uri: /tmp/tfx-interactive-2019-08-31T21_40_43.017915-r5zd0p45/CsvExampleGen/examples/1/train/, split: train, id: 2), Artifact(type_name: ExamplesPath, uri: /tmp/tfx-interactive-2019-08-31T21_40_43.017915-r5zd0p45/CsvExampleGen/examples/1/eval/, split: eval, id: 3)], 'schema': [Artifact(type_name: SchemaPath, uri: /tmp/tfx-interactive-2019-08-31T21_40_43.017915-r5zd0p45/SchemaGen/output/4/, split: , id: 6)]}\n"
     ]
    },
    {
     "name": "stderr",
     "output_type": "stream",
     "text": [
      "INFO:tensorflow:Resolved input artifacts are: {'input_data': [Artifact(type_name: ExamplesPath, uri: /tmp/tfx-interactive-2019-08-31T21_40_43.017915-r5zd0p45/CsvExampleGen/examples/1/train/, split: train, id: 2), Artifact(type_name: ExamplesPath, uri: /tmp/tfx-interactive-2019-08-31T21_40_43.017915-r5zd0p45/CsvExampleGen/examples/1/eval/, split: eval, id: 3)], 'schema': [Artifact(type_name: SchemaPath, uri: /tmp/tfx-interactive-2019-08-31T21_40_43.017915-r5zd0p45/SchemaGen/output/4/, split: , id: 6)]}\n"
     ]
    },
    {
     "name": "stdout",
     "output_type": "stream",
     "text": [
      "INFO:tensorflow:Prepared EXECUTION:\n",
      " type_id: 11\n",
      "properties {\n",
      "  key: \"checksum_md5\"\n",
      "  value {\n",
      "    string_value: \"4e52cfff5d4b939df7b60870c459c181\"\n",
      "  }\n",
      "}\n",
      "properties {\n",
      "  key: \"component_id\"\n",
      "  value {\n",
      "    string_value: \"Transform\"\n",
      "  }\n",
      "}\n",
      "properties {\n",
      "  key: \"module_file\"\n",
      "  value {\n",
      "    string_value: \"/root/miniconda3/envs/tfx/lib/python3.7/site-packages/tfx/examples/chicago_taxi_pipeline/taxi_utils.py\"\n",
      "  }\n",
      "}\n",
      "properties {\n",
      "  key: \"pipeline_name\"\n",
      "  value {\n",
      "    string_value: \"interactive-2019-08-31T21_40_43.017915\"\n",
      "  }\n",
      "}\n",
      "properties {\n",
      "  key: \"pipeline_root\"\n",
      "  value {\n",
      "    string_value: \"/tmp/tfx-interactive-2019-08-31T21_40_43.017915-r5zd0p45\"\n",
      "  }\n",
      "}\n",
      "properties {\n",
      "  key: \"preprocessing_fn\"\n",
      "  value {\n",
      "    string_value: \"None\"\n",
      "  }\n",
      "}\n",
      "properties {\n",
      "  key: \"run_id\"\n",
      "  value {\n",
      "    string_value: \"2019-08-31T21:43:58.233101\"\n",
      "  }\n",
      "}\n",
      "properties {\n",
      "  key: \"state\"\n",
      "  value {\n",
      "    string_value: \"new\"\n",
      "  }\n",
      "}\n",
      "\n"
     ]
    },
    {
     "name": "stderr",
     "output_type": "stream",
     "text": [
      "INFO:tensorflow:Prepared EXECUTION:\n",
      " type_id: 11\n",
      "properties {\n",
      "  key: \"checksum_md5\"\n",
      "  value {\n",
      "    string_value: \"4e52cfff5d4b939df7b60870c459c181\"\n",
      "  }\n",
      "}\n",
      "properties {\n",
      "  key: \"component_id\"\n",
      "  value {\n",
      "    string_value: \"Transform\"\n",
      "  }\n",
      "}\n",
      "properties {\n",
      "  key: \"module_file\"\n",
      "  value {\n",
      "    string_value: \"/root/miniconda3/envs/tfx/lib/python3.7/site-packages/tfx/examples/chicago_taxi_pipeline/taxi_utils.py\"\n",
      "  }\n",
      "}\n",
      "properties {\n",
      "  key: \"pipeline_name\"\n",
      "  value {\n",
      "    string_value: \"interactive-2019-08-31T21_40_43.017915\"\n",
      "  }\n",
      "}\n",
      "properties {\n",
      "  key: \"pipeline_root\"\n",
      "  value {\n",
      "    string_value: \"/tmp/tfx-interactive-2019-08-31T21_40_43.017915-r5zd0p45\"\n",
      "  }\n",
      "}\n",
      "properties {\n",
      "  key: \"preprocessing_fn\"\n",
      "  value {\n",
      "    string_value: \"None\"\n",
      "  }\n",
      "}\n",
      "properties {\n",
      "  key: \"run_id\"\n",
      "  value {\n",
      "    string_value: \"2019-08-31T21:43:58.233101\"\n",
      "  }\n",
      "}\n",
      "properties {\n",
      "  key: \"state\"\n",
      "  value {\n",
      "    string_value: \"new\"\n",
      "  }\n",
      "}\n",
      "\n"
     ]
    },
    {
     "name": "stdout",
     "output_type": "stream",
     "text": [
      "INFO:tensorflow:Execution id of the upcoming component execution is 6\n"
     ]
    },
    {
     "name": "stderr",
     "output_type": "stream",
     "text": [
      "INFO:tensorflow:Execution id of the upcoming component execution is 6\n"
     ]
    },
    {
     "name": "stdout",
     "output_type": "stream",
     "text": [
      "INFO:tensorflow:Checking previous run for execution_type_name tfx.components.transform.component.Transform and input_artifacts {'input_data': [Artifact(type_name: ExamplesPath, uri: /tmp/tfx-interactive-2019-08-31T21_40_43.017915-r5zd0p45/CsvExampleGen/examples/1/train/, split: train, id: 2), Artifact(type_name: ExamplesPath, uri: /tmp/tfx-interactive-2019-08-31T21_40_43.017915-r5zd0p45/CsvExampleGen/examples/1/eval/, split: eval, id: 3)], 'schema': [Artifact(type_name: SchemaPath, uri: /tmp/tfx-interactive-2019-08-31T21_40_43.017915-r5zd0p45/SchemaGen/output/4/, split: , id: 6)]}\n"
     ]
    },
    {
     "name": "stderr",
     "output_type": "stream",
     "text": [
      "INFO:tensorflow:Checking previous run for execution_type_name tfx.components.transform.component.Transform and input_artifacts {'input_data': [Artifact(type_name: ExamplesPath, uri: /tmp/tfx-interactive-2019-08-31T21_40_43.017915-r5zd0p45/CsvExampleGen/examples/1/train/, split: train, id: 2), Artifact(type_name: ExamplesPath, uri: /tmp/tfx-interactive-2019-08-31T21_40_43.017915-r5zd0p45/CsvExampleGen/examples/1/eval/, split: eval, id: 3)], 'schema': [Artifact(type_name: SchemaPath, uri: /tmp/tfx-interactive-2019-08-31T21_40_43.017915-r5zd0p45/SchemaGen/output/4/, split: , id: 6)]}\n"
     ]
    },
    {
     "name": "stdout",
     "output_type": "stream",
     "text": [
      "INFO:tensorflow:Prepared EXECUTION:\n",
      " type_id: 11\n",
      "properties {\n",
      "  key: \"checksum_md5\"\n",
      "  value {\n",
      "    string_value: \"4e52cfff5d4b939df7b60870c459c181\"\n",
      "  }\n",
      "}\n",
      "properties {\n",
      "  key: \"component_id\"\n",
      "  value {\n",
      "    string_value: \"Transform\"\n",
      "  }\n",
      "}\n",
      "properties {\n",
      "  key: \"module_file\"\n",
      "  value {\n",
      "    string_value: \"/root/miniconda3/envs/tfx/lib/python3.7/site-packages/tfx/examples/chicago_taxi_pipeline/taxi_utils.py\"\n",
      "  }\n",
      "}\n",
      "properties {\n",
      "  key: \"pipeline_name\"\n",
      "  value {\n",
      "    string_value: \"interactive-2019-08-31T21_40_43.017915\"\n",
      "  }\n",
      "}\n",
      "properties {\n",
      "  key: \"pipeline_root\"\n",
      "  value {\n",
      "    string_value: \"/tmp/tfx-interactive-2019-08-31T21_40_43.017915-r5zd0p45\"\n",
      "  }\n",
      "}\n",
      "properties {\n",
      "  key: \"preprocessing_fn\"\n",
      "  value {\n",
      "    string_value: \"None\"\n",
      "  }\n",
      "}\n",
      "properties {\n",
      "  key: \"run_id\"\n",
      "  value {\n",
      "    string_value: \"2019-08-31T21:43:58.233101\"\n",
      "  }\n",
      "}\n",
      "properties {\n",
      "  key: \"state\"\n",
      "  value {\n",
      "    string_value: \"complete\"\n",
      "  }\n",
      "}\n",
      "\n"
     ]
    },
    {
     "name": "stderr",
     "output_type": "stream",
     "text": [
      "INFO:tensorflow:Prepared EXECUTION:\n",
      " type_id: 11\n",
      "properties {\n",
      "  key: \"checksum_md5\"\n",
      "  value {\n",
      "    string_value: \"4e52cfff5d4b939df7b60870c459c181\"\n",
      "  }\n",
      "}\n",
      "properties {\n",
      "  key: \"component_id\"\n",
      "  value {\n",
      "    string_value: \"Transform\"\n",
      "  }\n",
      "}\n",
      "properties {\n",
      "  key: \"module_file\"\n",
      "  value {\n",
      "    string_value: \"/root/miniconda3/envs/tfx/lib/python3.7/site-packages/tfx/examples/chicago_taxi_pipeline/taxi_utils.py\"\n",
      "  }\n",
      "}\n",
      "properties {\n",
      "  key: \"pipeline_name\"\n",
      "  value {\n",
      "    string_value: \"interactive-2019-08-31T21_40_43.017915\"\n",
      "  }\n",
      "}\n",
      "properties {\n",
      "  key: \"pipeline_root\"\n",
      "  value {\n",
      "    string_value: \"/tmp/tfx-interactive-2019-08-31T21_40_43.017915-r5zd0p45\"\n",
      "  }\n",
      "}\n",
      "properties {\n",
      "  key: \"preprocessing_fn\"\n",
      "  value {\n",
      "    string_value: \"None\"\n",
      "  }\n",
      "}\n",
      "properties {\n",
      "  key: \"run_id\"\n",
      "  value {\n",
      "    string_value: \"2019-08-31T21:43:58.233101\"\n",
      "  }\n",
      "}\n",
      "properties {\n",
      "  key: \"state\"\n",
      "  value {\n",
      "    string_value: \"complete\"\n",
      "  }\n",
      "}\n",
      "\n"
     ]
    },
    {
     "name": "stdout",
     "output_type": "stream",
     "text": [
      "INFO:tensorflow:No execution matching type id and input artifacts found\n"
     ]
    },
    {
     "name": "stderr",
     "output_type": "stream",
     "text": [
      "INFO:tensorflow:No execution matching type id and input artifacts found\n"
     ]
    },
    {
     "name": "stdout",
     "output_type": "stream",
     "text": [
      "INFO:tensorflow:Cached results not found, move on to new execution\n"
     ]
    },
    {
     "name": "stderr",
     "output_type": "stream",
     "text": [
      "INFO:tensorflow:Cached results not found, move on to new execution\n"
     ]
    },
    {
     "name": "stdout",
     "output_type": "stream",
     "text": [
      "INFO:tensorflow:Creating output artifact uri /tmp/tfx-interactive-2019-08-31T21_40_43.017915-r5zd0p45/Transform/transform_output/6/ as directory\n"
     ]
    },
    {
     "name": "stderr",
     "output_type": "stream",
     "text": [
      "INFO:tensorflow:Creating output artifact uri /tmp/tfx-interactive-2019-08-31T21_40_43.017915-r5zd0p45/Transform/transform_output/6/ as directory\n"
     ]
    },
    {
     "name": "stdout",
     "output_type": "stream",
     "text": [
      "INFO:tensorflow:Creating output artifact uri /tmp/tfx-interactive-2019-08-31T21_40_43.017915-r5zd0p45/Transform/transformed_examples/6/train/ as directory\n"
     ]
    },
    {
     "name": "stderr",
     "output_type": "stream",
     "text": [
      "INFO:tensorflow:Creating output artifact uri /tmp/tfx-interactive-2019-08-31T21_40_43.017915-r5zd0p45/Transform/transformed_examples/6/train/ as directory\n"
     ]
    },
    {
     "name": "stdout",
     "output_type": "stream",
     "text": [
      "INFO:tensorflow:Creating output artifact uri /tmp/tfx-interactive-2019-08-31T21_40_43.017915-r5zd0p45/Transform/transformed_examples/6/eval/ as directory\n"
     ]
    },
    {
     "name": "stderr",
     "output_type": "stream",
     "text": [
      "INFO:tensorflow:Creating output artifact uri /tmp/tfx-interactive-2019-08-31T21_40_43.017915-r5zd0p45/Transform/transformed_examples/6/eval/ as directory\n"
     ]
    },
    {
     "name": "stdout",
     "output_type": "stream",
     "text": [
      "INFO:tensorflow:Output artifacts skeleton for the upcoming execution are: {'transform_output': [Artifact(type_name: TransformPath, uri: /tmp/tfx-interactive-2019-08-31T21_40_43.017915-r5zd0p45/Transform/transform_output/6/, split: , id: 0)], 'transformed_examples': [Artifact(type_name: ExamplesPath, uri: /tmp/tfx-interactive-2019-08-31T21_40_43.017915-r5zd0p45/Transform/transformed_examples/6/train/, split: train, id: 0), Artifact(type_name: ExamplesPath, uri: /tmp/tfx-interactive-2019-08-31T21_40_43.017915-r5zd0p45/Transform/transformed_examples/6/eval/, split: eval, id: 0)]}\n"
     ]
    },
    {
     "name": "stderr",
     "output_type": "stream",
     "text": [
      "INFO:tensorflow:Output artifacts skeleton for the upcoming execution are: {'transform_output': [Artifact(type_name: TransformPath, uri: /tmp/tfx-interactive-2019-08-31T21_40_43.017915-r5zd0p45/Transform/transform_output/6/, split: , id: 0)], 'transformed_examples': [Artifact(type_name: ExamplesPath, uri: /tmp/tfx-interactive-2019-08-31T21_40_43.017915-r5zd0p45/Transform/transformed_examples/6/train/, split: train, id: 0), Artifact(type_name: ExamplesPath, uri: /tmp/tfx-interactive-2019-08-31T21_40_43.017915-r5zd0p45/Transform/transformed_examples/6/eval/, split: eval, id: 0)]}\n"
     ]
    },
    {
     "name": "stdout",
     "output_type": "stream",
     "text": [
      "INFO:tensorflow:Execution properties for the upcoming execution are: {'module_file': '/root/miniconda3/envs/tfx/lib/python3.7/site-packages/tfx/examples/chicago_taxi_pipeline/taxi_utils.py', 'preprocessing_fn': None}\n"
     ]
    },
    {
     "name": "stderr",
     "output_type": "stream",
     "text": [
      "INFO:tensorflow:Execution properties for the upcoming execution are: {'module_file': '/root/miniconda3/envs/tfx/lib/python3.7/site-packages/tfx/examples/chicago_taxi_pipeline/taxi_utils.py', 'preprocessing_fn': None}\n"
     ]
    },
    {
     "name": "stdout",
     "output_type": "stream",
     "text": [
      "INFO:tensorflow:Run executor for Transform\n"
     ]
    },
    {
     "name": "stderr",
     "output_type": "stream",
     "text": [
      "INFO:tensorflow:Run executor for Transform\n"
     ]
    },
    {
     "name": "stdout",
     "output_type": "stream",
     "text": [
      "INFO:tensorflow:Starting Executor execution.\n"
     ]
    },
    {
     "name": "stderr",
     "output_type": "stream",
     "text": [
      "INFO:tensorflow:Starting Executor execution.\n"
     ]
    },
    {
     "name": "stdout",
     "output_type": "stream",
     "text": [
      "INFO:tensorflow:Inputs for Executor is: {\"input_data\": [{\"artifact\": {\"id\": \"2\", \"typeId\": \"4\", \"uri\": \"/tmp/tfx-interactive-2019-08-31T21_40_43.017915-r5zd0p45/CsvExampleGen/examples/1/train/\", \"properties\": {\"name\": {\"stringValue\": \"examples\"}, \"type_name\": {\"stringValue\": \"ExamplesPath\"}, \"state\": {\"stringValue\": \"published\"}, \"span\": {}, \"producer_component\": {\"stringValue\": \"CsvExampleGen\"}, \"pipeline_name\": {\"stringValue\": \"interactive-2019-08-31T21_40_43.017915\"}, \"split\": {\"stringValue\": \"train\"}}}, \"artifact_type\": {\"name\": \"ExamplesPath\", \"properties\": {\"type_name\": \"STRING\", \"state\": \"STRING\", \"producer_component\": \"STRING\", \"span\": \"INT\", \"pipeline_name\": \"STRING\", \"split\": \"STRING\", \"name\": \"STRING\"}}}, {\"artifact\": {\"id\": \"3\", \"typeId\": \"4\", \"uri\": \"/tmp/tfx-interactive-2019-08-31T21_40_43.017915-r5zd0p45/CsvExampleGen/examples/1/eval/\", \"properties\": {\"split\": {\"stringValue\": \"eval\"}, \"name\": {\"stringValue\": \"examples\"}, \"type_name\": {\"stringValue\": \"ExamplesPath\"}, \"state\": {\"stringValue\": \"published\"}, \"span\": {}, \"pipeline_name\": {\"stringValue\": \"interactive-2019-08-31T21_40_43.017915\"}, \"producer_component\": {\"stringValue\": \"CsvExampleGen\"}}}, \"artifact_type\": {\"name\": \"ExamplesPath\", \"properties\": {\"split\": \"STRING\", \"name\": \"STRING\", \"type_name\": \"STRING\", \"state\": \"STRING\", \"producer_component\": \"STRING\", \"span\": \"INT\", \"pipeline_name\": \"STRING\"}}}], \"schema\": [{\"artifact\": {\"id\": \"6\", \"typeId\": \"8\", \"uri\": \"/tmp/tfx-interactive-2019-08-31T21_40_43.017915-r5zd0p45/SchemaGen/output/4/\", \"properties\": {\"split\": {\"stringValue\": \"\"}, \"name\": {\"stringValue\": \"output\"}, \"type_name\": {\"stringValue\": \"SchemaPath\"}, \"state\": {\"stringValue\": \"published\"}, \"span\": {}, \"pipeline_name\": {\"stringValue\": \"interactive-2019-08-31T21_40_43.017915\"}, \"producer_component\": {\"stringValue\": \"SchemaGen\"}}}, \"artifact_type\": {\"id\": \"8\", \"name\": \"SchemaPath\", \"properties\": {\"split\": \"STRING\", \"name\": \"STRING\", \"type_name\": \"STRING\", \"state\": \"STRING\", \"producer_component\": \"STRING\", \"span\": \"INT\", \"pipeline_name\": \"STRING\"}}}]}\n"
     ]
    },
    {
     "name": "stderr",
     "output_type": "stream",
     "text": [
      "INFO:tensorflow:Inputs for Executor is: {\"input_data\": [{\"artifact\": {\"id\": \"2\", \"typeId\": \"4\", \"uri\": \"/tmp/tfx-interactive-2019-08-31T21_40_43.017915-r5zd0p45/CsvExampleGen/examples/1/train/\", \"properties\": {\"name\": {\"stringValue\": \"examples\"}, \"type_name\": {\"stringValue\": \"ExamplesPath\"}, \"state\": {\"stringValue\": \"published\"}, \"span\": {}, \"producer_component\": {\"stringValue\": \"CsvExampleGen\"}, \"pipeline_name\": {\"stringValue\": \"interactive-2019-08-31T21_40_43.017915\"}, \"split\": {\"stringValue\": \"train\"}}}, \"artifact_type\": {\"name\": \"ExamplesPath\", \"properties\": {\"type_name\": \"STRING\", \"state\": \"STRING\", \"producer_component\": \"STRING\", \"span\": \"INT\", \"pipeline_name\": \"STRING\", \"split\": \"STRING\", \"name\": \"STRING\"}}}, {\"artifact\": {\"id\": \"3\", \"typeId\": \"4\", \"uri\": \"/tmp/tfx-interactive-2019-08-31T21_40_43.017915-r5zd0p45/CsvExampleGen/examples/1/eval/\", \"properties\": {\"split\": {\"stringValue\": \"eval\"}, \"name\": {\"stringValue\": \"examples\"}, \"type_name\": {\"stringValue\": \"ExamplesPath\"}, \"state\": {\"stringValue\": \"published\"}, \"span\": {}, \"pipeline_name\": {\"stringValue\": \"interactive-2019-08-31T21_40_43.017915\"}, \"producer_component\": {\"stringValue\": \"CsvExampleGen\"}}}, \"artifact_type\": {\"name\": \"ExamplesPath\", \"properties\": {\"split\": \"STRING\", \"name\": \"STRING\", \"type_name\": \"STRING\", \"state\": \"STRING\", \"producer_component\": \"STRING\", \"span\": \"INT\", \"pipeline_name\": \"STRING\"}}}], \"schema\": [{\"artifact\": {\"id\": \"6\", \"typeId\": \"8\", \"uri\": \"/tmp/tfx-interactive-2019-08-31T21_40_43.017915-r5zd0p45/SchemaGen/output/4/\", \"properties\": {\"split\": {\"stringValue\": \"\"}, \"name\": {\"stringValue\": \"output\"}, \"type_name\": {\"stringValue\": \"SchemaPath\"}, \"state\": {\"stringValue\": \"published\"}, \"span\": {}, \"pipeline_name\": {\"stringValue\": \"interactive-2019-08-31T21_40_43.017915\"}, \"producer_component\": {\"stringValue\": \"SchemaGen\"}}}, \"artifact_type\": {\"id\": \"8\", \"name\": \"SchemaPath\", \"properties\": {\"split\": \"STRING\", \"name\": \"STRING\", \"type_name\": \"STRING\", \"state\": \"STRING\", \"producer_component\": \"STRING\", \"span\": \"INT\", \"pipeline_name\": \"STRING\"}}}]}\n"
     ]
    },
    {
     "name": "stdout",
     "output_type": "stream",
     "text": [
      "INFO:tensorflow:Outputs for Executor is: {\"transform_output\": [{\"artifact\": {\"uri\": \"/tmp/tfx-interactive-2019-08-31T21_40_43.017915-r5zd0p45/Transform/transform_output/6/\", \"properties\": {\"name\": {\"stringValue\": \"transform_output\"}, \"type_name\": {\"stringValue\": \"TransformPath\"}, \"split\": {\"stringValue\": \"\"}, \"producer_component\": {\"stringValue\": \"Transform\"}, \"pipeline_name\": {\"stringValue\": \"interactive-2019-08-31T21_40_43.017915\"}}}, \"artifact_type\": {\"name\": \"TransformPath\", \"properties\": {\"state\": \"STRING\", \"producer_component\": \"STRING\", \"span\": \"INT\", \"pipeline_name\": \"STRING\", \"split\": \"STRING\", \"name\": \"STRING\", \"type_name\": \"STRING\"}}}], \"transformed_examples\": [{\"artifact\": {\"uri\": \"/tmp/tfx-interactive-2019-08-31T21_40_43.017915-r5zd0p45/Transform/transformed_examples/6/train/\", \"properties\": {\"producer_component\": {\"stringValue\": \"Transform\"}, \"pipeline_name\": {\"stringValue\": \"interactive-2019-08-31T21_40_43.017915\"}, \"name\": {\"stringValue\": \"transformed_examples\"}, \"type_name\": {\"stringValue\": \"ExamplesPath\"}, \"split\": {\"stringValue\": \"train\"}}}, \"artifact_type\": {\"name\": \"ExamplesPath\", \"properties\": {\"split\": \"STRING\", \"name\": \"STRING\", \"type_name\": \"STRING\", \"state\": \"STRING\", \"producer_component\": \"STRING\", \"span\": \"INT\", \"pipeline_name\": \"STRING\"}}}, {\"artifact\": {\"uri\": \"/tmp/tfx-interactive-2019-08-31T21_40_43.017915-r5zd0p45/Transform/transformed_examples/6/eval/\", \"properties\": {\"name\": {\"stringValue\": \"transformed_examples\"}, \"type_name\": {\"stringValue\": \"ExamplesPath\"}, \"split\": {\"stringValue\": \"eval\"}, \"producer_component\": {\"stringValue\": \"Transform\"}, \"pipeline_name\": {\"stringValue\": \"interactive-2019-08-31T21_40_43.017915\"}}}, \"artifact_type\": {\"name\": \"ExamplesPath\", \"properties\": {\"split\": \"STRING\", \"name\": \"STRING\", \"type_name\": \"STRING\", \"state\": \"STRING\", \"producer_component\": \"STRING\", \"span\": \"INT\", \"pipeline_name\": \"STRING\"}}}]}\n"
     ]
    },
    {
     "name": "stderr",
     "output_type": "stream",
     "text": [
      "INFO:tensorflow:Outputs for Executor is: {\"transform_output\": [{\"artifact\": {\"uri\": \"/tmp/tfx-interactive-2019-08-31T21_40_43.017915-r5zd0p45/Transform/transform_output/6/\", \"properties\": {\"name\": {\"stringValue\": \"transform_output\"}, \"type_name\": {\"stringValue\": \"TransformPath\"}, \"split\": {\"stringValue\": \"\"}, \"producer_component\": {\"stringValue\": \"Transform\"}, \"pipeline_name\": {\"stringValue\": \"interactive-2019-08-31T21_40_43.017915\"}}}, \"artifact_type\": {\"name\": \"TransformPath\", \"properties\": {\"state\": \"STRING\", \"producer_component\": \"STRING\", \"span\": \"INT\", \"pipeline_name\": \"STRING\", \"split\": \"STRING\", \"name\": \"STRING\", \"type_name\": \"STRING\"}}}], \"transformed_examples\": [{\"artifact\": {\"uri\": \"/tmp/tfx-interactive-2019-08-31T21_40_43.017915-r5zd0p45/Transform/transformed_examples/6/train/\", \"properties\": {\"producer_component\": {\"stringValue\": \"Transform\"}, \"pipeline_name\": {\"stringValue\": \"interactive-2019-08-31T21_40_43.017915\"}, \"name\": {\"stringValue\": \"transformed_examples\"}, \"type_name\": {\"stringValue\": \"ExamplesPath\"}, \"split\": {\"stringValue\": \"train\"}}}, \"artifact_type\": {\"name\": \"ExamplesPath\", \"properties\": {\"split\": \"STRING\", \"name\": \"STRING\", \"type_name\": \"STRING\", \"state\": \"STRING\", \"producer_component\": \"STRING\", \"span\": \"INT\", \"pipeline_name\": \"STRING\"}}}, {\"artifact\": {\"uri\": \"/tmp/tfx-interactive-2019-08-31T21_40_43.017915-r5zd0p45/Transform/transformed_examples/6/eval/\", \"properties\": {\"name\": {\"stringValue\": \"transformed_examples\"}, \"type_name\": {\"stringValue\": \"ExamplesPath\"}, \"split\": {\"stringValue\": \"eval\"}, \"producer_component\": {\"stringValue\": \"Transform\"}, \"pipeline_name\": {\"stringValue\": \"interactive-2019-08-31T21_40_43.017915\"}}}, \"artifact_type\": {\"name\": \"ExamplesPath\", \"properties\": {\"split\": \"STRING\", \"name\": \"STRING\", \"type_name\": \"STRING\", \"state\": \"STRING\", \"producer_component\": \"STRING\", \"span\": \"INT\", \"pipeline_name\": \"STRING\"}}}]}\n"
     ]
    },
    {
     "name": "stdout",
     "output_type": "stream",
     "text": [
      "INFO:tensorflow:Execution properties for Executor is: {\"module_file\": \"/root/miniconda3/envs/tfx/lib/python3.7/site-packages/tfx/examples/chicago_taxi_pipeline/taxi_utils.py\", \"preprocessing_fn\": null}\n"
     ]
    },
    {
     "name": "stderr",
     "output_type": "stream",
     "text": [
      "INFO:tensorflow:Execution properties for Executor is: {\"module_file\": \"/root/miniconda3/envs/tfx/lib/python3.7/site-packages/tfx/examples/chicago_taxi_pipeline/taxi_utils.py\", \"preprocessing_fn\": null}\n"
     ]
    },
    {
     "name": "stdout",
     "output_type": "stream",
     "text": [
      "WARNING:tensorflow:From /root/miniconda3/envs/tfx/lib/python3.7/site-packages/tfx/components/transform/executor.py:241: The name tf.logging.debug is deprecated. Please use tf.compat.v1.logging.debug instead.\n",
      "\n"
     ]
    },
    {
     "name": "stderr",
     "output_type": "stream",
     "text": [
      "WARNING:tensorflow:From /root/miniconda3/envs/tfx/lib/python3.7/site-packages/tfx/components/transform/executor.py:241: The name tf.logging.debug is deprecated. Please use tf.compat.v1.logging.debug instead.\n",
      "\n"
     ]
    },
    {
     "name": "stdout",
     "output_type": "stream",
     "text": [
      "WARNING:tensorflow:From /root/miniconda3/envs/tfx/lib/python3.7/site-packages/tfx/components/transform/executor.py:406: Schema (from tensorflow_transform.tf_metadata.dataset_schema) is deprecated and will be removed in a future version.\n",
      "Instructions for updating:\n",
      "Schema is a deprecated, use schema_utils.schema_from_feature_spec to create a `Schema`\n"
     ]
    },
    {
     "name": "stderr",
     "output_type": "stream",
     "text": [
      "WARNING:tensorflow:From /root/miniconda3/envs/tfx/lib/python3.7/site-packages/tfx/components/transform/executor.py:406: Schema (from tensorflow_transform.tf_metadata.dataset_schema) is deprecated and will be removed in a future version.\n",
      "Instructions for updating:\n",
      "Schema is a deprecated, use schema_utils.schema_from_feature_spec to create a `Schema`\n"
     ]
    },
    {
     "name": "stdout",
     "output_type": "stream",
     "text": [
      "INFO:tensorflow:Inputs to executor.Transform function: {'compute_statistics': False, 'schema_path': '/tmp/tfx-interactive-2019-08-31T21_40_43.017915-r5zd0p45/SchemaGen/output/4/schema.pbtxt', 'examples_data_format': 'FORMAT_TF_EXAMPLE', 'analyze_and_transform_data_paths': '/tmp/tfx-interactive-2019-08-31T21_40_43.017915-r5zd0p45/CsvExampleGen/examples/1/train/*', 'transform_only_data_paths': '/tmp/tfx-interactive-2019-08-31T21_40_43.017915-r5zd0p45/CsvExampleGen/examples/1/eval/*', 'tft_statistics_use_tfdv': True, 'module_file': '/root/miniconda3/envs/tfx/lib/python3.7/site-packages/tfx/examples/chicago_taxi_pipeline/taxi_utils.py', 'preprocessing_fn': None}\n"
     ]
    },
    {
     "name": "stderr",
     "output_type": "stream",
     "text": [
      "INFO:tensorflow:Inputs to executor.Transform function: {'compute_statistics': False, 'schema_path': '/tmp/tfx-interactive-2019-08-31T21_40_43.017915-r5zd0p45/SchemaGen/output/4/schema.pbtxt', 'examples_data_format': 'FORMAT_TF_EXAMPLE', 'analyze_and_transform_data_paths': '/tmp/tfx-interactive-2019-08-31T21_40_43.017915-r5zd0p45/CsvExampleGen/examples/1/train/*', 'transform_only_data_paths': '/tmp/tfx-interactive-2019-08-31T21_40_43.017915-r5zd0p45/CsvExampleGen/examples/1/eval/*', 'tft_statistics_use_tfdv': True, 'module_file': '/root/miniconda3/envs/tfx/lib/python3.7/site-packages/tfx/examples/chicago_taxi_pipeline/taxi_utils.py', 'preprocessing_fn': None}\n"
     ]
    },
    {
     "name": "stdout",
     "output_type": "stream",
     "text": [
      "INFO:tensorflow:Outputs to executor.Transform function: {'transform_output_path': '/tmp/tfx-interactive-2019-08-31T21_40_43.017915-r5zd0p45/Transform/transform_output/6/', 'transform_materialize_output_paths': ['/tmp/tfx-interactive-2019-08-31T21_40_43.017915-r5zd0p45/Transform/transformed_examples/6/train/transformed_examples', '/tmp/tfx-interactive-2019-08-31T21_40_43.017915-r5zd0p45/Transform/transformed_examples/6/eval/transformed_examples'], 'temp_path': '/tmp/tfx-interactive-2019-08-31T21_40_43.017915-r5zd0p45/Transform/transform_output/6/.temp_path'}\n"
     ]
    },
    {
     "name": "stderr",
     "output_type": "stream",
     "text": [
      "INFO:tensorflow:Outputs to executor.Transform function: {'transform_output_path': '/tmp/tfx-interactive-2019-08-31T21_40_43.017915-r5zd0p45/Transform/transform_output/6/', 'transform_materialize_output_paths': ['/tmp/tfx-interactive-2019-08-31T21_40_43.017915-r5zd0p45/Transform/transformed_examples/6/train/transformed_examples', '/tmp/tfx-interactive-2019-08-31T21_40_43.017915-r5zd0p45/Transform/transformed_examples/6/eval/transformed_examples'], 'temp_path': '/tmp/tfx-interactive-2019-08-31T21_40_43.017915-r5zd0p45/Transform/transform_output/6/.temp_path'}\n"
     ]
    },
    {
     "name": "stdout",
     "output_type": "stream",
     "text": [
      "WARNING:tensorflow:From /root/miniconda3/envs/tfx/lib/python3.7/site-packages/tensorflow_transform/mappers.py:349: add_dispatch_support.<locals>.wrapper (from tensorflow.python.ops.array_ops) is deprecated and will be removed in a future version.\n",
      "Instructions for updating:\n",
      "Use tf.where in 2.0, which has the same broadcast rule as np.where\n"
     ]
    },
    {
     "name": "stderr",
     "output_type": "stream",
     "text": [
      "WARNING:tensorflow:From /root/miniconda3/envs/tfx/lib/python3.7/site-packages/tensorflow_transform/mappers.py:349: add_dispatch_support.<locals>.wrapper (from tensorflow.python.ops.array_ops) is deprecated and will be removed in a future version.\n",
      "Instructions for updating:\n",
      "Use tf.where in 2.0, which has the same broadcast rule as np.where\n"
     ]
    },
    {
     "name": "stdout",
     "output_type": "stream",
     "text": [
      "WARNING:tensorflow:From /root/miniconda3/envs/tfx/lib/python3.7/site-packages/tfx/examples/chicago_taxi_pipeline/taxi_utils.py:140: The name tf.is_nan is deprecated. Please use tf.math.is_nan instead.\n",
      "\n"
     ]
    },
    {
     "name": "stderr",
     "output_type": "stream",
     "text": [
      "WARNING:tensorflow:From /root/miniconda3/envs/tfx/lib/python3.7/site-packages/tfx/examples/chicago_taxi_pipeline/taxi_utils.py:140: The name tf.is_nan is deprecated. Please use tf.math.is_nan instead.\n",
      "\n"
     ]
    },
    {
     "name": "stdout",
     "output_type": "stream",
     "text": [
      "INFO:tensorflow:Analyze and transform data patterns: [(0, '/tmp/tfx-interactive-2019-08-31T21_40_43.017915-r5zd0p45/CsvExampleGen/examples/1/train/*')]\n"
     ]
    },
    {
     "name": "stderr",
     "output_type": "stream",
     "text": [
      "INFO:tensorflow:Analyze and transform data patterns: [(0, '/tmp/tfx-interactive-2019-08-31T21_40_43.017915-r5zd0p45/CsvExampleGen/examples/1/train/*')]\n"
     ]
    },
    {
     "name": "stdout",
     "output_type": "stream",
     "text": [
      "INFO:tensorflow:Transform data patterns: [(0, '/tmp/tfx-interactive-2019-08-31T21_40_43.017915-r5zd0p45/CsvExampleGen/examples/1/eval/*')]\n"
     ]
    },
    {
     "name": "stderr",
     "output_type": "stream",
     "text": [
      "INFO:tensorflow:Transform data patterns: [(0, '/tmp/tfx-interactive-2019-08-31T21_40_43.017915-r5zd0p45/CsvExampleGen/examples/1/eval/*')]\n"
     ]
    },
    {
     "name": "stdout",
     "output_type": "stream",
     "text": [
      "INFO:tensorflow:Transform materialization output paths: [(0, '/tmp/tfx-interactive-2019-08-31T21_40_43.017915-r5zd0p45/Transform/transformed_examples/6/train/transformed_examples'), (1, '/tmp/tfx-interactive-2019-08-31T21_40_43.017915-r5zd0p45/Transform/transformed_examples/6/eval/transformed_examples')]\n"
     ]
    },
    {
     "name": "stderr",
     "output_type": "stream",
     "text": [
      "INFO:tensorflow:Transform materialization output paths: [(0, '/tmp/tfx-interactive-2019-08-31T21_40_43.017915-r5zd0p45/Transform/transformed_examples/6/train/transformed_examples'), (1, '/tmp/tfx-interactive-2019-08-31T21_40_43.017915-r5zd0p45/Transform/transformed_examples/6/eval/transformed_examples')]\n"
     ]
    },
    {
     "name": "stdout",
     "output_type": "stream",
     "text": [
      "INFO:tensorflow:Transform output path: /tmp/tfx-interactive-2019-08-31T21_40_43.017915-r5zd0p45/Transform/transform_output/6/\n"
     ]
    },
    {
     "name": "stderr",
     "output_type": "stream",
     "text": [
      "INFO:tensorflow:Transform output path: /tmp/tfx-interactive-2019-08-31T21_40_43.017915-r5zd0p45/Transform/transform_output/6/\n"
     ]
    },
    {
     "name": "stdout",
     "output_type": "stream",
     "text": [
      "WARNING:tensorflow:From /root/miniconda3/envs/tfx/lib/python3.7/site-packages/tensorflow/python/saved_model/signature_def_utils_impl.py:201: build_tensor_info (from tensorflow.python.saved_model.utils_impl) is deprecated and will be removed in a future version.\n",
      "Instructions for updating:\n",
      "This function will only be available through the v1 compatibility library as tf.compat.v1.saved_model.utils.build_tensor_info or tf.compat.v1.saved_model.build_tensor_info.\n"
     ]
    },
    {
     "name": "stderr",
     "output_type": "stream",
     "text": [
      "WARNING:tensorflow:From /root/miniconda3/envs/tfx/lib/python3.7/site-packages/tensorflow/python/saved_model/signature_def_utils_impl.py:201: build_tensor_info (from tensorflow.python.saved_model.utils_impl) is deprecated and will be removed in a future version.\n",
      "Instructions for updating:\n",
      "This function will only be available through the v1 compatibility library as tf.compat.v1.saved_model.utils.build_tensor_info or tf.compat.v1.saved_model.build_tensor_info.\n"
     ]
    },
    {
     "name": "stdout",
     "output_type": "stream",
     "text": [
      "INFO:tensorflow:Assets added to graph.\n"
     ]
    },
    {
     "name": "stderr",
     "output_type": "stream",
     "text": [
      "INFO:tensorflow:Assets added to graph.\n"
     ]
    },
    {
     "name": "stdout",
     "output_type": "stream",
     "text": [
      "INFO:tensorflow:No assets to write.\n"
     ]
    },
    {
     "name": "stderr",
     "output_type": "stream",
     "text": [
      "INFO:tensorflow:No assets to write.\n"
     ]
    },
    {
     "name": "stdout",
     "output_type": "stream",
     "text": [
      "INFO:tensorflow:SavedModel written to: /tmp/tfx-interactive-2019-08-31T21_40_43.017915-r5zd0p45/Transform/transform_output/6/.temp_path/tftransform_tmp/61df4830aea547ab9fb7ff8c566ab192/saved_model.pb\n"
     ]
    },
    {
     "name": "stderr",
     "output_type": "stream",
     "text": [
      "INFO:tensorflow:SavedModel written to: /tmp/tfx-interactive-2019-08-31T21_40_43.017915-r5zd0p45/Transform/transform_output/6/.temp_path/tftransform_tmp/61df4830aea547ab9fb7ff8c566ab192/saved_model.pb\n"
     ]
    },
    {
     "name": "stdout",
     "output_type": "stream",
     "text": [
      "INFO:tensorflow:Assets added to graph.\n"
     ]
    },
    {
     "name": "stderr",
     "output_type": "stream",
     "text": [
      "INFO:tensorflow:Assets added to graph.\n"
     ]
    },
    {
     "name": "stdout",
     "output_type": "stream",
     "text": [
      "INFO:tensorflow:No assets to write.\n"
     ]
    },
    {
     "name": "stderr",
     "output_type": "stream",
     "text": [
      "INFO:tensorflow:No assets to write.\n"
     ]
    },
    {
     "name": "stdout",
     "output_type": "stream",
     "text": [
      "INFO:tensorflow:SavedModel written to: /tmp/tfx-interactive-2019-08-31T21_40_43.017915-r5zd0p45/Transform/transform_output/6/.temp_path/tftransform_tmp/89329b45c67143bbb58a62057ed2c8b1/saved_model.pb\n"
     ]
    },
    {
     "name": "stderr",
     "output_type": "stream",
     "text": [
      "INFO:tensorflow:SavedModel written to: /tmp/tfx-interactive-2019-08-31T21_40_43.017915-r5zd0p45/Transform/transform_output/6/.temp_path/tftransform_tmp/89329b45c67143bbb58a62057ed2c8b1/saved_model.pb\n"
     ]
    },
    {
     "name": "stdout",
     "output_type": "stream",
     "text": [
      "INFO:tensorflow:Saver not created because there are no variables in the graph to restore\n"
     ]
    },
    {
     "name": "stderr",
     "output_type": "stream",
     "text": [
      "INFO:tensorflow:Saver not created because there are no variables in the graph to restore\n"
     ]
    },
    {
     "name": "stdout",
     "output_type": "stream",
     "text": [
      "INFO:tensorflow:Saver not created because there are no variables in the graph to restore\n"
     ]
    },
    {
     "name": "stderr",
     "output_type": "stream",
     "text": [
      "INFO:tensorflow:Saver not created because there are no variables in the graph to restore\n"
     ]
    },
    {
     "name": "stdout",
     "output_type": "stream",
     "text": [
      "INFO:tensorflow:Assets added to graph.\n"
     ]
    },
    {
     "name": "stderr",
     "output_type": "stream",
     "text": [
      "INFO:tensorflow:Assets added to graph.\n"
     ]
    },
    {
     "name": "stdout",
     "output_type": "stream",
     "text": [
      "INFO:tensorflow:Assets written to: /tmp/tfx-interactive-2019-08-31T21_40_43.017915-r5zd0p45/Transform/transform_output/6/.temp_path/tftransform_tmp/5f442cd9646243c98ab7184d6e17f616/assets\n"
     ]
    },
    {
     "name": "stderr",
     "output_type": "stream",
     "text": [
      "INFO:tensorflow:Assets written to: /tmp/tfx-interactive-2019-08-31T21_40_43.017915-r5zd0p45/Transform/transform_output/6/.temp_path/tftransform_tmp/5f442cd9646243c98ab7184d6e17f616/assets\n"
     ]
    },
    {
     "name": "stdout",
     "output_type": "stream",
     "text": [
      "INFO:tensorflow:SavedModel written to: /tmp/tfx-interactive-2019-08-31T21_40_43.017915-r5zd0p45/Transform/transform_output/6/.temp_path/tftransform_tmp/5f442cd9646243c98ab7184d6e17f616/saved_model.pb\n"
     ]
    },
    {
     "name": "stderr",
     "output_type": "stream",
     "text": [
      "INFO:tensorflow:SavedModel written to: /tmp/tfx-interactive-2019-08-31T21_40_43.017915-r5zd0p45/Transform/transform_output/6/.temp_path/tftransform_tmp/5f442cd9646243c98ab7184d6e17f616/saved_model.pb\n"
     ]
    },
    {
     "name": "stdout",
     "output_type": "stream",
     "text": [
      "WARNING:tensorflow:Expected binary or unicode string, got type_url: \"type.googleapis.com/tensorflow.AssetFileDef\"\n",
      "value: \"\\n\\014\\n\\nConst_10:0\\022-vocab_compute_and_apply_vocabulary_vocabulary\"\n",
      "\n"
     ]
    },
    {
     "name": "stderr",
     "output_type": "stream",
     "text": [
      "WARNING:tensorflow:Expected binary or unicode string, got type_url: \"type.googleapis.com/tensorflow.AssetFileDef\"\n",
      "value: \"\\n\\014\\n\\nConst_10:0\\022-vocab_compute_and_apply_vocabulary_vocabulary\"\n",
      "\n"
     ]
    },
    {
     "name": "stdout",
     "output_type": "stream",
     "text": [
      "WARNING:tensorflow:Expected binary or unicode string, got type_url: \"type.googleapis.com/tensorflow.AssetFileDef\"\n",
      "value: \"\\n\\014\\n\\nConst_11:0\\022/vocab_compute_and_apply_vocabulary_1_vocabulary\"\n",
      "\n"
     ]
    },
    {
     "name": "stderr",
     "output_type": "stream",
     "text": [
      "WARNING:tensorflow:Expected binary or unicode string, got type_url: \"type.googleapis.com/tensorflow.AssetFileDef\"\n",
      "value: \"\\n\\014\\n\\nConst_11:0\\022/vocab_compute_and_apply_vocabulary_1_vocabulary\"\n",
      "\n"
     ]
    },
    {
     "name": "stdout",
     "output_type": "stream",
     "text": [
      "INFO:tensorflow:Saver not created because there are no variables in the graph to restore\n"
     ]
    },
    {
     "name": "stderr",
     "output_type": "stream",
     "text": [
      "INFO:tensorflow:Saver not created because there are no variables in the graph to restore\n"
     ]
    },
    {
     "name": "stdout",
     "output_type": "stream",
     "text": [
      "WARNING:tensorflow:Expected binary or unicode string, got type_url: \"type.googleapis.com/tensorflow.AssetFileDef\"\n",
      "value: \"\\n\\014\\n\\nConst_10:0\\022-vocab_compute_and_apply_vocabulary_vocabulary\"\n",
      "\n"
     ]
    },
    {
     "name": "stderr",
     "output_type": "stream",
     "text": [
      "WARNING:tensorflow:Expected binary or unicode string, got type_url: \"type.googleapis.com/tensorflow.AssetFileDef\"\n",
      "value: \"\\n\\014\\n\\nConst_10:0\\022-vocab_compute_and_apply_vocabulary_vocabulary\"\n",
      "\n"
     ]
    },
    {
     "name": "stdout",
     "output_type": "stream",
     "text": [
      "WARNING:tensorflow:Expected binary or unicode string, got type_url: \"type.googleapis.com/tensorflow.AssetFileDef\"\n",
      "value: \"\\n\\014\\n\\nConst_11:0\\022/vocab_compute_and_apply_vocabulary_1_vocabulary\"\n",
      "\n"
     ]
    },
    {
     "name": "stderr",
     "output_type": "stream",
     "text": [
      "WARNING:tensorflow:Expected binary or unicode string, got type_url: \"type.googleapis.com/tensorflow.AssetFileDef\"\n",
      "value: \"\\n\\014\\n\\nConst_11:0\\022/vocab_compute_and_apply_vocabulary_1_vocabulary\"\n",
      "\n"
     ]
    },
    {
     "name": "stdout",
     "output_type": "stream",
     "text": [
      "INFO:tensorflow:Saver not created because there are no variables in the graph to restore\n"
     ]
    },
    {
     "name": "stderr",
     "output_type": "stream",
     "text": [
      "INFO:tensorflow:Saver not created because there are no variables in the graph to restore\n"
     ]
    },
    {
     "name": "stdout",
     "output_type": "stream",
     "text": [
      "WARNING:tensorflow:Expected binary or unicode string, got type_url: \"type.googleapis.com/tensorflow.AssetFileDef\"\n",
      "value: \"\\n\\014\\n\\nConst_10:0\\022-vocab_compute_and_apply_vocabulary_vocabulary\"\n",
      "\n"
     ]
    },
    {
     "name": "stderr",
     "output_type": "stream",
     "text": [
      "WARNING:tensorflow:Expected binary or unicode string, got type_url: \"type.googleapis.com/tensorflow.AssetFileDef\"\n",
      "value: \"\\n\\014\\n\\nConst_10:0\\022-vocab_compute_and_apply_vocabulary_vocabulary\"\n",
      "\n"
     ]
    },
    {
     "name": "stdout",
     "output_type": "stream",
     "text": [
      "WARNING:tensorflow:Expected binary or unicode string, got type_url: \"type.googleapis.com/tensorflow.AssetFileDef\"\n",
      "value: \"\\n\\014\\n\\nConst_11:0\\022/vocab_compute_and_apply_vocabulary_1_vocabulary\"\n",
      "\n"
     ]
    },
    {
     "name": "stderr",
     "output_type": "stream",
     "text": [
      "WARNING:tensorflow:Expected binary or unicode string, got type_url: \"type.googleapis.com/tensorflow.AssetFileDef\"\n",
      "value: \"\\n\\014\\n\\nConst_11:0\\022/vocab_compute_and_apply_vocabulary_1_vocabulary\"\n",
      "\n"
     ]
    },
    {
     "name": "stdout",
     "output_type": "stream",
     "text": [
      "INFO:tensorflow:Saver not created because there are no variables in the graph to restore\n"
     ]
    },
    {
     "name": "stderr",
     "output_type": "stream",
     "text": [
      "INFO:tensorflow:Saver not created because there are no variables in the graph to restore\n"
     ]
    },
    {
     "name": "stdout",
     "output_type": "stream",
     "text": [
      "INFO:tensorflow:Cleaning up temp path /tmp/tfx-interactive-2019-08-31T21_40_43.017915-r5zd0p45/Transform/transform_output/6/.temp_path on executor success\n"
     ]
    },
    {
     "name": "stderr",
     "output_type": "stream",
     "text": [
      "INFO:tensorflow:Cleaning up temp path /tmp/tfx-interactive-2019-08-31T21_40_43.017915-r5zd0p45/Transform/transform_output/6/.temp_path on executor success\n"
     ]
    },
    {
     "name": "stdout",
     "output_type": "stream",
     "text": [
      "WARNING:tensorflow:From /root/miniconda3/envs/tfx/lib/python3.7/site-packages/tfx/utils/io_utils.py:87: The name tf.gfile.IsDirectory is deprecated. Please use tf.io.gfile.isdir instead.\n",
      "\n"
     ]
    },
    {
     "name": "stderr",
     "output_type": "stream",
     "text": [
      "WARNING:tensorflow:From /root/miniconda3/envs/tfx/lib/python3.7/site-packages/tfx/utils/io_utils.py:87: The name tf.gfile.IsDirectory is deprecated. Please use tf.io.gfile.isdir instead.\n",
      "\n"
     ]
    },
    {
     "name": "stdout",
     "output_type": "stream",
     "text": [
      "WARNING:tensorflow:From /root/miniconda3/envs/tfx/lib/python3.7/site-packages/tfx/utils/io_utils.py:88: The name tf.gfile.DeleteRecursively is deprecated. Please use tf.io.gfile.rmtree instead.\n",
      "\n"
     ]
    },
    {
     "name": "stderr",
     "output_type": "stream",
     "text": [
      "WARNING:tensorflow:From /root/miniconda3/envs/tfx/lib/python3.7/site-packages/tfx/utils/io_utils.py:88: The name tf.gfile.DeleteRecursively is deprecated. Please use tf.io.gfile.rmtree instead.\n",
      "\n"
     ]
    },
    {
     "name": "stdout",
     "output_type": "stream",
     "text": [
      "INFO:tensorflow:Run publisher for Transform\n"
     ]
    },
    {
     "name": "stderr",
     "output_type": "stream",
     "text": [
      "INFO:tensorflow:Run publisher for Transform\n"
     ]
    },
    {
     "name": "stdout",
     "output_type": "stream",
     "text": [
      "INFO:tensorflow:Whether cached results are used: False\n"
     ]
    },
    {
     "name": "stderr",
     "output_type": "stream",
     "text": [
      "INFO:tensorflow:Whether cached results are used: False\n"
     ]
    },
    {
     "name": "stdout",
     "output_type": "stream",
     "text": [
      "INFO:tensorflow:Execution id: 6\n"
     ]
    },
    {
     "name": "stderr",
     "output_type": "stream",
     "text": [
      "INFO:tensorflow:Execution id: 6\n"
     ]
    },
    {
     "name": "stdout",
     "output_type": "stream",
     "text": [
      "INFO:tensorflow:Inputs: {'input_data': [Artifact(type_name: ExamplesPath, uri: /tmp/tfx-interactive-2019-08-31T21_40_43.017915-r5zd0p45/CsvExampleGen/examples/1/train/, split: train, id: 2), Artifact(type_name: ExamplesPath, uri: /tmp/tfx-interactive-2019-08-31T21_40_43.017915-r5zd0p45/CsvExampleGen/examples/1/eval/, split: eval, id: 3)], 'schema': [Artifact(type_name: SchemaPath, uri: /tmp/tfx-interactive-2019-08-31T21_40_43.017915-r5zd0p45/SchemaGen/output/4/, split: , id: 6)]}\n"
     ]
    },
    {
     "name": "stderr",
     "output_type": "stream",
     "text": [
      "INFO:tensorflow:Inputs: {'input_data': [Artifact(type_name: ExamplesPath, uri: /tmp/tfx-interactive-2019-08-31T21_40_43.017915-r5zd0p45/CsvExampleGen/examples/1/train/, split: train, id: 2), Artifact(type_name: ExamplesPath, uri: /tmp/tfx-interactive-2019-08-31T21_40_43.017915-r5zd0p45/CsvExampleGen/examples/1/eval/, split: eval, id: 3)], 'schema': [Artifact(type_name: SchemaPath, uri: /tmp/tfx-interactive-2019-08-31T21_40_43.017915-r5zd0p45/SchemaGen/output/4/, split: , id: 6)]}\n"
     ]
    },
    {
     "name": "stdout",
     "output_type": "stream",
     "text": [
      "INFO:tensorflow:Outputs: {'transform_output': [Artifact(type_name: TransformPath, uri: /tmp/tfx-interactive-2019-08-31T21_40_43.017915-r5zd0p45/Transform/transform_output/6/, split: , id: 0)], 'transformed_examples': [Artifact(type_name: ExamplesPath, uri: /tmp/tfx-interactive-2019-08-31T21_40_43.017915-r5zd0p45/Transform/transformed_examples/6/train/, split: train, id: 0), Artifact(type_name: ExamplesPath, uri: /tmp/tfx-interactive-2019-08-31T21_40_43.017915-r5zd0p45/Transform/transformed_examples/6/eval/, split: eval, id: 0)]}\n"
     ]
    },
    {
     "name": "stderr",
     "output_type": "stream",
     "text": [
      "INFO:tensorflow:Outputs: {'transform_output': [Artifact(type_name: TransformPath, uri: /tmp/tfx-interactive-2019-08-31T21_40_43.017915-r5zd0p45/Transform/transform_output/6/, split: , id: 0)], 'transformed_examples': [Artifact(type_name: ExamplesPath, uri: /tmp/tfx-interactive-2019-08-31T21_40_43.017915-r5zd0p45/Transform/transformed_examples/6/train/, split: train, id: 0), Artifact(type_name: ExamplesPath, uri: /tmp/tfx-interactive-2019-08-31T21_40_43.017915-r5zd0p45/Transform/transformed_examples/6/eval/, split: eval, id: 0)]}\n"
     ]
    },
    {
     "name": "stdout",
     "output_type": "stream",
     "text": [
      "INFO:tensorflow:Publishing execution id: 6\n",
      "type_id: 11\n",
      "properties {\n",
      "  key: \"checksum_md5\"\n",
      "  value {\n",
      "    string_value: \"4e52cfff5d4b939df7b60870c459c181\"\n",
      "  }\n",
      "}\n",
      "properties {\n",
      "  key: \"component_id\"\n",
      "  value {\n",
      "    string_value: \"Transform\"\n",
      "  }\n",
      "}\n",
      "properties {\n",
      "  key: \"module_file\"\n",
      "  value {\n",
      "    string_value: \"/root/miniconda3/envs/tfx/lib/python3.7/site-packages/tfx/examples/chicago_taxi_pipeline/taxi_utils.py\"\n",
      "  }\n",
      "}\n",
      "properties {\n",
      "  key: \"pipeline_name\"\n",
      "  value {\n",
      "    string_value: \"interactive-2019-08-31T21_40_43.017915\"\n",
      "  }\n",
      "}\n",
      "properties {\n",
      "  key: \"pipeline_root\"\n",
      "  value {\n",
      "    string_value: \"/tmp/tfx-interactive-2019-08-31T21_40_43.017915-r5zd0p45\"\n",
      "  }\n",
      "}\n",
      "properties {\n",
      "  key: \"preprocessing_fn\"\n",
      "  value {\n",
      "    string_value: \"None\"\n",
      "  }\n",
      "}\n",
      "properties {\n",
      "  key: \"run_id\"\n",
      "  value {\n",
      "    string_value: \"2019-08-31T21:43:58.233101\"\n",
      "  }\n",
      "}\n",
      "properties {\n",
      "  key: \"state\"\n",
      "  value {\n",
      "    string_value: \"complete\"\n",
      "  }\n",
      "}\n",
      ", with inputs {'input_data': [Artifact(type_name: ExamplesPath, uri: /tmp/tfx-interactive-2019-08-31T21_40_43.017915-r5zd0p45/CsvExampleGen/examples/1/train/, split: train, id: 2), Artifact(type_name: ExamplesPath, uri: /tmp/tfx-interactive-2019-08-31T21_40_43.017915-r5zd0p45/CsvExampleGen/examples/1/eval/, split: eval, id: 3)], 'schema': [Artifact(type_name: SchemaPath, uri: /tmp/tfx-interactive-2019-08-31T21_40_43.017915-r5zd0p45/SchemaGen/output/4/, split: , id: 6)]} and outputs {'transform_output': [Artifact(type_name: TransformPath, uri: /tmp/tfx-interactive-2019-08-31T21_40_43.017915-r5zd0p45/Transform/transform_output/6/, split: , id: 0)], 'transformed_examples': [Artifact(type_name: ExamplesPath, uri: /tmp/tfx-interactive-2019-08-31T21_40_43.017915-r5zd0p45/Transform/transformed_examples/6/train/, split: train, id: 0), Artifact(type_name: ExamplesPath, uri: /tmp/tfx-interactive-2019-08-31T21_40_43.017915-r5zd0p45/Transform/transformed_examples/6/eval/, split: eval, id: 0)]}\n"
     ]
    },
    {
     "name": "stderr",
     "output_type": "stream",
     "text": [
      "INFO:tensorflow:Publishing execution id: 6\n",
      "type_id: 11\n",
      "properties {\n",
      "  key: \"checksum_md5\"\n",
      "  value {\n",
      "    string_value: \"4e52cfff5d4b939df7b60870c459c181\"\n",
      "  }\n",
      "}\n",
      "properties {\n",
      "  key: \"component_id\"\n",
      "  value {\n",
      "    string_value: \"Transform\"\n",
      "  }\n",
      "}\n",
      "properties {\n",
      "  key: \"module_file\"\n",
      "  value {\n",
      "    string_value: \"/root/miniconda3/envs/tfx/lib/python3.7/site-packages/tfx/examples/chicago_taxi_pipeline/taxi_utils.py\"\n",
      "  }\n",
      "}\n",
      "properties {\n",
      "  key: \"pipeline_name\"\n",
      "  value {\n",
      "    string_value: \"interactive-2019-08-31T21_40_43.017915\"\n",
      "  }\n",
      "}\n",
      "properties {\n",
      "  key: \"pipeline_root\"\n",
      "  value {\n",
      "    string_value: \"/tmp/tfx-interactive-2019-08-31T21_40_43.017915-r5zd0p45\"\n",
      "  }\n",
      "}\n",
      "properties {\n",
      "  key: \"preprocessing_fn\"\n",
      "  value {\n",
      "    string_value: \"None\"\n",
      "  }\n",
      "}\n",
      "properties {\n",
      "  key: \"run_id\"\n",
      "  value {\n",
      "    string_value: \"2019-08-31T21:43:58.233101\"\n",
      "  }\n",
      "}\n",
      "properties {\n",
      "  key: \"state\"\n",
      "  value {\n",
      "    string_value: \"complete\"\n",
      "  }\n",
      "}\n",
      ", with inputs {'input_data': [Artifact(type_name: ExamplesPath, uri: /tmp/tfx-interactive-2019-08-31T21_40_43.017915-r5zd0p45/CsvExampleGen/examples/1/train/, split: train, id: 2), Artifact(type_name: ExamplesPath, uri: /tmp/tfx-interactive-2019-08-31T21_40_43.017915-r5zd0p45/CsvExampleGen/examples/1/eval/, split: eval, id: 3)], 'schema': [Artifact(type_name: SchemaPath, uri: /tmp/tfx-interactive-2019-08-31T21_40_43.017915-r5zd0p45/SchemaGen/output/4/, split: , id: 6)]} and outputs {'transform_output': [Artifact(type_name: TransformPath, uri: /tmp/tfx-interactive-2019-08-31T21_40_43.017915-r5zd0p45/Transform/transform_output/6/, split: , id: 0)], 'transformed_examples': [Artifact(type_name: ExamplesPath, uri: /tmp/tfx-interactive-2019-08-31T21_40_43.017915-r5zd0p45/Transform/transformed_examples/6/train/, split: train, id: 0), Artifact(type_name: ExamplesPath, uri: /tmp/tfx-interactive-2019-08-31T21_40_43.017915-r5zd0p45/Transform/transformed_examples/6/eval/, split: eval, id: 0)]}\n"
     ]
    },
    {
     "name": "stdout",
     "output_type": "stream",
     "text": [
      "INFO:tensorflow:Published execution with final outputs {'transform_output': [Artifact(type_name: TransformPath, uri: /tmp/tfx-interactive-2019-08-31T21_40_43.017915-r5zd0p45/Transform/transform_output/6/, split: , id: 8)], 'transformed_examples': [Artifact(type_name: ExamplesPath, uri: /tmp/tfx-interactive-2019-08-31T21_40_43.017915-r5zd0p45/Transform/transformed_examples/6/train/, split: train, id: 9), Artifact(type_name: ExamplesPath, uri: /tmp/tfx-interactive-2019-08-31T21_40_43.017915-r5zd0p45/Transform/transformed_examples/6/eval/, split: eval, id: 10)]}\n"
     ]
    },
    {
     "name": "stderr",
     "output_type": "stream",
     "text": [
      "INFO:tensorflow:Published execution with final outputs {'transform_output': [Artifact(type_name: TransformPath, uri: /tmp/tfx-interactive-2019-08-31T21_40_43.017915-r5zd0p45/Transform/transform_output/6/, split: , id: 8)], 'transformed_examples': [Artifact(type_name: ExamplesPath, uri: /tmp/tfx-interactive-2019-08-31T21_40_43.017915-r5zd0p45/Transform/transformed_examples/6/train/, split: train, id: 9), Artifact(type_name: ExamplesPath, uri: /tmp/tfx-interactive-2019-08-31T21_40_43.017915-r5zd0p45/Transform/transformed_examples/6/eval/, split: eval, id: 10)]}\n"
     ]
    },
    {
     "data": {
      "text/html": [
       "<style>\n",
       ".tfx-object.expanded {\n",
       "  padding: 4px 8px 4px 8px;\n",
       "  background: white;\n",
       "  border: 1px solid #bbbbbb;\n",
       "  box-shadow: 4px 4px 2px rgba(0,0,0,0.05);\n",
       "}\n",
       ".tfx-object, .tfx-object * {\n",
       "  font-size: 11pt;\n",
       "}\n",
       ".tfx-object > .title {\n",
       "  cursor: pointer;\n",
       "}\n",
       ".tfx-object .expansion-marker {\n",
       "  color: #999999;\n",
       "}\n",
       ".tfx-object.expanded > .title > .expansion-marker:before {\n",
       "  content: '▼';\n",
       "}\n",
       ".tfx-object.collapsed > .title > .expansion-marker:before {\n",
       "  content: '▶';\n",
       "}\n",
       ".tfx-object .class-name {\n",
       "  font-weight: bold;\n",
       "}\n",
       ".tfx-object .deemphasize {\n",
       "  opacity: 0.5;\n",
       "}\n",
       ".tfx-object.collapsed > table.attr-table {\n",
       "  display: none;\n",
       "}\n",
       ".tfx-object.expanded > table.attr-table {\n",
       "  display: block;\n",
       "}\n",
       ".tfx-object table.attr-table {\n",
       "  border: 2px solid white;\n",
       "  margin-top: 5px;\n",
       "}\n",
       ".tfx-object table.attr-table td.attr-name {\n",
       "  vertical-align: top;\n",
       "  font-weight: bold;\n",
       "}\n",
       ".tfx-object table.attr-table td.attrvalue {\n",
       "  text-align: left;\n",
       "}\n",
       "</style>\n",
       "<script>\n",
       "function toggleTfxObject(element) {\n",
       "  var objElement = element.parentElement;\n",
       "  if (objElement.classList.contains('collapsed')) {\n",
       "    objElement.classList.remove('collapsed');\n",
       "    objElement.classList.add('expanded');\n",
       "  } else {\n",
       "    objElement.classList.add('collapsed');\n",
       "    objElement.classList.remove('expanded');\n",
       "  }\n",
       "}\n",
       "</script>\n",
       "<div class=\"tfx-object expanded\"><div class = \"title\" onclick=\"toggleTfxObject(this)\"><span class=\"expansion-marker\"></span><span class=\"class-name\">ExecutionResult</span><span class=\"deemphasize\"> at 0x7f57782e4400</span></div><table class=\"attr-table\"><tr><td class=\"attr-name\">.execution_id</td><td class = \"attrvalue\">6</td></tr><tr><td class=\"attr-name\">.component</td><td class = \"attrvalue\"><style>\n",
       ".tfx-object.expanded {\n",
       "  padding: 4px 8px 4px 8px;\n",
       "  background: white;\n",
       "  border: 1px solid #bbbbbb;\n",
       "  box-shadow: 4px 4px 2px rgba(0,0,0,0.05);\n",
       "}\n",
       ".tfx-object, .tfx-object * {\n",
       "  font-size: 11pt;\n",
       "}\n",
       ".tfx-object > .title {\n",
       "  cursor: pointer;\n",
       "}\n",
       ".tfx-object .expansion-marker {\n",
       "  color: #999999;\n",
       "}\n",
       ".tfx-object.expanded > .title > .expansion-marker:before {\n",
       "  content: '▼';\n",
       "}\n",
       ".tfx-object.collapsed > .title > .expansion-marker:before {\n",
       "  content: '▶';\n",
       "}\n",
       ".tfx-object .class-name {\n",
       "  font-weight: bold;\n",
       "}\n",
       ".tfx-object .deemphasize {\n",
       "  opacity: 0.5;\n",
       "}\n",
       ".tfx-object.collapsed > table.attr-table {\n",
       "  display: none;\n",
       "}\n",
       ".tfx-object.expanded > table.attr-table {\n",
       "  display: block;\n",
       "}\n",
       ".tfx-object table.attr-table {\n",
       "  border: 2px solid white;\n",
       "  margin-top: 5px;\n",
       "}\n",
       ".tfx-object table.attr-table td.attr-name {\n",
       "  vertical-align: top;\n",
       "  font-weight: bold;\n",
       "}\n",
       ".tfx-object table.attr-table td.attrvalue {\n",
       "  text-align: left;\n",
       "}\n",
       "</style>\n",
       "<script>\n",
       "function toggleTfxObject(element) {\n",
       "  var objElement = element.parentElement;\n",
       "  if (objElement.classList.contains('collapsed')) {\n",
       "    objElement.classList.remove('collapsed');\n",
       "    objElement.classList.add('expanded');\n",
       "  } else {\n",
       "    objElement.classList.add('collapsed');\n",
       "    objElement.classList.remove('expanded');\n",
       "  }\n",
       "}\n",
       "</script>\n",
       "<div class=\"tfx-object collapsed\"><div class = \"title\" onclick=\"toggleTfxObject(this)\"><span class=\"expansion-marker\"></span><span class=\"class-name\">Transform</span><span class=\"deemphasize\"> at 0x7f57781b8208</span></div><table class=\"attr-table\"><tr><td class=\"attr-name\">.inputs</td><td class = \"attrvalue\"><table class=\"attr-table\"><tr><td class=\"attr-name\">['input_data']</td><td class = \"attrvalue\"><style>\n",
       ".tfx-object.expanded {\n",
       "  padding: 4px 8px 4px 8px;\n",
       "  background: white;\n",
       "  border: 1px solid #bbbbbb;\n",
       "  box-shadow: 4px 4px 2px rgba(0,0,0,0.05);\n",
       "}\n",
       ".tfx-object, .tfx-object * {\n",
       "  font-size: 11pt;\n",
       "}\n",
       ".tfx-object > .title {\n",
       "  cursor: pointer;\n",
       "}\n",
       ".tfx-object .expansion-marker {\n",
       "  color: #999999;\n",
       "}\n",
       ".tfx-object.expanded > .title > .expansion-marker:before {\n",
       "  content: '▼';\n",
       "}\n",
       ".tfx-object.collapsed > .title > .expansion-marker:before {\n",
       "  content: '▶';\n",
       "}\n",
       ".tfx-object .class-name {\n",
       "  font-weight: bold;\n",
       "}\n",
       ".tfx-object .deemphasize {\n",
       "  opacity: 0.5;\n",
       "}\n",
       ".tfx-object.collapsed > table.attr-table {\n",
       "  display: none;\n",
       "}\n",
       ".tfx-object.expanded > table.attr-table {\n",
       "  display: block;\n",
       "}\n",
       ".tfx-object table.attr-table {\n",
       "  border: 2px solid white;\n",
       "  margin-top: 5px;\n",
       "}\n",
       ".tfx-object table.attr-table td.attr-name {\n",
       "  vertical-align: top;\n",
       "  font-weight: bold;\n",
       "}\n",
       ".tfx-object table.attr-table td.attrvalue {\n",
       "  text-align: left;\n",
       "}\n",
       "</style>\n",
       "<script>\n",
       "function toggleTfxObject(element) {\n",
       "  var objElement = element.parentElement;\n",
       "  if (objElement.classList.contains('collapsed')) {\n",
       "    objElement.classList.remove('collapsed');\n",
       "    objElement.classList.add('expanded');\n",
       "  } else {\n",
       "    objElement.classList.add('collapsed');\n",
       "    objElement.classList.remove('expanded');\n",
       "  }\n",
       "}\n",
       "</script>\n",
       "<div class=\"tfx-object collapsed\"><div class = \"title\" onclick=\"toggleTfxObject(this)\"><span class=\"expansion-marker\"></span><span class=\"class-name\">Channel</span> of type <span class=\"class-name\">'ExamplesPath'</span> (2 artifacts)<span class=\"deemphasize\"> at 0x7f57d69b2278</span></div><table class=\"attr-table\"><tr><td class=\"attr-name\">.type_name</td><td class = \"attrvalue\">ExamplesPath</td></tr><tr><td class=\"attr-name\">._artifacts</td><td class = \"attrvalue\"><table class=\"attr-table\"><tr><td class=\"attr-name\">[0]</td><td class = \"attrvalue\"><style>\n",
       ".tfx-object.expanded {\n",
       "  padding: 4px 8px 4px 8px;\n",
       "  background: white;\n",
       "  border: 1px solid #bbbbbb;\n",
       "  box-shadow: 4px 4px 2px rgba(0,0,0,0.05);\n",
       "}\n",
       ".tfx-object, .tfx-object * {\n",
       "  font-size: 11pt;\n",
       "}\n",
       ".tfx-object > .title {\n",
       "  cursor: pointer;\n",
       "}\n",
       ".tfx-object .expansion-marker {\n",
       "  color: #999999;\n",
       "}\n",
       ".tfx-object.expanded > .title > .expansion-marker:before {\n",
       "  content: '▼';\n",
       "}\n",
       ".tfx-object.collapsed > .title > .expansion-marker:before {\n",
       "  content: '▶';\n",
       "}\n",
       ".tfx-object .class-name {\n",
       "  font-weight: bold;\n",
       "}\n",
       ".tfx-object .deemphasize {\n",
       "  opacity: 0.5;\n",
       "}\n",
       ".tfx-object.collapsed > table.attr-table {\n",
       "  display: none;\n",
       "}\n",
       ".tfx-object.expanded > table.attr-table {\n",
       "  display: block;\n",
       "}\n",
       ".tfx-object table.attr-table {\n",
       "  border: 2px solid white;\n",
       "  margin-top: 5px;\n",
       "}\n",
       ".tfx-object table.attr-table td.attr-name {\n",
       "  vertical-align: top;\n",
       "  font-weight: bold;\n",
       "}\n",
       ".tfx-object table.attr-table td.attrvalue {\n",
       "  text-align: left;\n",
       "}\n",
       "</style>\n",
       "<script>\n",
       "function toggleTfxObject(element) {\n",
       "  var objElement = element.parentElement;\n",
       "  if (objElement.classList.contains('collapsed')) {\n",
       "    objElement.classList.remove('collapsed');\n",
       "    objElement.classList.add('expanded');\n",
       "  } else {\n",
       "    objElement.classList.add('collapsed');\n",
       "    objElement.classList.remove('expanded');\n",
       "  }\n",
       "}\n",
       "</script>\n",
       "<div class=\"tfx-object collapsed\"><div class = \"title\" onclick=\"toggleTfxObject(this)\"><span class=\"expansion-marker\"></span><span class=\"class-name\">Artifact</span> of type <span class=\"class-name\">'ExamplesPath'</span> (uri: /tmp/tfx-interactive-2019-08-31T21_40_43.017915-r5zd0p45/CsvExampleGen/examples/1/train/)<span class=\"deemphasize\"> at 0x7f57d69b2ba8</span></div><table class=\"attr-table\"><tr><td class=\"attr-name\">.type_name</td><td class = \"attrvalue\">ExamplesPath</td></tr><tr><td class=\"attr-name\">.uri</td><td class = \"attrvalue\">/tmp/tfx-interactive-2019-08-31T21_40_43.017915-r5zd0p45/CsvExampleGen/examples/1/train/</td></tr><tr><td class=\"attr-name\">.span</td><td class = \"attrvalue\">0</td></tr><tr><td class=\"attr-name\">.split</td><td class = \"attrvalue\">train</td></tr></table></div></td></tr><tr><td class=\"attr-name\">[1]</td><td class = \"attrvalue\"><style>\n",
       ".tfx-object.expanded {\n",
       "  padding: 4px 8px 4px 8px;\n",
       "  background: white;\n",
       "  border: 1px solid #bbbbbb;\n",
       "  box-shadow: 4px 4px 2px rgba(0,0,0,0.05);\n",
       "}\n",
       ".tfx-object, .tfx-object * {\n",
       "  font-size: 11pt;\n",
       "}\n",
       ".tfx-object > .title {\n",
       "  cursor: pointer;\n",
       "}\n",
       ".tfx-object .expansion-marker {\n",
       "  color: #999999;\n",
       "}\n",
       ".tfx-object.expanded > .title > .expansion-marker:before {\n",
       "  content: '▼';\n",
       "}\n",
       ".tfx-object.collapsed > .title > .expansion-marker:before {\n",
       "  content: '▶';\n",
       "}\n",
       ".tfx-object .class-name {\n",
       "  font-weight: bold;\n",
       "}\n",
       ".tfx-object .deemphasize {\n",
       "  opacity: 0.5;\n",
       "}\n",
       ".tfx-object.collapsed > table.attr-table {\n",
       "  display: none;\n",
       "}\n",
       ".tfx-object.expanded > table.attr-table {\n",
       "  display: block;\n",
       "}\n",
       ".tfx-object table.attr-table {\n",
       "  border: 2px solid white;\n",
       "  margin-top: 5px;\n",
       "}\n",
       ".tfx-object table.attr-table td.attr-name {\n",
       "  vertical-align: top;\n",
       "  font-weight: bold;\n",
       "}\n",
       ".tfx-object table.attr-table td.attrvalue {\n",
       "  text-align: left;\n",
       "}\n",
       "</style>\n",
       "<script>\n",
       "function toggleTfxObject(element) {\n",
       "  var objElement = element.parentElement;\n",
       "  if (objElement.classList.contains('collapsed')) {\n",
       "    objElement.classList.remove('collapsed');\n",
       "    objElement.classList.add('expanded');\n",
       "  } else {\n",
       "    objElement.classList.add('collapsed');\n",
       "    objElement.classList.remove('expanded');\n",
       "  }\n",
       "}\n",
       "</script>\n",
       "<div class=\"tfx-object collapsed\"><div class = \"title\" onclick=\"toggleTfxObject(this)\"><span class=\"expansion-marker\"></span><span class=\"class-name\">Artifact</span> of type <span class=\"class-name\">'ExamplesPath'</span> (uri: /tmp/tfx-interactive-2019-08-31T21_40_43.017915-r5zd0p45/CsvExampleGen/examples/1/eval/)<span class=\"deemphasize\"> at 0x7f57d6a0dac8</span></div><table class=\"attr-table\"><tr><td class=\"attr-name\">.type_name</td><td class = \"attrvalue\">ExamplesPath</td></tr><tr><td class=\"attr-name\">.uri</td><td class = \"attrvalue\">/tmp/tfx-interactive-2019-08-31T21_40_43.017915-r5zd0p45/CsvExampleGen/examples/1/eval/</td></tr><tr><td class=\"attr-name\">.span</td><td class = \"attrvalue\">0</td></tr><tr><td class=\"attr-name\">.split</td><td class = \"attrvalue\">eval</td></tr></table></div></td></tr></table></td></tr></table></div></td></tr><tr><td class=\"attr-name\">['schema']</td><td class = \"attrvalue\"><style>\n",
       ".tfx-object.expanded {\n",
       "  padding: 4px 8px 4px 8px;\n",
       "  background: white;\n",
       "  border: 1px solid #bbbbbb;\n",
       "  box-shadow: 4px 4px 2px rgba(0,0,0,0.05);\n",
       "}\n",
       ".tfx-object, .tfx-object * {\n",
       "  font-size: 11pt;\n",
       "}\n",
       ".tfx-object > .title {\n",
       "  cursor: pointer;\n",
       "}\n",
       ".tfx-object .expansion-marker {\n",
       "  color: #999999;\n",
       "}\n",
       ".tfx-object.expanded > .title > .expansion-marker:before {\n",
       "  content: '▼';\n",
       "}\n",
       ".tfx-object.collapsed > .title > .expansion-marker:before {\n",
       "  content: '▶';\n",
       "}\n",
       ".tfx-object .class-name {\n",
       "  font-weight: bold;\n",
       "}\n",
       ".tfx-object .deemphasize {\n",
       "  opacity: 0.5;\n",
       "}\n",
       ".tfx-object.collapsed > table.attr-table {\n",
       "  display: none;\n",
       "}\n",
       ".tfx-object.expanded > table.attr-table {\n",
       "  display: block;\n",
       "}\n",
       ".tfx-object table.attr-table {\n",
       "  border: 2px solid white;\n",
       "  margin-top: 5px;\n",
       "}\n",
       ".tfx-object table.attr-table td.attr-name {\n",
       "  vertical-align: top;\n",
       "  font-weight: bold;\n",
       "}\n",
       ".tfx-object table.attr-table td.attrvalue {\n",
       "  text-align: left;\n",
       "}\n",
       "</style>\n",
       "<script>\n",
       "function toggleTfxObject(element) {\n",
       "  var objElement = element.parentElement;\n",
       "  if (objElement.classList.contains('collapsed')) {\n",
       "    objElement.classList.remove('collapsed');\n",
       "    objElement.classList.add('expanded');\n",
       "  } else {\n",
       "    objElement.classList.add('collapsed');\n",
       "    objElement.classList.remove('expanded');\n",
       "  }\n",
       "}\n",
       "</script>\n",
       "<div class=\"tfx-object collapsed\"><div class = \"title\" onclick=\"toggleTfxObject(this)\"><span class=\"expansion-marker\"></span><span class=\"class-name\">Channel</span> of type <span class=\"class-name\">'SchemaPath'</span> (1 artifact)<span class=\"deemphasize\"> at 0x7f57c4215668</span></div><table class=\"attr-table\"><tr><td class=\"attr-name\">.type_name</td><td class = \"attrvalue\">SchemaPath</td></tr><tr><td class=\"attr-name\">._artifacts</td><td class = \"attrvalue\"><table class=\"attr-table\"><tr><td class=\"attr-name\">[0]</td><td class = \"attrvalue\"><style>\n",
       ".tfx-object.expanded {\n",
       "  padding: 4px 8px 4px 8px;\n",
       "  background: white;\n",
       "  border: 1px solid #bbbbbb;\n",
       "  box-shadow: 4px 4px 2px rgba(0,0,0,0.05);\n",
       "}\n",
       ".tfx-object, .tfx-object * {\n",
       "  font-size: 11pt;\n",
       "}\n",
       ".tfx-object > .title {\n",
       "  cursor: pointer;\n",
       "}\n",
       ".tfx-object .expansion-marker {\n",
       "  color: #999999;\n",
       "}\n",
       ".tfx-object.expanded > .title > .expansion-marker:before {\n",
       "  content: '▼';\n",
       "}\n",
       ".tfx-object.collapsed > .title > .expansion-marker:before {\n",
       "  content: '▶';\n",
       "}\n",
       ".tfx-object .class-name {\n",
       "  font-weight: bold;\n",
       "}\n",
       ".tfx-object .deemphasize {\n",
       "  opacity: 0.5;\n",
       "}\n",
       ".tfx-object.collapsed > table.attr-table {\n",
       "  display: none;\n",
       "}\n",
       ".tfx-object.expanded > table.attr-table {\n",
       "  display: block;\n",
       "}\n",
       ".tfx-object table.attr-table {\n",
       "  border: 2px solid white;\n",
       "  margin-top: 5px;\n",
       "}\n",
       ".tfx-object table.attr-table td.attr-name {\n",
       "  vertical-align: top;\n",
       "  font-weight: bold;\n",
       "}\n",
       ".tfx-object table.attr-table td.attrvalue {\n",
       "  text-align: left;\n",
       "}\n",
       "</style>\n",
       "<script>\n",
       "function toggleTfxObject(element) {\n",
       "  var objElement = element.parentElement;\n",
       "  if (objElement.classList.contains('collapsed')) {\n",
       "    objElement.classList.remove('collapsed');\n",
       "    objElement.classList.add('expanded');\n",
       "  } else {\n",
       "    objElement.classList.add('collapsed');\n",
       "    objElement.classList.remove('expanded');\n",
       "  }\n",
       "}\n",
       "</script>\n",
       "<div class=\"tfx-object collapsed\"><div class = \"title\" onclick=\"toggleTfxObject(this)\"><span class=\"expansion-marker\"></span><span class=\"class-name\">Artifact</span> of type <span class=\"class-name\">'SchemaPath'</span> (uri: /tmp/tfx-interactive-2019-08-31T21_40_43.017915-r5zd0p45/SchemaGen/output/4/)<span class=\"deemphasize\"> at 0x7f57c4215828</span></div><table class=\"attr-table\"><tr><td class=\"attr-name\">.type_name</td><td class = \"attrvalue\">SchemaPath</td></tr><tr><td class=\"attr-name\">.uri</td><td class = \"attrvalue\">/tmp/tfx-interactive-2019-08-31T21_40_43.017915-r5zd0p45/SchemaGen/output/4/</td></tr><tr><td class=\"attr-name\">.span</td><td class = \"attrvalue\">0</td></tr><tr><td class=\"attr-name\">.split</td><td class = \"attrvalue\"></td></tr></table></div></td></tr></table></td></tr></table></div></td></tr></table></td></tr><tr><td class=\"attr-name\">.outputs</td><td class = \"attrvalue\"><table class=\"attr-table\"><tr><td class=\"attr-name\">['transform_output']</td><td class = \"attrvalue\"><style>\n",
       ".tfx-object.expanded {\n",
       "  padding: 4px 8px 4px 8px;\n",
       "  background: white;\n",
       "  border: 1px solid #bbbbbb;\n",
       "  box-shadow: 4px 4px 2px rgba(0,0,0,0.05);\n",
       "}\n",
       ".tfx-object, .tfx-object * {\n",
       "  font-size: 11pt;\n",
       "}\n",
       ".tfx-object > .title {\n",
       "  cursor: pointer;\n",
       "}\n",
       ".tfx-object .expansion-marker {\n",
       "  color: #999999;\n",
       "}\n",
       ".tfx-object.expanded > .title > .expansion-marker:before {\n",
       "  content: '▼';\n",
       "}\n",
       ".tfx-object.collapsed > .title > .expansion-marker:before {\n",
       "  content: '▶';\n",
       "}\n",
       ".tfx-object .class-name {\n",
       "  font-weight: bold;\n",
       "}\n",
       ".tfx-object .deemphasize {\n",
       "  opacity: 0.5;\n",
       "}\n",
       ".tfx-object.collapsed > table.attr-table {\n",
       "  display: none;\n",
       "}\n",
       ".tfx-object.expanded > table.attr-table {\n",
       "  display: block;\n",
       "}\n",
       ".tfx-object table.attr-table {\n",
       "  border: 2px solid white;\n",
       "  margin-top: 5px;\n",
       "}\n",
       ".tfx-object table.attr-table td.attr-name {\n",
       "  vertical-align: top;\n",
       "  font-weight: bold;\n",
       "}\n",
       ".tfx-object table.attr-table td.attrvalue {\n",
       "  text-align: left;\n",
       "}\n",
       "</style>\n",
       "<script>\n",
       "function toggleTfxObject(element) {\n",
       "  var objElement = element.parentElement;\n",
       "  if (objElement.classList.contains('collapsed')) {\n",
       "    objElement.classList.remove('collapsed');\n",
       "    objElement.classList.add('expanded');\n",
       "  } else {\n",
       "    objElement.classList.add('collapsed');\n",
       "    objElement.classList.remove('expanded');\n",
       "  }\n",
       "}\n",
       "</script>\n",
       "<div class=\"tfx-object collapsed\"><div class = \"title\" onclick=\"toggleTfxObject(this)\"><span class=\"expansion-marker\"></span><span class=\"class-name\">Channel</span> of type <span class=\"class-name\">'TransformPath'</span> (1 artifact)<span class=\"deemphasize\"> at 0x7f57781b8550</span></div><table class=\"attr-table\"><tr><td class=\"attr-name\">.type_name</td><td class = \"attrvalue\">TransformPath</td></tr><tr><td class=\"attr-name\">._artifacts</td><td class = \"attrvalue\"><table class=\"attr-table\"><tr><td class=\"attr-name\">[0]</td><td class = \"attrvalue\"><style>\n",
       ".tfx-object.expanded {\n",
       "  padding: 4px 8px 4px 8px;\n",
       "  background: white;\n",
       "  border: 1px solid #bbbbbb;\n",
       "  box-shadow: 4px 4px 2px rgba(0,0,0,0.05);\n",
       "}\n",
       ".tfx-object, .tfx-object * {\n",
       "  font-size: 11pt;\n",
       "}\n",
       ".tfx-object > .title {\n",
       "  cursor: pointer;\n",
       "}\n",
       ".tfx-object .expansion-marker {\n",
       "  color: #999999;\n",
       "}\n",
       ".tfx-object.expanded > .title > .expansion-marker:before {\n",
       "  content: '▼';\n",
       "}\n",
       ".tfx-object.collapsed > .title > .expansion-marker:before {\n",
       "  content: '▶';\n",
       "}\n",
       ".tfx-object .class-name {\n",
       "  font-weight: bold;\n",
       "}\n",
       ".tfx-object .deemphasize {\n",
       "  opacity: 0.5;\n",
       "}\n",
       ".tfx-object.collapsed > table.attr-table {\n",
       "  display: none;\n",
       "}\n",
       ".tfx-object.expanded > table.attr-table {\n",
       "  display: block;\n",
       "}\n",
       ".tfx-object table.attr-table {\n",
       "  border: 2px solid white;\n",
       "  margin-top: 5px;\n",
       "}\n",
       ".tfx-object table.attr-table td.attr-name {\n",
       "  vertical-align: top;\n",
       "  font-weight: bold;\n",
       "}\n",
       ".tfx-object table.attr-table td.attrvalue {\n",
       "  text-align: left;\n",
       "}\n",
       "</style>\n",
       "<script>\n",
       "function toggleTfxObject(element) {\n",
       "  var objElement = element.parentElement;\n",
       "  if (objElement.classList.contains('collapsed')) {\n",
       "    objElement.classList.remove('collapsed');\n",
       "    objElement.classList.add('expanded');\n",
       "  } else {\n",
       "    objElement.classList.add('collapsed');\n",
       "    objElement.classList.remove('expanded');\n",
       "  }\n",
       "}\n",
       "</script>\n",
       "<div class=\"tfx-object collapsed\"><div class = \"title\" onclick=\"toggleTfxObject(this)\"><span class=\"expansion-marker\"></span><span class=\"class-name\">Artifact</span> of type <span class=\"class-name\">'TransformPath'</span> (uri: /tmp/tfx-interactive-2019-08-31T21_40_43.017915-r5zd0p45/Transform/transform_output/6/)<span class=\"deemphasize\"> at 0x7f57781b80b8</span></div><table class=\"attr-table\"><tr><td class=\"attr-name\">.type_name</td><td class = \"attrvalue\">TransformPath</td></tr><tr><td class=\"attr-name\">.uri</td><td class = \"attrvalue\">/tmp/tfx-interactive-2019-08-31T21_40_43.017915-r5zd0p45/Transform/transform_output/6/</td></tr><tr><td class=\"attr-name\">.span</td><td class = \"attrvalue\">0</td></tr><tr><td class=\"attr-name\">.split</td><td class = \"attrvalue\"></td></tr></table></div></td></tr></table></td></tr></table></div></td></tr><tr><td class=\"attr-name\">['transformed_examples']</td><td class = \"attrvalue\"><style>\n",
       ".tfx-object.expanded {\n",
       "  padding: 4px 8px 4px 8px;\n",
       "  background: white;\n",
       "  border: 1px solid #bbbbbb;\n",
       "  box-shadow: 4px 4px 2px rgba(0,0,0,0.05);\n",
       "}\n",
       ".tfx-object, .tfx-object * {\n",
       "  font-size: 11pt;\n",
       "}\n",
       ".tfx-object > .title {\n",
       "  cursor: pointer;\n",
       "}\n",
       ".tfx-object .expansion-marker {\n",
       "  color: #999999;\n",
       "}\n",
       ".tfx-object.expanded > .title > .expansion-marker:before {\n",
       "  content: '▼';\n",
       "}\n",
       ".tfx-object.collapsed > .title > .expansion-marker:before {\n",
       "  content: '▶';\n",
       "}\n",
       ".tfx-object .class-name {\n",
       "  font-weight: bold;\n",
       "}\n",
       ".tfx-object .deemphasize {\n",
       "  opacity: 0.5;\n",
       "}\n",
       ".tfx-object.collapsed > table.attr-table {\n",
       "  display: none;\n",
       "}\n",
       ".tfx-object.expanded > table.attr-table {\n",
       "  display: block;\n",
       "}\n",
       ".tfx-object table.attr-table {\n",
       "  border: 2px solid white;\n",
       "  margin-top: 5px;\n",
       "}\n",
       ".tfx-object table.attr-table td.attr-name {\n",
       "  vertical-align: top;\n",
       "  font-weight: bold;\n",
       "}\n",
       ".tfx-object table.attr-table td.attrvalue {\n",
       "  text-align: left;\n",
       "}\n",
       "</style>\n",
       "<script>\n",
       "function toggleTfxObject(element) {\n",
       "  var objElement = element.parentElement;\n",
       "  if (objElement.classList.contains('collapsed')) {\n",
       "    objElement.classList.remove('collapsed');\n",
       "    objElement.classList.add('expanded');\n",
       "  } else {\n",
       "    objElement.classList.add('collapsed');\n",
       "    objElement.classList.remove('expanded');\n",
       "  }\n",
       "}\n",
       "</script>\n",
       "<div class=\"tfx-object collapsed\"><div class = \"title\" onclick=\"toggleTfxObject(this)\"><span class=\"expansion-marker\"></span><span class=\"class-name\">Channel</span> of type <span class=\"class-name\">'ExamplesPath'</span> (2 artifacts)<span class=\"deemphasize\"> at 0x7f57781b8358</span></div><table class=\"attr-table\"><tr><td class=\"attr-name\">.type_name</td><td class = \"attrvalue\">ExamplesPath</td></tr><tr><td class=\"attr-name\">._artifacts</td><td class = \"attrvalue\"><table class=\"attr-table\"><tr><td class=\"attr-name\">[0]</td><td class = \"attrvalue\"><style>\n",
       ".tfx-object.expanded {\n",
       "  padding: 4px 8px 4px 8px;\n",
       "  background: white;\n",
       "  border: 1px solid #bbbbbb;\n",
       "  box-shadow: 4px 4px 2px rgba(0,0,0,0.05);\n",
       "}\n",
       ".tfx-object, .tfx-object * {\n",
       "  font-size: 11pt;\n",
       "}\n",
       ".tfx-object > .title {\n",
       "  cursor: pointer;\n",
       "}\n",
       ".tfx-object .expansion-marker {\n",
       "  color: #999999;\n",
       "}\n",
       ".tfx-object.expanded > .title > .expansion-marker:before {\n",
       "  content: '▼';\n",
       "}\n",
       ".tfx-object.collapsed > .title > .expansion-marker:before {\n",
       "  content: '▶';\n",
       "}\n",
       ".tfx-object .class-name {\n",
       "  font-weight: bold;\n",
       "}\n",
       ".tfx-object .deemphasize {\n",
       "  opacity: 0.5;\n",
       "}\n",
       ".tfx-object.collapsed > table.attr-table {\n",
       "  display: none;\n",
       "}\n",
       ".tfx-object.expanded > table.attr-table {\n",
       "  display: block;\n",
       "}\n",
       ".tfx-object table.attr-table {\n",
       "  border: 2px solid white;\n",
       "  margin-top: 5px;\n",
       "}\n",
       ".tfx-object table.attr-table td.attr-name {\n",
       "  vertical-align: top;\n",
       "  font-weight: bold;\n",
       "}\n",
       ".tfx-object table.attr-table td.attrvalue {\n",
       "  text-align: left;\n",
       "}\n",
       "</style>\n",
       "<script>\n",
       "function toggleTfxObject(element) {\n",
       "  var objElement = element.parentElement;\n",
       "  if (objElement.classList.contains('collapsed')) {\n",
       "    objElement.classList.remove('collapsed');\n",
       "    objElement.classList.add('expanded');\n",
       "  } else {\n",
       "    objElement.classList.add('collapsed');\n",
       "    objElement.classList.remove('expanded');\n",
       "  }\n",
       "}\n",
       "</script>\n",
       "<div class=\"tfx-object collapsed\"><div class = \"title\" onclick=\"toggleTfxObject(this)\"><span class=\"expansion-marker\"></span><span class=\"class-name\">Artifact</span> of type <span class=\"class-name\">'ExamplesPath'</span> (uri: /tmp/tfx-interactive-2019-08-31T21_40_43.017915-r5zd0p45/Transform/transformed_examples/6/train/)<span class=\"deemphasize\"> at 0x7f57781b8dd8</span></div><table class=\"attr-table\"><tr><td class=\"attr-name\">.type_name</td><td class = \"attrvalue\">ExamplesPath</td></tr><tr><td class=\"attr-name\">.uri</td><td class = \"attrvalue\">/tmp/tfx-interactive-2019-08-31T21_40_43.017915-r5zd0p45/Transform/transformed_examples/6/train/</td></tr><tr><td class=\"attr-name\">.span</td><td class = \"attrvalue\">0</td></tr><tr><td class=\"attr-name\">.split</td><td class = \"attrvalue\">train</td></tr></table></div></td></tr><tr><td class=\"attr-name\">[1]</td><td class = \"attrvalue\"><style>\n",
       ".tfx-object.expanded {\n",
       "  padding: 4px 8px 4px 8px;\n",
       "  background: white;\n",
       "  border: 1px solid #bbbbbb;\n",
       "  box-shadow: 4px 4px 2px rgba(0,0,0,0.05);\n",
       "}\n",
       ".tfx-object, .tfx-object * {\n",
       "  font-size: 11pt;\n",
       "}\n",
       ".tfx-object > .title {\n",
       "  cursor: pointer;\n",
       "}\n",
       ".tfx-object .expansion-marker {\n",
       "  color: #999999;\n",
       "}\n",
       ".tfx-object.expanded > .title > .expansion-marker:before {\n",
       "  content: '▼';\n",
       "}\n",
       ".tfx-object.collapsed > .title > .expansion-marker:before {\n",
       "  content: '▶';\n",
       "}\n",
       ".tfx-object .class-name {\n",
       "  font-weight: bold;\n",
       "}\n",
       ".tfx-object .deemphasize {\n",
       "  opacity: 0.5;\n",
       "}\n",
       ".tfx-object.collapsed > table.attr-table {\n",
       "  display: none;\n",
       "}\n",
       ".tfx-object.expanded > table.attr-table {\n",
       "  display: block;\n",
       "}\n",
       ".tfx-object table.attr-table {\n",
       "  border: 2px solid white;\n",
       "  margin-top: 5px;\n",
       "}\n",
       ".tfx-object table.attr-table td.attr-name {\n",
       "  vertical-align: top;\n",
       "  font-weight: bold;\n",
       "}\n",
       ".tfx-object table.attr-table td.attrvalue {\n",
       "  text-align: left;\n",
       "}\n",
       "</style>\n",
       "<script>\n",
       "function toggleTfxObject(element) {\n",
       "  var objElement = element.parentElement;\n",
       "  if (objElement.classList.contains('collapsed')) {\n",
       "    objElement.classList.remove('collapsed');\n",
       "    objElement.classList.add('expanded');\n",
       "  } else {\n",
       "    objElement.classList.add('collapsed');\n",
       "    objElement.classList.remove('expanded');\n",
       "  }\n",
       "}\n",
       "</script>\n",
       "<div class=\"tfx-object collapsed\"><div class = \"title\" onclick=\"toggleTfxObject(this)\"><span class=\"expansion-marker\"></span><span class=\"class-name\">Artifact</span> of type <span class=\"class-name\">'ExamplesPath'</span> (uri: /tmp/tfx-interactive-2019-08-31T21_40_43.017915-r5zd0p45/Transform/transformed_examples/6/eval/)<span class=\"deemphasize\"> at 0x7f57781b8c88</span></div><table class=\"attr-table\"><tr><td class=\"attr-name\">.type_name</td><td class = \"attrvalue\">ExamplesPath</td></tr><tr><td class=\"attr-name\">.uri</td><td class = \"attrvalue\">/tmp/tfx-interactive-2019-08-31T21_40_43.017915-r5zd0p45/Transform/transformed_examples/6/eval/</td></tr><tr><td class=\"attr-name\">.span</td><td class = \"attrvalue\">0</td></tr><tr><td class=\"attr-name\">.split</td><td class = \"attrvalue\">eval</td></tr></table></div></td></tr></table></td></tr></table></div></td></tr></table></td></tr><tr><td class=\"attr-name\">.exec_properties</td><td class = \"attrvalue\"><table class=\"attr-table\"><tr><td class=\"attr-name\">['module_file']</td><td class = \"attrvalue\">/root/miniconda3/envs/tfx/lib/python3.7/site-packages/tfx/examples/chicago_taxi_pipeline/taxi_utils.py</td></tr><tr><td class=\"attr-name\">['preprocessing_fn']</td><td class = \"attrvalue\">None</td></tr></table></td></tr></table></div></td></tr><tr><td class=\"attr-name\">.component.inputs</td><td class = \"attrvalue\"><table class=\"attr-table\"><tr><td class=\"attr-name\">['input_data']</td><td class = \"attrvalue\"><style>\n",
       ".tfx-object.expanded {\n",
       "  padding: 4px 8px 4px 8px;\n",
       "  background: white;\n",
       "  border: 1px solid #bbbbbb;\n",
       "  box-shadow: 4px 4px 2px rgba(0,0,0,0.05);\n",
       "}\n",
       ".tfx-object, .tfx-object * {\n",
       "  font-size: 11pt;\n",
       "}\n",
       ".tfx-object > .title {\n",
       "  cursor: pointer;\n",
       "}\n",
       ".tfx-object .expansion-marker {\n",
       "  color: #999999;\n",
       "}\n",
       ".tfx-object.expanded > .title > .expansion-marker:before {\n",
       "  content: '▼';\n",
       "}\n",
       ".tfx-object.collapsed > .title > .expansion-marker:before {\n",
       "  content: '▶';\n",
       "}\n",
       ".tfx-object .class-name {\n",
       "  font-weight: bold;\n",
       "}\n",
       ".tfx-object .deemphasize {\n",
       "  opacity: 0.5;\n",
       "}\n",
       ".tfx-object.collapsed > table.attr-table {\n",
       "  display: none;\n",
       "}\n",
       ".tfx-object.expanded > table.attr-table {\n",
       "  display: block;\n",
       "}\n",
       ".tfx-object table.attr-table {\n",
       "  border: 2px solid white;\n",
       "  margin-top: 5px;\n",
       "}\n",
       ".tfx-object table.attr-table td.attr-name {\n",
       "  vertical-align: top;\n",
       "  font-weight: bold;\n",
       "}\n",
       ".tfx-object table.attr-table td.attrvalue {\n",
       "  text-align: left;\n",
       "}\n",
       "</style>\n",
       "<script>\n",
       "function toggleTfxObject(element) {\n",
       "  var objElement = element.parentElement;\n",
       "  if (objElement.classList.contains('collapsed')) {\n",
       "    objElement.classList.remove('collapsed');\n",
       "    objElement.classList.add('expanded');\n",
       "  } else {\n",
       "    objElement.classList.add('collapsed');\n",
       "    objElement.classList.remove('expanded');\n",
       "  }\n",
       "}\n",
       "</script>\n",
       "<div class=\"tfx-object collapsed\"><div class = \"title\" onclick=\"toggleTfxObject(this)\"><span class=\"expansion-marker\"></span><span class=\"class-name\">Channel</span> of type <span class=\"class-name\">'ExamplesPath'</span> (2 artifacts)<span class=\"deemphasize\"> at 0x7f57d69b2278</span></div><table class=\"attr-table\"><tr><td class=\"attr-name\">.type_name</td><td class = \"attrvalue\">ExamplesPath</td></tr><tr><td class=\"attr-name\">._artifacts</td><td class = \"attrvalue\"><table class=\"attr-table\"><tr><td class=\"attr-name\">[0]</td><td class = \"attrvalue\"><style>\n",
       ".tfx-object.expanded {\n",
       "  padding: 4px 8px 4px 8px;\n",
       "  background: white;\n",
       "  border: 1px solid #bbbbbb;\n",
       "  box-shadow: 4px 4px 2px rgba(0,0,0,0.05);\n",
       "}\n",
       ".tfx-object, .tfx-object * {\n",
       "  font-size: 11pt;\n",
       "}\n",
       ".tfx-object > .title {\n",
       "  cursor: pointer;\n",
       "}\n",
       ".tfx-object .expansion-marker {\n",
       "  color: #999999;\n",
       "}\n",
       ".tfx-object.expanded > .title > .expansion-marker:before {\n",
       "  content: '▼';\n",
       "}\n",
       ".tfx-object.collapsed > .title > .expansion-marker:before {\n",
       "  content: '▶';\n",
       "}\n",
       ".tfx-object .class-name {\n",
       "  font-weight: bold;\n",
       "}\n",
       ".tfx-object .deemphasize {\n",
       "  opacity: 0.5;\n",
       "}\n",
       ".tfx-object.collapsed > table.attr-table {\n",
       "  display: none;\n",
       "}\n",
       ".tfx-object.expanded > table.attr-table {\n",
       "  display: block;\n",
       "}\n",
       ".tfx-object table.attr-table {\n",
       "  border: 2px solid white;\n",
       "  margin-top: 5px;\n",
       "}\n",
       ".tfx-object table.attr-table td.attr-name {\n",
       "  vertical-align: top;\n",
       "  font-weight: bold;\n",
       "}\n",
       ".tfx-object table.attr-table td.attrvalue {\n",
       "  text-align: left;\n",
       "}\n",
       "</style>\n",
       "<script>\n",
       "function toggleTfxObject(element) {\n",
       "  var objElement = element.parentElement;\n",
       "  if (objElement.classList.contains('collapsed')) {\n",
       "    objElement.classList.remove('collapsed');\n",
       "    objElement.classList.add('expanded');\n",
       "  } else {\n",
       "    objElement.classList.add('collapsed');\n",
       "    objElement.classList.remove('expanded');\n",
       "  }\n",
       "}\n",
       "</script>\n",
       "<div class=\"tfx-object collapsed\"><div class = \"title\" onclick=\"toggleTfxObject(this)\"><span class=\"expansion-marker\"></span><span class=\"class-name\">Artifact</span> of type <span class=\"class-name\">'ExamplesPath'</span> (uri: /tmp/tfx-interactive-2019-08-31T21_40_43.017915-r5zd0p45/CsvExampleGen/examples/1/train/)<span class=\"deemphasize\"> at 0x7f57d69b2ba8</span></div><table class=\"attr-table\"><tr><td class=\"attr-name\">.type_name</td><td class = \"attrvalue\">ExamplesPath</td></tr><tr><td class=\"attr-name\">.uri</td><td class = \"attrvalue\">/tmp/tfx-interactive-2019-08-31T21_40_43.017915-r5zd0p45/CsvExampleGen/examples/1/train/</td></tr><tr><td class=\"attr-name\">.span</td><td class = \"attrvalue\">0</td></tr><tr><td class=\"attr-name\">.split</td><td class = \"attrvalue\">train</td></tr></table></div></td></tr><tr><td class=\"attr-name\">[1]</td><td class = \"attrvalue\"><style>\n",
       ".tfx-object.expanded {\n",
       "  padding: 4px 8px 4px 8px;\n",
       "  background: white;\n",
       "  border: 1px solid #bbbbbb;\n",
       "  box-shadow: 4px 4px 2px rgba(0,0,0,0.05);\n",
       "}\n",
       ".tfx-object, .tfx-object * {\n",
       "  font-size: 11pt;\n",
       "}\n",
       ".tfx-object > .title {\n",
       "  cursor: pointer;\n",
       "}\n",
       ".tfx-object .expansion-marker {\n",
       "  color: #999999;\n",
       "}\n",
       ".tfx-object.expanded > .title > .expansion-marker:before {\n",
       "  content: '▼';\n",
       "}\n",
       ".tfx-object.collapsed > .title > .expansion-marker:before {\n",
       "  content: '▶';\n",
       "}\n",
       ".tfx-object .class-name {\n",
       "  font-weight: bold;\n",
       "}\n",
       ".tfx-object .deemphasize {\n",
       "  opacity: 0.5;\n",
       "}\n",
       ".tfx-object.collapsed > table.attr-table {\n",
       "  display: none;\n",
       "}\n",
       ".tfx-object.expanded > table.attr-table {\n",
       "  display: block;\n",
       "}\n",
       ".tfx-object table.attr-table {\n",
       "  border: 2px solid white;\n",
       "  margin-top: 5px;\n",
       "}\n",
       ".tfx-object table.attr-table td.attr-name {\n",
       "  vertical-align: top;\n",
       "  font-weight: bold;\n",
       "}\n",
       ".tfx-object table.attr-table td.attrvalue {\n",
       "  text-align: left;\n",
       "}\n",
       "</style>\n",
       "<script>\n",
       "function toggleTfxObject(element) {\n",
       "  var objElement = element.parentElement;\n",
       "  if (objElement.classList.contains('collapsed')) {\n",
       "    objElement.classList.remove('collapsed');\n",
       "    objElement.classList.add('expanded');\n",
       "  } else {\n",
       "    objElement.classList.add('collapsed');\n",
       "    objElement.classList.remove('expanded');\n",
       "  }\n",
       "}\n",
       "</script>\n",
       "<div class=\"tfx-object collapsed\"><div class = \"title\" onclick=\"toggleTfxObject(this)\"><span class=\"expansion-marker\"></span><span class=\"class-name\">Artifact</span> of type <span class=\"class-name\">'ExamplesPath'</span> (uri: /tmp/tfx-interactive-2019-08-31T21_40_43.017915-r5zd0p45/CsvExampleGen/examples/1/eval/)<span class=\"deemphasize\"> at 0x7f57d6a0dac8</span></div><table class=\"attr-table\"><tr><td class=\"attr-name\">.type_name</td><td class = \"attrvalue\">ExamplesPath</td></tr><tr><td class=\"attr-name\">.uri</td><td class = \"attrvalue\">/tmp/tfx-interactive-2019-08-31T21_40_43.017915-r5zd0p45/CsvExampleGen/examples/1/eval/</td></tr><tr><td class=\"attr-name\">.span</td><td class = \"attrvalue\">0</td></tr><tr><td class=\"attr-name\">.split</td><td class = \"attrvalue\">eval</td></tr></table></div></td></tr></table></td></tr></table></div></td></tr><tr><td class=\"attr-name\">['schema']</td><td class = \"attrvalue\"><style>\n",
       ".tfx-object.expanded {\n",
       "  padding: 4px 8px 4px 8px;\n",
       "  background: white;\n",
       "  border: 1px solid #bbbbbb;\n",
       "  box-shadow: 4px 4px 2px rgba(0,0,0,0.05);\n",
       "}\n",
       ".tfx-object, .tfx-object * {\n",
       "  font-size: 11pt;\n",
       "}\n",
       ".tfx-object > .title {\n",
       "  cursor: pointer;\n",
       "}\n",
       ".tfx-object .expansion-marker {\n",
       "  color: #999999;\n",
       "}\n",
       ".tfx-object.expanded > .title > .expansion-marker:before {\n",
       "  content: '▼';\n",
       "}\n",
       ".tfx-object.collapsed > .title > .expansion-marker:before {\n",
       "  content: '▶';\n",
       "}\n",
       ".tfx-object .class-name {\n",
       "  font-weight: bold;\n",
       "}\n",
       ".tfx-object .deemphasize {\n",
       "  opacity: 0.5;\n",
       "}\n",
       ".tfx-object.collapsed > table.attr-table {\n",
       "  display: none;\n",
       "}\n",
       ".tfx-object.expanded > table.attr-table {\n",
       "  display: block;\n",
       "}\n",
       ".tfx-object table.attr-table {\n",
       "  border: 2px solid white;\n",
       "  margin-top: 5px;\n",
       "}\n",
       ".tfx-object table.attr-table td.attr-name {\n",
       "  vertical-align: top;\n",
       "  font-weight: bold;\n",
       "}\n",
       ".tfx-object table.attr-table td.attrvalue {\n",
       "  text-align: left;\n",
       "}\n",
       "</style>\n",
       "<script>\n",
       "function toggleTfxObject(element) {\n",
       "  var objElement = element.parentElement;\n",
       "  if (objElement.classList.contains('collapsed')) {\n",
       "    objElement.classList.remove('collapsed');\n",
       "    objElement.classList.add('expanded');\n",
       "  } else {\n",
       "    objElement.classList.add('collapsed');\n",
       "    objElement.classList.remove('expanded');\n",
       "  }\n",
       "}\n",
       "</script>\n",
       "<div class=\"tfx-object collapsed\"><div class = \"title\" onclick=\"toggleTfxObject(this)\"><span class=\"expansion-marker\"></span><span class=\"class-name\">Channel</span> of type <span class=\"class-name\">'SchemaPath'</span> (1 artifact)<span class=\"deemphasize\"> at 0x7f57c4215668</span></div><table class=\"attr-table\"><tr><td class=\"attr-name\">.type_name</td><td class = \"attrvalue\">SchemaPath</td></tr><tr><td class=\"attr-name\">._artifacts</td><td class = \"attrvalue\"><table class=\"attr-table\"><tr><td class=\"attr-name\">[0]</td><td class = \"attrvalue\"><style>\n",
       ".tfx-object.expanded {\n",
       "  padding: 4px 8px 4px 8px;\n",
       "  background: white;\n",
       "  border: 1px solid #bbbbbb;\n",
       "  box-shadow: 4px 4px 2px rgba(0,0,0,0.05);\n",
       "}\n",
       ".tfx-object, .tfx-object * {\n",
       "  font-size: 11pt;\n",
       "}\n",
       ".tfx-object > .title {\n",
       "  cursor: pointer;\n",
       "}\n",
       ".tfx-object .expansion-marker {\n",
       "  color: #999999;\n",
       "}\n",
       ".tfx-object.expanded > .title > .expansion-marker:before {\n",
       "  content: '▼';\n",
       "}\n",
       ".tfx-object.collapsed > .title > .expansion-marker:before {\n",
       "  content: '▶';\n",
       "}\n",
       ".tfx-object .class-name {\n",
       "  font-weight: bold;\n",
       "}\n",
       ".tfx-object .deemphasize {\n",
       "  opacity: 0.5;\n",
       "}\n",
       ".tfx-object.collapsed > table.attr-table {\n",
       "  display: none;\n",
       "}\n",
       ".tfx-object.expanded > table.attr-table {\n",
       "  display: block;\n",
       "}\n",
       ".tfx-object table.attr-table {\n",
       "  border: 2px solid white;\n",
       "  margin-top: 5px;\n",
       "}\n",
       ".tfx-object table.attr-table td.attr-name {\n",
       "  vertical-align: top;\n",
       "  font-weight: bold;\n",
       "}\n",
       ".tfx-object table.attr-table td.attrvalue {\n",
       "  text-align: left;\n",
       "}\n",
       "</style>\n",
       "<script>\n",
       "function toggleTfxObject(element) {\n",
       "  var objElement = element.parentElement;\n",
       "  if (objElement.classList.contains('collapsed')) {\n",
       "    objElement.classList.remove('collapsed');\n",
       "    objElement.classList.add('expanded');\n",
       "  } else {\n",
       "    objElement.classList.add('collapsed');\n",
       "    objElement.classList.remove('expanded');\n",
       "  }\n",
       "}\n",
       "</script>\n",
       "<div class=\"tfx-object collapsed\"><div class = \"title\" onclick=\"toggleTfxObject(this)\"><span class=\"expansion-marker\"></span><span class=\"class-name\">Artifact</span> of type <span class=\"class-name\">'SchemaPath'</span> (uri: /tmp/tfx-interactive-2019-08-31T21_40_43.017915-r5zd0p45/SchemaGen/output/4/)<span class=\"deemphasize\"> at 0x7f57c4215828</span></div><table class=\"attr-table\"><tr><td class=\"attr-name\">.type_name</td><td class = \"attrvalue\">SchemaPath</td></tr><tr><td class=\"attr-name\">.uri</td><td class = \"attrvalue\">/tmp/tfx-interactive-2019-08-31T21_40_43.017915-r5zd0p45/SchemaGen/output/4/</td></tr><tr><td class=\"attr-name\">.span</td><td class = \"attrvalue\">0</td></tr><tr><td class=\"attr-name\">.split</td><td class = \"attrvalue\"></td></tr></table></div></td></tr></table></td></tr></table></div></td></tr></table></td></tr><tr><td class=\"attr-name\">.component.outputs</td><td class = \"attrvalue\"><table class=\"attr-table\"><tr><td class=\"attr-name\">['transform_output']</td><td class = \"attrvalue\"><style>\n",
       ".tfx-object.expanded {\n",
       "  padding: 4px 8px 4px 8px;\n",
       "  background: white;\n",
       "  border: 1px solid #bbbbbb;\n",
       "  box-shadow: 4px 4px 2px rgba(0,0,0,0.05);\n",
       "}\n",
       ".tfx-object, .tfx-object * {\n",
       "  font-size: 11pt;\n",
       "}\n",
       ".tfx-object > .title {\n",
       "  cursor: pointer;\n",
       "}\n",
       ".tfx-object .expansion-marker {\n",
       "  color: #999999;\n",
       "}\n",
       ".tfx-object.expanded > .title > .expansion-marker:before {\n",
       "  content: '▼';\n",
       "}\n",
       ".tfx-object.collapsed > .title > .expansion-marker:before {\n",
       "  content: '▶';\n",
       "}\n",
       ".tfx-object .class-name {\n",
       "  font-weight: bold;\n",
       "}\n",
       ".tfx-object .deemphasize {\n",
       "  opacity: 0.5;\n",
       "}\n",
       ".tfx-object.collapsed > table.attr-table {\n",
       "  display: none;\n",
       "}\n",
       ".tfx-object.expanded > table.attr-table {\n",
       "  display: block;\n",
       "}\n",
       ".tfx-object table.attr-table {\n",
       "  border: 2px solid white;\n",
       "  margin-top: 5px;\n",
       "}\n",
       ".tfx-object table.attr-table td.attr-name {\n",
       "  vertical-align: top;\n",
       "  font-weight: bold;\n",
       "}\n",
       ".tfx-object table.attr-table td.attrvalue {\n",
       "  text-align: left;\n",
       "}\n",
       "</style>\n",
       "<script>\n",
       "function toggleTfxObject(element) {\n",
       "  var objElement = element.parentElement;\n",
       "  if (objElement.classList.contains('collapsed')) {\n",
       "    objElement.classList.remove('collapsed');\n",
       "    objElement.classList.add('expanded');\n",
       "  } else {\n",
       "    objElement.classList.add('collapsed');\n",
       "    objElement.classList.remove('expanded');\n",
       "  }\n",
       "}\n",
       "</script>\n",
       "<div class=\"tfx-object collapsed\"><div class = \"title\" onclick=\"toggleTfxObject(this)\"><span class=\"expansion-marker\"></span><span class=\"class-name\">Channel</span> of type <span class=\"class-name\">'TransformPath'</span> (1 artifact)<span class=\"deemphasize\"> at 0x7f57781b8550</span></div><table class=\"attr-table\"><tr><td class=\"attr-name\">.type_name</td><td class = \"attrvalue\">TransformPath</td></tr><tr><td class=\"attr-name\">._artifacts</td><td class = \"attrvalue\"><table class=\"attr-table\"><tr><td class=\"attr-name\">[0]</td><td class = \"attrvalue\"><style>\n",
       ".tfx-object.expanded {\n",
       "  padding: 4px 8px 4px 8px;\n",
       "  background: white;\n",
       "  border: 1px solid #bbbbbb;\n",
       "  box-shadow: 4px 4px 2px rgba(0,0,0,0.05);\n",
       "}\n",
       ".tfx-object, .tfx-object * {\n",
       "  font-size: 11pt;\n",
       "}\n",
       ".tfx-object > .title {\n",
       "  cursor: pointer;\n",
       "}\n",
       ".tfx-object .expansion-marker {\n",
       "  color: #999999;\n",
       "}\n",
       ".tfx-object.expanded > .title > .expansion-marker:before {\n",
       "  content: '▼';\n",
       "}\n",
       ".tfx-object.collapsed > .title > .expansion-marker:before {\n",
       "  content: '▶';\n",
       "}\n",
       ".tfx-object .class-name {\n",
       "  font-weight: bold;\n",
       "}\n",
       ".tfx-object .deemphasize {\n",
       "  opacity: 0.5;\n",
       "}\n",
       ".tfx-object.collapsed > table.attr-table {\n",
       "  display: none;\n",
       "}\n",
       ".tfx-object.expanded > table.attr-table {\n",
       "  display: block;\n",
       "}\n",
       ".tfx-object table.attr-table {\n",
       "  border: 2px solid white;\n",
       "  margin-top: 5px;\n",
       "}\n",
       ".tfx-object table.attr-table td.attr-name {\n",
       "  vertical-align: top;\n",
       "  font-weight: bold;\n",
       "}\n",
       ".tfx-object table.attr-table td.attrvalue {\n",
       "  text-align: left;\n",
       "}\n",
       "</style>\n",
       "<script>\n",
       "function toggleTfxObject(element) {\n",
       "  var objElement = element.parentElement;\n",
       "  if (objElement.classList.contains('collapsed')) {\n",
       "    objElement.classList.remove('collapsed');\n",
       "    objElement.classList.add('expanded');\n",
       "  } else {\n",
       "    objElement.classList.add('collapsed');\n",
       "    objElement.classList.remove('expanded');\n",
       "  }\n",
       "}\n",
       "</script>\n",
       "<div class=\"tfx-object collapsed\"><div class = \"title\" onclick=\"toggleTfxObject(this)\"><span class=\"expansion-marker\"></span><span class=\"class-name\">Artifact</span> of type <span class=\"class-name\">'TransformPath'</span> (uri: /tmp/tfx-interactive-2019-08-31T21_40_43.017915-r5zd0p45/Transform/transform_output/6/)<span class=\"deemphasize\"> at 0x7f57781b80b8</span></div><table class=\"attr-table\"><tr><td class=\"attr-name\">.type_name</td><td class = \"attrvalue\">TransformPath</td></tr><tr><td class=\"attr-name\">.uri</td><td class = \"attrvalue\">/tmp/tfx-interactive-2019-08-31T21_40_43.017915-r5zd0p45/Transform/transform_output/6/</td></tr><tr><td class=\"attr-name\">.span</td><td class = \"attrvalue\">0</td></tr><tr><td class=\"attr-name\">.split</td><td class = \"attrvalue\"></td></tr></table></div></td></tr></table></td></tr></table></div></td></tr><tr><td class=\"attr-name\">['transformed_examples']</td><td class = \"attrvalue\"><style>\n",
       ".tfx-object.expanded {\n",
       "  padding: 4px 8px 4px 8px;\n",
       "  background: white;\n",
       "  border: 1px solid #bbbbbb;\n",
       "  box-shadow: 4px 4px 2px rgba(0,0,0,0.05);\n",
       "}\n",
       ".tfx-object, .tfx-object * {\n",
       "  font-size: 11pt;\n",
       "}\n",
       ".tfx-object > .title {\n",
       "  cursor: pointer;\n",
       "}\n",
       ".tfx-object .expansion-marker {\n",
       "  color: #999999;\n",
       "}\n",
       ".tfx-object.expanded > .title > .expansion-marker:before {\n",
       "  content: '▼';\n",
       "}\n",
       ".tfx-object.collapsed > .title > .expansion-marker:before {\n",
       "  content: '▶';\n",
       "}\n",
       ".tfx-object .class-name {\n",
       "  font-weight: bold;\n",
       "}\n",
       ".tfx-object .deemphasize {\n",
       "  opacity: 0.5;\n",
       "}\n",
       ".tfx-object.collapsed > table.attr-table {\n",
       "  display: none;\n",
       "}\n",
       ".tfx-object.expanded > table.attr-table {\n",
       "  display: block;\n",
       "}\n",
       ".tfx-object table.attr-table {\n",
       "  border: 2px solid white;\n",
       "  margin-top: 5px;\n",
       "}\n",
       ".tfx-object table.attr-table td.attr-name {\n",
       "  vertical-align: top;\n",
       "  font-weight: bold;\n",
       "}\n",
       ".tfx-object table.attr-table td.attrvalue {\n",
       "  text-align: left;\n",
       "}\n",
       "</style>\n",
       "<script>\n",
       "function toggleTfxObject(element) {\n",
       "  var objElement = element.parentElement;\n",
       "  if (objElement.classList.contains('collapsed')) {\n",
       "    objElement.classList.remove('collapsed');\n",
       "    objElement.classList.add('expanded');\n",
       "  } else {\n",
       "    objElement.classList.add('collapsed');\n",
       "    objElement.classList.remove('expanded');\n",
       "  }\n",
       "}\n",
       "</script>\n",
       "<div class=\"tfx-object collapsed\"><div class = \"title\" onclick=\"toggleTfxObject(this)\"><span class=\"expansion-marker\"></span><span class=\"class-name\">Channel</span> of type <span class=\"class-name\">'ExamplesPath'</span> (2 artifacts)<span class=\"deemphasize\"> at 0x7f57781b8358</span></div><table class=\"attr-table\"><tr><td class=\"attr-name\">.type_name</td><td class = \"attrvalue\">ExamplesPath</td></tr><tr><td class=\"attr-name\">._artifacts</td><td class = \"attrvalue\"><table class=\"attr-table\"><tr><td class=\"attr-name\">[0]</td><td class = \"attrvalue\"><style>\n",
       ".tfx-object.expanded {\n",
       "  padding: 4px 8px 4px 8px;\n",
       "  background: white;\n",
       "  border: 1px solid #bbbbbb;\n",
       "  box-shadow: 4px 4px 2px rgba(0,0,0,0.05);\n",
       "}\n",
       ".tfx-object, .tfx-object * {\n",
       "  font-size: 11pt;\n",
       "}\n",
       ".tfx-object > .title {\n",
       "  cursor: pointer;\n",
       "}\n",
       ".tfx-object .expansion-marker {\n",
       "  color: #999999;\n",
       "}\n",
       ".tfx-object.expanded > .title > .expansion-marker:before {\n",
       "  content: '▼';\n",
       "}\n",
       ".tfx-object.collapsed > .title > .expansion-marker:before {\n",
       "  content: '▶';\n",
       "}\n",
       ".tfx-object .class-name {\n",
       "  font-weight: bold;\n",
       "}\n",
       ".tfx-object .deemphasize {\n",
       "  opacity: 0.5;\n",
       "}\n",
       ".tfx-object.collapsed > table.attr-table {\n",
       "  display: none;\n",
       "}\n",
       ".tfx-object.expanded > table.attr-table {\n",
       "  display: block;\n",
       "}\n",
       ".tfx-object table.attr-table {\n",
       "  border: 2px solid white;\n",
       "  margin-top: 5px;\n",
       "}\n",
       ".tfx-object table.attr-table td.attr-name {\n",
       "  vertical-align: top;\n",
       "  font-weight: bold;\n",
       "}\n",
       ".tfx-object table.attr-table td.attrvalue {\n",
       "  text-align: left;\n",
       "}\n",
       "</style>\n",
       "<script>\n",
       "function toggleTfxObject(element) {\n",
       "  var objElement = element.parentElement;\n",
       "  if (objElement.classList.contains('collapsed')) {\n",
       "    objElement.classList.remove('collapsed');\n",
       "    objElement.classList.add('expanded');\n",
       "  } else {\n",
       "    objElement.classList.add('collapsed');\n",
       "    objElement.classList.remove('expanded');\n",
       "  }\n",
       "}\n",
       "</script>\n",
       "<div class=\"tfx-object collapsed\"><div class = \"title\" onclick=\"toggleTfxObject(this)\"><span class=\"expansion-marker\"></span><span class=\"class-name\">Artifact</span> of type <span class=\"class-name\">'ExamplesPath'</span> (uri: /tmp/tfx-interactive-2019-08-31T21_40_43.017915-r5zd0p45/Transform/transformed_examples/6/train/)<span class=\"deemphasize\"> at 0x7f57781b8dd8</span></div><table class=\"attr-table\"><tr><td class=\"attr-name\">.type_name</td><td class = \"attrvalue\">ExamplesPath</td></tr><tr><td class=\"attr-name\">.uri</td><td class = \"attrvalue\">/tmp/tfx-interactive-2019-08-31T21_40_43.017915-r5zd0p45/Transform/transformed_examples/6/train/</td></tr><tr><td class=\"attr-name\">.span</td><td class = \"attrvalue\">0</td></tr><tr><td class=\"attr-name\">.split</td><td class = \"attrvalue\">train</td></tr></table></div></td></tr><tr><td class=\"attr-name\">[1]</td><td class = \"attrvalue\"><style>\n",
       ".tfx-object.expanded {\n",
       "  padding: 4px 8px 4px 8px;\n",
       "  background: white;\n",
       "  border: 1px solid #bbbbbb;\n",
       "  box-shadow: 4px 4px 2px rgba(0,0,0,0.05);\n",
       "}\n",
       ".tfx-object, .tfx-object * {\n",
       "  font-size: 11pt;\n",
       "}\n",
       ".tfx-object > .title {\n",
       "  cursor: pointer;\n",
       "}\n",
       ".tfx-object .expansion-marker {\n",
       "  color: #999999;\n",
       "}\n",
       ".tfx-object.expanded > .title > .expansion-marker:before {\n",
       "  content: '▼';\n",
       "}\n",
       ".tfx-object.collapsed > .title > .expansion-marker:before {\n",
       "  content: '▶';\n",
       "}\n",
       ".tfx-object .class-name {\n",
       "  font-weight: bold;\n",
       "}\n",
       ".tfx-object .deemphasize {\n",
       "  opacity: 0.5;\n",
       "}\n",
       ".tfx-object.collapsed > table.attr-table {\n",
       "  display: none;\n",
       "}\n",
       ".tfx-object.expanded > table.attr-table {\n",
       "  display: block;\n",
       "}\n",
       ".tfx-object table.attr-table {\n",
       "  border: 2px solid white;\n",
       "  margin-top: 5px;\n",
       "}\n",
       ".tfx-object table.attr-table td.attr-name {\n",
       "  vertical-align: top;\n",
       "  font-weight: bold;\n",
       "}\n",
       ".tfx-object table.attr-table td.attrvalue {\n",
       "  text-align: left;\n",
       "}\n",
       "</style>\n",
       "<script>\n",
       "function toggleTfxObject(element) {\n",
       "  var objElement = element.parentElement;\n",
       "  if (objElement.classList.contains('collapsed')) {\n",
       "    objElement.classList.remove('collapsed');\n",
       "    objElement.classList.add('expanded');\n",
       "  } else {\n",
       "    objElement.classList.add('collapsed');\n",
       "    objElement.classList.remove('expanded');\n",
       "  }\n",
       "}\n",
       "</script>\n",
       "<div class=\"tfx-object collapsed\"><div class = \"title\" onclick=\"toggleTfxObject(this)\"><span class=\"expansion-marker\"></span><span class=\"class-name\">Artifact</span> of type <span class=\"class-name\">'ExamplesPath'</span> (uri: /tmp/tfx-interactive-2019-08-31T21_40_43.017915-r5zd0p45/Transform/transformed_examples/6/eval/)<span class=\"deemphasize\"> at 0x7f57781b8c88</span></div><table class=\"attr-table\"><tr><td class=\"attr-name\">.type_name</td><td class = \"attrvalue\">ExamplesPath</td></tr><tr><td class=\"attr-name\">.uri</td><td class = \"attrvalue\">/tmp/tfx-interactive-2019-08-31T21_40_43.017915-r5zd0p45/Transform/transformed_examples/6/eval/</td></tr><tr><td class=\"attr-name\">.span</td><td class = \"attrvalue\">0</td></tr><tr><td class=\"attr-name\">.split</td><td class = \"attrvalue\">eval</td></tr></table></div></td></tr></table></td></tr></table></div></td></tr></table></td></tr></table></div>"
      ],
      "text/plain": [
       "ExecutionResult(\n",
       "    component_id: Transform\n",
       "    execution_id: 6\n",
       "    outputs:\n",
       "        transform_output: Channel(\n",
       "            type_name: TransformPath\n",
       "            artifacts: [Artifact(type_name: TransformPath, uri: /tmp/tfx-interactive-2019-08-31T21_40_43.017915-r5zd0p45/Transform/transform_output/6/, split: , id: 8)]\n",
       "        )\n",
       "        transformed_examples: Channel(\n",
       "            type_name: ExamplesPath\n",
       "            artifacts: [Artifact(type_name: ExamplesPath, uri: /tmp/tfx-interactive-2019-08-31T21_40_43.017915-r5zd0p45/Transform/transformed_examples/6/train/, split: train, id: 9)\n",
       "            Artifact(type_name: ExamplesPath, uri: /tmp/tfx-interactive-2019-08-31T21_40_43.017915-r5zd0p45/Transform/transformed_examples/6/eval/, split: eval, id: 10)]\n",
       "        ))"
      ]
     },
     "execution_count": 16,
     "metadata": {},
     "output_type": "execute_result"
    }
   ],
   "source": [
    "# Performs transformations and feature engineering in training and serving.\n",
    "transform = Transform(\n",
    "    input_data=example_gen.outputs['examples'],\n",
    "    schema=infer_schema.outputs['output'],\n",
    "    module_file=_taxi_module_file)\n",
    "context.run(transform)"
   ]
  },
  {
   "cell_type": "markdown",
   "metadata": {
    "colab_type": "text",
    "id": "OBJFtnl6lCg9"
   },
   "source": [
    "### Trainer\n",
    "`Trainer` trains your custom model using TF-Learn."
   ]
  },
  {
   "cell_type": "code",
   "execution_count": 17,
   "metadata": {
    "colab": {},
    "colab_type": "code",
    "id": "429-vvCWibO0"
   },
   "outputs": [
    {
     "name": "stdout",
     "output_type": "stream",
     "text": [
      "INFO:tensorflow:Run driver for Trainer\n"
     ]
    },
    {
     "name": "stderr",
     "output_type": "stream",
     "text": [
      "INFO:tensorflow:Run driver for Trainer\n"
     ]
    },
    {
     "name": "stdout",
     "output_type": "stream",
     "text": [
      "INFO:tensorflow:Created run context interactive-2019-08-31T21_40_43.017915.2019-08-31T21:44:25.860898.\n"
     ]
    },
    {
     "name": "stderr",
     "output_type": "stream",
     "text": [
      "INFO:tensorflow:Created run context interactive-2019-08-31T21_40_43.017915.2019-08-31T21:44:25.860898.\n"
     ]
    },
    {
     "name": "stdout",
     "output_type": "stream",
     "text": [
      "INFO:tensorflow:ID of run context interactive-2019-08-31T21_40_43.017915.2019-08-31T21:44:25.860898 is 7.\n"
     ]
    },
    {
     "name": "stderr",
     "output_type": "stream",
     "text": [
      "INFO:tensorflow:ID of run context interactive-2019-08-31T21_40_43.017915.2019-08-31T21:44:25.860898 is 7.\n"
     ]
    },
    {
     "name": "stdout",
     "output_type": "stream",
     "text": [
      "INFO:tensorflow:Resolved input artifacts are: {'examples': [Artifact(type_name: ExamplesPath, uri: /tmp/tfx-interactive-2019-08-31T21_40_43.017915-r5zd0p45/Transform/transformed_examples/6/train/, split: train, id: 9), Artifact(type_name: ExamplesPath, uri: /tmp/tfx-interactive-2019-08-31T21_40_43.017915-r5zd0p45/Transform/transformed_examples/6/eval/, split: eval, id: 10)], 'transform_output': [Artifact(type_name: TransformPath, uri: /tmp/tfx-interactive-2019-08-31T21_40_43.017915-r5zd0p45/Transform/transform_output/6/, split: , id: 8)], 'schema': [Artifact(type_name: SchemaPath, uri: /tmp/tfx-interactive-2019-08-31T21_40_43.017915-r5zd0p45/SchemaGen/output/4/, split: , id: 6)]}\n"
     ]
    },
    {
     "name": "stderr",
     "output_type": "stream",
     "text": [
      "INFO:tensorflow:Resolved input artifacts are: {'examples': [Artifact(type_name: ExamplesPath, uri: /tmp/tfx-interactive-2019-08-31T21_40_43.017915-r5zd0p45/Transform/transformed_examples/6/train/, split: train, id: 9), Artifact(type_name: ExamplesPath, uri: /tmp/tfx-interactive-2019-08-31T21_40_43.017915-r5zd0p45/Transform/transformed_examples/6/eval/, split: eval, id: 10)], 'transform_output': [Artifact(type_name: TransformPath, uri: /tmp/tfx-interactive-2019-08-31T21_40_43.017915-r5zd0p45/Transform/transform_output/6/, split: , id: 8)], 'schema': [Artifact(type_name: SchemaPath, uri: /tmp/tfx-interactive-2019-08-31T21_40_43.017915-r5zd0p45/SchemaGen/output/4/, split: , id: 6)]}\n"
     ]
    },
    {
     "name": "stdout",
     "output_type": "stream",
     "text": [
      "INFO:tensorflow:Prepared EXECUTION:\n",
      " type_id: 13\n",
      "properties {\n",
      "  key: \"checksum_md5\"\n",
      "  value {\n",
      "    string_value: \"4e52cfff5d4b939df7b60870c459c181\"\n",
      "  }\n",
      "}\n",
      "properties {\n",
      "  key: \"component_id\"\n",
      "  value {\n",
      "    string_value: \"Trainer\"\n",
      "  }\n",
      "}\n",
      "properties {\n",
      "  key: \"custom_config\"\n",
      "  value {\n",
      "    string_value: \"None\"\n",
      "  }\n",
      "}\n",
      "properties {\n",
      "  key: \"eval_args\"\n",
      "  value {\n",
      "    string_value: \"{\\n  \\\"numSteps\\\": 5000\\n}\"\n",
      "  }\n",
      "}\n",
      "properties {\n",
      "  key: \"module_file\"\n",
      "  value {\n",
      "    string_value: \"/root/miniconda3/envs/tfx/lib/python3.7/site-packages/tfx/examples/chicago_taxi_pipeline/taxi_utils.py\"\n",
      "  }\n",
      "}\n",
      "properties {\n",
      "  key: \"pipeline_name\"\n",
      "  value {\n",
      "    string_value: \"interactive-2019-08-31T21_40_43.017915\"\n",
      "  }\n",
      "}\n",
      "properties {\n",
      "  key: \"pipeline_root\"\n",
      "  value {\n",
      "    string_value: \"/tmp/tfx-interactive-2019-08-31T21_40_43.017915-r5zd0p45\"\n",
      "  }\n",
      "}\n",
      "properties {\n",
      "  key: \"run_id\"\n",
      "  value {\n",
      "    string_value: \"2019-08-31T21:44:25.860898\"\n",
      "  }\n",
      "}\n",
      "properties {\n",
      "  key: \"state\"\n",
      "  value {\n",
      "    string_value: \"new\"\n",
      "  }\n",
      "}\n",
      "properties {\n",
      "  key: \"train_args\"\n",
      "  value {\n",
      "    string_value: \"{\\n  \\\"numSteps\\\": 10000\\n}\"\n",
      "  }\n",
      "}\n",
      "properties {\n",
      "  key: \"trainer_fn\"\n",
      "  value {\n",
      "    string_value: \"None\"\n",
      "  }\n",
      "}\n",
      "\n"
     ]
    },
    {
     "name": "stderr",
     "output_type": "stream",
     "text": [
      "INFO:tensorflow:Prepared EXECUTION:\n",
      " type_id: 13\n",
      "properties {\n",
      "  key: \"checksum_md5\"\n",
      "  value {\n",
      "    string_value: \"4e52cfff5d4b939df7b60870c459c181\"\n",
      "  }\n",
      "}\n",
      "properties {\n",
      "  key: \"component_id\"\n",
      "  value {\n",
      "    string_value: \"Trainer\"\n",
      "  }\n",
      "}\n",
      "properties {\n",
      "  key: \"custom_config\"\n",
      "  value {\n",
      "    string_value: \"None\"\n",
      "  }\n",
      "}\n",
      "properties {\n",
      "  key: \"eval_args\"\n",
      "  value {\n",
      "    string_value: \"{\\n  \\\"numSteps\\\": 5000\\n}\"\n",
      "  }\n",
      "}\n",
      "properties {\n",
      "  key: \"module_file\"\n",
      "  value {\n",
      "    string_value: \"/root/miniconda3/envs/tfx/lib/python3.7/site-packages/tfx/examples/chicago_taxi_pipeline/taxi_utils.py\"\n",
      "  }\n",
      "}\n",
      "properties {\n",
      "  key: \"pipeline_name\"\n",
      "  value {\n",
      "    string_value: \"interactive-2019-08-31T21_40_43.017915\"\n",
      "  }\n",
      "}\n",
      "properties {\n",
      "  key: \"pipeline_root\"\n",
      "  value {\n",
      "    string_value: \"/tmp/tfx-interactive-2019-08-31T21_40_43.017915-r5zd0p45\"\n",
      "  }\n",
      "}\n",
      "properties {\n",
      "  key: \"run_id\"\n",
      "  value {\n",
      "    string_value: \"2019-08-31T21:44:25.860898\"\n",
      "  }\n",
      "}\n",
      "properties {\n",
      "  key: \"state\"\n",
      "  value {\n",
      "    string_value: \"new\"\n",
      "  }\n",
      "}\n",
      "properties {\n",
      "  key: \"train_args\"\n",
      "  value {\n",
      "    string_value: \"{\\n  \\\"numSteps\\\": 10000\\n}\"\n",
      "  }\n",
      "}\n",
      "properties {\n",
      "  key: \"trainer_fn\"\n",
      "  value {\n",
      "    string_value: \"None\"\n",
      "  }\n",
      "}\n",
      "\n"
     ]
    },
    {
     "name": "stdout",
     "output_type": "stream",
     "text": [
      "INFO:tensorflow:Execution id of the upcoming component execution is 7\n"
     ]
    },
    {
     "name": "stderr",
     "output_type": "stream",
     "text": [
      "INFO:tensorflow:Execution id of the upcoming component execution is 7\n"
     ]
    },
    {
     "name": "stdout",
     "output_type": "stream",
     "text": [
      "INFO:tensorflow:Checking previous run for execution_type_name tfx.components.trainer.component.Trainer and input_artifacts {'examples': [Artifact(type_name: ExamplesPath, uri: /tmp/tfx-interactive-2019-08-31T21_40_43.017915-r5zd0p45/Transform/transformed_examples/6/train/, split: train, id: 9), Artifact(type_name: ExamplesPath, uri: /tmp/tfx-interactive-2019-08-31T21_40_43.017915-r5zd0p45/Transform/transformed_examples/6/eval/, split: eval, id: 10)], 'transform_output': [Artifact(type_name: TransformPath, uri: /tmp/tfx-interactive-2019-08-31T21_40_43.017915-r5zd0p45/Transform/transform_output/6/, split: , id: 8)], 'schema': [Artifact(type_name: SchemaPath, uri: /tmp/tfx-interactive-2019-08-31T21_40_43.017915-r5zd0p45/SchemaGen/output/4/, split: , id: 6)]}\n"
     ]
    },
    {
     "name": "stderr",
     "output_type": "stream",
     "text": [
      "INFO:tensorflow:Checking previous run for execution_type_name tfx.components.trainer.component.Trainer and input_artifacts {'examples': [Artifact(type_name: ExamplesPath, uri: /tmp/tfx-interactive-2019-08-31T21_40_43.017915-r5zd0p45/Transform/transformed_examples/6/train/, split: train, id: 9), Artifact(type_name: ExamplesPath, uri: /tmp/tfx-interactive-2019-08-31T21_40_43.017915-r5zd0p45/Transform/transformed_examples/6/eval/, split: eval, id: 10)], 'transform_output': [Artifact(type_name: TransformPath, uri: /tmp/tfx-interactive-2019-08-31T21_40_43.017915-r5zd0p45/Transform/transform_output/6/, split: , id: 8)], 'schema': [Artifact(type_name: SchemaPath, uri: /tmp/tfx-interactive-2019-08-31T21_40_43.017915-r5zd0p45/SchemaGen/output/4/, split: , id: 6)]}\n"
     ]
    },
    {
     "name": "stdout",
     "output_type": "stream",
     "text": [
      "INFO:tensorflow:Prepared EXECUTION:\n",
      " type_id: 13\n",
      "properties {\n",
      "  key: \"checksum_md5\"\n",
      "  value {\n",
      "    string_value: \"4e52cfff5d4b939df7b60870c459c181\"\n",
      "  }\n",
      "}\n",
      "properties {\n",
      "  key: \"component_id\"\n",
      "  value {\n",
      "    string_value: \"Trainer\"\n",
      "  }\n",
      "}\n",
      "properties {\n",
      "  key: \"custom_config\"\n",
      "  value {\n",
      "    string_value: \"None\"\n",
      "  }\n",
      "}\n",
      "properties {\n",
      "  key: \"eval_args\"\n",
      "  value {\n",
      "    string_value: \"{\\n  \\\"numSteps\\\": 5000\\n}\"\n",
      "  }\n",
      "}\n",
      "properties {\n",
      "  key: \"module_file\"\n",
      "  value {\n",
      "    string_value: \"/root/miniconda3/envs/tfx/lib/python3.7/site-packages/tfx/examples/chicago_taxi_pipeline/taxi_utils.py\"\n",
      "  }\n",
      "}\n",
      "properties {\n",
      "  key: \"pipeline_name\"\n",
      "  value {\n",
      "    string_value: \"interactive-2019-08-31T21_40_43.017915\"\n",
      "  }\n",
      "}\n",
      "properties {\n",
      "  key: \"pipeline_root\"\n",
      "  value {\n",
      "    string_value: \"/tmp/tfx-interactive-2019-08-31T21_40_43.017915-r5zd0p45\"\n",
      "  }\n",
      "}\n",
      "properties {\n",
      "  key: \"run_id\"\n",
      "  value {\n",
      "    string_value: \"2019-08-31T21:44:25.860898\"\n",
      "  }\n",
      "}\n",
      "properties {\n",
      "  key: \"state\"\n",
      "  value {\n",
      "    string_value: \"complete\"\n",
      "  }\n",
      "}\n",
      "properties {\n",
      "  key: \"train_args\"\n",
      "  value {\n",
      "    string_value: \"{\\n  \\\"numSteps\\\": 10000\\n}\"\n",
      "  }\n",
      "}\n",
      "properties {\n",
      "  key: \"trainer_fn\"\n",
      "  value {\n",
      "    string_value: \"None\"\n",
      "  }\n",
      "}\n",
      "\n"
     ]
    },
    {
     "name": "stderr",
     "output_type": "stream",
     "text": [
      "INFO:tensorflow:Prepared EXECUTION:\n",
      " type_id: 13\n",
      "properties {\n",
      "  key: \"checksum_md5\"\n",
      "  value {\n",
      "    string_value: \"4e52cfff5d4b939df7b60870c459c181\"\n",
      "  }\n",
      "}\n",
      "properties {\n",
      "  key: \"component_id\"\n",
      "  value {\n",
      "    string_value: \"Trainer\"\n",
      "  }\n",
      "}\n",
      "properties {\n",
      "  key: \"custom_config\"\n",
      "  value {\n",
      "    string_value: \"None\"\n",
      "  }\n",
      "}\n",
      "properties {\n",
      "  key: \"eval_args\"\n",
      "  value {\n",
      "    string_value: \"{\\n  \\\"numSteps\\\": 5000\\n}\"\n",
      "  }\n",
      "}\n",
      "properties {\n",
      "  key: \"module_file\"\n",
      "  value {\n",
      "    string_value: \"/root/miniconda3/envs/tfx/lib/python3.7/site-packages/tfx/examples/chicago_taxi_pipeline/taxi_utils.py\"\n",
      "  }\n",
      "}\n",
      "properties {\n",
      "  key: \"pipeline_name\"\n",
      "  value {\n",
      "    string_value: \"interactive-2019-08-31T21_40_43.017915\"\n",
      "  }\n",
      "}\n",
      "properties {\n",
      "  key: \"pipeline_root\"\n",
      "  value {\n",
      "    string_value: \"/tmp/tfx-interactive-2019-08-31T21_40_43.017915-r5zd0p45\"\n",
      "  }\n",
      "}\n",
      "properties {\n",
      "  key: \"run_id\"\n",
      "  value {\n",
      "    string_value: \"2019-08-31T21:44:25.860898\"\n",
      "  }\n",
      "}\n",
      "properties {\n",
      "  key: \"state\"\n",
      "  value {\n",
      "    string_value: \"complete\"\n",
      "  }\n",
      "}\n",
      "properties {\n",
      "  key: \"train_args\"\n",
      "  value {\n",
      "    string_value: \"{\\n  \\\"numSteps\\\": 10000\\n}\"\n",
      "  }\n",
      "}\n",
      "properties {\n",
      "  key: \"trainer_fn\"\n",
      "  value {\n",
      "    string_value: \"None\"\n",
      "  }\n",
      "}\n",
      "\n"
     ]
    },
    {
     "name": "stdout",
     "output_type": "stream",
     "text": [
      "INFO:tensorflow:No execution matching type id and input artifacts found\n"
     ]
    },
    {
     "name": "stderr",
     "output_type": "stream",
     "text": [
      "INFO:tensorflow:No execution matching type id and input artifacts found\n"
     ]
    },
    {
     "name": "stdout",
     "output_type": "stream",
     "text": [
      "INFO:tensorflow:Cached results not found, move on to new execution\n"
     ]
    },
    {
     "name": "stderr",
     "output_type": "stream",
     "text": [
      "INFO:tensorflow:Cached results not found, move on to new execution\n"
     ]
    },
    {
     "name": "stdout",
     "output_type": "stream",
     "text": [
      "INFO:tensorflow:Creating output artifact uri /tmp/tfx-interactive-2019-08-31T21_40_43.017915-r5zd0p45/Trainer/output/7/ as directory\n"
     ]
    },
    {
     "name": "stderr",
     "output_type": "stream",
     "text": [
      "INFO:tensorflow:Creating output artifact uri /tmp/tfx-interactive-2019-08-31T21_40_43.017915-r5zd0p45/Trainer/output/7/ as directory\n"
     ]
    },
    {
     "name": "stdout",
     "output_type": "stream",
     "text": [
      "INFO:tensorflow:Output artifacts skeleton for the upcoming execution are: {'output': [Artifact(type_name: ModelExportPath, uri: /tmp/tfx-interactive-2019-08-31T21_40_43.017915-r5zd0p45/Trainer/output/7/, split: , id: 0)]}\n"
     ]
    },
    {
     "name": "stderr",
     "output_type": "stream",
     "text": [
      "INFO:tensorflow:Output artifacts skeleton for the upcoming execution are: {'output': [Artifact(type_name: ModelExportPath, uri: /tmp/tfx-interactive-2019-08-31T21_40_43.017915-r5zd0p45/Trainer/output/7/, split: , id: 0)]}\n"
     ]
    },
    {
     "name": "stdout",
     "output_type": "stream",
     "text": [
      "INFO:tensorflow:Execution properties for the upcoming execution are: {'train_args': '{\\n  \"numSteps\": 10000\\n}', 'eval_args': '{\\n  \"numSteps\": 5000\\n}', 'module_file': '/root/miniconda3/envs/tfx/lib/python3.7/site-packages/tfx/examples/chicago_taxi_pipeline/taxi_utils.py', 'trainer_fn': None, 'custom_config': None}\n"
     ]
    },
    {
     "name": "stderr",
     "output_type": "stream",
     "text": [
      "INFO:tensorflow:Execution properties for the upcoming execution are: {'train_args': '{\\n  \"numSteps\": 10000\\n}', 'eval_args': '{\\n  \"numSteps\": 5000\\n}', 'module_file': '/root/miniconda3/envs/tfx/lib/python3.7/site-packages/tfx/examples/chicago_taxi_pipeline/taxi_utils.py', 'trainer_fn': None, 'custom_config': None}\n"
     ]
    },
    {
     "name": "stdout",
     "output_type": "stream",
     "text": [
      "INFO:tensorflow:Run executor for Trainer\n"
     ]
    },
    {
     "name": "stderr",
     "output_type": "stream",
     "text": [
      "INFO:tensorflow:Run executor for Trainer\n"
     ]
    },
    {
     "name": "stdout",
     "output_type": "stream",
     "text": [
      "INFO:tensorflow:Starting Executor execution.\n"
     ]
    },
    {
     "name": "stderr",
     "output_type": "stream",
     "text": [
      "INFO:tensorflow:Starting Executor execution.\n"
     ]
    },
    {
     "name": "stdout",
     "output_type": "stream",
     "text": [
      "INFO:tensorflow:Inputs for Executor is: {\"examples\": [{\"artifact\": {\"id\": \"9\", \"typeId\": \"4\", \"uri\": \"/tmp/tfx-interactive-2019-08-31T21_40_43.017915-r5zd0p45/Transform/transformed_examples/6/train/\", \"properties\": {\"state\": {\"stringValue\": \"published\"}, \"span\": {}, \"pipeline_name\": {\"stringValue\": \"interactive-2019-08-31T21_40_43.017915\"}, \"producer_component\": {\"stringValue\": \"Transform\"}, \"split\": {\"stringValue\": \"train\"}, \"name\": {\"stringValue\": \"transformed_examples\"}, \"type_name\": {\"stringValue\": \"ExamplesPath\"}}}, \"artifact_type\": {\"id\": \"4\", \"name\": \"ExamplesPath\", \"properties\": {\"split\": \"STRING\", \"name\": \"STRING\", \"type_name\": \"STRING\", \"state\": \"STRING\", \"producer_component\": \"STRING\", \"span\": \"INT\", \"pipeline_name\": \"STRING\"}}}, {\"artifact\": {\"id\": \"10\", \"typeId\": \"4\", \"uri\": \"/tmp/tfx-interactive-2019-08-31T21_40_43.017915-r5zd0p45/Transform/transformed_examples/6/eval/\", \"properties\": {\"split\": {\"stringValue\": \"eval\"}, \"name\": {\"stringValue\": \"transformed_examples\"}, \"type_name\": {\"stringValue\": \"ExamplesPath\"}, \"state\": {\"stringValue\": \"published\"}, \"span\": {}, \"pipeline_name\": {\"stringValue\": \"interactive-2019-08-31T21_40_43.017915\"}, \"producer_component\": {\"stringValue\": \"Transform\"}}}, \"artifact_type\": {\"id\": \"4\", \"name\": \"ExamplesPath\", \"properties\": {\"split\": \"STRING\", \"name\": \"STRING\", \"type_name\": \"STRING\", \"state\": \"STRING\", \"producer_component\": \"STRING\", \"span\": \"INT\", \"pipeline_name\": \"STRING\"}}}], \"transform_output\": [{\"artifact\": {\"id\": \"8\", \"typeId\": \"12\", \"uri\": \"/tmp/tfx-interactive-2019-08-31T21_40_43.017915-r5zd0p45/Transform/transform_output/6/\", \"properties\": {\"name\": {\"stringValue\": \"transform_output\"}, \"type_name\": {\"stringValue\": \"TransformPath\"}, \"state\": {\"stringValue\": \"published\"}, \"span\": {}, \"pipeline_name\": {\"stringValue\": \"interactive-2019-08-31T21_40_43.017915\"}, \"producer_component\": {\"stringValue\": \"Transform\"}, \"split\": {\"stringValue\": \"\"}}}, \"artifact_type\": {\"id\": \"12\", \"name\": \"TransformPath\", \"properties\": {\"state\": \"STRING\", \"producer_component\": \"STRING\", \"span\": \"INT\", \"pipeline_name\": \"STRING\", \"split\": \"STRING\", \"name\": \"STRING\", \"type_name\": \"STRING\"}}}], \"schema\": [{\"artifact\": {\"id\": \"6\", \"typeId\": \"8\", \"uri\": \"/tmp/tfx-interactive-2019-08-31T21_40_43.017915-r5zd0p45/SchemaGen/output/4/\", \"properties\": {\"split\": {\"stringValue\": \"\"}, \"name\": {\"stringValue\": \"output\"}, \"type_name\": {\"stringValue\": \"SchemaPath\"}, \"state\": {\"stringValue\": \"published\"}, \"span\": {}, \"pipeline_name\": {\"stringValue\": \"interactive-2019-08-31T21_40_43.017915\"}, \"producer_component\": {\"stringValue\": \"SchemaGen\"}}}, \"artifact_type\": {\"id\": \"8\", \"name\": \"SchemaPath\", \"properties\": {\"split\": \"STRING\", \"name\": \"STRING\", \"type_name\": \"STRING\", \"state\": \"STRING\", \"producer_component\": \"STRING\", \"span\": \"INT\", \"pipeline_name\": \"STRING\"}}}]}\n"
     ]
    },
    {
     "name": "stderr",
     "output_type": "stream",
     "text": [
      "INFO:tensorflow:Inputs for Executor is: {\"examples\": [{\"artifact\": {\"id\": \"9\", \"typeId\": \"4\", \"uri\": \"/tmp/tfx-interactive-2019-08-31T21_40_43.017915-r5zd0p45/Transform/transformed_examples/6/train/\", \"properties\": {\"state\": {\"stringValue\": \"published\"}, \"span\": {}, \"pipeline_name\": {\"stringValue\": \"interactive-2019-08-31T21_40_43.017915\"}, \"producer_component\": {\"stringValue\": \"Transform\"}, \"split\": {\"stringValue\": \"train\"}, \"name\": {\"stringValue\": \"transformed_examples\"}, \"type_name\": {\"stringValue\": \"ExamplesPath\"}}}, \"artifact_type\": {\"id\": \"4\", \"name\": \"ExamplesPath\", \"properties\": {\"split\": \"STRING\", \"name\": \"STRING\", \"type_name\": \"STRING\", \"state\": \"STRING\", \"producer_component\": \"STRING\", \"span\": \"INT\", \"pipeline_name\": \"STRING\"}}}, {\"artifact\": {\"id\": \"10\", \"typeId\": \"4\", \"uri\": \"/tmp/tfx-interactive-2019-08-31T21_40_43.017915-r5zd0p45/Transform/transformed_examples/6/eval/\", \"properties\": {\"split\": {\"stringValue\": \"eval\"}, \"name\": {\"stringValue\": \"transformed_examples\"}, \"type_name\": {\"stringValue\": \"ExamplesPath\"}, \"state\": {\"stringValue\": \"published\"}, \"span\": {}, \"pipeline_name\": {\"stringValue\": \"interactive-2019-08-31T21_40_43.017915\"}, \"producer_component\": {\"stringValue\": \"Transform\"}}}, \"artifact_type\": {\"id\": \"4\", \"name\": \"ExamplesPath\", \"properties\": {\"split\": \"STRING\", \"name\": \"STRING\", \"type_name\": \"STRING\", \"state\": \"STRING\", \"producer_component\": \"STRING\", \"span\": \"INT\", \"pipeline_name\": \"STRING\"}}}], \"transform_output\": [{\"artifact\": {\"id\": \"8\", \"typeId\": \"12\", \"uri\": \"/tmp/tfx-interactive-2019-08-31T21_40_43.017915-r5zd0p45/Transform/transform_output/6/\", \"properties\": {\"name\": {\"stringValue\": \"transform_output\"}, \"type_name\": {\"stringValue\": \"TransformPath\"}, \"state\": {\"stringValue\": \"published\"}, \"span\": {}, \"pipeline_name\": {\"stringValue\": \"interactive-2019-08-31T21_40_43.017915\"}, \"producer_component\": {\"stringValue\": \"Transform\"}, \"split\": {\"stringValue\": \"\"}}}, \"artifact_type\": {\"id\": \"12\", \"name\": \"TransformPath\", \"properties\": {\"state\": \"STRING\", \"producer_component\": \"STRING\", \"span\": \"INT\", \"pipeline_name\": \"STRING\", \"split\": \"STRING\", \"name\": \"STRING\", \"type_name\": \"STRING\"}}}], \"schema\": [{\"artifact\": {\"id\": \"6\", \"typeId\": \"8\", \"uri\": \"/tmp/tfx-interactive-2019-08-31T21_40_43.017915-r5zd0p45/SchemaGen/output/4/\", \"properties\": {\"split\": {\"stringValue\": \"\"}, \"name\": {\"stringValue\": \"output\"}, \"type_name\": {\"stringValue\": \"SchemaPath\"}, \"state\": {\"stringValue\": \"published\"}, \"span\": {}, \"pipeline_name\": {\"stringValue\": \"interactive-2019-08-31T21_40_43.017915\"}, \"producer_component\": {\"stringValue\": \"SchemaGen\"}}}, \"artifact_type\": {\"id\": \"8\", \"name\": \"SchemaPath\", \"properties\": {\"split\": \"STRING\", \"name\": \"STRING\", \"type_name\": \"STRING\", \"state\": \"STRING\", \"producer_component\": \"STRING\", \"span\": \"INT\", \"pipeline_name\": \"STRING\"}}}]}\n"
     ]
    },
    {
     "name": "stdout",
     "output_type": "stream",
     "text": [
      "INFO:tensorflow:Outputs for Executor is: {\"output\": [{\"artifact\": {\"uri\": \"/tmp/tfx-interactive-2019-08-31T21_40_43.017915-r5zd0p45/Trainer/output/7/\", \"properties\": {\"name\": {\"stringValue\": \"output\"}, \"type_name\": {\"stringValue\": \"ModelExportPath\"}, \"split\": {\"stringValue\": \"\"}, \"producer_component\": {\"stringValue\": \"Trainer\"}, \"pipeline_name\": {\"stringValue\": \"interactive-2019-08-31T21_40_43.017915\"}}}, \"artifact_type\": {\"name\": \"ModelExportPath\", \"properties\": {\"state\": \"STRING\", \"producer_component\": \"STRING\", \"span\": \"INT\", \"pipeline_name\": \"STRING\", \"split\": \"STRING\", \"name\": \"STRING\", \"type_name\": \"STRING\"}}}]}\n"
     ]
    },
    {
     "name": "stderr",
     "output_type": "stream",
     "text": [
      "INFO:tensorflow:Outputs for Executor is: {\"output\": [{\"artifact\": {\"uri\": \"/tmp/tfx-interactive-2019-08-31T21_40_43.017915-r5zd0p45/Trainer/output/7/\", \"properties\": {\"name\": {\"stringValue\": \"output\"}, \"type_name\": {\"stringValue\": \"ModelExportPath\"}, \"split\": {\"stringValue\": \"\"}, \"producer_component\": {\"stringValue\": \"Trainer\"}, \"pipeline_name\": {\"stringValue\": \"interactive-2019-08-31T21_40_43.017915\"}}}, \"artifact_type\": {\"name\": \"ModelExportPath\", \"properties\": {\"state\": \"STRING\", \"producer_component\": \"STRING\", \"span\": \"INT\", \"pipeline_name\": \"STRING\", \"split\": \"STRING\", \"name\": \"STRING\", \"type_name\": \"STRING\"}}}]}\n"
     ]
    },
    {
     "name": "stdout",
     "output_type": "stream",
     "text": [
      "INFO:tensorflow:Execution properties for Executor is: {\"train_args\": \"{\\n  \\\"numSteps\\\": 10000\\n}\", \"eval_args\": \"{\\n  \\\"numSteps\\\": 5000\\n}\", \"module_file\": \"/root/miniconda3/envs/tfx/lib/python3.7/site-packages/tfx/examples/chicago_taxi_pipeline/taxi_utils.py\", \"trainer_fn\": null, \"custom_config\": null}\n"
     ]
    },
    {
     "name": "stderr",
     "output_type": "stream",
     "text": [
      "INFO:tensorflow:Execution properties for Executor is: {\"train_args\": \"{\\n  \\\"numSteps\\\": 10000\\n}\", \"eval_args\": \"{\\n  \\\"numSteps\\\": 5000\\n}\", \"module_file\": \"/root/miniconda3/envs/tfx/lib/python3.7/site-packages/tfx/examples/chicago_taxi_pipeline/taxi_utils.py\", \"trainer_fn\": null, \"custom_config\": null}\n"
     ]
    },
    {
     "name": "stdout",
     "output_type": "stream",
     "text": [
      "INFO:tensorflow:Using config: {'_model_dir': '/tmp/tfx-interactive-2019-08-31T21_40_43.017915-r5zd0p45/Trainer/output/7/serving_model_dir', '_tf_random_seed': None, '_save_summary_steps': 100, '_save_checkpoints_steps': 999, '_save_checkpoints_secs': None, '_session_config': allow_soft_placement: true\n",
      "graph_options {\n",
      "  rewrite_options {\n",
      "    meta_optimizer_iterations: ONE\n",
      "  }\n",
      "}\n",
      ", '_keep_checkpoint_max': 1, '_keep_checkpoint_every_n_hours': 10000, '_log_step_count_steps': 100, '_train_distribute': None, '_device_fn': None, '_protocol': None, '_eval_distribute': None, '_experimental_distribute': None, '_experimental_max_worker_delay_secs': None, '_service': None, '_cluster_spec': <tensorflow.python.training.server_lib.ClusterSpec object at 0x7f577846da58>, '_task_type': 'worker', '_task_id': 0, '_global_id_in_cluster': 0, '_master': '', '_evaluation_master': '', '_is_chief': True, '_num_ps_replicas': 0, '_num_worker_replicas': 1}\n"
     ]
    },
    {
     "name": "stderr",
     "output_type": "stream",
     "text": [
      "INFO:tensorflow:Using config: {'_model_dir': '/tmp/tfx-interactive-2019-08-31T21_40_43.017915-r5zd0p45/Trainer/output/7/serving_model_dir', '_tf_random_seed': None, '_save_summary_steps': 100, '_save_checkpoints_steps': 999, '_save_checkpoints_secs': None, '_session_config': allow_soft_placement: true\n",
      "graph_options {\n",
      "  rewrite_options {\n",
      "    meta_optimizer_iterations: ONE\n",
      "  }\n",
      "}\n",
      ", '_keep_checkpoint_max': 1, '_keep_checkpoint_every_n_hours': 10000, '_log_step_count_steps': 100, '_train_distribute': None, '_device_fn': None, '_protocol': None, '_eval_distribute': None, '_experimental_distribute': None, '_experimental_max_worker_delay_secs': None, '_service': None, '_cluster_spec': <tensorflow.python.training.server_lib.ClusterSpec object at 0x7f577846da58>, '_task_type': 'worker', '_task_id': 0, '_global_id_in_cluster': 0, '_master': '', '_evaluation_master': '', '_is_chief': True, '_num_ps_replicas': 0, '_num_worker_replicas': 1}\n"
     ]
    },
    {
     "name": "stdout",
     "output_type": "stream",
     "text": [
      "INFO:tensorflow:Training model.\n"
     ]
    },
    {
     "name": "stderr",
     "output_type": "stream",
     "text": [
      "INFO:tensorflow:Training model.\n"
     ]
    },
    {
     "name": "stdout",
     "output_type": "stream",
     "text": [
      "INFO:tensorflow:Not using Distribute Coordinator.\n"
     ]
    },
    {
     "name": "stderr",
     "output_type": "stream",
     "text": [
      "INFO:tensorflow:Not using Distribute Coordinator.\n"
     ]
    },
    {
     "name": "stdout",
     "output_type": "stream",
     "text": [
      "INFO:tensorflow:Running training and evaluation locally (non-distributed).\n"
     ]
    },
    {
     "name": "stderr",
     "output_type": "stream",
     "text": [
      "INFO:tensorflow:Running training and evaluation locally (non-distributed).\n"
     ]
    },
    {
     "name": "stdout",
     "output_type": "stream",
     "text": [
      "INFO:tensorflow:Start train and evaluate loop. The evaluate will happen after every checkpoint. Checkpoint frequency is determined based on RunConfig arguments: save_checkpoints_steps 999 or save_checkpoints_secs None.\n"
     ]
    },
    {
     "name": "stderr",
     "output_type": "stream",
     "text": [
      "INFO:tensorflow:Start train and evaluate loop. The evaluate will happen after every checkpoint. Checkpoint frequency is determined based on RunConfig arguments: save_checkpoints_steps 999 or save_checkpoints_secs None.\n"
     ]
    },
    {
     "name": "stdout",
     "output_type": "stream",
     "text": [
      "WARNING:tensorflow:From /root/miniconda3/envs/tfx/lib/python3.7/site-packages/tensorflow/python/training/training_util.py:236: Variable.initialized_value (from tensorflow.python.ops.variables) is deprecated and will be removed in a future version.\n",
      "Instructions for updating:\n",
      "Use Variable.read_value. Variables in 2.X are initialized automatically both in eager and graph (inside tf.defun) contexts.\n"
     ]
    },
    {
     "name": "stderr",
     "output_type": "stream",
     "text": [
      "WARNING:tensorflow:From /root/miniconda3/envs/tfx/lib/python3.7/site-packages/tensorflow/python/training/training_util.py:236: Variable.initialized_value (from tensorflow.python.ops.variables) is deprecated and will be removed in a future version.\n",
      "Instructions for updating:\n",
      "Use Variable.read_value. Variables in 2.X are initialized automatically both in eager and graph (inside tf.defun) contexts.\n"
     ]
    },
    {
     "name": "stdout",
     "output_type": "stream",
     "text": [
      "WARNING:tensorflow:From /root/miniconda3/envs/tfx/lib/python3.7/site-packages/tensorflow/python/data/experimental/ops/readers.py:835: parallel_interleave (from tensorflow.python.data.experimental.ops.interleave_ops) is deprecated and will be removed in a future version.\n",
      "Instructions for updating:\n",
      "Use `tf.data.Dataset.interleave(map_func, cycle_length, block_length, num_parallel_calls=tf.data.experimental.AUTOTUNE)` instead. If sloppy execution is desired, use `tf.data.Options.experimental_determinstic`.\n"
     ]
    },
    {
     "name": "stderr",
     "output_type": "stream",
     "text": [
      "WARNING:tensorflow:From /root/miniconda3/envs/tfx/lib/python3.7/site-packages/tensorflow/python/data/experimental/ops/readers.py:835: parallel_interleave (from tensorflow.python.data.experimental.ops.interleave_ops) is deprecated and will be removed in a future version.\n",
      "Instructions for updating:\n",
      "Use `tf.data.Dataset.interleave(map_func, cycle_length, block_length, num_parallel_calls=tf.data.experimental.AUTOTUNE)` instead. If sloppy execution is desired, use `tf.data.Options.experimental_determinstic`.\n"
     ]
    },
    {
     "name": "stdout",
     "output_type": "stream",
     "text": [
      "WARNING:tensorflow:From /root/miniconda3/envs/tfx/lib/python3.7/site-packages/tensorflow/python/data/experimental/ops/readers.py:212: shuffle_and_repeat (from tensorflow.python.data.experimental.ops.shuffle_ops) is deprecated and will be removed in a future version.\n",
      "Instructions for updating:\n",
      "Use `tf.data.Dataset.shuffle(buffer_size, seed)` followed by `tf.data.Dataset.repeat(count)`. Static tf.data optimizations will take care of using the fused implementation.\n"
     ]
    },
    {
     "name": "stderr",
     "output_type": "stream",
     "text": [
      "WARNING:tensorflow:From /root/miniconda3/envs/tfx/lib/python3.7/site-packages/tensorflow/python/data/experimental/ops/readers.py:212: shuffle_and_repeat (from tensorflow.python.data.experimental.ops.shuffle_ops) is deprecated and will be removed in a future version.\n",
      "Instructions for updating:\n",
      "Use `tf.data.Dataset.shuffle(buffer_size, seed)` followed by `tf.data.Dataset.repeat(count)`. Static tf.data optimizations will take care of using the fused implementation.\n"
     ]
    },
    {
     "name": "stdout",
     "output_type": "stream",
     "text": [
      "WARNING:tensorflow:From /root/miniconda3/envs/tfx/lib/python3.7/site-packages/tfx/examples/chicago_taxi_pipeline/taxi_utils.py:279: DatasetV1.make_one_shot_iterator (from tensorflow.python.data.ops.dataset_ops) is deprecated and will be removed in a future version.\n",
      "Instructions for updating:\n",
      "Use `for ... in dataset:` to iterate over a dataset. If using `tf.estimator`, return the `Dataset` object directly from your input function. As a last resort, you can use `tf.compat.v1.data.make_one_shot_iterator(dataset)`.\n"
     ]
    },
    {
     "name": "stderr",
     "output_type": "stream",
     "text": [
      "WARNING:tensorflow:From /root/miniconda3/envs/tfx/lib/python3.7/site-packages/tfx/examples/chicago_taxi_pipeline/taxi_utils.py:279: DatasetV1.make_one_shot_iterator (from tensorflow.python.data.ops.dataset_ops) is deprecated and will be removed in a future version.\n",
      "Instructions for updating:\n",
      "Use `for ... in dataset:` to iterate over a dataset. If using `tf.estimator`, return the `Dataset` object directly from your input function. As a last resort, you can use `tf.compat.v1.data.make_one_shot_iterator(dataset)`.\n"
     ]
    },
    {
     "name": "stdout",
     "output_type": "stream",
     "text": [
      "INFO:tensorflow:Calling model_fn.\n"
     ]
    },
    {
     "name": "stderr",
     "output_type": "stream",
     "text": [
      "INFO:tensorflow:Calling model_fn.\n"
     ]
    },
    {
     "name": "stdout",
     "output_type": "stream",
     "text": [
      "WARNING:tensorflow:From /root/miniconda3/envs/tfx/lib/python3.7/site-packages/tensorflow/python/ops/init_ops.py:1251: calling VarianceScaling.__init__ (from tensorflow.python.ops.init_ops) with dtype is deprecated and will be removed in a future version.\n",
      "Instructions for updating:\n",
      "Call initializer instance with the dtype argument instead of passing it to the constructor\n"
     ]
    },
    {
     "name": "stderr",
     "output_type": "stream",
     "text": [
      "WARNING:tensorflow:From /root/miniconda3/envs/tfx/lib/python3.7/site-packages/tensorflow/python/ops/init_ops.py:1251: calling VarianceScaling.__init__ (from tensorflow.python.ops.init_ops) with dtype is deprecated and will be removed in a future version.\n",
      "Instructions for updating:\n",
      "Call initializer instance with the dtype argument instead of passing it to the constructor\n"
     ]
    },
    {
     "name": "stdout",
     "output_type": "stream",
     "text": [
      "WARNING:tensorflow:From /root/miniconda3/envs/tfx/lib/python3.7/site-packages/tensorflow_estimator/python/estimator/canned/linear.py:308: to_float (from tensorflow.python.ops.math_ops) is deprecated and will be removed in a future version.\n",
      "Instructions for updating:\n",
      "Use `tf.cast` instead.\n"
     ]
    },
    {
     "name": "stderr",
     "output_type": "stream",
     "text": [
      "WARNING:tensorflow:From /root/miniconda3/envs/tfx/lib/python3.7/site-packages/tensorflow_estimator/python/estimator/canned/linear.py:308: to_float (from tensorflow.python.ops.math_ops) is deprecated and will be removed in a future version.\n",
      "Instructions for updating:\n",
      "Use `tf.cast` instead.\n"
     ]
    },
    {
     "name": "stdout",
     "output_type": "stream",
     "text": [
      "WARNING:tensorflow:From /root/miniconda3/envs/tfx/lib/python3.7/site-packages/tensorflow/python/training/adagrad.py:76: calling Constant.__init__ (from tensorflow.python.ops.init_ops) with dtype is deprecated and will be removed in a future version.\n",
      "Instructions for updating:\n",
      "Call initializer instance with the dtype argument instead of passing it to the constructor\n"
     ]
    },
    {
     "name": "stderr",
     "output_type": "stream",
     "text": [
      "WARNING:tensorflow:From /root/miniconda3/envs/tfx/lib/python3.7/site-packages/tensorflow/python/training/adagrad.py:76: calling Constant.__init__ (from tensorflow.python.ops.init_ops) with dtype is deprecated and will be removed in a future version.\n",
      "Instructions for updating:\n",
      "Call initializer instance with the dtype argument instead of passing it to the constructor\n"
     ]
    },
    {
     "name": "stdout",
     "output_type": "stream",
     "text": [
      "INFO:tensorflow:Done calling model_fn.\n"
     ]
    },
    {
     "name": "stderr",
     "output_type": "stream",
     "text": [
      "INFO:tensorflow:Done calling model_fn.\n"
     ]
    },
    {
     "name": "stdout",
     "output_type": "stream",
     "text": [
      "INFO:tensorflow:Create CheckpointSaverHook.\n"
     ]
    },
    {
     "name": "stderr",
     "output_type": "stream",
     "text": [
      "INFO:tensorflow:Create CheckpointSaverHook.\n"
     ]
    },
    {
     "name": "stdout",
     "output_type": "stream",
     "text": [
      "INFO:tensorflow:Graph was finalized.\n"
     ]
    },
    {
     "name": "stderr",
     "output_type": "stream",
     "text": [
      "INFO:tensorflow:Graph was finalized.\n"
     ]
    },
    {
     "name": "stdout",
     "output_type": "stream",
     "text": [
      "INFO:tensorflow:Running local_init_op.\n"
     ]
    },
    {
     "name": "stderr",
     "output_type": "stream",
     "text": [
      "INFO:tensorflow:Running local_init_op.\n"
     ]
    },
    {
     "name": "stdout",
     "output_type": "stream",
     "text": [
      "INFO:tensorflow:Done running local_init_op.\n"
     ]
    },
    {
     "name": "stderr",
     "output_type": "stream",
     "text": [
      "INFO:tensorflow:Done running local_init_op.\n"
     ]
    },
    {
     "name": "stdout",
     "output_type": "stream",
     "text": [
      "INFO:tensorflow:Saving checkpoints for 0 into /tmp/tfx-interactive-2019-08-31T21_40_43.017915-r5zd0p45/Trainer/output/7/serving_model_dir/model.ckpt.\n"
     ]
    },
    {
     "name": "stderr",
     "output_type": "stream",
     "text": [
      "INFO:tensorflow:Saving checkpoints for 0 into /tmp/tfx-interactive-2019-08-31T21_40_43.017915-r5zd0p45/Trainer/output/7/serving_model_dir/model.ckpt.\n"
     ]
    },
    {
     "name": "stdout",
     "output_type": "stream",
     "text": [
      "INFO:tensorflow:loss = 27.1457, step = 1\n"
     ]
    },
    {
     "name": "stderr",
     "output_type": "stream",
     "text": [
      "INFO:tensorflow:loss = 27.1457, step = 1\n"
     ]
    },
    {
     "name": "stdout",
     "output_type": "stream",
     "text": [
      "INFO:tensorflow:global_step/sec: 140.283\n"
     ]
    },
    {
     "name": "stderr",
     "output_type": "stream",
     "text": [
      "INFO:tensorflow:global_step/sec: 140.283\n"
     ]
    },
    {
     "name": "stdout",
     "output_type": "stream",
     "text": [
      "INFO:tensorflow:loss = 24.078281, step = 101 (0.715 sec)\n"
     ]
    },
    {
     "name": "stderr",
     "output_type": "stream",
     "text": [
      "INFO:tensorflow:loss = 24.078281, step = 101 (0.715 sec)\n"
     ]
    },
    {
     "name": "stdout",
     "output_type": "stream",
     "text": [
      "INFO:tensorflow:global_step/sec: 457.595\n"
     ]
    },
    {
     "name": "stderr",
     "output_type": "stream",
     "text": [
      "INFO:tensorflow:global_step/sec: 457.595\n"
     ]
    },
    {
     "name": "stdout",
     "output_type": "stream",
     "text": [
      "INFO:tensorflow:loss = 15.060712, step = 201 (0.218 sec)\n"
     ]
    },
    {
     "name": "stderr",
     "output_type": "stream",
     "text": [
      "INFO:tensorflow:loss = 15.060712, step = 201 (0.218 sec)\n"
     ]
    },
    {
     "name": "stdout",
     "output_type": "stream",
     "text": [
      "INFO:tensorflow:global_step/sec: 442.219\n"
     ]
    },
    {
     "name": "stderr",
     "output_type": "stream",
     "text": [
      "INFO:tensorflow:global_step/sec: 442.219\n"
     ]
    },
    {
     "name": "stdout",
     "output_type": "stream",
     "text": [
      "INFO:tensorflow:loss = 19.316597, step = 301 (0.226 sec)\n"
     ]
    },
    {
     "name": "stderr",
     "output_type": "stream",
     "text": [
      "INFO:tensorflow:loss = 19.316597, step = 301 (0.226 sec)\n"
     ]
    },
    {
     "name": "stdout",
     "output_type": "stream",
     "text": [
      "INFO:tensorflow:global_step/sec: 444.316\n"
     ]
    },
    {
     "name": "stderr",
     "output_type": "stream",
     "text": [
      "INFO:tensorflow:global_step/sec: 444.316\n"
     ]
    },
    {
     "name": "stdout",
     "output_type": "stream",
     "text": [
      "INFO:tensorflow:loss = 18.16777, step = 401 (0.226 sec)\n"
     ]
    },
    {
     "name": "stderr",
     "output_type": "stream",
     "text": [
      "INFO:tensorflow:loss = 18.16777, step = 401 (0.226 sec)\n"
     ]
    },
    {
     "name": "stdout",
     "output_type": "stream",
     "text": [
      "INFO:tensorflow:global_step/sec: 454.241\n"
     ]
    },
    {
     "name": "stderr",
     "output_type": "stream",
     "text": [
      "INFO:tensorflow:global_step/sec: 454.241\n"
     ]
    },
    {
     "name": "stdout",
     "output_type": "stream",
     "text": [
      "INFO:tensorflow:loss = 16.10277, step = 501 (0.220 sec)\n"
     ]
    },
    {
     "name": "stderr",
     "output_type": "stream",
     "text": [
      "INFO:tensorflow:loss = 16.10277, step = 501 (0.220 sec)\n"
     ]
    },
    {
     "name": "stdout",
     "output_type": "stream",
     "text": [
      "INFO:tensorflow:global_step/sec: 457.574\n"
     ]
    },
    {
     "name": "stderr",
     "output_type": "stream",
     "text": [
      "INFO:tensorflow:global_step/sec: 457.574\n"
     ]
    },
    {
     "name": "stdout",
     "output_type": "stream",
     "text": [
      "INFO:tensorflow:loss = 18.01017, step = 601 (0.219 sec)\n"
     ]
    },
    {
     "name": "stderr",
     "output_type": "stream",
     "text": [
      "INFO:tensorflow:loss = 18.01017, step = 601 (0.219 sec)\n"
     ]
    },
    {
     "name": "stdout",
     "output_type": "stream",
     "text": [
      "INFO:tensorflow:global_step/sec: 452.745\n"
     ]
    },
    {
     "name": "stderr",
     "output_type": "stream",
     "text": [
      "INFO:tensorflow:global_step/sec: 452.745\n"
     ]
    },
    {
     "name": "stdout",
     "output_type": "stream",
     "text": [
      "INFO:tensorflow:loss = 21.237854, step = 701 (0.221 sec)\n"
     ]
    },
    {
     "name": "stderr",
     "output_type": "stream",
     "text": [
      "INFO:tensorflow:loss = 21.237854, step = 701 (0.221 sec)\n"
     ]
    },
    {
     "name": "stdout",
     "output_type": "stream",
     "text": [
      "INFO:tensorflow:global_step/sec: 459.205\n"
     ]
    },
    {
     "name": "stderr",
     "output_type": "stream",
     "text": [
      "INFO:tensorflow:global_step/sec: 459.205\n"
     ]
    },
    {
     "name": "stdout",
     "output_type": "stream",
     "text": [
      "INFO:tensorflow:loss = 16.834135, step = 801 (0.218 sec)\n"
     ]
    },
    {
     "name": "stderr",
     "output_type": "stream",
     "text": [
      "INFO:tensorflow:loss = 16.834135, step = 801 (0.218 sec)\n"
     ]
    },
    {
     "name": "stdout",
     "output_type": "stream",
     "text": [
      "INFO:tensorflow:global_step/sec: 445.782\n"
     ]
    },
    {
     "name": "stderr",
     "output_type": "stream",
     "text": [
      "INFO:tensorflow:global_step/sec: 445.782\n"
     ]
    },
    {
     "name": "stdout",
     "output_type": "stream",
     "text": [
      "INFO:tensorflow:loss = 11.727556, step = 901 (0.225 sec)\n"
     ]
    },
    {
     "name": "stderr",
     "output_type": "stream",
     "text": [
      "INFO:tensorflow:loss = 11.727556, step = 901 (0.225 sec)\n"
     ]
    },
    {
     "name": "stdout",
     "output_type": "stream",
     "text": [
      "INFO:tensorflow:Saving checkpoints for 999 into /tmp/tfx-interactive-2019-08-31T21_40_43.017915-r5zd0p45/Trainer/output/7/serving_model_dir/model.ckpt.\n"
     ]
    },
    {
     "name": "stderr",
     "output_type": "stream",
     "text": [
      "INFO:tensorflow:Saving checkpoints for 999 into /tmp/tfx-interactive-2019-08-31T21_40_43.017915-r5zd0p45/Trainer/output/7/serving_model_dir/model.ckpt.\n"
     ]
    },
    {
     "name": "stdout",
     "output_type": "stream",
     "text": [
      "WARNING:tensorflow:From /root/miniconda3/envs/tfx/lib/python3.7/site-packages/tensorflow/python/training/saver.py:960: remove_checkpoint (from tensorflow.python.training.checkpoint_management) is deprecated and will be removed in a future version.\n",
      "Instructions for updating:\n",
      "Use standard file APIs to delete files with this prefix.\n"
     ]
    },
    {
     "name": "stderr",
     "output_type": "stream",
     "text": [
      "WARNING:tensorflow:From /root/miniconda3/envs/tfx/lib/python3.7/site-packages/tensorflow/python/training/saver.py:960: remove_checkpoint (from tensorflow.python.training.checkpoint_management) is deprecated and will be removed in a future version.\n",
      "Instructions for updating:\n",
      "Use standard file APIs to delete files with this prefix.\n"
     ]
    },
    {
     "name": "stdout",
     "output_type": "stream",
     "text": [
      "INFO:tensorflow:Calling model_fn.\n"
     ]
    },
    {
     "name": "stderr",
     "output_type": "stream",
     "text": [
      "INFO:tensorflow:Calling model_fn.\n"
     ]
    },
    {
     "name": "stdout",
     "output_type": "stream",
     "text": [
      "WARNING:tensorflow:From /root/miniconda3/envs/tfx/lib/python3.7/site-packages/tensorflow/python/ops/metrics_impl.py:2027: div (from tensorflow.python.ops.math_ops) is deprecated and will be removed in a future version.\n",
      "Instructions for updating:\n",
      "Deprecated in favor of operator or tf.math.divide.\n"
     ]
    },
    {
     "name": "stderr",
     "output_type": "stream",
     "text": [
      "WARNING:tensorflow:From /root/miniconda3/envs/tfx/lib/python3.7/site-packages/tensorflow/python/ops/metrics_impl.py:2027: div (from tensorflow.python.ops.math_ops) is deprecated and will be removed in a future version.\n",
      "Instructions for updating:\n",
      "Deprecated in favor of operator or tf.math.divide.\n"
     ]
    },
    {
     "name": "stdout",
     "output_type": "stream",
     "text": [
      "WARNING:tensorflow:Trapezoidal rule is known to produce incorrect PR-AUCs; please switch to \"careful_interpolation\" instead.\n"
     ]
    },
    {
     "name": "stderr",
     "output_type": "stream",
     "text": [
      "WARNING:tensorflow:Trapezoidal rule is known to produce incorrect PR-AUCs; please switch to \"careful_interpolation\" instead.\n"
     ]
    },
    {
     "name": "stdout",
     "output_type": "stream",
     "text": [
      "WARNING:tensorflow:Trapezoidal rule is known to produce incorrect PR-AUCs; please switch to \"careful_interpolation\" instead.\n"
     ]
    },
    {
     "name": "stderr",
     "output_type": "stream",
     "text": [
      "WARNING:tensorflow:Trapezoidal rule is known to produce incorrect PR-AUCs; please switch to \"careful_interpolation\" instead.\n"
     ]
    },
    {
     "name": "stdout",
     "output_type": "stream",
     "text": [
      "INFO:tensorflow:Done calling model_fn.\n"
     ]
    },
    {
     "name": "stderr",
     "output_type": "stream",
     "text": [
      "INFO:tensorflow:Done calling model_fn.\n"
     ]
    },
    {
     "name": "stdout",
     "output_type": "stream",
     "text": [
      "INFO:tensorflow:Starting evaluation at 2019-08-31T21:44:38Z\n"
     ]
    },
    {
     "name": "stderr",
     "output_type": "stream",
     "text": [
      "INFO:tensorflow:Starting evaluation at 2019-08-31T21:44:38Z\n"
     ]
    },
    {
     "name": "stdout",
     "output_type": "stream",
     "text": [
      "INFO:tensorflow:Graph was finalized.\n"
     ]
    },
    {
     "name": "stderr",
     "output_type": "stream",
     "text": [
      "INFO:tensorflow:Graph was finalized.\n"
     ]
    },
    {
     "name": "stdout",
     "output_type": "stream",
     "text": [
      "WARNING:tensorflow:From /root/miniconda3/envs/tfx/lib/python3.7/site-packages/tensorflow/python/training/saver.py:1276: checkpoint_exists (from tensorflow.python.training.checkpoint_management) is deprecated and will be removed in a future version.\n",
      "Instructions for updating:\n",
      "Use standard file APIs to check for files with this prefix.\n"
     ]
    },
    {
     "name": "stderr",
     "output_type": "stream",
     "text": [
      "WARNING:tensorflow:From /root/miniconda3/envs/tfx/lib/python3.7/site-packages/tensorflow/python/training/saver.py:1276: checkpoint_exists (from tensorflow.python.training.checkpoint_management) is deprecated and will be removed in a future version.\n",
      "Instructions for updating:\n",
      "Use standard file APIs to check for files with this prefix.\n"
     ]
    },
    {
     "name": "stdout",
     "output_type": "stream",
     "text": [
      "INFO:tensorflow:Restoring parameters from /tmp/tfx-interactive-2019-08-31T21_40_43.017915-r5zd0p45/Trainer/output/7/serving_model_dir/model.ckpt-999\n"
     ]
    },
    {
     "name": "stderr",
     "output_type": "stream",
     "text": [
      "INFO:tensorflow:Restoring parameters from /tmp/tfx-interactive-2019-08-31T21_40_43.017915-r5zd0p45/Trainer/output/7/serving_model_dir/model.ckpt-999\n"
     ]
    },
    {
     "name": "stdout",
     "output_type": "stream",
     "text": [
      "INFO:tensorflow:Running local_init_op.\n"
     ]
    },
    {
     "name": "stderr",
     "output_type": "stream",
     "text": [
      "INFO:tensorflow:Running local_init_op.\n"
     ]
    },
    {
     "name": "stdout",
     "output_type": "stream",
     "text": [
      "INFO:tensorflow:Done running local_init_op.\n"
     ]
    },
    {
     "name": "stderr",
     "output_type": "stream",
     "text": [
      "INFO:tensorflow:Done running local_init_op.\n"
     ]
    },
    {
     "name": "stdout",
     "output_type": "stream",
     "text": [
      "INFO:tensorflow:Evaluation [500/5000]\n"
     ]
    },
    {
     "name": "stderr",
     "output_type": "stream",
     "text": [
      "INFO:tensorflow:Evaluation [500/5000]\n"
     ]
    },
    {
     "name": "stdout",
     "output_type": "stream",
     "text": [
      "INFO:tensorflow:Evaluation [1000/5000]\n"
     ]
    },
    {
     "name": "stderr",
     "output_type": "stream",
     "text": [
      "INFO:tensorflow:Evaluation [1000/5000]\n"
     ]
    },
    {
     "name": "stdout",
     "output_type": "stream",
     "text": [
      "INFO:tensorflow:Evaluation [1500/5000]\n"
     ]
    },
    {
     "name": "stderr",
     "output_type": "stream",
     "text": [
      "INFO:tensorflow:Evaluation [1500/5000]\n"
     ]
    },
    {
     "name": "stdout",
     "output_type": "stream",
     "text": [
      "INFO:tensorflow:Evaluation [2000/5000]\n"
     ]
    },
    {
     "name": "stderr",
     "output_type": "stream",
     "text": [
      "INFO:tensorflow:Evaluation [2000/5000]\n"
     ]
    },
    {
     "name": "stdout",
     "output_type": "stream",
     "text": [
      "INFO:tensorflow:Evaluation [2500/5000]\n"
     ]
    },
    {
     "name": "stderr",
     "output_type": "stream",
     "text": [
      "INFO:tensorflow:Evaluation [2500/5000]\n"
     ]
    },
    {
     "name": "stdout",
     "output_type": "stream",
     "text": [
      "INFO:tensorflow:Evaluation [3000/5000]\n"
     ]
    },
    {
     "name": "stderr",
     "output_type": "stream",
     "text": [
      "INFO:tensorflow:Evaluation [3000/5000]\n"
     ]
    },
    {
     "name": "stdout",
     "output_type": "stream",
     "text": [
      "INFO:tensorflow:Evaluation [3500/5000]\n"
     ]
    },
    {
     "name": "stderr",
     "output_type": "stream",
     "text": [
      "INFO:tensorflow:Evaluation [3500/5000]\n"
     ]
    },
    {
     "name": "stdout",
     "output_type": "stream",
     "text": [
      "INFO:tensorflow:Evaluation [4000/5000]\n"
     ]
    },
    {
     "name": "stderr",
     "output_type": "stream",
     "text": [
      "INFO:tensorflow:Evaluation [4000/5000]\n"
     ]
    },
    {
     "name": "stdout",
     "output_type": "stream",
     "text": [
      "INFO:tensorflow:Evaluation [4500/5000]\n"
     ]
    },
    {
     "name": "stderr",
     "output_type": "stream",
     "text": [
      "INFO:tensorflow:Evaluation [4500/5000]\n"
     ]
    },
    {
     "name": "stdout",
     "output_type": "stream",
     "text": [
      "INFO:tensorflow:Evaluation [5000/5000]\n"
     ]
    },
    {
     "name": "stderr",
     "output_type": "stream",
     "text": [
      "INFO:tensorflow:Evaluation [5000/5000]\n"
     ]
    },
    {
     "name": "stdout",
     "output_type": "stream",
     "text": [
      "INFO:tensorflow:Finished evaluation at 2019-08-31-21:44:49\n"
     ]
    },
    {
     "name": "stderr",
     "output_type": "stream",
     "text": [
      "INFO:tensorflow:Finished evaluation at 2019-08-31-21:44:49\n"
     ]
    },
    {
     "name": "stdout",
     "output_type": "stream",
     "text": [
      "INFO:tensorflow:Saving dict for global step 999: accuracy = 0.769715, accuracy_baseline = 0.769715, auc = 0.8977853, auc_precision_recall = 0.6345711, average_loss = 0.45392403, global_step = 999, label/mean = 0.230285, loss = 18.156961, precision = 0.0, prediction/mean = 0.23208246, recall = 0.0\n"
     ]
    },
    {
     "name": "stderr",
     "output_type": "stream",
     "text": [
      "INFO:tensorflow:Saving dict for global step 999: accuracy = 0.769715, accuracy_baseline = 0.769715, auc = 0.8977853, auc_precision_recall = 0.6345711, average_loss = 0.45392403, global_step = 999, label/mean = 0.230285, loss = 18.156961, precision = 0.0, prediction/mean = 0.23208246, recall = 0.0\n"
     ]
    },
    {
     "name": "stdout",
     "output_type": "stream",
     "text": [
      "INFO:tensorflow:Saving 'checkpoint_path' summary for global step 999: /tmp/tfx-interactive-2019-08-31T21_40_43.017915-r5zd0p45/Trainer/output/7/serving_model_dir/model.ckpt-999\n"
     ]
    },
    {
     "name": "stderr",
     "output_type": "stream",
     "text": [
      "INFO:tensorflow:Saving 'checkpoint_path' summary for global step 999: /tmp/tfx-interactive-2019-08-31T21_40_43.017915-r5zd0p45/Trainer/output/7/serving_model_dir/model.ckpt-999\n"
     ]
    },
    {
     "name": "stdout",
     "output_type": "stream",
     "text": [
      "INFO:tensorflow:global_step/sec: 7.2425\n"
     ]
    },
    {
     "name": "stderr",
     "output_type": "stream",
     "text": [
      "INFO:tensorflow:global_step/sec: 7.2425\n"
     ]
    },
    {
     "name": "stdout",
     "output_type": "stream",
     "text": [
      "INFO:tensorflow:loss = 20.569103, step = 1001 (13.807 sec)\n"
     ]
    },
    {
     "name": "stderr",
     "output_type": "stream",
     "text": [
      "INFO:tensorflow:loss = 20.569103, step = 1001 (13.807 sec)\n"
     ]
    },
    {
     "name": "stdout",
     "output_type": "stream",
     "text": [
      "INFO:tensorflow:global_step/sec: 451.005\n"
     ]
    },
    {
     "name": "stderr",
     "output_type": "stream",
     "text": [
      "INFO:tensorflow:global_step/sec: 451.005\n"
     ]
    },
    {
     "name": "stdout",
     "output_type": "stream",
     "text": [
      "INFO:tensorflow:loss = 20.516302, step = 1101 (0.222 sec)\n"
     ]
    },
    {
     "name": "stderr",
     "output_type": "stream",
     "text": [
      "INFO:tensorflow:loss = 20.516302, step = 1101 (0.222 sec)\n"
     ]
    },
    {
     "name": "stdout",
     "output_type": "stream",
     "text": [
      "INFO:tensorflow:global_step/sec: 464.447\n"
     ]
    },
    {
     "name": "stderr",
     "output_type": "stream",
     "text": [
      "INFO:tensorflow:global_step/sec: 464.447\n"
     ]
    },
    {
     "name": "stdout",
     "output_type": "stream",
     "text": [
      "INFO:tensorflow:loss = 18.270279, step = 1201 (0.215 sec)\n"
     ]
    },
    {
     "name": "stderr",
     "output_type": "stream",
     "text": [
      "INFO:tensorflow:loss = 18.270279, step = 1201 (0.215 sec)\n"
     ]
    },
    {
     "name": "stdout",
     "output_type": "stream",
     "text": [
      "INFO:tensorflow:global_step/sec: 461.265\n"
     ]
    },
    {
     "name": "stderr",
     "output_type": "stream",
     "text": [
      "INFO:tensorflow:global_step/sec: 461.265\n"
     ]
    },
    {
     "name": "stdout",
     "output_type": "stream",
     "text": [
      "INFO:tensorflow:loss = 20.060337, step = 1301 (0.217 sec)\n"
     ]
    },
    {
     "name": "stderr",
     "output_type": "stream",
     "text": [
      "INFO:tensorflow:loss = 20.060337, step = 1301 (0.217 sec)\n"
     ]
    },
    {
     "name": "stdout",
     "output_type": "stream",
     "text": [
      "INFO:tensorflow:global_step/sec: 457.896\n"
     ]
    },
    {
     "name": "stderr",
     "output_type": "stream",
     "text": [
      "INFO:tensorflow:global_step/sec: 457.896\n"
     ]
    },
    {
     "name": "stdout",
     "output_type": "stream",
     "text": [
      "INFO:tensorflow:loss = 14.390772, step = 1401 (0.219 sec)\n"
     ]
    },
    {
     "name": "stderr",
     "output_type": "stream",
     "text": [
      "INFO:tensorflow:loss = 14.390772, step = 1401 (0.219 sec)\n"
     ]
    },
    {
     "name": "stdout",
     "output_type": "stream",
     "text": [
      "INFO:tensorflow:global_step/sec: 456.79\n"
     ]
    },
    {
     "name": "stderr",
     "output_type": "stream",
     "text": [
      "INFO:tensorflow:global_step/sec: 456.79\n"
     ]
    },
    {
     "name": "stdout",
     "output_type": "stream",
     "text": [
      "INFO:tensorflow:loss = 18.209082, step = 1501 (0.218 sec)\n"
     ]
    },
    {
     "name": "stderr",
     "output_type": "stream",
     "text": [
      "INFO:tensorflow:loss = 18.209082, step = 1501 (0.218 sec)\n"
     ]
    },
    {
     "name": "stdout",
     "output_type": "stream",
     "text": [
      "INFO:tensorflow:global_step/sec: 451.594\n"
     ]
    },
    {
     "name": "stderr",
     "output_type": "stream",
     "text": [
      "INFO:tensorflow:global_step/sec: 451.594\n"
     ]
    },
    {
     "name": "stdout",
     "output_type": "stream",
     "text": [
      "INFO:tensorflow:loss = 15.074587, step = 1601 (0.222 sec)\n"
     ]
    },
    {
     "name": "stderr",
     "output_type": "stream",
     "text": [
      "INFO:tensorflow:loss = 15.074587, step = 1601 (0.222 sec)\n"
     ]
    },
    {
     "name": "stdout",
     "output_type": "stream",
     "text": [
      "INFO:tensorflow:global_step/sec: 438.199\n"
     ]
    },
    {
     "name": "stderr",
     "output_type": "stream",
     "text": [
      "INFO:tensorflow:global_step/sec: 438.199\n"
     ]
    },
    {
     "name": "stdout",
     "output_type": "stream",
     "text": [
      "INFO:tensorflow:loss = 14.83581, step = 1701 (0.229 sec)\n"
     ]
    },
    {
     "name": "stderr",
     "output_type": "stream",
     "text": [
      "INFO:tensorflow:loss = 14.83581, step = 1701 (0.229 sec)\n"
     ]
    },
    {
     "name": "stdout",
     "output_type": "stream",
     "text": [
      "INFO:tensorflow:global_step/sec: 455.187\n"
     ]
    },
    {
     "name": "stderr",
     "output_type": "stream",
     "text": [
      "INFO:tensorflow:global_step/sec: 455.187\n"
     ]
    },
    {
     "name": "stdout",
     "output_type": "stream",
     "text": [
      "INFO:tensorflow:loss = 17.086899, step = 1801 (0.219 sec)\n"
     ]
    },
    {
     "name": "stderr",
     "output_type": "stream",
     "text": [
      "INFO:tensorflow:loss = 17.086899, step = 1801 (0.219 sec)\n"
     ]
    },
    {
     "name": "stdout",
     "output_type": "stream",
     "text": [
      "INFO:tensorflow:global_step/sec: 460.818\n"
     ]
    },
    {
     "name": "stderr",
     "output_type": "stream",
     "text": [
      "INFO:tensorflow:global_step/sec: 460.818\n"
     ]
    },
    {
     "name": "stdout",
     "output_type": "stream",
     "text": [
      "INFO:tensorflow:loss = 16.24918, step = 1901 (0.217 sec)\n"
     ]
    },
    {
     "name": "stderr",
     "output_type": "stream",
     "text": [
      "INFO:tensorflow:loss = 16.24918, step = 1901 (0.217 sec)\n"
     ]
    },
    {
     "name": "stdout",
     "output_type": "stream",
     "text": [
      "INFO:tensorflow:Saving checkpoints for 1998 into /tmp/tfx-interactive-2019-08-31T21_40_43.017915-r5zd0p45/Trainer/output/7/serving_model_dir/model.ckpt.\n"
     ]
    },
    {
     "name": "stderr",
     "output_type": "stream",
     "text": [
      "INFO:tensorflow:Saving checkpoints for 1998 into /tmp/tfx-interactive-2019-08-31T21_40_43.017915-r5zd0p45/Trainer/output/7/serving_model_dir/model.ckpt.\n"
     ]
    },
    {
     "name": "stdout",
     "output_type": "stream",
     "text": [
      "INFO:tensorflow:Skip the current checkpoint eval due to throttle secs (600 secs).\n"
     ]
    },
    {
     "name": "stderr",
     "output_type": "stream",
     "text": [
      "INFO:tensorflow:Skip the current checkpoint eval due to throttle secs (600 secs).\n"
     ]
    },
    {
     "name": "stdout",
     "output_type": "stream",
     "text": [
      "INFO:tensorflow:global_step/sec: 231.42\n"
     ]
    },
    {
     "name": "stderr",
     "output_type": "stream",
     "text": [
      "INFO:tensorflow:global_step/sec: 231.42\n"
     ]
    },
    {
     "name": "stdout",
     "output_type": "stream",
     "text": [
      "INFO:tensorflow:loss = 15.1554985, step = 2001 (0.432 sec)\n"
     ]
    },
    {
     "name": "stderr",
     "output_type": "stream",
     "text": [
      "INFO:tensorflow:loss = 15.1554985, step = 2001 (0.432 sec)\n"
     ]
    },
    {
     "name": "stdout",
     "output_type": "stream",
     "text": [
      "INFO:tensorflow:global_step/sec: 459.929\n"
     ]
    },
    {
     "name": "stderr",
     "output_type": "stream",
     "text": [
      "INFO:tensorflow:global_step/sec: 459.929\n"
     ]
    },
    {
     "name": "stdout",
     "output_type": "stream",
     "text": [
      "INFO:tensorflow:loss = 13.909177, step = 2101 (0.218 sec)\n"
     ]
    },
    {
     "name": "stderr",
     "output_type": "stream",
     "text": [
      "INFO:tensorflow:loss = 13.909177, step = 2101 (0.218 sec)\n"
     ]
    },
    {
     "name": "stdout",
     "output_type": "stream",
     "text": [
      "INFO:tensorflow:global_step/sec: 450.302\n"
     ]
    },
    {
     "name": "stderr",
     "output_type": "stream",
     "text": [
      "INFO:tensorflow:global_step/sec: 450.302\n"
     ]
    },
    {
     "name": "stdout",
     "output_type": "stream",
     "text": [
      "INFO:tensorflow:loss = 15.770091, step = 2201 (0.222 sec)\n"
     ]
    },
    {
     "name": "stderr",
     "output_type": "stream",
     "text": [
      "INFO:tensorflow:loss = 15.770091, step = 2201 (0.222 sec)\n"
     ]
    },
    {
     "name": "stdout",
     "output_type": "stream",
     "text": [
      "INFO:tensorflow:global_step/sec: 434.758\n"
     ]
    },
    {
     "name": "stderr",
     "output_type": "stream",
     "text": [
      "INFO:tensorflow:global_step/sec: 434.758\n"
     ]
    },
    {
     "name": "stdout",
     "output_type": "stream",
     "text": [
      "INFO:tensorflow:loss = 18.037727, step = 2301 (0.230 sec)\n"
     ]
    },
    {
     "name": "stderr",
     "output_type": "stream",
     "text": [
      "INFO:tensorflow:loss = 18.037727, step = 2301 (0.230 sec)\n"
     ]
    },
    {
     "name": "stdout",
     "output_type": "stream",
     "text": [
      "INFO:tensorflow:global_step/sec: 443.23\n"
     ]
    },
    {
     "name": "stderr",
     "output_type": "stream",
     "text": [
      "INFO:tensorflow:global_step/sec: 443.23\n"
     ]
    },
    {
     "name": "stdout",
     "output_type": "stream",
     "text": [
      "INFO:tensorflow:loss = 15.988951, step = 2401 (0.226 sec)\n"
     ]
    },
    {
     "name": "stderr",
     "output_type": "stream",
     "text": [
      "INFO:tensorflow:loss = 15.988951, step = 2401 (0.226 sec)\n"
     ]
    },
    {
     "name": "stdout",
     "output_type": "stream",
     "text": [
      "INFO:tensorflow:global_step/sec: 447.241\n"
     ]
    },
    {
     "name": "stderr",
     "output_type": "stream",
     "text": [
      "INFO:tensorflow:global_step/sec: 447.241\n"
     ]
    },
    {
     "name": "stdout",
     "output_type": "stream",
     "text": [
      "INFO:tensorflow:loss = 18.491302, step = 2501 (0.223 sec)\n"
     ]
    },
    {
     "name": "stderr",
     "output_type": "stream",
     "text": [
      "INFO:tensorflow:loss = 18.491302, step = 2501 (0.223 sec)\n"
     ]
    },
    {
     "name": "stdout",
     "output_type": "stream",
     "text": [
      "INFO:tensorflow:global_step/sec: 437.805\n"
     ]
    },
    {
     "name": "stderr",
     "output_type": "stream",
     "text": [
      "INFO:tensorflow:global_step/sec: 437.805\n"
     ]
    },
    {
     "name": "stdout",
     "output_type": "stream",
     "text": [
      "INFO:tensorflow:loss = 17.465595, step = 2601 (0.229 sec)\n"
     ]
    },
    {
     "name": "stderr",
     "output_type": "stream",
     "text": [
      "INFO:tensorflow:loss = 17.465595, step = 2601 (0.229 sec)\n"
     ]
    },
    {
     "name": "stdout",
     "output_type": "stream",
     "text": [
      "INFO:tensorflow:global_step/sec: 441.835\n"
     ]
    },
    {
     "name": "stderr",
     "output_type": "stream",
     "text": [
      "INFO:tensorflow:global_step/sec: 441.835\n"
     ]
    },
    {
     "name": "stdout",
     "output_type": "stream",
     "text": [
      "INFO:tensorflow:loss = 16.991608, step = 2701 (0.226 sec)\n"
     ]
    },
    {
     "name": "stderr",
     "output_type": "stream",
     "text": [
      "INFO:tensorflow:loss = 16.991608, step = 2701 (0.226 sec)\n"
     ]
    },
    {
     "name": "stdout",
     "output_type": "stream",
     "text": [
      "INFO:tensorflow:global_step/sec: 446.195\n"
     ]
    },
    {
     "name": "stderr",
     "output_type": "stream",
     "text": [
      "INFO:tensorflow:global_step/sec: 446.195\n"
     ]
    },
    {
     "name": "stdout",
     "output_type": "stream",
     "text": [
      "INFO:tensorflow:loss = 17.167805, step = 2801 (0.224 sec)\n"
     ]
    },
    {
     "name": "stderr",
     "output_type": "stream",
     "text": [
      "INFO:tensorflow:loss = 17.167805, step = 2801 (0.224 sec)\n"
     ]
    },
    {
     "name": "stdout",
     "output_type": "stream",
     "text": [
      "INFO:tensorflow:global_step/sec: 454.398\n"
     ]
    },
    {
     "name": "stderr",
     "output_type": "stream",
     "text": [
      "INFO:tensorflow:global_step/sec: 454.398\n"
     ]
    },
    {
     "name": "stdout",
     "output_type": "stream",
     "text": [
      "INFO:tensorflow:loss = 16.417606, step = 2901 (0.220 sec)\n"
     ]
    },
    {
     "name": "stderr",
     "output_type": "stream",
     "text": [
      "INFO:tensorflow:loss = 16.417606, step = 2901 (0.220 sec)\n"
     ]
    },
    {
     "name": "stdout",
     "output_type": "stream",
     "text": [
      "INFO:tensorflow:Saving checkpoints for 2997 into /tmp/tfx-interactive-2019-08-31T21_40_43.017915-r5zd0p45/Trainer/output/7/serving_model_dir/model.ckpt.\n"
     ]
    },
    {
     "name": "stderr",
     "output_type": "stream",
     "text": [
      "INFO:tensorflow:Saving checkpoints for 2997 into /tmp/tfx-interactive-2019-08-31T21_40_43.017915-r5zd0p45/Trainer/output/7/serving_model_dir/model.ckpt.\n"
     ]
    },
    {
     "name": "stdout",
     "output_type": "stream",
     "text": [
      "INFO:tensorflow:Skip the current checkpoint eval due to throttle secs (600 secs).\n"
     ]
    },
    {
     "name": "stderr",
     "output_type": "stream",
     "text": [
      "INFO:tensorflow:Skip the current checkpoint eval due to throttle secs (600 secs).\n"
     ]
    },
    {
     "name": "stdout",
     "output_type": "stream",
     "text": [
      "INFO:tensorflow:global_step/sec: 235.173\n"
     ]
    },
    {
     "name": "stderr",
     "output_type": "stream",
     "text": [
      "INFO:tensorflow:global_step/sec: 235.173\n"
     ]
    },
    {
     "name": "stdout",
     "output_type": "stream",
     "text": [
      "INFO:tensorflow:loss = 15.95027, step = 3001 (0.425 sec)\n"
     ]
    },
    {
     "name": "stderr",
     "output_type": "stream",
     "text": [
      "INFO:tensorflow:loss = 15.95027, step = 3001 (0.425 sec)\n"
     ]
    },
    {
     "name": "stdout",
     "output_type": "stream",
     "text": [
      "INFO:tensorflow:global_step/sec: 460.973\n"
     ]
    },
    {
     "name": "stderr",
     "output_type": "stream",
     "text": [
      "INFO:tensorflow:global_step/sec: 460.973\n"
     ]
    },
    {
     "name": "stdout",
     "output_type": "stream",
     "text": [
      "INFO:tensorflow:loss = 17.10887, step = 3101 (0.217 sec)\n"
     ]
    },
    {
     "name": "stderr",
     "output_type": "stream",
     "text": [
      "INFO:tensorflow:loss = 17.10887, step = 3101 (0.217 sec)\n"
     ]
    },
    {
     "name": "stdout",
     "output_type": "stream",
     "text": [
      "INFO:tensorflow:global_step/sec: 457.467\n"
     ]
    },
    {
     "name": "stderr",
     "output_type": "stream",
     "text": [
      "INFO:tensorflow:global_step/sec: 457.467\n"
     ]
    },
    {
     "name": "stdout",
     "output_type": "stream",
     "text": [
      "INFO:tensorflow:loss = 16.963957, step = 3201 (0.219 sec)\n"
     ]
    },
    {
     "name": "stderr",
     "output_type": "stream",
     "text": [
      "INFO:tensorflow:loss = 16.963957, step = 3201 (0.219 sec)\n"
     ]
    },
    {
     "name": "stdout",
     "output_type": "stream",
     "text": [
      "INFO:tensorflow:global_step/sec: 453.181\n"
     ]
    },
    {
     "name": "stderr",
     "output_type": "stream",
     "text": [
      "INFO:tensorflow:global_step/sec: 453.181\n"
     ]
    },
    {
     "name": "stdout",
     "output_type": "stream",
     "text": [
      "INFO:tensorflow:loss = 16.374142, step = 3301 (0.221 sec)\n"
     ]
    },
    {
     "name": "stderr",
     "output_type": "stream",
     "text": [
      "INFO:tensorflow:loss = 16.374142, step = 3301 (0.221 sec)\n"
     ]
    },
    {
     "name": "stdout",
     "output_type": "stream",
     "text": [
      "INFO:tensorflow:global_step/sec: 463.031\n"
     ]
    },
    {
     "name": "stderr",
     "output_type": "stream",
     "text": [
      "INFO:tensorflow:global_step/sec: 463.031\n"
     ]
    },
    {
     "name": "stdout",
     "output_type": "stream",
     "text": [
      "INFO:tensorflow:loss = 16.018284, step = 3401 (0.216 sec)\n"
     ]
    },
    {
     "name": "stderr",
     "output_type": "stream",
     "text": [
      "INFO:tensorflow:loss = 16.018284, step = 3401 (0.216 sec)\n"
     ]
    },
    {
     "name": "stdout",
     "output_type": "stream",
     "text": [
      "INFO:tensorflow:global_step/sec: 463.652\n"
     ]
    },
    {
     "name": "stderr",
     "output_type": "stream",
     "text": [
      "INFO:tensorflow:global_step/sec: 463.652\n"
     ]
    },
    {
     "name": "stdout",
     "output_type": "stream",
     "text": [
      "INFO:tensorflow:loss = 13.5427, step = 3501 (0.216 sec)\n"
     ]
    },
    {
     "name": "stderr",
     "output_type": "stream",
     "text": [
      "INFO:tensorflow:loss = 13.5427, step = 3501 (0.216 sec)\n"
     ]
    },
    {
     "name": "stdout",
     "output_type": "stream",
     "text": [
      "INFO:tensorflow:global_step/sec: 463.631\n"
     ]
    },
    {
     "name": "stderr",
     "output_type": "stream",
     "text": [
      "INFO:tensorflow:global_step/sec: 463.631\n"
     ]
    },
    {
     "name": "stdout",
     "output_type": "stream",
     "text": [
      "INFO:tensorflow:loss = 13.65052, step = 3601 (0.216 sec)\n"
     ]
    },
    {
     "name": "stderr",
     "output_type": "stream",
     "text": [
      "INFO:tensorflow:loss = 13.65052, step = 3601 (0.216 sec)\n"
     ]
    },
    {
     "name": "stdout",
     "output_type": "stream",
     "text": [
      "INFO:tensorflow:global_step/sec: 448.26\n"
     ]
    },
    {
     "name": "stderr",
     "output_type": "stream",
     "text": [
      "INFO:tensorflow:global_step/sec: 448.26\n"
     ]
    },
    {
     "name": "stdout",
     "output_type": "stream",
     "text": [
      "INFO:tensorflow:loss = 11.457691, step = 3701 (0.223 sec)\n"
     ]
    },
    {
     "name": "stderr",
     "output_type": "stream",
     "text": [
      "INFO:tensorflow:loss = 11.457691, step = 3701 (0.223 sec)\n"
     ]
    },
    {
     "name": "stdout",
     "output_type": "stream",
     "text": [
      "INFO:tensorflow:global_step/sec: 463.583\n"
     ]
    },
    {
     "name": "stderr",
     "output_type": "stream",
     "text": [
      "INFO:tensorflow:global_step/sec: 463.583\n"
     ]
    },
    {
     "name": "stdout",
     "output_type": "stream",
     "text": [
      "INFO:tensorflow:loss = 15.180565, step = 3801 (0.216 sec)\n"
     ]
    },
    {
     "name": "stderr",
     "output_type": "stream",
     "text": [
      "INFO:tensorflow:loss = 15.180565, step = 3801 (0.216 sec)\n"
     ]
    },
    {
     "name": "stdout",
     "output_type": "stream",
     "text": [
      "INFO:tensorflow:global_step/sec: 458.044\n"
     ]
    },
    {
     "name": "stderr",
     "output_type": "stream",
     "text": [
      "INFO:tensorflow:global_step/sec: 458.044\n"
     ]
    },
    {
     "name": "stdout",
     "output_type": "stream",
     "text": [
      "INFO:tensorflow:loss = 15.071449, step = 3901 (0.218 sec)\n"
     ]
    },
    {
     "name": "stderr",
     "output_type": "stream",
     "text": [
      "INFO:tensorflow:loss = 15.071449, step = 3901 (0.218 sec)\n"
     ]
    },
    {
     "name": "stdout",
     "output_type": "stream",
     "text": [
      "INFO:tensorflow:Saving checkpoints for 3996 into /tmp/tfx-interactive-2019-08-31T21_40_43.017915-r5zd0p45/Trainer/output/7/serving_model_dir/model.ckpt.\n"
     ]
    },
    {
     "name": "stderr",
     "output_type": "stream",
     "text": [
      "INFO:tensorflow:Saving checkpoints for 3996 into /tmp/tfx-interactive-2019-08-31T21_40_43.017915-r5zd0p45/Trainer/output/7/serving_model_dir/model.ckpt.\n"
     ]
    },
    {
     "name": "stdout",
     "output_type": "stream",
     "text": [
      "INFO:tensorflow:Skip the current checkpoint eval due to throttle secs (600 secs).\n"
     ]
    },
    {
     "name": "stderr",
     "output_type": "stream",
     "text": [
      "INFO:tensorflow:Skip the current checkpoint eval due to throttle secs (600 secs).\n"
     ]
    },
    {
     "name": "stdout",
     "output_type": "stream",
     "text": [
      "INFO:tensorflow:global_step/sec: 237.507\n"
     ]
    },
    {
     "name": "stderr",
     "output_type": "stream",
     "text": [
      "INFO:tensorflow:global_step/sec: 237.507\n"
     ]
    },
    {
     "name": "stdout",
     "output_type": "stream",
     "text": [
      "INFO:tensorflow:loss = 14.593008, step = 4001 (0.421 sec)\n"
     ]
    },
    {
     "name": "stderr",
     "output_type": "stream",
     "text": [
      "INFO:tensorflow:loss = 14.593008, step = 4001 (0.421 sec)\n"
     ]
    },
    {
     "name": "stdout",
     "output_type": "stream",
     "text": [
      "INFO:tensorflow:global_step/sec: 429.11\n"
     ]
    },
    {
     "name": "stderr",
     "output_type": "stream",
     "text": [
      "INFO:tensorflow:global_step/sec: 429.11\n"
     ]
    },
    {
     "name": "stdout",
     "output_type": "stream",
     "text": [
      "INFO:tensorflow:loss = 14.778035, step = 4101 (0.233 sec)\n"
     ]
    },
    {
     "name": "stderr",
     "output_type": "stream",
     "text": [
      "INFO:tensorflow:loss = 14.778035, step = 4101 (0.233 sec)\n"
     ]
    },
    {
     "name": "stdout",
     "output_type": "stream",
     "text": [
      "INFO:tensorflow:global_step/sec: 454.648\n"
     ]
    },
    {
     "name": "stderr",
     "output_type": "stream",
     "text": [
      "INFO:tensorflow:global_step/sec: 454.648\n"
     ]
    },
    {
     "name": "stdout",
     "output_type": "stream",
     "text": [
      "INFO:tensorflow:loss = 13.434879, step = 4201 (0.220 sec)\n"
     ]
    },
    {
     "name": "stderr",
     "output_type": "stream",
     "text": [
      "INFO:tensorflow:loss = 13.434879, step = 4201 (0.220 sec)\n"
     ]
    },
    {
     "name": "stdout",
     "output_type": "stream",
     "text": [
      "INFO:tensorflow:global_step/sec: 454.101\n"
     ]
    },
    {
     "name": "stderr",
     "output_type": "stream",
     "text": [
      "INFO:tensorflow:global_step/sec: 454.101\n"
     ]
    },
    {
     "name": "stdout",
     "output_type": "stream",
     "text": [
      "INFO:tensorflow:loss = 15.055007, step = 4301 (0.220 sec)\n"
     ]
    },
    {
     "name": "stderr",
     "output_type": "stream",
     "text": [
      "INFO:tensorflow:loss = 15.055007, step = 4301 (0.220 sec)\n"
     ]
    },
    {
     "name": "stdout",
     "output_type": "stream",
     "text": [
      "INFO:tensorflow:global_step/sec: 455.965\n"
     ]
    },
    {
     "name": "stderr",
     "output_type": "stream",
     "text": [
      "INFO:tensorflow:global_step/sec: 455.965\n"
     ]
    },
    {
     "name": "stdout",
     "output_type": "stream",
     "text": [
      "INFO:tensorflow:loss = 14.095307, step = 4401 (0.219 sec)\n"
     ]
    },
    {
     "name": "stderr",
     "output_type": "stream",
     "text": [
      "INFO:tensorflow:loss = 14.095307, step = 4401 (0.219 sec)\n"
     ]
    },
    {
     "name": "stdout",
     "output_type": "stream",
     "text": [
      "INFO:tensorflow:global_step/sec: 449.178\n"
     ]
    },
    {
     "name": "stderr",
     "output_type": "stream",
     "text": [
      "INFO:tensorflow:global_step/sec: 449.178\n"
     ]
    },
    {
     "name": "stdout",
     "output_type": "stream",
     "text": [
      "INFO:tensorflow:loss = 11.732712, step = 4501 (0.223 sec)\n"
     ]
    },
    {
     "name": "stderr",
     "output_type": "stream",
     "text": [
      "INFO:tensorflow:loss = 11.732712, step = 4501 (0.223 sec)\n"
     ]
    },
    {
     "name": "stdout",
     "output_type": "stream",
     "text": [
      "INFO:tensorflow:global_step/sec: 460.321\n"
     ]
    },
    {
     "name": "stderr",
     "output_type": "stream",
     "text": [
      "INFO:tensorflow:global_step/sec: 460.321\n"
     ]
    },
    {
     "name": "stdout",
     "output_type": "stream",
     "text": [
      "INFO:tensorflow:loss = 16.581951, step = 4601 (0.217 sec)\n"
     ]
    },
    {
     "name": "stderr",
     "output_type": "stream",
     "text": [
      "INFO:tensorflow:loss = 16.581951, step = 4601 (0.217 sec)\n"
     ]
    },
    {
     "name": "stdout",
     "output_type": "stream",
     "text": [
      "INFO:tensorflow:global_step/sec: 465.354\n"
     ]
    },
    {
     "name": "stderr",
     "output_type": "stream",
     "text": [
      "INFO:tensorflow:global_step/sec: 465.354\n"
     ]
    },
    {
     "name": "stdout",
     "output_type": "stream",
     "text": [
      "INFO:tensorflow:loss = 16.82344, step = 4701 (0.215 sec)\n"
     ]
    },
    {
     "name": "stderr",
     "output_type": "stream",
     "text": [
      "INFO:tensorflow:loss = 16.82344, step = 4701 (0.215 sec)\n"
     ]
    },
    {
     "name": "stdout",
     "output_type": "stream",
     "text": [
      "INFO:tensorflow:global_step/sec: 470.317\n"
     ]
    },
    {
     "name": "stderr",
     "output_type": "stream",
     "text": [
      "INFO:tensorflow:global_step/sec: 470.317\n"
     ]
    },
    {
     "name": "stdout",
     "output_type": "stream",
     "text": [
      "INFO:tensorflow:loss = 13.316093, step = 4801 (0.212 sec)\n"
     ]
    },
    {
     "name": "stderr",
     "output_type": "stream",
     "text": [
      "INFO:tensorflow:loss = 13.316093, step = 4801 (0.212 sec)\n"
     ]
    },
    {
     "name": "stdout",
     "output_type": "stream",
     "text": [
      "INFO:tensorflow:global_step/sec: 467.144\n"
     ]
    },
    {
     "name": "stderr",
     "output_type": "stream",
     "text": [
      "INFO:tensorflow:global_step/sec: 467.144\n"
     ]
    },
    {
     "name": "stdout",
     "output_type": "stream",
     "text": [
      "INFO:tensorflow:loss = 13.193698, step = 4901 (0.214 sec)\n"
     ]
    },
    {
     "name": "stderr",
     "output_type": "stream",
     "text": [
      "INFO:tensorflow:loss = 13.193698, step = 4901 (0.214 sec)\n"
     ]
    },
    {
     "name": "stdout",
     "output_type": "stream",
     "text": [
      "INFO:tensorflow:Saving checkpoints for 4995 into /tmp/tfx-interactive-2019-08-31T21_40_43.017915-r5zd0p45/Trainer/output/7/serving_model_dir/model.ckpt.\n"
     ]
    },
    {
     "name": "stderr",
     "output_type": "stream",
     "text": [
      "INFO:tensorflow:Saving checkpoints for 4995 into /tmp/tfx-interactive-2019-08-31T21_40_43.017915-r5zd0p45/Trainer/output/7/serving_model_dir/model.ckpt.\n"
     ]
    },
    {
     "name": "stdout",
     "output_type": "stream",
     "text": [
      "INFO:tensorflow:Skip the current checkpoint eval due to throttle secs (600 secs).\n"
     ]
    },
    {
     "name": "stderr",
     "output_type": "stream",
     "text": [
      "INFO:tensorflow:Skip the current checkpoint eval due to throttle secs (600 secs).\n"
     ]
    },
    {
     "name": "stdout",
     "output_type": "stream",
     "text": [
      "INFO:tensorflow:global_step/sec: 241.204\n"
     ]
    },
    {
     "name": "stderr",
     "output_type": "stream",
     "text": [
      "INFO:tensorflow:global_step/sec: 241.204\n"
     ]
    },
    {
     "name": "stdout",
     "output_type": "stream",
     "text": [
      "INFO:tensorflow:loss = 20.138544, step = 5001 (0.415 sec)\n"
     ]
    },
    {
     "name": "stderr",
     "output_type": "stream",
     "text": [
      "INFO:tensorflow:loss = 20.138544, step = 5001 (0.415 sec)\n"
     ]
    },
    {
     "name": "stdout",
     "output_type": "stream",
     "text": [
      "INFO:tensorflow:global_step/sec: 449.105\n"
     ]
    },
    {
     "name": "stderr",
     "output_type": "stream",
     "text": [
      "INFO:tensorflow:global_step/sec: 449.105\n"
     ]
    },
    {
     "name": "stdout",
     "output_type": "stream",
     "text": [
      "INFO:tensorflow:loss = 11.775829, step = 5101 (0.223 sec)\n"
     ]
    },
    {
     "name": "stderr",
     "output_type": "stream",
     "text": [
      "INFO:tensorflow:loss = 11.775829, step = 5101 (0.223 sec)\n"
     ]
    },
    {
     "name": "stdout",
     "output_type": "stream",
     "text": [
      "INFO:tensorflow:global_step/sec: 443.766\n"
     ]
    },
    {
     "name": "stderr",
     "output_type": "stream",
     "text": [
      "INFO:tensorflow:global_step/sec: 443.766\n"
     ]
    },
    {
     "name": "stdout",
     "output_type": "stream",
     "text": [
      "INFO:tensorflow:loss = 9.252991, step = 5201 (0.225 sec)\n"
     ]
    },
    {
     "name": "stderr",
     "output_type": "stream",
     "text": [
      "INFO:tensorflow:loss = 9.252991, step = 5201 (0.225 sec)\n"
     ]
    },
    {
     "name": "stdout",
     "output_type": "stream",
     "text": [
      "INFO:tensorflow:global_step/sec: 408.297\n"
     ]
    },
    {
     "name": "stderr",
     "output_type": "stream",
     "text": [
      "INFO:tensorflow:global_step/sec: 408.297\n"
     ]
    },
    {
     "name": "stdout",
     "output_type": "stream",
     "text": [
      "INFO:tensorflow:loss = 14.881058, step = 5301 (0.245 sec)\n"
     ]
    },
    {
     "name": "stderr",
     "output_type": "stream",
     "text": [
      "INFO:tensorflow:loss = 14.881058, step = 5301 (0.245 sec)\n"
     ]
    },
    {
     "name": "stdout",
     "output_type": "stream",
     "text": [
      "INFO:tensorflow:global_step/sec: 468.618\n"
     ]
    },
    {
     "name": "stderr",
     "output_type": "stream",
     "text": [
      "INFO:tensorflow:global_step/sec: 468.618\n"
     ]
    },
    {
     "name": "stdout",
     "output_type": "stream",
     "text": [
      "INFO:tensorflow:loss = 11.465147, step = 5401 (0.213 sec)\n"
     ]
    },
    {
     "name": "stderr",
     "output_type": "stream",
     "text": [
      "INFO:tensorflow:loss = 11.465147, step = 5401 (0.213 sec)\n"
     ]
    },
    {
     "name": "stdout",
     "output_type": "stream",
     "text": [
      "INFO:tensorflow:global_step/sec: 460.417\n"
     ]
    },
    {
     "name": "stderr",
     "output_type": "stream",
     "text": [
      "INFO:tensorflow:global_step/sec: 460.417\n"
     ]
    },
    {
     "name": "stdout",
     "output_type": "stream",
     "text": [
      "INFO:tensorflow:loss = 10.097292, step = 5501 (0.218 sec)\n"
     ]
    },
    {
     "name": "stderr",
     "output_type": "stream",
     "text": [
      "INFO:tensorflow:loss = 10.097292, step = 5501 (0.218 sec)\n"
     ]
    },
    {
     "name": "stdout",
     "output_type": "stream",
     "text": [
      "INFO:tensorflow:global_step/sec: 470.826\n"
     ]
    },
    {
     "name": "stderr",
     "output_type": "stream",
     "text": [
      "INFO:tensorflow:global_step/sec: 470.826\n"
     ]
    },
    {
     "name": "stdout",
     "output_type": "stream",
     "text": [
      "INFO:tensorflow:loss = 14.823864, step = 5601 (0.212 sec)\n"
     ]
    },
    {
     "name": "stderr",
     "output_type": "stream",
     "text": [
      "INFO:tensorflow:loss = 14.823864, step = 5601 (0.212 sec)\n"
     ]
    },
    {
     "name": "stdout",
     "output_type": "stream",
     "text": [
      "INFO:tensorflow:global_step/sec: 450.21\n"
     ]
    },
    {
     "name": "stderr",
     "output_type": "stream",
     "text": [
      "INFO:tensorflow:global_step/sec: 450.21\n"
     ]
    },
    {
     "name": "stdout",
     "output_type": "stream",
     "text": [
      "INFO:tensorflow:loss = 15.455873, step = 5701 (0.222 sec)\n"
     ]
    },
    {
     "name": "stderr",
     "output_type": "stream",
     "text": [
      "INFO:tensorflow:loss = 15.455873, step = 5701 (0.222 sec)\n"
     ]
    },
    {
     "name": "stdout",
     "output_type": "stream",
     "text": [
      "INFO:tensorflow:global_step/sec: 468.442\n"
     ]
    },
    {
     "name": "stderr",
     "output_type": "stream",
     "text": [
      "INFO:tensorflow:global_step/sec: 468.442\n"
     ]
    },
    {
     "name": "stdout",
     "output_type": "stream",
     "text": [
      "INFO:tensorflow:loss = 16.20431, step = 5801 (0.214 sec)\n"
     ]
    },
    {
     "name": "stderr",
     "output_type": "stream",
     "text": [
      "INFO:tensorflow:loss = 16.20431, step = 5801 (0.214 sec)\n"
     ]
    },
    {
     "name": "stdout",
     "output_type": "stream",
     "text": [
      "INFO:tensorflow:global_step/sec: 448.367\n"
     ]
    },
    {
     "name": "stderr",
     "output_type": "stream",
     "text": [
      "INFO:tensorflow:global_step/sec: 448.367\n"
     ]
    },
    {
     "name": "stdout",
     "output_type": "stream",
     "text": [
      "INFO:tensorflow:loss = 16.911373, step = 5901 (0.223 sec)\n"
     ]
    },
    {
     "name": "stderr",
     "output_type": "stream",
     "text": [
      "INFO:tensorflow:loss = 16.911373, step = 5901 (0.223 sec)\n"
     ]
    },
    {
     "name": "stdout",
     "output_type": "stream",
     "text": [
      "INFO:tensorflow:Saving checkpoints for 5994 into /tmp/tfx-interactive-2019-08-31T21_40_43.017915-r5zd0p45/Trainer/output/7/serving_model_dir/model.ckpt.\n"
     ]
    },
    {
     "name": "stderr",
     "output_type": "stream",
     "text": [
      "INFO:tensorflow:Saving checkpoints for 5994 into /tmp/tfx-interactive-2019-08-31T21_40_43.017915-r5zd0p45/Trainer/output/7/serving_model_dir/model.ckpt.\n"
     ]
    },
    {
     "name": "stdout",
     "output_type": "stream",
     "text": [
      "INFO:tensorflow:Skip the current checkpoint eval due to throttle secs (600 secs).\n"
     ]
    },
    {
     "name": "stderr",
     "output_type": "stream",
     "text": [
      "INFO:tensorflow:Skip the current checkpoint eval due to throttle secs (600 secs).\n"
     ]
    },
    {
     "name": "stdout",
     "output_type": "stream",
     "text": [
      "INFO:tensorflow:global_step/sec: 233.655\n"
     ]
    },
    {
     "name": "stderr",
     "output_type": "stream",
     "text": [
      "INFO:tensorflow:global_step/sec: 233.655\n"
     ]
    },
    {
     "name": "stdout",
     "output_type": "stream",
     "text": [
      "INFO:tensorflow:loss = 12.624933, step = 6001 (0.428 sec)\n"
     ]
    },
    {
     "name": "stderr",
     "output_type": "stream",
     "text": [
      "INFO:tensorflow:loss = 12.624933, step = 6001 (0.428 sec)\n"
     ]
    },
    {
     "name": "stdout",
     "output_type": "stream",
     "text": [
      "INFO:tensorflow:global_step/sec: 450.15\n"
     ]
    },
    {
     "name": "stderr",
     "output_type": "stream",
     "text": [
      "INFO:tensorflow:global_step/sec: 450.15\n"
     ]
    },
    {
     "name": "stdout",
     "output_type": "stream",
     "text": [
      "INFO:tensorflow:loss = 11.120356, step = 6101 (0.223 sec)\n"
     ]
    },
    {
     "name": "stderr",
     "output_type": "stream",
     "text": [
      "INFO:tensorflow:loss = 11.120356, step = 6101 (0.223 sec)\n"
     ]
    },
    {
     "name": "stdout",
     "output_type": "stream",
     "text": [
      "INFO:tensorflow:global_step/sec: 439.716\n"
     ]
    },
    {
     "name": "stderr",
     "output_type": "stream",
     "text": [
      "INFO:tensorflow:global_step/sec: 439.716\n"
     ]
    },
    {
     "name": "stdout",
     "output_type": "stream",
     "text": [
      "INFO:tensorflow:loss = 17.485762, step = 6201 (0.227 sec)\n"
     ]
    },
    {
     "name": "stderr",
     "output_type": "stream",
     "text": [
      "INFO:tensorflow:loss = 17.485762, step = 6201 (0.227 sec)\n"
     ]
    },
    {
     "name": "stdout",
     "output_type": "stream",
     "text": [
      "INFO:tensorflow:global_step/sec: 446.458\n"
     ]
    },
    {
     "name": "stderr",
     "output_type": "stream",
     "text": [
      "INFO:tensorflow:global_step/sec: 446.458\n"
     ]
    },
    {
     "name": "stdout",
     "output_type": "stream",
     "text": [
      "INFO:tensorflow:loss = 18.255795, step = 6301 (0.224 sec)\n"
     ]
    },
    {
     "name": "stderr",
     "output_type": "stream",
     "text": [
      "INFO:tensorflow:loss = 18.255795, step = 6301 (0.224 sec)\n"
     ]
    },
    {
     "name": "stdout",
     "output_type": "stream",
     "text": [
      "INFO:tensorflow:global_step/sec: 464.624\n"
     ]
    },
    {
     "name": "stderr",
     "output_type": "stream",
     "text": [
      "INFO:tensorflow:global_step/sec: 464.624\n"
     ]
    },
    {
     "name": "stdout",
     "output_type": "stream",
     "text": [
      "INFO:tensorflow:loss = 12.563147, step = 6401 (0.215 sec)\n"
     ]
    },
    {
     "name": "stderr",
     "output_type": "stream",
     "text": [
      "INFO:tensorflow:loss = 12.563147, step = 6401 (0.215 sec)\n"
     ]
    },
    {
     "name": "stdout",
     "output_type": "stream",
     "text": [
      "INFO:tensorflow:global_step/sec: 459.909\n"
     ]
    },
    {
     "name": "stderr",
     "output_type": "stream",
     "text": [
      "INFO:tensorflow:global_step/sec: 459.909\n"
     ]
    },
    {
     "name": "stdout",
     "output_type": "stream",
     "text": [
      "INFO:tensorflow:loss = 17.210249, step = 6501 (0.218 sec)\n"
     ]
    },
    {
     "name": "stderr",
     "output_type": "stream",
     "text": [
      "INFO:tensorflow:loss = 17.210249, step = 6501 (0.218 sec)\n"
     ]
    },
    {
     "name": "stdout",
     "output_type": "stream",
     "text": [
      "INFO:tensorflow:global_step/sec: 455.555\n"
     ]
    },
    {
     "name": "stderr",
     "output_type": "stream",
     "text": [
      "INFO:tensorflow:global_step/sec: 455.555\n"
     ]
    },
    {
     "name": "stdout",
     "output_type": "stream",
     "text": [
      "INFO:tensorflow:loss = 16.835619, step = 6601 (0.220 sec)\n"
     ]
    },
    {
     "name": "stderr",
     "output_type": "stream",
     "text": [
      "INFO:tensorflow:loss = 16.835619, step = 6601 (0.220 sec)\n"
     ]
    },
    {
     "name": "stdout",
     "output_type": "stream",
     "text": [
      "INFO:tensorflow:global_step/sec: 458.154\n"
     ]
    },
    {
     "name": "stderr",
     "output_type": "stream",
     "text": [
      "INFO:tensorflow:global_step/sec: 458.154\n"
     ]
    },
    {
     "name": "stdout",
     "output_type": "stream",
     "text": [
      "INFO:tensorflow:loss = 13.236585, step = 6701 (0.218 sec)\n"
     ]
    },
    {
     "name": "stderr",
     "output_type": "stream",
     "text": [
      "INFO:tensorflow:loss = 13.236585, step = 6701 (0.218 sec)\n"
     ]
    },
    {
     "name": "stdout",
     "output_type": "stream",
     "text": [
      "INFO:tensorflow:global_step/sec: 451.09\n"
     ]
    },
    {
     "name": "stderr",
     "output_type": "stream",
     "text": [
      "INFO:tensorflow:global_step/sec: 451.09\n"
     ]
    },
    {
     "name": "stdout",
     "output_type": "stream",
     "text": [
      "INFO:tensorflow:loss = 18.477966, step = 6801 (0.222 sec)\n"
     ]
    },
    {
     "name": "stderr",
     "output_type": "stream",
     "text": [
      "INFO:tensorflow:loss = 18.477966, step = 6801 (0.222 sec)\n"
     ]
    },
    {
     "name": "stdout",
     "output_type": "stream",
     "text": [
      "INFO:tensorflow:global_step/sec: 457.397\n"
     ]
    },
    {
     "name": "stderr",
     "output_type": "stream",
     "text": [
      "INFO:tensorflow:global_step/sec: 457.397\n"
     ]
    },
    {
     "name": "stdout",
     "output_type": "stream",
     "text": [
      "INFO:tensorflow:loss = 13.218569, step = 6901 (0.219 sec)\n"
     ]
    },
    {
     "name": "stderr",
     "output_type": "stream",
     "text": [
      "INFO:tensorflow:loss = 13.218569, step = 6901 (0.219 sec)\n"
     ]
    },
    {
     "name": "stdout",
     "output_type": "stream",
     "text": [
      "INFO:tensorflow:Saving checkpoints for 6993 into /tmp/tfx-interactive-2019-08-31T21_40_43.017915-r5zd0p45/Trainer/output/7/serving_model_dir/model.ckpt.\n"
     ]
    },
    {
     "name": "stderr",
     "output_type": "stream",
     "text": [
      "INFO:tensorflow:Saving checkpoints for 6993 into /tmp/tfx-interactive-2019-08-31T21_40_43.017915-r5zd0p45/Trainer/output/7/serving_model_dir/model.ckpt.\n"
     ]
    },
    {
     "name": "stdout",
     "output_type": "stream",
     "text": [
      "INFO:tensorflow:Skip the current checkpoint eval due to throttle secs (600 secs).\n"
     ]
    },
    {
     "name": "stderr",
     "output_type": "stream",
     "text": [
      "INFO:tensorflow:Skip the current checkpoint eval due to throttle secs (600 secs).\n"
     ]
    },
    {
     "name": "stdout",
     "output_type": "stream",
     "text": [
      "INFO:tensorflow:global_step/sec: 238.016\n"
     ]
    },
    {
     "name": "stderr",
     "output_type": "stream",
     "text": [
      "INFO:tensorflow:global_step/sec: 238.016\n"
     ]
    },
    {
     "name": "stdout",
     "output_type": "stream",
     "text": [
      "INFO:tensorflow:loss = 14.913286, step = 7001 (0.420 sec)\n"
     ]
    },
    {
     "name": "stderr",
     "output_type": "stream",
     "text": [
      "INFO:tensorflow:loss = 14.913286, step = 7001 (0.420 sec)\n"
     ]
    },
    {
     "name": "stdout",
     "output_type": "stream",
     "text": [
      "INFO:tensorflow:global_step/sec: 455.88\n"
     ]
    },
    {
     "name": "stderr",
     "output_type": "stream",
     "text": [
      "INFO:tensorflow:global_step/sec: 455.88\n"
     ]
    },
    {
     "name": "stdout",
     "output_type": "stream",
     "text": [
      "INFO:tensorflow:loss = 13.436152, step = 7101 (0.219 sec)\n"
     ]
    },
    {
     "name": "stderr",
     "output_type": "stream",
     "text": [
      "INFO:tensorflow:loss = 13.436152, step = 7101 (0.219 sec)\n"
     ]
    },
    {
     "name": "stdout",
     "output_type": "stream",
     "text": [
      "INFO:tensorflow:global_step/sec: 449.689\n"
     ]
    },
    {
     "name": "stderr",
     "output_type": "stream",
     "text": [
      "INFO:tensorflow:global_step/sec: 449.689\n"
     ]
    },
    {
     "name": "stdout",
     "output_type": "stream",
     "text": [
      "INFO:tensorflow:loss = 17.231419, step = 7201 (0.223 sec)\n"
     ]
    },
    {
     "name": "stderr",
     "output_type": "stream",
     "text": [
      "INFO:tensorflow:loss = 17.231419, step = 7201 (0.223 sec)\n"
     ]
    },
    {
     "name": "stdout",
     "output_type": "stream",
     "text": [
      "INFO:tensorflow:global_step/sec: 444.295\n"
     ]
    },
    {
     "name": "stderr",
     "output_type": "stream",
     "text": [
      "INFO:tensorflow:global_step/sec: 444.295\n"
     ]
    },
    {
     "name": "stdout",
     "output_type": "stream",
     "text": [
      "INFO:tensorflow:loss = 19.512098, step = 7301 (0.225 sec)\n"
     ]
    },
    {
     "name": "stderr",
     "output_type": "stream",
     "text": [
      "INFO:tensorflow:loss = 19.512098, step = 7301 (0.225 sec)\n"
     ]
    },
    {
     "name": "stdout",
     "output_type": "stream",
     "text": [
      "INFO:tensorflow:global_step/sec: 447.711\n"
     ]
    },
    {
     "name": "stderr",
     "output_type": "stream",
     "text": [
      "INFO:tensorflow:global_step/sec: 447.711\n"
     ]
    },
    {
     "name": "stdout",
     "output_type": "stream",
     "text": [
      "INFO:tensorflow:loss = 11.680953, step = 7401 (0.223 sec)\n"
     ]
    },
    {
     "name": "stderr",
     "output_type": "stream",
     "text": [
      "INFO:tensorflow:loss = 11.680953, step = 7401 (0.223 sec)\n"
     ]
    },
    {
     "name": "stdout",
     "output_type": "stream",
     "text": [
      "INFO:tensorflow:global_step/sec: 456.713\n"
     ]
    },
    {
     "name": "stderr",
     "output_type": "stream",
     "text": [
      "INFO:tensorflow:global_step/sec: 456.713\n"
     ]
    },
    {
     "name": "stdout",
     "output_type": "stream",
     "text": [
      "INFO:tensorflow:loss = 13.570917, step = 7501 (0.219 sec)\n"
     ]
    },
    {
     "name": "stderr",
     "output_type": "stream",
     "text": [
      "INFO:tensorflow:loss = 13.570917, step = 7501 (0.219 sec)\n"
     ]
    },
    {
     "name": "stdout",
     "output_type": "stream",
     "text": [
      "INFO:tensorflow:global_step/sec: 437.515\n"
     ]
    },
    {
     "name": "stderr",
     "output_type": "stream",
     "text": [
      "INFO:tensorflow:global_step/sec: 437.515\n"
     ]
    },
    {
     "name": "stdout",
     "output_type": "stream",
     "text": [
      "INFO:tensorflow:loss = 12.833568, step = 7601 (0.229 sec)\n"
     ]
    },
    {
     "name": "stderr",
     "output_type": "stream",
     "text": [
      "INFO:tensorflow:loss = 12.833568, step = 7601 (0.229 sec)\n"
     ]
    },
    {
     "name": "stdout",
     "output_type": "stream",
     "text": [
      "INFO:tensorflow:global_step/sec: 443.256\n"
     ]
    },
    {
     "name": "stderr",
     "output_type": "stream",
     "text": [
      "INFO:tensorflow:global_step/sec: 443.256\n"
     ]
    },
    {
     "name": "stdout",
     "output_type": "stream",
     "text": [
      "INFO:tensorflow:loss = 16.182205, step = 7701 (0.225 sec)\n"
     ]
    },
    {
     "name": "stderr",
     "output_type": "stream",
     "text": [
      "INFO:tensorflow:loss = 16.182205, step = 7701 (0.225 sec)\n"
     ]
    },
    {
     "name": "stdout",
     "output_type": "stream",
     "text": [
      "INFO:tensorflow:global_step/sec: 437.236\n"
     ]
    },
    {
     "name": "stderr",
     "output_type": "stream",
     "text": [
      "INFO:tensorflow:global_step/sec: 437.236\n"
     ]
    },
    {
     "name": "stdout",
     "output_type": "stream",
     "text": [
      "INFO:tensorflow:loss = 14.672223, step = 7801 (0.230 sec)\n"
     ]
    },
    {
     "name": "stderr",
     "output_type": "stream",
     "text": [
      "INFO:tensorflow:loss = 14.672223, step = 7801 (0.230 sec)\n"
     ]
    },
    {
     "name": "stdout",
     "output_type": "stream",
     "text": [
      "INFO:tensorflow:global_step/sec: 408.981\n"
     ]
    },
    {
     "name": "stderr",
     "output_type": "stream",
     "text": [
      "INFO:tensorflow:global_step/sec: 408.981\n"
     ]
    },
    {
     "name": "stdout",
     "output_type": "stream",
     "text": [
      "INFO:tensorflow:loss = 15.733184, step = 7901 (0.244 sec)\n"
     ]
    },
    {
     "name": "stderr",
     "output_type": "stream",
     "text": [
      "INFO:tensorflow:loss = 15.733184, step = 7901 (0.244 sec)\n"
     ]
    },
    {
     "name": "stdout",
     "output_type": "stream",
     "text": [
      "INFO:tensorflow:Saving checkpoints for 7992 into /tmp/tfx-interactive-2019-08-31T21_40_43.017915-r5zd0p45/Trainer/output/7/serving_model_dir/model.ckpt.\n"
     ]
    },
    {
     "name": "stderr",
     "output_type": "stream",
     "text": [
      "INFO:tensorflow:Saving checkpoints for 7992 into /tmp/tfx-interactive-2019-08-31T21_40_43.017915-r5zd0p45/Trainer/output/7/serving_model_dir/model.ckpt.\n"
     ]
    },
    {
     "name": "stdout",
     "output_type": "stream",
     "text": [
      "INFO:tensorflow:Skip the current checkpoint eval due to throttle secs (600 secs).\n"
     ]
    },
    {
     "name": "stderr",
     "output_type": "stream",
     "text": [
      "INFO:tensorflow:Skip the current checkpoint eval due to throttle secs (600 secs).\n"
     ]
    },
    {
     "name": "stdout",
     "output_type": "stream",
     "text": [
      "INFO:tensorflow:global_step/sec: 239.464\n"
     ]
    },
    {
     "name": "stderr",
     "output_type": "stream",
     "text": [
      "INFO:tensorflow:global_step/sec: 239.464\n"
     ]
    },
    {
     "name": "stdout",
     "output_type": "stream",
     "text": [
      "INFO:tensorflow:loss = 12.008291, step = 8001 (0.417 sec)\n"
     ]
    },
    {
     "name": "stderr",
     "output_type": "stream",
     "text": [
      "INFO:tensorflow:loss = 12.008291, step = 8001 (0.417 sec)\n"
     ]
    },
    {
     "name": "stdout",
     "output_type": "stream",
     "text": [
      "INFO:tensorflow:global_step/sec: 452.004\n"
     ]
    },
    {
     "name": "stderr",
     "output_type": "stream",
     "text": [
      "INFO:tensorflow:global_step/sec: 452.004\n"
     ]
    },
    {
     "name": "stdout",
     "output_type": "stream",
     "text": [
      "INFO:tensorflow:loss = 14.155996, step = 8101 (0.221 sec)\n"
     ]
    },
    {
     "name": "stderr",
     "output_type": "stream",
     "text": [
      "INFO:tensorflow:loss = 14.155996, step = 8101 (0.221 sec)\n"
     ]
    },
    {
     "name": "stdout",
     "output_type": "stream",
     "text": [
      "INFO:tensorflow:global_step/sec: 454.515\n"
     ]
    },
    {
     "name": "stderr",
     "output_type": "stream",
     "text": [
      "INFO:tensorflow:global_step/sec: 454.515\n"
     ]
    },
    {
     "name": "stdout",
     "output_type": "stream",
     "text": [
      "INFO:tensorflow:loss = 12.997936, step = 8201 (0.220 sec)\n"
     ]
    },
    {
     "name": "stderr",
     "output_type": "stream",
     "text": [
      "INFO:tensorflow:loss = 12.997936, step = 8201 (0.220 sec)\n"
     ]
    },
    {
     "name": "stdout",
     "output_type": "stream",
     "text": [
      "INFO:tensorflow:global_step/sec: 452.665\n"
     ]
    },
    {
     "name": "stderr",
     "output_type": "stream",
     "text": [
      "INFO:tensorflow:global_step/sec: 452.665\n"
     ]
    },
    {
     "name": "stdout",
     "output_type": "stream",
     "text": [
      "INFO:tensorflow:loss = 12.27034, step = 8301 (0.221 sec)\n"
     ]
    },
    {
     "name": "stderr",
     "output_type": "stream",
     "text": [
      "INFO:tensorflow:loss = 12.27034, step = 8301 (0.221 sec)\n"
     ]
    },
    {
     "name": "stdout",
     "output_type": "stream",
     "text": [
      "INFO:tensorflow:global_step/sec: 451.897\n"
     ]
    },
    {
     "name": "stderr",
     "output_type": "stream",
     "text": [
      "INFO:tensorflow:global_step/sec: 451.897\n"
     ]
    },
    {
     "name": "stdout",
     "output_type": "stream",
     "text": [
      "INFO:tensorflow:loss = 13.004834, step = 8401 (0.221 sec)\n"
     ]
    },
    {
     "name": "stderr",
     "output_type": "stream",
     "text": [
      "INFO:tensorflow:loss = 13.004834, step = 8401 (0.221 sec)\n"
     ]
    },
    {
     "name": "stdout",
     "output_type": "stream",
     "text": [
      "INFO:tensorflow:global_step/sec: 465.735\n"
     ]
    },
    {
     "name": "stderr",
     "output_type": "stream",
     "text": [
      "INFO:tensorflow:global_step/sec: 465.735\n"
     ]
    },
    {
     "name": "stdout",
     "output_type": "stream",
     "text": [
      "INFO:tensorflow:loss = 9.30171, step = 8501 (0.215 sec)\n"
     ]
    },
    {
     "name": "stderr",
     "output_type": "stream",
     "text": [
      "INFO:tensorflow:loss = 9.30171, step = 8501 (0.215 sec)\n"
     ]
    },
    {
     "name": "stdout",
     "output_type": "stream",
     "text": [
      "INFO:tensorflow:global_step/sec: 447.81\n"
     ]
    },
    {
     "name": "stderr",
     "output_type": "stream",
     "text": [
      "INFO:tensorflow:global_step/sec: 447.81\n"
     ]
    },
    {
     "name": "stdout",
     "output_type": "stream",
     "text": [
      "INFO:tensorflow:loss = 16.654392, step = 8601 (0.223 sec)\n"
     ]
    },
    {
     "name": "stderr",
     "output_type": "stream",
     "text": [
      "INFO:tensorflow:loss = 16.654392, step = 8601 (0.223 sec)\n"
     ]
    },
    {
     "name": "stdout",
     "output_type": "stream",
     "text": [
      "INFO:tensorflow:global_step/sec: 457.595\n"
     ]
    },
    {
     "name": "stderr",
     "output_type": "stream",
     "text": [
      "INFO:tensorflow:global_step/sec: 457.595\n"
     ]
    },
    {
     "name": "stdout",
     "output_type": "stream",
     "text": [
      "INFO:tensorflow:loss = 13.548441, step = 8701 (0.219 sec)\n"
     ]
    },
    {
     "name": "stderr",
     "output_type": "stream",
     "text": [
      "INFO:tensorflow:loss = 13.548441, step = 8701 (0.219 sec)\n"
     ]
    },
    {
     "name": "stdout",
     "output_type": "stream",
     "text": [
      "INFO:tensorflow:global_step/sec: 459.496\n"
     ]
    },
    {
     "name": "stderr",
     "output_type": "stream",
     "text": [
      "INFO:tensorflow:global_step/sec: 459.496\n"
     ]
    },
    {
     "name": "stdout",
     "output_type": "stream",
     "text": [
      "INFO:tensorflow:loss = 12.715734, step = 8801 (0.218 sec)\n"
     ]
    },
    {
     "name": "stderr",
     "output_type": "stream",
     "text": [
      "INFO:tensorflow:loss = 12.715734, step = 8801 (0.218 sec)\n"
     ]
    },
    {
     "name": "stdout",
     "output_type": "stream",
     "text": [
      "INFO:tensorflow:global_step/sec: 458.411\n"
     ]
    },
    {
     "name": "stderr",
     "output_type": "stream",
     "text": [
      "INFO:tensorflow:global_step/sec: 458.411\n"
     ]
    },
    {
     "name": "stdout",
     "output_type": "stream",
     "text": [
      "INFO:tensorflow:loss = 12.795879, step = 8901 (0.218 sec)\n"
     ]
    },
    {
     "name": "stderr",
     "output_type": "stream",
     "text": [
      "INFO:tensorflow:loss = 12.795879, step = 8901 (0.218 sec)\n"
     ]
    },
    {
     "name": "stdout",
     "output_type": "stream",
     "text": [
      "INFO:tensorflow:Saving checkpoints for 8991 into /tmp/tfx-interactive-2019-08-31T21_40_43.017915-r5zd0p45/Trainer/output/7/serving_model_dir/model.ckpt.\n"
     ]
    },
    {
     "name": "stderr",
     "output_type": "stream",
     "text": [
      "INFO:tensorflow:Saving checkpoints for 8991 into /tmp/tfx-interactive-2019-08-31T21_40_43.017915-r5zd0p45/Trainer/output/7/serving_model_dir/model.ckpt.\n"
     ]
    },
    {
     "name": "stdout",
     "output_type": "stream",
     "text": [
      "INFO:tensorflow:Skip the current checkpoint eval due to throttle secs (600 secs).\n"
     ]
    },
    {
     "name": "stderr",
     "output_type": "stream",
     "text": [
      "INFO:tensorflow:Skip the current checkpoint eval due to throttle secs (600 secs).\n"
     ]
    },
    {
     "name": "stdout",
     "output_type": "stream",
     "text": [
      "INFO:tensorflow:global_step/sec: 239.4\n"
     ]
    },
    {
     "name": "stderr",
     "output_type": "stream",
     "text": [
      "INFO:tensorflow:global_step/sec: 239.4\n"
     ]
    },
    {
     "name": "stdout",
     "output_type": "stream",
     "text": [
      "INFO:tensorflow:loss = 11.413872, step = 9001 (0.418 sec)\n"
     ]
    },
    {
     "name": "stderr",
     "output_type": "stream",
     "text": [
      "INFO:tensorflow:loss = 11.413872, step = 9001 (0.418 sec)\n"
     ]
    },
    {
     "name": "stdout",
     "output_type": "stream",
     "text": [
      "INFO:tensorflow:global_step/sec: 459.755\n"
     ]
    },
    {
     "name": "stderr",
     "output_type": "stream",
     "text": [
      "INFO:tensorflow:global_step/sec: 459.755\n"
     ]
    },
    {
     "name": "stdout",
     "output_type": "stream",
     "text": [
      "INFO:tensorflow:loss = 16.218895, step = 9101 (0.218 sec)\n"
     ]
    },
    {
     "name": "stderr",
     "output_type": "stream",
     "text": [
      "INFO:tensorflow:loss = 16.218895, step = 9101 (0.218 sec)\n"
     ]
    },
    {
     "name": "stdout",
     "output_type": "stream",
     "text": [
      "INFO:tensorflow:global_step/sec: 465.851\n"
     ]
    },
    {
     "name": "stderr",
     "output_type": "stream",
     "text": [
      "INFO:tensorflow:global_step/sec: 465.851\n"
     ]
    },
    {
     "name": "stdout",
     "output_type": "stream",
     "text": [
      "INFO:tensorflow:loss = 12.367506, step = 9201 (0.215 sec)\n"
     ]
    },
    {
     "name": "stderr",
     "output_type": "stream",
     "text": [
      "INFO:tensorflow:loss = 12.367506, step = 9201 (0.215 sec)\n"
     ]
    },
    {
     "name": "stdout",
     "output_type": "stream",
     "text": [
      "INFO:tensorflow:global_step/sec: 454.107\n"
     ]
    },
    {
     "name": "stderr",
     "output_type": "stream",
     "text": [
      "INFO:tensorflow:global_step/sec: 454.107\n"
     ]
    },
    {
     "name": "stdout",
     "output_type": "stream",
     "text": [
      "INFO:tensorflow:loss = 10.642929, step = 9301 (0.220 sec)\n"
     ]
    },
    {
     "name": "stderr",
     "output_type": "stream",
     "text": [
      "INFO:tensorflow:loss = 10.642929, step = 9301 (0.220 sec)\n"
     ]
    },
    {
     "name": "stdout",
     "output_type": "stream",
     "text": [
      "INFO:tensorflow:global_step/sec: 438.928\n"
     ]
    },
    {
     "name": "stderr",
     "output_type": "stream",
     "text": [
      "INFO:tensorflow:global_step/sec: 438.928\n"
     ]
    },
    {
     "name": "stdout",
     "output_type": "stream",
     "text": [
      "INFO:tensorflow:loss = 15.451093, step = 9401 (0.228 sec)\n"
     ]
    },
    {
     "name": "stderr",
     "output_type": "stream",
     "text": [
      "INFO:tensorflow:loss = 15.451093, step = 9401 (0.228 sec)\n"
     ]
    },
    {
     "name": "stdout",
     "output_type": "stream",
     "text": [
      "INFO:tensorflow:global_step/sec: 446.621\n"
     ]
    },
    {
     "name": "stderr",
     "output_type": "stream",
     "text": [
      "INFO:tensorflow:global_step/sec: 446.621\n"
     ]
    },
    {
     "name": "stdout",
     "output_type": "stream",
     "text": [
      "INFO:tensorflow:loss = 10.5804615, step = 9501 (0.224 sec)\n"
     ]
    },
    {
     "name": "stderr",
     "output_type": "stream",
     "text": [
      "INFO:tensorflow:loss = 10.5804615, step = 9501 (0.224 sec)\n"
     ]
    },
    {
     "name": "stdout",
     "output_type": "stream",
     "text": [
      "INFO:tensorflow:global_step/sec: 441.41\n"
     ]
    },
    {
     "name": "stderr",
     "output_type": "stream",
     "text": [
      "INFO:tensorflow:global_step/sec: 441.41\n"
     ]
    },
    {
     "name": "stdout",
     "output_type": "stream",
     "text": [
      "INFO:tensorflow:loss = 13.810587, step = 9601 (0.227 sec)\n"
     ]
    },
    {
     "name": "stderr",
     "output_type": "stream",
     "text": [
      "INFO:tensorflow:loss = 13.810587, step = 9601 (0.227 sec)\n"
     ]
    },
    {
     "name": "stdout",
     "output_type": "stream",
     "text": [
      "INFO:tensorflow:global_step/sec: 427.781\n"
     ]
    },
    {
     "name": "stderr",
     "output_type": "stream",
     "text": [
      "INFO:tensorflow:global_step/sec: 427.781\n"
     ]
    },
    {
     "name": "stdout",
     "output_type": "stream",
     "text": [
      "INFO:tensorflow:loss = 10.241638, step = 9701 (0.233 sec)\n"
     ]
    },
    {
     "name": "stderr",
     "output_type": "stream",
     "text": [
      "INFO:tensorflow:loss = 10.241638, step = 9701 (0.233 sec)\n"
     ]
    },
    {
     "name": "stdout",
     "output_type": "stream",
     "text": [
      "INFO:tensorflow:global_step/sec: 426.161\n"
     ]
    },
    {
     "name": "stderr",
     "output_type": "stream",
     "text": [
      "INFO:tensorflow:global_step/sec: 426.161\n"
     ]
    },
    {
     "name": "stdout",
     "output_type": "stream",
     "text": [
      "INFO:tensorflow:loss = 14.763855, step = 9801 (0.235 sec)\n"
     ]
    },
    {
     "name": "stderr",
     "output_type": "stream",
     "text": [
      "INFO:tensorflow:loss = 14.763855, step = 9801 (0.235 sec)\n"
     ]
    },
    {
     "name": "stdout",
     "output_type": "stream",
     "text": [
      "INFO:tensorflow:global_step/sec: 423.001\n"
     ]
    },
    {
     "name": "stderr",
     "output_type": "stream",
     "text": [
      "INFO:tensorflow:global_step/sec: 423.001\n"
     ]
    },
    {
     "name": "stdout",
     "output_type": "stream",
     "text": [
      "INFO:tensorflow:loss = 12.579477, step = 9901 (0.236 sec)\n"
     ]
    },
    {
     "name": "stderr",
     "output_type": "stream",
     "text": [
      "INFO:tensorflow:loss = 12.579477, step = 9901 (0.236 sec)\n"
     ]
    },
    {
     "name": "stdout",
     "output_type": "stream",
     "text": [
      "INFO:tensorflow:Saving checkpoints for 9990 into /tmp/tfx-interactive-2019-08-31T21_40_43.017915-r5zd0p45/Trainer/output/7/serving_model_dir/model.ckpt.\n"
     ]
    },
    {
     "name": "stderr",
     "output_type": "stream",
     "text": [
      "INFO:tensorflow:Saving checkpoints for 9990 into /tmp/tfx-interactive-2019-08-31T21_40_43.017915-r5zd0p45/Trainer/output/7/serving_model_dir/model.ckpt.\n"
     ]
    },
    {
     "name": "stdout",
     "output_type": "stream",
     "text": [
      "INFO:tensorflow:Skip the current checkpoint eval due to throttle secs (600 secs).\n"
     ]
    },
    {
     "name": "stderr",
     "output_type": "stream",
     "text": [
      "INFO:tensorflow:Skip the current checkpoint eval due to throttle secs (600 secs).\n"
     ]
    },
    {
     "name": "stdout",
     "output_type": "stream",
     "text": [
      "INFO:tensorflow:Saving checkpoints for 10000 into /tmp/tfx-interactive-2019-08-31T21_40_43.017915-r5zd0p45/Trainer/output/7/serving_model_dir/model.ckpt.\n"
     ]
    },
    {
     "name": "stderr",
     "output_type": "stream",
     "text": [
      "INFO:tensorflow:Saving checkpoints for 10000 into /tmp/tfx-interactive-2019-08-31T21_40_43.017915-r5zd0p45/Trainer/output/7/serving_model_dir/model.ckpt.\n"
     ]
    },
    {
     "name": "stdout",
     "output_type": "stream",
     "text": [
      "INFO:tensorflow:Skip the current checkpoint eval due to throttle secs (600 secs).\n"
     ]
    },
    {
     "name": "stderr",
     "output_type": "stream",
     "text": [
      "INFO:tensorflow:Skip the current checkpoint eval due to throttle secs (600 secs).\n"
     ]
    },
    {
     "name": "stdout",
     "output_type": "stream",
     "text": [
      "INFO:tensorflow:Calling model_fn.\n"
     ]
    },
    {
     "name": "stderr",
     "output_type": "stream",
     "text": [
      "INFO:tensorflow:Calling model_fn.\n"
     ]
    },
    {
     "name": "stdout",
     "output_type": "stream",
     "text": [
      "WARNING:tensorflow:Trapezoidal rule is known to produce incorrect PR-AUCs; please switch to \"careful_interpolation\" instead.\n"
     ]
    },
    {
     "name": "stderr",
     "output_type": "stream",
     "text": [
      "WARNING:tensorflow:Trapezoidal rule is known to produce incorrect PR-AUCs; please switch to \"careful_interpolation\" instead.\n"
     ]
    },
    {
     "name": "stdout",
     "output_type": "stream",
     "text": [
      "WARNING:tensorflow:Trapezoidal rule is known to produce incorrect PR-AUCs; please switch to \"careful_interpolation\" instead.\n"
     ]
    },
    {
     "name": "stderr",
     "output_type": "stream",
     "text": [
      "WARNING:tensorflow:Trapezoidal rule is known to produce incorrect PR-AUCs; please switch to \"careful_interpolation\" instead.\n"
     ]
    },
    {
     "name": "stdout",
     "output_type": "stream",
     "text": [
      "INFO:tensorflow:Done calling model_fn.\n"
     ]
    },
    {
     "name": "stderr",
     "output_type": "stream",
     "text": [
      "INFO:tensorflow:Done calling model_fn.\n"
     ]
    },
    {
     "name": "stdout",
     "output_type": "stream",
     "text": [
      "INFO:tensorflow:Starting evaluation at 2019-08-31T21:45:14Z\n"
     ]
    },
    {
     "name": "stderr",
     "output_type": "stream",
     "text": [
      "INFO:tensorflow:Starting evaluation at 2019-08-31T21:45:14Z\n"
     ]
    },
    {
     "name": "stdout",
     "output_type": "stream",
     "text": [
      "INFO:tensorflow:Graph was finalized.\n"
     ]
    },
    {
     "name": "stderr",
     "output_type": "stream",
     "text": [
      "INFO:tensorflow:Graph was finalized.\n"
     ]
    },
    {
     "name": "stdout",
     "output_type": "stream",
     "text": [
      "INFO:tensorflow:Restoring parameters from /tmp/tfx-interactive-2019-08-31T21_40_43.017915-r5zd0p45/Trainer/output/7/serving_model_dir/model.ckpt-10000\n"
     ]
    },
    {
     "name": "stderr",
     "output_type": "stream",
     "text": [
      "INFO:tensorflow:Restoring parameters from /tmp/tfx-interactive-2019-08-31T21_40_43.017915-r5zd0p45/Trainer/output/7/serving_model_dir/model.ckpt-10000\n"
     ]
    },
    {
     "name": "stdout",
     "output_type": "stream",
     "text": [
      "INFO:tensorflow:Running local_init_op.\n"
     ]
    },
    {
     "name": "stderr",
     "output_type": "stream",
     "text": [
      "INFO:tensorflow:Running local_init_op.\n"
     ]
    },
    {
     "name": "stdout",
     "output_type": "stream",
     "text": [
      "INFO:tensorflow:Done running local_init_op.\n"
     ]
    },
    {
     "name": "stderr",
     "output_type": "stream",
     "text": [
      "INFO:tensorflow:Done running local_init_op.\n"
     ]
    },
    {
     "name": "stdout",
     "output_type": "stream",
     "text": [
      "INFO:tensorflow:Evaluation [500/5000]\n"
     ]
    },
    {
     "name": "stderr",
     "output_type": "stream",
     "text": [
      "INFO:tensorflow:Evaluation [500/5000]\n"
     ]
    },
    {
     "name": "stdout",
     "output_type": "stream",
     "text": [
      "INFO:tensorflow:Evaluation [1000/5000]\n"
     ]
    },
    {
     "name": "stderr",
     "output_type": "stream",
     "text": [
      "INFO:tensorflow:Evaluation [1000/5000]\n"
     ]
    },
    {
     "name": "stdout",
     "output_type": "stream",
     "text": [
      "INFO:tensorflow:Evaluation [1500/5000]\n"
     ]
    },
    {
     "name": "stderr",
     "output_type": "stream",
     "text": [
      "INFO:tensorflow:Evaluation [1500/5000]\n"
     ]
    },
    {
     "name": "stdout",
     "output_type": "stream",
     "text": [
      "INFO:tensorflow:Evaluation [2000/5000]\n"
     ]
    },
    {
     "name": "stderr",
     "output_type": "stream",
     "text": [
      "INFO:tensorflow:Evaluation [2000/5000]\n"
     ]
    },
    {
     "name": "stdout",
     "output_type": "stream",
     "text": [
      "INFO:tensorflow:Evaluation [2500/5000]\n"
     ]
    },
    {
     "name": "stderr",
     "output_type": "stream",
     "text": [
      "INFO:tensorflow:Evaluation [2500/5000]\n"
     ]
    },
    {
     "name": "stdout",
     "output_type": "stream",
     "text": [
      "INFO:tensorflow:Evaluation [3000/5000]\n"
     ]
    },
    {
     "name": "stderr",
     "output_type": "stream",
     "text": [
      "INFO:tensorflow:Evaluation [3000/5000]\n"
     ]
    },
    {
     "name": "stdout",
     "output_type": "stream",
     "text": [
      "INFO:tensorflow:Evaluation [3500/5000]\n"
     ]
    },
    {
     "name": "stderr",
     "output_type": "stream",
     "text": [
      "INFO:tensorflow:Evaluation [3500/5000]\n"
     ]
    },
    {
     "name": "stdout",
     "output_type": "stream",
     "text": [
      "INFO:tensorflow:Evaluation [4000/5000]\n"
     ]
    },
    {
     "name": "stderr",
     "output_type": "stream",
     "text": [
      "INFO:tensorflow:Evaluation [4000/5000]\n"
     ]
    },
    {
     "name": "stdout",
     "output_type": "stream",
     "text": [
      "INFO:tensorflow:Evaluation [4500/5000]\n"
     ]
    },
    {
     "name": "stderr",
     "output_type": "stream",
     "text": [
      "INFO:tensorflow:Evaluation [4500/5000]\n"
     ]
    },
    {
     "name": "stdout",
     "output_type": "stream",
     "text": [
      "INFO:tensorflow:Evaluation [5000/5000]\n"
     ]
    },
    {
     "name": "stderr",
     "output_type": "stream",
     "text": [
      "INFO:tensorflow:Evaluation [5000/5000]\n"
     ]
    },
    {
     "name": "stdout",
     "output_type": "stream",
     "text": [
      "INFO:tensorflow:Finished evaluation at 2019-08-31-21:45:24\n"
     ]
    },
    {
     "name": "stderr",
     "output_type": "stream",
     "text": [
      "INFO:tensorflow:Finished evaluation at 2019-08-31-21:45:24\n"
     ]
    },
    {
     "name": "stdout",
     "output_type": "stream",
     "text": [
      "INFO:tensorflow:Saving dict for global step 10000: accuracy = 0.79613, accuracy_baseline = 0.76971, auc = 0.9444291, auc_precision_recall = 0.7386825, average_loss = 0.33613965, global_step = 10000, label/mean = 0.23029, loss = 13.445586, precision = 0.72846764, prediction/mean = 0.22749011, recall = 0.18289982\n"
     ]
    },
    {
     "name": "stderr",
     "output_type": "stream",
     "text": [
      "INFO:tensorflow:Saving dict for global step 10000: accuracy = 0.79613, accuracy_baseline = 0.76971, auc = 0.9444291, auc_precision_recall = 0.7386825, average_loss = 0.33613965, global_step = 10000, label/mean = 0.23029, loss = 13.445586, precision = 0.72846764, prediction/mean = 0.22749011, recall = 0.18289982\n"
     ]
    },
    {
     "name": "stdout",
     "output_type": "stream",
     "text": [
      "INFO:tensorflow:Saving 'checkpoint_path' summary for global step 10000: /tmp/tfx-interactive-2019-08-31T21_40_43.017915-r5zd0p45/Trainer/output/7/serving_model_dir/model.ckpt-10000\n"
     ]
    },
    {
     "name": "stderr",
     "output_type": "stream",
     "text": [
      "INFO:tensorflow:Saving 'checkpoint_path' summary for global step 10000: /tmp/tfx-interactive-2019-08-31T21_40_43.017915-r5zd0p45/Trainer/output/7/serving_model_dir/model.ckpt-10000\n"
     ]
    },
    {
     "name": "stdout",
     "output_type": "stream",
     "text": [
      "INFO:tensorflow:Performing the final export in the end of training.\n"
     ]
    },
    {
     "name": "stderr",
     "output_type": "stream",
     "text": [
      "INFO:tensorflow:Performing the final export in the end of training.\n"
     ]
    },
    {
     "name": "stdout",
     "output_type": "stream",
     "text": [
      "WARNING:tensorflow:Expected binary or unicode string, got type_url: \"type.googleapis.com/tensorflow.AssetFileDef\"\n",
      "value: \"\\n\\014\\n\\nConst_10:0\\022-vocab_compute_and_apply_vocabulary_vocabulary\"\n",
      "\n"
     ]
    },
    {
     "name": "stderr",
     "output_type": "stream",
     "text": [
      "WARNING:tensorflow:Expected binary or unicode string, got type_url: \"type.googleapis.com/tensorflow.AssetFileDef\"\n",
      "value: \"\\n\\014\\n\\nConst_10:0\\022-vocab_compute_and_apply_vocabulary_vocabulary\"\n",
      "\n"
     ]
    },
    {
     "name": "stdout",
     "output_type": "stream",
     "text": [
      "WARNING:tensorflow:Expected binary or unicode string, got type_url: \"type.googleapis.com/tensorflow.AssetFileDef\"\n",
      "value: \"\\n\\014\\n\\nConst_11:0\\022/vocab_compute_and_apply_vocabulary_1_vocabulary\"\n",
      "\n"
     ]
    },
    {
     "name": "stderr",
     "output_type": "stream",
     "text": [
      "WARNING:tensorflow:Expected binary or unicode string, got type_url: \"type.googleapis.com/tensorflow.AssetFileDef\"\n",
      "value: \"\\n\\014\\n\\nConst_11:0\\022/vocab_compute_and_apply_vocabulary_1_vocabulary\"\n",
      "\n"
     ]
    },
    {
     "name": "stdout",
     "output_type": "stream",
     "text": [
      "INFO:tensorflow:Saver not created because there are no variables in the graph to restore\n"
     ]
    },
    {
     "name": "stderr",
     "output_type": "stream",
     "text": [
      "INFO:tensorflow:Saver not created because there are no variables in the graph to restore\n"
     ]
    },
    {
     "name": "stdout",
     "output_type": "stream",
     "text": [
      "INFO:tensorflow:Calling model_fn.\n"
     ]
    },
    {
     "name": "stderr",
     "output_type": "stream",
     "text": [
      "INFO:tensorflow:Calling model_fn.\n"
     ]
    },
    {
     "name": "stdout",
     "output_type": "stream",
     "text": [
      "INFO:tensorflow:Done calling model_fn.\n"
     ]
    },
    {
     "name": "stderr",
     "output_type": "stream",
     "text": [
      "INFO:tensorflow:Done calling model_fn.\n"
     ]
    },
    {
     "name": "stdout",
     "output_type": "stream",
     "text": [
      "INFO:tensorflow:Signatures INCLUDED in export for Classify: ['serving_default', 'classification']\n"
     ]
    },
    {
     "name": "stderr",
     "output_type": "stream",
     "text": [
      "INFO:tensorflow:Signatures INCLUDED in export for Classify: ['serving_default', 'classification']\n"
     ]
    },
    {
     "name": "stdout",
     "output_type": "stream",
     "text": [
      "INFO:tensorflow:Signatures INCLUDED in export for Regress: ['regression']\n"
     ]
    },
    {
     "name": "stderr",
     "output_type": "stream",
     "text": [
      "INFO:tensorflow:Signatures INCLUDED in export for Regress: ['regression']\n"
     ]
    },
    {
     "name": "stdout",
     "output_type": "stream",
     "text": [
      "INFO:tensorflow:Signatures INCLUDED in export for Predict: ['predict']\n"
     ]
    },
    {
     "name": "stderr",
     "output_type": "stream",
     "text": [
      "INFO:tensorflow:Signatures INCLUDED in export for Predict: ['predict']\n"
     ]
    },
    {
     "name": "stdout",
     "output_type": "stream",
     "text": [
      "INFO:tensorflow:Signatures INCLUDED in export for Train: None\n"
     ]
    },
    {
     "name": "stderr",
     "output_type": "stream",
     "text": [
      "INFO:tensorflow:Signatures INCLUDED in export for Train: None\n"
     ]
    },
    {
     "name": "stdout",
     "output_type": "stream",
     "text": [
      "INFO:tensorflow:Signatures INCLUDED in export for Eval: None\n"
     ]
    },
    {
     "name": "stderr",
     "output_type": "stream",
     "text": [
      "INFO:tensorflow:Signatures INCLUDED in export for Eval: None\n"
     ]
    },
    {
     "name": "stdout",
     "output_type": "stream",
     "text": [
      "INFO:tensorflow:Restoring parameters from /tmp/tfx-interactive-2019-08-31T21_40_43.017915-r5zd0p45/Trainer/output/7/serving_model_dir/model.ckpt-10000\n"
     ]
    },
    {
     "name": "stderr",
     "output_type": "stream",
     "text": [
      "INFO:tensorflow:Restoring parameters from /tmp/tfx-interactive-2019-08-31T21_40_43.017915-r5zd0p45/Trainer/output/7/serving_model_dir/model.ckpt-10000\n"
     ]
    },
    {
     "name": "stdout",
     "output_type": "stream",
     "text": [
      "INFO:tensorflow:Assets added to graph.\n"
     ]
    },
    {
     "name": "stderr",
     "output_type": "stream",
     "text": [
      "INFO:tensorflow:Assets added to graph.\n"
     ]
    },
    {
     "name": "stdout",
     "output_type": "stream",
     "text": [
      "INFO:tensorflow:Assets written to: /tmp/tfx-interactive-2019-08-31T21_40_43.017915-r5zd0p45/Trainer/output/7/serving_model_dir/export/chicago-taxi/temp-b'1567287924'/assets\n"
     ]
    },
    {
     "name": "stderr",
     "output_type": "stream",
     "text": [
      "INFO:tensorflow:Assets written to: /tmp/tfx-interactive-2019-08-31T21_40_43.017915-r5zd0p45/Trainer/output/7/serving_model_dir/export/chicago-taxi/temp-b'1567287924'/assets\n"
     ]
    },
    {
     "name": "stdout",
     "output_type": "stream",
     "text": [
      "INFO:tensorflow:SavedModel written to: /tmp/tfx-interactive-2019-08-31T21_40_43.017915-r5zd0p45/Trainer/output/7/serving_model_dir/export/chicago-taxi/temp-b'1567287924'/saved_model.pb\n"
     ]
    },
    {
     "name": "stderr",
     "output_type": "stream",
     "text": [
      "INFO:tensorflow:SavedModel written to: /tmp/tfx-interactive-2019-08-31T21_40_43.017915-r5zd0p45/Trainer/output/7/serving_model_dir/export/chicago-taxi/temp-b'1567287924'/saved_model.pb\n"
     ]
    },
    {
     "name": "stdout",
     "output_type": "stream",
     "text": [
      "INFO:tensorflow:Loss for final step: 15.184812.\n"
     ]
    },
    {
     "name": "stderr",
     "output_type": "stream",
     "text": [
      "INFO:tensorflow:Loss for final step: 15.184812.\n"
     ]
    },
    {
     "name": "stdout",
     "output_type": "stream",
     "text": [
      "INFO:tensorflow:Training complete.  Model written to /tmp/tfx-interactive-2019-08-31T21_40_43.017915-r5zd0p45/Trainer/output/7/serving_model_dir\n"
     ]
    },
    {
     "name": "stderr",
     "output_type": "stream",
     "text": [
      "INFO:tensorflow:Training complete.  Model written to /tmp/tfx-interactive-2019-08-31T21_40_43.017915-r5zd0p45/Trainer/output/7/serving_model_dir\n"
     ]
    },
    {
     "name": "stdout",
     "output_type": "stream",
     "text": [
      "INFO:tensorflow:Exporting eval_savedmodel for TFMA.\n"
     ]
    },
    {
     "name": "stderr",
     "output_type": "stream",
     "text": [
      "INFO:tensorflow:Exporting eval_savedmodel for TFMA.\n"
     ]
    },
    {
     "name": "stdout",
     "output_type": "stream",
     "text": [
      "WARNING:tensorflow:From /root/miniconda3/envs/tfx/lib/python3.7/site-packages/tfx/examples/chicago_taxi_pipeline/taxi_utils.py:236: The name tf.placeholder is deprecated. Please use tf.compat.v1.placeholder instead.\n",
      "\n"
     ]
    },
    {
     "name": "stderr",
     "output_type": "stream",
     "text": [
      "WARNING:tensorflow:From /root/miniconda3/envs/tfx/lib/python3.7/site-packages/tfx/examples/chicago_taxi_pipeline/taxi_utils.py:236: The name tf.placeholder is deprecated. Please use tf.compat.v1.placeholder instead.\n",
      "\n"
     ]
    },
    {
     "name": "stdout",
     "output_type": "stream",
     "text": [
      "WARNING:tensorflow:From /root/miniconda3/envs/tfx/lib/python3.7/site-packages/tfx/examples/chicago_taxi_pipeline/taxi_utils.py:241: The name tf.parse_example is deprecated. Please use tf.io.parse_example instead.\n",
      "\n"
     ]
    },
    {
     "name": "stderr",
     "output_type": "stream",
     "text": [
      "WARNING:tensorflow:From /root/miniconda3/envs/tfx/lib/python3.7/site-packages/tfx/examples/chicago_taxi_pipeline/taxi_utils.py:241: The name tf.parse_example is deprecated. Please use tf.io.parse_example instead.\n",
      "\n"
     ]
    },
    {
     "name": "stdout",
     "output_type": "stream",
     "text": [
      "WARNING:tensorflow:Expected binary or unicode string, got type_url: \"type.googleapis.com/tensorflow.AssetFileDef\"\n",
      "value: \"\\n\\014\\n\\nConst_10:0\\022-vocab_compute_and_apply_vocabulary_vocabulary\"\n",
      "\n"
     ]
    },
    {
     "name": "stderr",
     "output_type": "stream",
     "text": [
      "WARNING:tensorflow:Expected binary or unicode string, got type_url: \"type.googleapis.com/tensorflow.AssetFileDef\"\n",
      "value: \"\\n\\014\\n\\nConst_10:0\\022-vocab_compute_and_apply_vocabulary_vocabulary\"\n",
      "\n"
     ]
    },
    {
     "name": "stdout",
     "output_type": "stream",
     "text": [
      "WARNING:tensorflow:Expected binary or unicode string, got type_url: \"type.googleapis.com/tensorflow.AssetFileDef\"\n",
      "value: \"\\n\\014\\n\\nConst_11:0\\022/vocab_compute_and_apply_vocabulary_1_vocabulary\"\n",
      "\n"
     ]
    },
    {
     "name": "stderr",
     "output_type": "stream",
     "text": [
      "WARNING:tensorflow:Expected binary or unicode string, got type_url: \"type.googleapis.com/tensorflow.AssetFileDef\"\n",
      "value: \"\\n\\014\\n\\nConst_11:0\\022/vocab_compute_and_apply_vocabulary_1_vocabulary\"\n",
      "\n"
     ]
    },
    {
     "name": "stdout",
     "output_type": "stream",
     "text": [
      "INFO:tensorflow:Saver not created because there are no variables in the graph to restore\n"
     ]
    },
    {
     "name": "stderr",
     "output_type": "stream",
     "text": [
      "INFO:tensorflow:Saver not created because there are no variables in the graph to restore\n"
     ]
    },
    {
     "name": "stdout",
     "output_type": "stream",
     "text": [
      "INFO:tensorflow:Calling model_fn.\n"
     ]
    },
    {
     "name": "stderr",
     "output_type": "stream",
     "text": [
      "INFO:tensorflow:Calling model_fn.\n"
     ]
    },
    {
     "name": "stdout",
     "output_type": "stream",
     "text": [
      "WARNING:tensorflow:Trapezoidal rule is known to produce incorrect PR-AUCs; please switch to \"careful_interpolation\" instead.\n"
     ]
    },
    {
     "name": "stderr",
     "output_type": "stream",
     "text": [
      "WARNING:tensorflow:Trapezoidal rule is known to produce incorrect PR-AUCs; please switch to \"careful_interpolation\" instead.\n"
     ]
    },
    {
     "name": "stdout",
     "output_type": "stream",
     "text": [
      "WARNING:tensorflow:Trapezoidal rule is known to produce incorrect PR-AUCs; please switch to \"careful_interpolation\" instead.\n"
     ]
    },
    {
     "name": "stderr",
     "output_type": "stream",
     "text": [
      "WARNING:tensorflow:Trapezoidal rule is known to produce incorrect PR-AUCs; please switch to \"careful_interpolation\" instead.\n"
     ]
    },
    {
     "name": "stdout",
     "output_type": "stream",
     "text": [
      "INFO:tensorflow:Done calling model_fn.\n"
     ]
    },
    {
     "name": "stderr",
     "output_type": "stream",
     "text": [
      "INFO:tensorflow:Done calling model_fn.\n"
     ]
    },
    {
     "name": "stdout",
     "output_type": "stream",
     "text": [
      "INFO:tensorflow:Signatures INCLUDED in export for Classify: None\n"
     ]
    },
    {
     "name": "stderr",
     "output_type": "stream",
     "text": [
      "INFO:tensorflow:Signatures INCLUDED in export for Classify: None\n"
     ]
    },
    {
     "name": "stdout",
     "output_type": "stream",
     "text": [
      "INFO:tensorflow:Signatures INCLUDED in export for Regress: None\n"
     ]
    },
    {
     "name": "stderr",
     "output_type": "stream",
     "text": [
      "INFO:tensorflow:Signatures INCLUDED in export for Regress: None\n"
     ]
    },
    {
     "name": "stdout",
     "output_type": "stream",
     "text": [
      "INFO:tensorflow:Signatures INCLUDED in export for Predict: None\n"
     ]
    },
    {
     "name": "stderr",
     "output_type": "stream",
     "text": [
      "INFO:tensorflow:Signatures INCLUDED in export for Predict: None\n"
     ]
    },
    {
     "name": "stdout",
     "output_type": "stream",
     "text": [
      "INFO:tensorflow:Signatures INCLUDED in export for Train: None\n"
     ]
    },
    {
     "name": "stderr",
     "output_type": "stream",
     "text": [
      "INFO:tensorflow:Signatures INCLUDED in export for Train: None\n"
     ]
    },
    {
     "name": "stdout",
     "output_type": "stream",
     "text": [
      "INFO:tensorflow:Signatures INCLUDED in export for Eval: ['eval']\n"
     ]
    },
    {
     "name": "stderr",
     "output_type": "stream",
     "text": [
      "INFO:tensorflow:Signatures INCLUDED in export for Eval: ['eval']\n"
     ]
    },
    {
     "name": "stdout",
     "output_type": "stream",
     "text": [
      "WARNING:tensorflow:Export includes no default signature!\n"
     ]
    },
    {
     "name": "stderr",
     "output_type": "stream",
     "text": [
      "WARNING:tensorflow:Export includes no default signature!\n"
     ]
    },
    {
     "name": "stdout",
     "output_type": "stream",
     "text": [
      "INFO:tensorflow:Restoring parameters from /tmp/tfx-interactive-2019-08-31T21_40_43.017915-r5zd0p45/Trainer/output/7/serving_model_dir/model.ckpt-10000\n"
     ]
    },
    {
     "name": "stderr",
     "output_type": "stream",
     "text": [
      "INFO:tensorflow:Restoring parameters from /tmp/tfx-interactive-2019-08-31T21_40_43.017915-r5zd0p45/Trainer/output/7/serving_model_dir/model.ckpt-10000\n"
     ]
    },
    {
     "name": "stdout",
     "output_type": "stream",
     "text": [
      "INFO:tensorflow:Assets added to graph.\n"
     ]
    },
    {
     "name": "stderr",
     "output_type": "stream",
     "text": [
      "INFO:tensorflow:Assets added to graph.\n"
     ]
    },
    {
     "name": "stdout",
     "output_type": "stream",
     "text": [
      "INFO:tensorflow:Assets written to: /tmp/tfx-interactive-2019-08-31T21_40_43.017915-r5zd0p45/Trainer/output/7/eval_model_dir/temp-b'1567287927'/assets\n"
     ]
    },
    {
     "name": "stderr",
     "output_type": "stream",
     "text": [
      "INFO:tensorflow:Assets written to: /tmp/tfx-interactive-2019-08-31T21_40_43.017915-r5zd0p45/Trainer/output/7/eval_model_dir/temp-b'1567287927'/assets\n"
     ]
    },
    {
     "name": "stdout",
     "output_type": "stream",
     "text": [
      "INFO:tensorflow:SavedModel written to: /tmp/tfx-interactive-2019-08-31T21_40_43.017915-r5zd0p45/Trainer/output/7/eval_model_dir/temp-b'1567287927'/saved_model.pb\n"
     ]
    },
    {
     "name": "stderr",
     "output_type": "stream",
     "text": [
      "INFO:tensorflow:SavedModel written to: /tmp/tfx-interactive-2019-08-31T21_40_43.017915-r5zd0p45/Trainer/output/7/eval_model_dir/temp-b'1567287927'/saved_model.pb\n"
     ]
    },
    {
     "name": "stdout",
     "output_type": "stream",
     "text": [
      "INFO:tensorflow:Exported eval_savedmodel to /tmp/tfx-interactive-2019-08-31T21_40_43.017915-r5zd0p45/Trainer/output/7/eval_model_dir.\n"
     ]
    },
    {
     "name": "stderr",
     "output_type": "stream",
     "text": [
      "INFO:tensorflow:Exported eval_savedmodel to /tmp/tfx-interactive-2019-08-31T21_40_43.017915-r5zd0p45/Trainer/output/7/eval_model_dir.\n"
     ]
    },
    {
     "name": "stdout",
     "output_type": "stream",
     "text": [
      "INFO:tensorflow:Run publisher for Trainer\n"
     ]
    },
    {
     "name": "stderr",
     "output_type": "stream",
     "text": [
      "INFO:tensorflow:Run publisher for Trainer\n"
     ]
    },
    {
     "name": "stdout",
     "output_type": "stream",
     "text": [
      "INFO:tensorflow:Whether cached results are used: False\n"
     ]
    },
    {
     "name": "stderr",
     "output_type": "stream",
     "text": [
      "INFO:tensorflow:Whether cached results are used: False\n"
     ]
    },
    {
     "name": "stdout",
     "output_type": "stream",
     "text": [
      "INFO:tensorflow:Execution id: 7\n"
     ]
    },
    {
     "name": "stderr",
     "output_type": "stream",
     "text": [
      "INFO:tensorflow:Execution id: 7\n"
     ]
    },
    {
     "name": "stdout",
     "output_type": "stream",
     "text": [
      "INFO:tensorflow:Inputs: {'examples': [Artifact(type_name: ExamplesPath, uri: /tmp/tfx-interactive-2019-08-31T21_40_43.017915-r5zd0p45/Transform/transformed_examples/6/train/, split: train, id: 9), Artifact(type_name: ExamplesPath, uri: /tmp/tfx-interactive-2019-08-31T21_40_43.017915-r5zd0p45/Transform/transformed_examples/6/eval/, split: eval, id: 10)], 'transform_output': [Artifact(type_name: TransformPath, uri: /tmp/tfx-interactive-2019-08-31T21_40_43.017915-r5zd0p45/Transform/transform_output/6/, split: , id: 8)], 'schema': [Artifact(type_name: SchemaPath, uri: /tmp/tfx-interactive-2019-08-31T21_40_43.017915-r5zd0p45/SchemaGen/output/4/, split: , id: 6)]}\n"
     ]
    },
    {
     "name": "stderr",
     "output_type": "stream",
     "text": [
      "INFO:tensorflow:Inputs: {'examples': [Artifact(type_name: ExamplesPath, uri: /tmp/tfx-interactive-2019-08-31T21_40_43.017915-r5zd0p45/Transform/transformed_examples/6/train/, split: train, id: 9), Artifact(type_name: ExamplesPath, uri: /tmp/tfx-interactive-2019-08-31T21_40_43.017915-r5zd0p45/Transform/transformed_examples/6/eval/, split: eval, id: 10)], 'transform_output': [Artifact(type_name: TransformPath, uri: /tmp/tfx-interactive-2019-08-31T21_40_43.017915-r5zd0p45/Transform/transform_output/6/, split: , id: 8)], 'schema': [Artifact(type_name: SchemaPath, uri: /tmp/tfx-interactive-2019-08-31T21_40_43.017915-r5zd0p45/SchemaGen/output/4/, split: , id: 6)]}\n"
     ]
    },
    {
     "name": "stdout",
     "output_type": "stream",
     "text": [
      "INFO:tensorflow:Outputs: {'output': [Artifact(type_name: ModelExportPath, uri: /tmp/tfx-interactive-2019-08-31T21_40_43.017915-r5zd0p45/Trainer/output/7/, split: , id: 0)]}\n"
     ]
    },
    {
     "name": "stderr",
     "output_type": "stream",
     "text": [
      "INFO:tensorflow:Outputs: {'output': [Artifact(type_name: ModelExportPath, uri: /tmp/tfx-interactive-2019-08-31T21_40_43.017915-r5zd0p45/Trainer/output/7/, split: , id: 0)]}\n"
     ]
    },
    {
     "name": "stdout",
     "output_type": "stream",
     "text": [
      "INFO:tensorflow:Publishing execution id: 7\n",
      "type_id: 13\n",
      "properties {\n",
      "  key: \"checksum_md5\"\n",
      "  value {\n",
      "    string_value: \"4e52cfff5d4b939df7b60870c459c181\"\n",
      "  }\n",
      "}\n",
      "properties {\n",
      "  key: \"component_id\"\n",
      "  value {\n",
      "    string_value: \"Trainer\"\n",
      "  }\n",
      "}\n",
      "properties {\n",
      "  key: \"custom_config\"\n",
      "  value {\n",
      "    string_value: \"None\"\n",
      "  }\n",
      "}\n",
      "properties {\n",
      "  key: \"eval_args\"\n",
      "  value {\n",
      "    string_value: \"{\\n  \\\"numSteps\\\": 5000\\n}\"\n",
      "  }\n",
      "}\n",
      "properties {\n",
      "  key: \"module_file\"\n",
      "  value {\n",
      "    string_value: \"/root/miniconda3/envs/tfx/lib/python3.7/site-packages/tfx/examples/chicago_taxi_pipeline/taxi_utils.py\"\n",
      "  }\n",
      "}\n",
      "properties {\n",
      "  key: \"pipeline_name\"\n",
      "  value {\n",
      "    string_value: \"interactive-2019-08-31T21_40_43.017915\"\n",
      "  }\n",
      "}\n",
      "properties {\n",
      "  key: \"pipeline_root\"\n",
      "  value {\n",
      "    string_value: \"/tmp/tfx-interactive-2019-08-31T21_40_43.017915-r5zd0p45\"\n",
      "  }\n",
      "}\n",
      "properties {\n",
      "  key: \"run_id\"\n",
      "  value {\n",
      "    string_value: \"2019-08-31T21:44:25.860898\"\n",
      "  }\n",
      "}\n",
      "properties {\n",
      "  key: \"state\"\n",
      "  value {\n",
      "    string_value: \"complete\"\n",
      "  }\n",
      "}\n",
      "properties {\n",
      "  key: \"train_args\"\n",
      "  value {\n",
      "    string_value: \"{\\n  \\\"numSteps\\\": 10000\\n}\"\n",
      "  }\n",
      "}\n",
      "properties {\n",
      "  key: \"trainer_fn\"\n",
      "  value {\n",
      "    string_value: \"None\"\n",
      "  }\n",
      "}\n",
      ", with inputs {'examples': [Artifact(type_name: ExamplesPath, uri: /tmp/tfx-interactive-2019-08-31T21_40_43.017915-r5zd0p45/Transform/transformed_examples/6/train/, split: train, id: 9), Artifact(type_name: ExamplesPath, uri: /tmp/tfx-interactive-2019-08-31T21_40_43.017915-r5zd0p45/Transform/transformed_examples/6/eval/, split: eval, id: 10)], 'transform_output': [Artifact(type_name: TransformPath, uri: /tmp/tfx-interactive-2019-08-31T21_40_43.017915-r5zd0p45/Transform/transform_output/6/, split: , id: 8)], 'schema': [Artifact(type_name: SchemaPath, uri: /tmp/tfx-interactive-2019-08-31T21_40_43.017915-r5zd0p45/SchemaGen/output/4/, split: , id: 6)]} and outputs {'output': [Artifact(type_name: ModelExportPath, uri: /tmp/tfx-interactive-2019-08-31T21_40_43.017915-r5zd0p45/Trainer/output/7/, split: , id: 0)]}\n"
     ]
    },
    {
     "name": "stderr",
     "output_type": "stream",
     "text": [
      "INFO:tensorflow:Publishing execution id: 7\n",
      "type_id: 13\n",
      "properties {\n",
      "  key: \"checksum_md5\"\n",
      "  value {\n",
      "    string_value: \"4e52cfff5d4b939df7b60870c459c181\"\n",
      "  }\n",
      "}\n",
      "properties {\n",
      "  key: \"component_id\"\n",
      "  value {\n",
      "    string_value: \"Trainer\"\n",
      "  }\n",
      "}\n",
      "properties {\n",
      "  key: \"custom_config\"\n",
      "  value {\n",
      "    string_value: \"None\"\n",
      "  }\n",
      "}\n",
      "properties {\n",
      "  key: \"eval_args\"\n",
      "  value {\n",
      "    string_value: \"{\\n  \\\"numSteps\\\": 5000\\n}\"\n",
      "  }\n",
      "}\n",
      "properties {\n",
      "  key: \"module_file\"\n",
      "  value {\n",
      "    string_value: \"/root/miniconda3/envs/tfx/lib/python3.7/site-packages/tfx/examples/chicago_taxi_pipeline/taxi_utils.py\"\n",
      "  }\n",
      "}\n",
      "properties {\n",
      "  key: \"pipeline_name\"\n",
      "  value {\n",
      "    string_value: \"interactive-2019-08-31T21_40_43.017915\"\n",
      "  }\n",
      "}\n",
      "properties {\n",
      "  key: \"pipeline_root\"\n",
      "  value {\n",
      "    string_value: \"/tmp/tfx-interactive-2019-08-31T21_40_43.017915-r5zd0p45\"\n",
      "  }\n",
      "}\n",
      "properties {\n",
      "  key: \"run_id\"\n",
      "  value {\n",
      "    string_value: \"2019-08-31T21:44:25.860898\"\n",
      "  }\n",
      "}\n",
      "properties {\n",
      "  key: \"state\"\n",
      "  value {\n",
      "    string_value: \"complete\"\n",
      "  }\n",
      "}\n",
      "properties {\n",
      "  key: \"train_args\"\n",
      "  value {\n",
      "    string_value: \"{\\n  \\\"numSteps\\\": 10000\\n}\"\n",
      "  }\n",
      "}\n",
      "properties {\n",
      "  key: \"trainer_fn\"\n",
      "  value {\n",
      "    string_value: \"None\"\n",
      "  }\n",
      "}\n",
      ", with inputs {'examples': [Artifact(type_name: ExamplesPath, uri: /tmp/tfx-interactive-2019-08-31T21_40_43.017915-r5zd0p45/Transform/transformed_examples/6/train/, split: train, id: 9), Artifact(type_name: ExamplesPath, uri: /tmp/tfx-interactive-2019-08-31T21_40_43.017915-r5zd0p45/Transform/transformed_examples/6/eval/, split: eval, id: 10)], 'transform_output': [Artifact(type_name: TransformPath, uri: /tmp/tfx-interactive-2019-08-31T21_40_43.017915-r5zd0p45/Transform/transform_output/6/, split: , id: 8)], 'schema': [Artifact(type_name: SchemaPath, uri: /tmp/tfx-interactive-2019-08-31T21_40_43.017915-r5zd0p45/SchemaGen/output/4/, split: , id: 6)]} and outputs {'output': [Artifact(type_name: ModelExportPath, uri: /tmp/tfx-interactive-2019-08-31T21_40_43.017915-r5zd0p45/Trainer/output/7/, split: , id: 0)]}\n"
     ]
    },
    {
     "name": "stdout",
     "output_type": "stream",
     "text": [
      "INFO:tensorflow:Published execution with final outputs {'output': [Artifact(type_name: ModelExportPath, uri: /tmp/tfx-interactive-2019-08-31T21_40_43.017915-r5zd0p45/Trainer/output/7/, split: , id: 11)]}\n"
     ]
    },
    {
     "name": "stderr",
     "output_type": "stream",
     "text": [
      "INFO:tensorflow:Published execution with final outputs {'output': [Artifact(type_name: ModelExportPath, uri: /tmp/tfx-interactive-2019-08-31T21_40_43.017915-r5zd0p45/Trainer/output/7/, split: , id: 11)]}\n"
     ]
    },
    {
     "data": {
      "text/html": [
       "<style>\n",
       ".tfx-object.expanded {\n",
       "  padding: 4px 8px 4px 8px;\n",
       "  background: white;\n",
       "  border: 1px solid #bbbbbb;\n",
       "  box-shadow: 4px 4px 2px rgba(0,0,0,0.05);\n",
       "}\n",
       ".tfx-object, .tfx-object * {\n",
       "  font-size: 11pt;\n",
       "}\n",
       ".tfx-object > .title {\n",
       "  cursor: pointer;\n",
       "}\n",
       ".tfx-object .expansion-marker {\n",
       "  color: #999999;\n",
       "}\n",
       ".tfx-object.expanded > .title > .expansion-marker:before {\n",
       "  content: '▼';\n",
       "}\n",
       ".tfx-object.collapsed > .title > .expansion-marker:before {\n",
       "  content: '▶';\n",
       "}\n",
       ".tfx-object .class-name {\n",
       "  font-weight: bold;\n",
       "}\n",
       ".tfx-object .deemphasize {\n",
       "  opacity: 0.5;\n",
       "}\n",
       ".tfx-object.collapsed > table.attr-table {\n",
       "  display: none;\n",
       "}\n",
       ".tfx-object.expanded > table.attr-table {\n",
       "  display: block;\n",
       "}\n",
       ".tfx-object table.attr-table {\n",
       "  border: 2px solid white;\n",
       "  margin-top: 5px;\n",
       "}\n",
       ".tfx-object table.attr-table td.attr-name {\n",
       "  vertical-align: top;\n",
       "  font-weight: bold;\n",
       "}\n",
       ".tfx-object table.attr-table td.attrvalue {\n",
       "  text-align: left;\n",
       "}\n",
       "</style>\n",
       "<script>\n",
       "function toggleTfxObject(element) {\n",
       "  var objElement = element.parentElement;\n",
       "  if (objElement.classList.contains('collapsed')) {\n",
       "    objElement.classList.remove('collapsed');\n",
       "    objElement.classList.add('expanded');\n",
       "  } else {\n",
       "    objElement.classList.add('collapsed');\n",
       "    objElement.classList.remove('expanded');\n",
       "  }\n",
       "}\n",
       "</script>\n",
       "<div class=\"tfx-object expanded\"><div class = \"title\" onclick=\"toggleTfxObject(this)\"><span class=\"expansion-marker\"></span><span class=\"class-name\">ExecutionResult</span><span class=\"deemphasize\"> at 0x7f573413d438</span></div><table class=\"attr-table\"><tr><td class=\"attr-name\">.execution_id</td><td class = \"attrvalue\">7</td></tr><tr><td class=\"attr-name\">.component</td><td class = \"attrvalue\"><style>\n",
       ".tfx-object.expanded {\n",
       "  padding: 4px 8px 4px 8px;\n",
       "  background: white;\n",
       "  border: 1px solid #bbbbbb;\n",
       "  box-shadow: 4px 4px 2px rgba(0,0,0,0.05);\n",
       "}\n",
       ".tfx-object, .tfx-object * {\n",
       "  font-size: 11pt;\n",
       "}\n",
       ".tfx-object > .title {\n",
       "  cursor: pointer;\n",
       "}\n",
       ".tfx-object .expansion-marker {\n",
       "  color: #999999;\n",
       "}\n",
       ".tfx-object.expanded > .title > .expansion-marker:before {\n",
       "  content: '▼';\n",
       "}\n",
       ".tfx-object.collapsed > .title > .expansion-marker:before {\n",
       "  content: '▶';\n",
       "}\n",
       ".tfx-object .class-name {\n",
       "  font-weight: bold;\n",
       "}\n",
       ".tfx-object .deemphasize {\n",
       "  opacity: 0.5;\n",
       "}\n",
       ".tfx-object.collapsed > table.attr-table {\n",
       "  display: none;\n",
       "}\n",
       ".tfx-object.expanded > table.attr-table {\n",
       "  display: block;\n",
       "}\n",
       ".tfx-object table.attr-table {\n",
       "  border: 2px solid white;\n",
       "  margin-top: 5px;\n",
       "}\n",
       ".tfx-object table.attr-table td.attr-name {\n",
       "  vertical-align: top;\n",
       "  font-weight: bold;\n",
       "}\n",
       ".tfx-object table.attr-table td.attrvalue {\n",
       "  text-align: left;\n",
       "}\n",
       "</style>\n",
       "<script>\n",
       "function toggleTfxObject(element) {\n",
       "  var objElement = element.parentElement;\n",
       "  if (objElement.classList.contains('collapsed')) {\n",
       "    objElement.classList.remove('collapsed');\n",
       "    objElement.classList.add('expanded');\n",
       "  } else {\n",
       "    objElement.classList.add('collapsed');\n",
       "    objElement.classList.remove('expanded');\n",
       "  }\n",
       "}\n",
       "</script>\n",
       "<div class=\"tfx-object collapsed\"><div class = \"title\" onclick=\"toggleTfxObject(this)\"><span class=\"expansion-marker\"></span><span class=\"class-name\">Trainer</span><span class=\"deemphasize\"> at 0x7f57782e4208</span></div><table class=\"attr-table\"><tr><td class=\"attr-name\">.inputs</td><td class = \"attrvalue\"><table class=\"attr-table\"><tr><td class=\"attr-name\">['examples']</td><td class = \"attrvalue\"><style>\n",
       ".tfx-object.expanded {\n",
       "  padding: 4px 8px 4px 8px;\n",
       "  background: white;\n",
       "  border: 1px solid #bbbbbb;\n",
       "  box-shadow: 4px 4px 2px rgba(0,0,0,0.05);\n",
       "}\n",
       ".tfx-object, .tfx-object * {\n",
       "  font-size: 11pt;\n",
       "}\n",
       ".tfx-object > .title {\n",
       "  cursor: pointer;\n",
       "}\n",
       ".tfx-object .expansion-marker {\n",
       "  color: #999999;\n",
       "}\n",
       ".tfx-object.expanded > .title > .expansion-marker:before {\n",
       "  content: '▼';\n",
       "}\n",
       ".tfx-object.collapsed > .title > .expansion-marker:before {\n",
       "  content: '▶';\n",
       "}\n",
       ".tfx-object .class-name {\n",
       "  font-weight: bold;\n",
       "}\n",
       ".tfx-object .deemphasize {\n",
       "  opacity: 0.5;\n",
       "}\n",
       ".tfx-object.collapsed > table.attr-table {\n",
       "  display: none;\n",
       "}\n",
       ".tfx-object.expanded > table.attr-table {\n",
       "  display: block;\n",
       "}\n",
       ".tfx-object table.attr-table {\n",
       "  border: 2px solid white;\n",
       "  margin-top: 5px;\n",
       "}\n",
       ".tfx-object table.attr-table td.attr-name {\n",
       "  vertical-align: top;\n",
       "  font-weight: bold;\n",
       "}\n",
       ".tfx-object table.attr-table td.attrvalue {\n",
       "  text-align: left;\n",
       "}\n",
       "</style>\n",
       "<script>\n",
       "function toggleTfxObject(element) {\n",
       "  var objElement = element.parentElement;\n",
       "  if (objElement.classList.contains('collapsed')) {\n",
       "    objElement.classList.remove('collapsed');\n",
       "    objElement.classList.add('expanded');\n",
       "  } else {\n",
       "    objElement.classList.add('collapsed');\n",
       "    objElement.classList.remove('expanded');\n",
       "  }\n",
       "}\n",
       "</script>\n",
       "<div class=\"tfx-object collapsed\"><div class = \"title\" onclick=\"toggleTfxObject(this)\"><span class=\"expansion-marker\"></span><span class=\"class-name\">Channel</span> of type <span class=\"class-name\">'ExamplesPath'</span> (2 artifacts)<span class=\"deemphasize\"> at 0x7f57781b8358</span></div><table class=\"attr-table\"><tr><td class=\"attr-name\">.type_name</td><td class = \"attrvalue\">ExamplesPath</td></tr><tr><td class=\"attr-name\">._artifacts</td><td class = \"attrvalue\"><table class=\"attr-table\"><tr><td class=\"attr-name\">[0]</td><td class = \"attrvalue\"><style>\n",
       ".tfx-object.expanded {\n",
       "  padding: 4px 8px 4px 8px;\n",
       "  background: white;\n",
       "  border: 1px solid #bbbbbb;\n",
       "  box-shadow: 4px 4px 2px rgba(0,0,0,0.05);\n",
       "}\n",
       ".tfx-object, .tfx-object * {\n",
       "  font-size: 11pt;\n",
       "}\n",
       ".tfx-object > .title {\n",
       "  cursor: pointer;\n",
       "}\n",
       ".tfx-object .expansion-marker {\n",
       "  color: #999999;\n",
       "}\n",
       ".tfx-object.expanded > .title > .expansion-marker:before {\n",
       "  content: '▼';\n",
       "}\n",
       ".tfx-object.collapsed > .title > .expansion-marker:before {\n",
       "  content: '▶';\n",
       "}\n",
       ".tfx-object .class-name {\n",
       "  font-weight: bold;\n",
       "}\n",
       ".tfx-object .deemphasize {\n",
       "  opacity: 0.5;\n",
       "}\n",
       ".tfx-object.collapsed > table.attr-table {\n",
       "  display: none;\n",
       "}\n",
       ".tfx-object.expanded > table.attr-table {\n",
       "  display: block;\n",
       "}\n",
       ".tfx-object table.attr-table {\n",
       "  border: 2px solid white;\n",
       "  margin-top: 5px;\n",
       "}\n",
       ".tfx-object table.attr-table td.attr-name {\n",
       "  vertical-align: top;\n",
       "  font-weight: bold;\n",
       "}\n",
       ".tfx-object table.attr-table td.attrvalue {\n",
       "  text-align: left;\n",
       "}\n",
       "</style>\n",
       "<script>\n",
       "function toggleTfxObject(element) {\n",
       "  var objElement = element.parentElement;\n",
       "  if (objElement.classList.contains('collapsed')) {\n",
       "    objElement.classList.remove('collapsed');\n",
       "    objElement.classList.add('expanded');\n",
       "  } else {\n",
       "    objElement.classList.add('collapsed');\n",
       "    objElement.classList.remove('expanded');\n",
       "  }\n",
       "}\n",
       "</script>\n",
       "<div class=\"tfx-object collapsed\"><div class = \"title\" onclick=\"toggleTfxObject(this)\"><span class=\"expansion-marker\"></span><span class=\"class-name\">Artifact</span> of type <span class=\"class-name\">'ExamplesPath'</span> (uri: /tmp/tfx-interactive-2019-08-31T21_40_43.017915-r5zd0p45/Transform/transformed_examples/6/train/)<span class=\"deemphasize\"> at 0x7f57781b8dd8</span></div><table class=\"attr-table\"><tr><td class=\"attr-name\">.type_name</td><td class = \"attrvalue\">ExamplesPath</td></tr><tr><td class=\"attr-name\">.uri</td><td class = \"attrvalue\">/tmp/tfx-interactive-2019-08-31T21_40_43.017915-r5zd0p45/Transform/transformed_examples/6/train/</td></tr><tr><td class=\"attr-name\">.span</td><td class = \"attrvalue\">0</td></tr><tr><td class=\"attr-name\">.split</td><td class = \"attrvalue\">train</td></tr></table></div></td></tr><tr><td class=\"attr-name\">[1]</td><td class = \"attrvalue\"><style>\n",
       ".tfx-object.expanded {\n",
       "  padding: 4px 8px 4px 8px;\n",
       "  background: white;\n",
       "  border: 1px solid #bbbbbb;\n",
       "  box-shadow: 4px 4px 2px rgba(0,0,0,0.05);\n",
       "}\n",
       ".tfx-object, .tfx-object * {\n",
       "  font-size: 11pt;\n",
       "}\n",
       ".tfx-object > .title {\n",
       "  cursor: pointer;\n",
       "}\n",
       ".tfx-object .expansion-marker {\n",
       "  color: #999999;\n",
       "}\n",
       ".tfx-object.expanded > .title > .expansion-marker:before {\n",
       "  content: '▼';\n",
       "}\n",
       ".tfx-object.collapsed > .title > .expansion-marker:before {\n",
       "  content: '▶';\n",
       "}\n",
       ".tfx-object .class-name {\n",
       "  font-weight: bold;\n",
       "}\n",
       ".tfx-object .deemphasize {\n",
       "  opacity: 0.5;\n",
       "}\n",
       ".tfx-object.collapsed > table.attr-table {\n",
       "  display: none;\n",
       "}\n",
       ".tfx-object.expanded > table.attr-table {\n",
       "  display: block;\n",
       "}\n",
       ".tfx-object table.attr-table {\n",
       "  border: 2px solid white;\n",
       "  margin-top: 5px;\n",
       "}\n",
       ".tfx-object table.attr-table td.attr-name {\n",
       "  vertical-align: top;\n",
       "  font-weight: bold;\n",
       "}\n",
       ".tfx-object table.attr-table td.attrvalue {\n",
       "  text-align: left;\n",
       "}\n",
       "</style>\n",
       "<script>\n",
       "function toggleTfxObject(element) {\n",
       "  var objElement = element.parentElement;\n",
       "  if (objElement.classList.contains('collapsed')) {\n",
       "    objElement.classList.remove('collapsed');\n",
       "    objElement.classList.add('expanded');\n",
       "  } else {\n",
       "    objElement.classList.add('collapsed');\n",
       "    objElement.classList.remove('expanded');\n",
       "  }\n",
       "}\n",
       "</script>\n",
       "<div class=\"tfx-object collapsed\"><div class = \"title\" onclick=\"toggleTfxObject(this)\"><span class=\"expansion-marker\"></span><span class=\"class-name\">Artifact</span> of type <span class=\"class-name\">'ExamplesPath'</span> (uri: /tmp/tfx-interactive-2019-08-31T21_40_43.017915-r5zd0p45/Transform/transformed_examples/6/eval/)<span class=\"deemphasize\"> at 0x7f57781b8c88</span></div><table class=\"attr-table\"><tr><td class=\"attr-name\">.type_name</td><td class = \"attrvalue\">ExamplesPath</td></tr><tr><td class=\"attr-name\">.uri</td><td class = \"attrvalue\">/tmp/tfx-interactive-2019-08-31T21_40_43.017915-r5zd0p45/Transform/transformed_examples/6/eval/</td></tr><tr><td class=\"attr-name\">.span</td><td class = \"attrvalue\">0</td></tr><tr><td class=\"attr-name\">.split</td><td class = \"attrvalue\">eval</td></tr></table></div></td></tr></table></td></tr></table></div></td></tr><tr><td class=\"attr-name\">['transform_output']</td><td class = \"attrvalue\"><style>\n",
       ".tfx-object.expanded {\n",
       "  padding: 4px 8px 4px 8px;\n",
       "  background: white;\n",
       "  border: 1px solid #bbbbbb;\n",
       "  box-shadow: 4px 4px 2px rgba(0,0,0,0.05);\n",
       "}\n",
       ".tfx-object, .tfx-object * {\n",
       "  font-size: 11pt;\n",
       "}\n",
       ".tfx-object > .title {\n",
       "  cursor: pointer;\n",
       "}\n",
       ".tfx-object .expansion-marker {\n",
       "  color: #999999;\n",
       "}\n",
       ".tfx-object.expanded > .title > .expansion-marker:before {\n",
       "  content: '▼';\n",
       "}\n",
       ".tfx-object.collapsed > .title > .expansion-marker:before {\n",
       "  content: '▶';\n",
       "}\n",
       ".tfx-object .class-name {\n",
       "  font-weight: bold;\n",
       "}\n",
       ".tfx-object .deemphasize {\n",
       "  opacity: 0.5;\n",
       "}\n",
       ".tfx-object.collapsed > table.attr-table {\n",
       "  display: none;\n",
       "}\n",
       ".tfx-object.expanded > table.attr-table {\n",
       "  display: block;\n",
       "}\n",
       ".tfx-object table.attr-table {\n",
       "  border: 2px solid white;\n",
       "  margin-top: 5px;\n",
       "}\n",
       ".tfx-object table.attr-table td.attr-name {\n",
       "  vertical-align: top;\n",
       "  font-weight: bold;\n",
       "}\n",
       ".tfx-object table.attr-table td.attrvalue {\n",
       "  text-align: left;\n",
       "}\n",
       "</style>\n",
       "<script>\n",
       "function toggleTfxObject(element) {\n",
       "  var objElement = element.parentElement;\n",
       "  if (objElement.classList.contains('collapsed')) {\n",
       "    objElement.classList.remove('collapsed');\n",
       "    objElement.classList.add('expanded');\n",
       "  } else {\n",
       "    objElement.classList.add('collapsed');\n",
       "    objElement.classList.remove('expanded');\n",
       "  }\n",
       "}\n",
       "</script>\n",
       "<div class=\"tfx-object collapsed\"><div class = \"title\" onclick=\"toggleTfxObject(this)\"><span class=\"expansion-marker\"></span><span class=\"class-name\">Channel</span> of type <span class=\"class-name\">'TransformPath'</span> (1 artifact)<span class=\"deemphasize\"> at 0x7f57781b8550</span></div><table class=\"attr-table\"><tr><td class=\"attr-name\">.type_name</td><td class = \"attrvalue\">TransformPath</td></tr><tr><td class=\"attr-name\">._artifacts</td><td class = \"attrvalue\"><table class=\"attr-table\"><tr><td class=\"attr-name\">[0]</td><td class = \"attrvalue\"><style>\n",
       ".tfx-object.expanded {\n",
       "  padding: 4px 8px 4px 8px;\n",
       "  background: white;\n",
       "  border: 1px solid #bbbbbb;\n",
       "  box-shadow: 4px 4px 2px rgba(0,0,0,0.05);\n",
       "}\n",
       ".tfx-object, .tfx-object * {\n",
       "  font-size: 11pt;\n",
       "}\n",
       ".tfx-object > .title {\n",
       "  cursor: pointer;\n",
       "}\n",
       ".tfx-object .expansion-marker {\n",
       "  color: #999999;\n",
       "}\n",
       ".tfx-object.expanded > .title > .expansion-marker:before {\n",
       "  content: '▼';\n",
       "}\n",
       ".tfx-object.collapsed > .title > .expansion-marker:before {\n",
       "  content: '▶';\n",
       "}\n",
       ".tfx-object .class-name {\n",
       "  font-weight: bold;\n",
       "}\n",
       ".tfx-object .deemphasize {\n",
       "  opacity: 0.5;\n",
       "}\n",
       ".tfx-object.collapsed > table.attr-table {\n",
       "  display: none;\n",
       "}\n",
       ".tfx-object.expanded > table.attr-table {\n",
       "  display: block;\n",
       "}\n",
       ".tfx-object table.attr-table {\n",
       "  border: 2px solid white;\n",
       "  margin-top: 5px;\n",
       "}\n",
       ".tfx-object table.attr-table td.attr-name {\n",
       "  vertical-align: top;\n",
       "  font-weight: bold;\n",
       "}\n",
       ".tfx-object table.attr-table td.attrvalue {\n",
       "  text-align: left;\n",
       "}\n",
       "</style>\n",
       "<script>\n",
       "function toggleTfxObject(element) {\n",
       "  var objElement = element.parentElement;\n",
       "  if (objElement.classList.contains('collapsed')) {\n",
       "    objElement.classList.remove('collapsed');\n",
       "    objElement.classList.add('expanded');\n",
       "  } else {\n",
       "    objElement.classList.add('collapsed');\n",
       "    objElement.classList.remove('expanded');\n",
       "  }\n",
       "}\n",
       "</script>\n",
       "<div class=\"tfx-object collapsed\"><div class = \"title\" onclick=\"toggleTfxObject(this)\"><span class=\"expansion-marker\"></span><span class=\"class-name\">Artifact</span> of type <span class=\"class-name\">'TransformPath'</span> (uri: /tmp/tfx-interactive-2019-08-31T21_40_43.017915-r5zd0p45/Transform/transform_output/6/)<span class=\"deemphasize\"> at 0x7f57781b80b8</span></div><table class=\"attr-table\"><tr><td class=\"attr-name\">.type_name</td><td class = \"attrvalue\">TransformPath</td></tr><tr><td class=\"attr-name\">.uri</td><td class = \"attrvalue\">/tmp/tfx-interactive-2019-08-31T21_40_43.017915-r5zd0p45/Transform/transform_output/6/</td></tr><tr><td class=\"attr-name\">.span</td><td class = \"attrvalue\">0</td></tr><tr><td class=\"attr-name\">.split</td><td class = \"attrvalue\"></td></tr></table></div></td></tr></table></td></tr></table></div></td></tr><tr><td class=\"attr-name\">['schema']</td><td class = \"attrvalue\"><style>\n",
       ".tfx-object.expanded {\n",
       "  padding: 4px 8px 4px 8px;\n",
       "  background: white;\n",
       "  border: 1px solid #bbbbbb;\n",
       "  box-shadow: 4px 4px 2px rgba(0,0,0,0.05);\n",
       "}\n",
       ".tfx-object, .tfx-object * {\n",
       "  font-size: 11pt;\n",
       "}\n",
       ".tfx-object > .title {\n",
       "  cursor: pointer;\n",
       "}\n",
       ".tfx-object .expansion-marker {\n",
       "  color: #999999;\n",
       "}\n",
       ".tfx-object.expanded > .title > .expansion-marker:before {\n",
       "  content: '▼';\n",
       "}\n",
       ".tfx-object.collapsed > .title > .expansion-marker:before {\n",
       "  content: '▶';\n",
       "}\n",
       ".tfx-object .class-name {\n",
       "  font-weight: bold;\n",
       "}\n",
       ".tfx-object .deemphasize {\n",
       "  opacity: 0.5;\n",
       "}\n",
       ".tfx-object.collapsed > table.attr-table {\n",
       "  display: none;\n",
       "}\n",
       ".tfx-object.expanded > table.attr-table {\n",
       "  display: block;\n",
       "}\n",
       ".tfx-object table.attr-table {\n",
       "  border: 2px solid white;\n",
       "  margin-top: 5px;\n",
       "}\n",
       ".tfx-object table.attr-table td.attr-name {\n",
       "  vertical-align: top;\n",
       "  font-weight: bold;\n",
       "}\n",
       ".tfx-object table.attr-table td.attrvalue {\n",
       "  text-align: left;\n",
       "}\n",
       "</style>\n",
       "<script>\n",
       "function toggleTfxObject(element) {\n",
       "  var objElement = element.parentElement;\n",
       "  if (objElement.classList.contains('collapsed')) {\n",
       "    objElement.classList.remove('collapsed');\n",
       "    objElement.classList.add('expanded');\n",
       "  } else {\n",
       "    objElement.classList.add('collapsed');\n",
       "    objElement.classList.remove('expanded');\n",
       "  }\n",
       "}\n",
       "</script>\n",
       "<div class=\"tfx-object collapsed\"><div class = \"title\" onclick=\"toggleTfxObject(this)\"><span class=\"expansion-marker\"></span><span class=\"class-name\">Channel</span> of type <span class=\"class-name\">'SchemaPath'</span> (1 artifact)<span class=\"deemphasize\"> at 0x7f57c4215668</span></div><table class=\"attr-table\"><tr><td class=\"attr-name\">.type_name</td><td class = \"attrvalue\">SchemaPath</td></tr><tr><td class=\"attr-name\">._artifacts</td><td class = \"attrvalue\"><table class=\"attr-table\"><tr><td class=\"attr-name\">[0]</td><td class = \"attrvalue\"><style>\n",
       ".tfx-object.expanded {\n",
       "  padding: 4px 8px 4px 8px;\n",
       "  background: white;\n",
       "  border: 1px solid #bbbbbb;\n",
       "  box-shadow: 4px 4px 2px rgba(0,0,0,0.05);\n",
       "}\n",
       ".tfx-object, .tfx-object * {\n",
       "  font-size: 11pt;\n",
       "}\n",
       ".tfx-object > .title {\n",
       "  cursor: pointer;\n",
       "}\n",
       ".tfx-object .expansion-marker {\n",
       "  color: #999999;\n",
       "}\n",
       ".tfx-object.expanded > .title > .expansion-marker:before {\n",
       "  content: '▼';\n",
       "}\n",
       ".tfx-object.collapsed > .title > .expansion-marker:before {\n",
       "  content: '▶';\n",
       "}\n",
       ".tfx-object .class-name {\n",
       "  font-weight: bold;\n",
       "}\n",
       ".tfx-object .deemphasize {\n",
       "  opacity: 0.5;\n",
       "}\n",
       ".tfx-object.collapsed > table.attr-table {\n",
       "  display: none;\n",
       "}\n",
       ".tfx-object.expanded > table.attr-table {\n",
       "  display: block;\n",
       "}\n",
       ".tfx-object table.attr-table {\n",
       "  border: 2px solid white;\n",
       "  margin-top: 5px;\n",
       "}\n",
       ".tfx-object table.attr-table td.attr-name {\n",
       "  vertical-align: top;\n",
       "  font-weight: bold;\n",
       "}\n",
       ".tfx-object table.attr-table td.attrvalue {\n",
       "  text-align: left;\n",
       "}\n",
       "</style>\n",
       "<script>\n",
       "function toggleTfxObject(element) {\n",
       "  var objElement = element.parentElement;\n",
       "  if (objElement.classList.contains('collapsed')) {\n",
       "    objElement.classList.remove('collapsed');\n",
       "    objElement.classList.add('expanded');\n",
       "  } else {\n",
       "    objElement.classList.add('collapsed');\n",
       "    objElement.classList.remove('expanded');\n",
       "  }\n",
       "}\n",
       "</script>\n",
       "<div class=\"tfx-object collapsed\"><div class = \"title\" onclick=\"toggleTfxObject(this)\"><span class=\"expansion-marker\"></span><span class=\"class-name\">Artifact</span> of type <span class=\"class-name\">'SchemaPath'</span> (uri: /tmp/tfx-interactive-2019-08-31T21_40_43.017915-r5zd0p45/SchemaGen/output/4/)<span class=\"deemphasize\"> at 0x7f57c4215828</span></div><table class=\"attr-table\"><tr><td class=\"attr-name\">.type_name</td><td class = \"attrvalue\">SchemaPath</td></tr><tr><td class=\"attr-name\">.uri</td><td class = \"attrvalue\">/tmp/tfx-interactive-2019-08-31T21_40_43.017915-r5zd0p45/SchemaGen/output/4/</td></tr><tr><td class=\"attr-name\">.span</td><td class = \"attrvalue\">0</td></tr><tr><td class=\"attr-name\">.split</td><td class = \"attrvalue\"></td></tr></table></div></td></tr></table></td></tr></table></div></td></tr></table></td></tr><tr><td class=\"attr-name\">.outputs</td><td class = \"attrvalue\"><table class=\"attr-table\"><tr><td class=\"attr-name\">['output']</td><td class = \"attrvalue\"><style>\n",
       ".tfx-object.expanded {\n",
       "  padding: 4px 8px 4px 8px;\n",
       "  background: white;\n",
       "  border: 1px solid #bbbbbb;\n",
       "  box-shadow: 4px 4px 2px rgba(0,0,0,0.05);\n",
       "}\n",
       ".tfx-object, .tfx-object * {\n",
       "  font-size: 11pt;\n",
       "}\n",
       ".tfx-object > .title {\n",
       "  cursor: pointer;\n",
       "}\n",
       ".tfx-object .expansion-marker {\n",
       "  color: #999999;\n",
       "}\n",
       ".tfx-object.expanded > .title > .expansion-marker:before {\n",
       "  content: '▼';\n",
       "}\n",
       ".tfx-object.collapsed > .title > .expansion-marker:before {\n",
       "  content: '▶';\n",
       "}\n",
       ".tfx-object .class-name {\n",
       "  font-weight: bold;\n",
       "}\n",
       ".tfx-object .deemphasize {\n",
       "  opacity: 0.5;\n",
       "}\n",
       ".tfx-object.collapsed > table.attr-table {\n",
       "  display: none;\n",
       "}\n",
       ".tfx-object.expanded > table.attr-table {\n",
       "  display: block;\n",
       "}\n",
       ".tfx-object table.attr-table {\n",
       "  border: 2px solid white;\n",
       "  margin-top: 5px;\n",
       "}\n",
       ".tfx-object table.attr-table td.attr-name {\n",
       "  vertical-align: top;\n",
       "  font-weight: bold;\n",
       "}\n",
       ".tfx-object table.attr-table td.attrvalue {\n",
       "  text-align: left;\n",
       "}\n",
       "</style>\n",
       "<script>\n",
       "function toggleTfxObject(element) {\n",
       "  var objElement = element.parentElement;\n",
       "  if (objElement.classList.contains('collapsed')) {\n",
       "    objElement.classList.remove('collapsed');\n",
       "    objElement.classList.add('expanded');\n",
       "  } else {\n",
       "    objElement.classList.add('collapsed');\n",
       "    objElement.classList.remove('expanded');\n",
       "  }\n",
       "}\n",
       "</script>\n",
       "<div class=\"tfx-object collapsed\"><div class = \"title\" onclick=\"toggleTfxObject(this)\"><span class=\"expansion-marker\"></span><span class=\"class-name\">Channel</span> of type <span class=\"class-name\">'ModelExportPath'</span> (1 artifact)<span class=\"deemphasize\"> at 0x7f579c3e9080</span></div><table class=\"attr-table\"><tr><td class=\"attr-name\">.type_name</td><td class = \"attrvalue\">ModelExportPath</td></tr><tr><td class=\"attr-name\">._artifacts</td><td class = \"attrvalue\"><table class=\"attr-table\"><tr><td class=\"attr-name\">[0]</td><td class = \"attrvalue\"><style>\n",
       ".tfx-object.expanded {\n",
       "  padding: 4px 8px 4px 8px;\n",
       "  background: white;\n",
       "  border: 1px solid #bbbbbb;\n",
       "  box-shadow: 4px 4px 2px rgba(0,0,0,0.05);\n",
       "}\n",
       ".tfx-object, .tfx-object * {\n",
       "  font-size: 11pt;\n",
       "}\n",
       ".tfx-object > .title {\n",
       "  cursor: pointer;\n",
       "}\n",
       ".tfx-object .expansion-marker {\n",
       "  color: #999999;\n",
       "}\n",
       ".tfx-object.expanded > .title > .expansion-marker:before {\n",
       "  content: '▼';\n",
       "}\n",
       ".tfx-object.collapsed > .title > .expansion-marker:before {\n",
       "  content: '▶';\n",
       "}\n",
       ".tfx-object .class-name {\n",
       "  font-weight: bold;\n",
       "}\n",
       ".tfx-object .deemphasize {\n",
       "  opacity: 0.5;\n",
       "}\n",
       ".tfx-object.collapsed > table.attr-table {\n",
       "  display: none;\n",
       "}\n",
       ".tfx-object.expanded > table.attr-table {\n",
       "  display: block;\n",
       "}\n",
       ".tfx-object table.attr-table {\n",
       "  border: 2px solid white;\n",
       "  margin-top: 5px;\n",
       "}\n",
       ".tfx-object table.attr-table td.attr-name {\n",
       "  vertical-align: top;\n",
       "  font-weight: bold;\n",
       "}\n",
       ".tfx-object table.attr-table td.attrvalue {\n",
       "  text-align: left;\n",
       "}\n",
       "</style>\n",
       "<script>\n",
       "function toggleTfxObject(element) {\n",
       "  var objElement = element.parentElement;\n",
       "  if (objElement.classList.contains('collapsed')) {\n",
       "    objElement.classList.remove('collapsed');\n",
       "    objElement.classList.add('expanded');\n",
       "  } else {\n",
       "    objElement.classList.add('collapsed');\n",
       "    objElement.classList.remove('expanded');\n",
       "  }\n",
       "}\n",
       "</script>\n",
       "<div class=\"tfx-object collapsed\"><div class = \"title\" onclick=\"toggleTfxObject(this)\"><span class=\"expansion-marker\"></span><span class=\"class-name\">Artifact</span> of type <span class=\"class-name\">'ModelExportPath'</span> (uri: /tmp/tfx-interactive-2019-08-31T21_40_43.017915-r5zd0p45/Trainer/output/7/)<span class=\"deemphasize\"> at 0x7f57c428f6d8</span></div><table class=\"attr-table\"><tr><td class=\"attr-name\">.type_name</td><td class = \"attrvalue\">ModelExportPath</td></tr><tr><td class=\"attr-name\">.uri</td><td class = \"attrvalue\">/tmp/tfx-interactive-2019-08-31T21_40_43.017915-r5zd0p45/Trainer/output/7/</td></tr><tr><td class=\"attr-name\">.span</td><td class = \"attrvalue\">0</td></tr><tr><td class=\"attr-name\">.split</td><td class = \"attrvalue\"></td></tr></table></div></td></tr></table></td></tr></table></div></td></tr></table></td></tr><tr><td class=\"attr-name\">.exec_properties</td><td class = \"attrvalue\"><table class=\"attr-table\"><tr><td class=\"attr-name\">['train_args']</td><td class = \"attrvalue\">{\n",
       "  \"numSteps\": 10000\n",
       "}</td></tr><tr><td class=\"attr-name\">['eval_args']</td><td class = \"attrvalue\">{\n",
       "  \"numSteps\": 5000\n",
       "}</td></tr><tr><td class=\"attr-name\">['module_file']</td><td class = \"attrvalue\">/root/miniconda3/envs/tfx/lib/python3.7/site-packages/tfx/examples/chicago_taxi_pipeline/taxi_utils.py</td></tr><tr><td class=\"attr-name\">['trainer_fn']</td><td class = \"attrvalue\">None</td></tr><tr><td class=\"attr-name\">['custom_config']</td><td class = \"attrvalue\">None</td></tr></table></td></tr></table></div></td></tr><tr><td class=\"attr-name\">.component.inputs</td><td class = \"attrvalue\"><table class=\"attr-table\"><tr><td class=\"attr-name\">['examples']</td><td class = \"attrvalue\"><style>\n",
       ".tfx-object.expanded {\n",
       "  padding: 4px 8px 4px 8px;\n",
       "  background: white;\n",
       "  border: 1px solid #bbbbbb;\n",
       "  box-shadow: 4px 4px 2px rgba(0,0,0,0.05);\n",
       "}\n",
       ".tfx-object, .tfx-object * {\n",
       "  font-size: 11pt;\n",
       "}\n",
       ".tfx-object > .title {\n",
       "  cursor: pointer;\n",
       "}\n",
       ".tfx-object .expansion-marker {\n",
       "  color: #999999;\n",
       "}\n",
       ".tfx-object.expanded > .title > .expansion-marker:before {\n",
       "  content: '▼';\n",
       "}\n",
       ".tfx-object.collapsed > .title > .expansion-marker:before {\n",
       "  content: '▶';\n",
       "}\n",
       ".tfx-object .class-name {\n",
       "  font-weight: bold;\n",
       "}\n",
       ".tfx-object .deemphasize {\n",
       "  opacity: 0.5;\n",
       "}\n",
       ".tfx-object.collapsed > table.attr-table {\n",
       "  display: none;\n",
       "}\n",
       ".tfx-object.expanded > table.attr-table {\n",
       "  display: block;\n",
       "}\n",
       ".tfx-object table.attr-table {\n",
       "  border: 2px solid white;\n",
       "  margin-top: 5px;\n",
       "}\n",
       ".tfx-object table.attr-table td.attr-name {\n",
       "  vertical-align: top;\n",
       "  font-weight: bold;\n",
       "}\n",
       ".tfx-object table.attr-table td.attrvalue {\n",
       "  text-align: left;\n",
       "}\n",
       "</style>\n",
       "<script>\n",
       "function toggleTfxObject(element) {\n",
       "  var objElement = element.parentElement;\n",
       "  if (objElement.classList.contains('collapsed')) {\n",
       "    objElement.classList.remove('collapsed');\n",
       "    objElement.classList.add('expanded');\n",
       "  } else {\n",
       "    objElement.classList.add('collapsed');\n",
       "    objElement.classList.remove('expanded');\n",
       "  }\n",
       "}\n",
       "</script>\n",
       "<div class=\"tfx-object collapsed\"><div class = \"title\" onclick=\"toggleTfxObject(this)\"><span class=\"expansion-marker\"></span><span class=\"class-name\">Channel</span> of type <span class=\"class-name\">'ExamplesPath'</span> (2 artifacts)<span class=\"deemphasize\"> at 0x7f57781b8358</span></div><table class=\"attr-table\"><tr><td class=\"attr-name\">.type_name</td><td class = \"attrvalue\">ExamplesPath</td></tr><tr><td class=\"attr-name\">._artifacts</td><td class = \"attrvalue\"><table class=\"attr-table\"><tr><td class=\"attr-name\">[0]</td><td class = \"attrvalue\"><style>\n",
       ".tfx-object.expanded {\n",
       "  padding: 4px 8px 4px 8px;\n",
       "  background: white;\n",
       "  border: 1px solid #bbbbbb;\n",
       "  box-shadow: 4px 4px 2px rgba(0,0,0,0.05);\n",
       "}\n",
       ".tfx-object, .tfx-object * {\n",
       "  font-size: 11pt;\n",
       "}\n",
       ".tfx-object > .title {\n",
       "  cursor: pointer;\n",
       "}\n",
       ".tfx-object .expansion-marker {\n",
       "  color: #999999;\n",
       "}\n",
       ".tfx-object.expanded > .title > .expansion-marker:before {\n",
       "  content: '▼';\n",
       "}\n",
       ".tfx-object.collapsed > .title > .expansion-marker:before {\n",
       "  content: '▶';\n",
       "}\n",
       ".tfx-object .class-name {\n",
       "  font-weight: bold;\n",
       "}\n",
       ".tfx-object .deemphasize {\n",
       "  opacity: 0.5;\n",
       "}\n",
       ".tfx-object.collapsed > table.attr-table {\n",
       "  display: none;\n",
       "}\n",
       ".tfx-object.expanded > table.attr-table {\n",
       "  display: block;\n",
       "}\n",
       ".tfx-object table.attr-table {\n",
       "  border: 2px solid white;\n",
       "  margin-top: 5px;\n",
       "}\n",
       ".tfx-object table.attr-table td.attr-name {\n",
       "  vertical-align: top;\n",
       "  font-weight: bold;\n",
       "}\n",
       ".tfx-object table.attr-table td.attrvalue {\n",
       "  text-align: left;\n",
       "}\n",
       "</style>\n",
       "<script>\n",
       "function toggleTfxObject(element) {\n",
       "  var objElement = element.parentElement;\n",
       "  if (objElement.classList.contains('collapsed')) {\n",
       "    objElement.classList.remove('collapsed');\n",
       "    objElement.classList.add('expanded');\n",
       "  } else {\n",
       "    objElement.classList.add('collapsed');\n",
       "    objElement.classList.remove('expanded');\n",
       "  }\n",
       "}\n",
       "</script>\n",
       "<div class=\"tfx-object collapsed\"><div class = \"title\" onclick=\"toggleTfxObject(this)\"><span class=\"expansion-marker\"></span><span class=\"class-name\">Artifact</span> of type <span class=\"class-name\">'ExamplesPath'</span> (uri: /tmp/tfx-interactive-2019-08-31T21_40_43.017915-r5zd0p45/Transform/transformed_examples/6/train/)<span class=\"deemphasize\"> at 0x7f57781b8dd8</span></div><table class=\"attr-table\"><tr><td class=\"attr-name\">.type_name</td><td class = \"attrvalue\">ExamplesPath</td></tr><tr><td class=\"attr-name\">.uri</td><td class = \"attrvalue\">/tmp/tfx-interactive-2019-08-31T21_40_43.017915-r5zd0p45/Transform/transformed_examples/6/train/</td></tr><tr><td class=\"attr-name\">.span</td><td class = \"attrvalue\">0</td></tr><tr><td class=\"attr-name\">.split</td><td class = \"attrvalue\">train</td></tr></table></div></td></tr><tr><td class=\"attr-name\">[1]</td><td class = \"attrvalue\"><style>\n",
       ".tfx-object.expanded {\n",
       "  padding: 4px 8px 4px 8px;\n",
       "  background: white;\n",
       "  border: 1px solid #bbbbbb;\n",
       "  box-shadow: 4px 4px 2px rgba(0,0,0,0.05);\n",
       "}\n",
       ".tfx-object, .tfx-object * {\n",
       "  font-size: 11pt;\n",
       "}\n",
       ".tfx-object > .title {\n",
       "  cursor: pointer;\n",
       "}\n",
       ".tfx-object .expansion-marker {\n",
       "  color: #999999;\n",
       "}\n",
       ".tfx-object.expanded > .title > .expansion-marker:before {\n",
       "  content: '▼';\n",
       "}\n",
       ".tfx-object.collapsed > .title > .expansion-marker:before {\n",
       "  content: '▶';\n",
       "}\n",
       ".tfx-object .class-name {\n",
       "  font-weight: bold;\n",
       "}\n",
       ".tfx-object .deemphasize {\n",
       "  opacity: 0.5;\n",
       "}\n",
       ".tfx-object.collapsed > table.attr-table {\n",
       "  display: none;\n",
       "}\n",
       ".tfx-object.expanded > table.attr-table {\n",
       "  display: block;\n",
       "}\n",
       ".tfx-object table.attr-table {\n",
       "  border: 2px solid white;\n",
       "  margin-top: 5px;\n",
       "}\n",
       ".tfx-object table.attr-table td.attr-name {\n",
       "  vertical-align: top;\n",
       "  font-weight: bold;\n",
       "}\n",
       ".tfx-object table.attr-table td.attrvalue {\n",
       "  text-align: left;\n",
       "}\n",
       "</style>\n",
       "<script>\n",
       "function toggleTfxObject(element) {\n",
       "  var objElement = element.parentElement;\n",
       "  if (objElement.classList.contains('collapsed')) {\n",
       "    objElement.classList.remove('collapsed');\n",
       "    objElement.classList.add('expanded');\n",
       "  } else {\n",
       "    objElement.classList.add('collapsed');\n",
       "    objElement.classList.remove('expanded');\n",
       "  }\n",
       "}\n",
       "</script>\n",
       "<div class=\"tfx-object collapsed\"><div class = \"title\" onclick=\"toggleTfxObject(this)\"><span class=\"expansion-marker\"></span><span class=\"class-name\">Artifact</span> of type <span class=\"class-name\">'ExamplesPath'</span> (uri: /tmp/tfx-interactive-2019-08-31T21_40_43.017915-r5zd0p45/Transform/transformed_examples/6/eval/)<span class=\"deemphasize\"> at 0x7f57781b8c88</span></div><table class=\"attr-table\"><tr><td class=\"attr-name\">.type_name</td><td class = \"attrvalue\">ExamplesPath</td></tr><tr><td class=\"attr-name\">.uri</td><td class = \"attrvalue\">/tmp/tfx-interactive-2019-08-31T21_40_43.017915-r5zd0p45/Transform/transformed_examples/6/eval/</td></tr><tr><td class=\"attr-name\">.span</td><td class = \"attrvalue\">0</td></tr><tr><td class=\"attr-name\">.split</td><td class = \"attrvalue\">eval</td></tr></table></div></td></tr></table></td></tr></table></div></td></tr><tr><td class=\"attr-name\">['transform_output']</td><td class = \"attrvalue\"><style>\n",
       ".tfx-object.expanded {\n",
       "  padding: 4px 8px 4px 8px;\n",
       "  background: white;\n",
       "  border: 1px solid #bbbbbb;\n",
       "  box-shadow: 4px 4px 2px rgba(0,0,0,0.05);\n",
       "}\n",
       ".tfx-object, .tfx-object * {\n",
       "  font-size: 11pt;\n",
       "}\n",
       ".tfx-object > .title {\n",
       "  cursor: pointer;\n",
       "}\n",
       ".tfx-object .expansion-marker {\n",
       "  color: #999999;\n",
       "}\n",
       ".tfx-object.expanded > .title > .expansion-marker:before {\n",
       "  content: '▼';\n",
       "}\n",
       ".tfx-object.collapsed > .title > .expansion-marker:before {\n",
       "  content: '▶';\n",
       "}\n",
       ".tfx-object .class-name {\n",
       "  font-weight: bold;\n",
       "}\n",
       ".tfx-object .deemphasize {\n",
       "  opacity: 0.5;\n",
       "}\n",
       ".tfx-object.collapsed > table.attr-table {\n",
       "  display: none;\n",
       "}\n",
       ".tfx-object.expanded > table.attr-table {\n",
       "  display: block;\n",
       "}\n",
       ".tfx-object table.attr-table {\n",
       "  border: 2px solid white;\n",
       "  margin-top: 5px;\n",
       "}\n",
       ".tfx-object table.attr-table td.attr-name {\n",
       "  vertical-align: top;\n",
       "  font-weight: bold;\n",
       "}\n",
       ".tfx-object table.attr-table td.attrvalue {\n",
       "  text-align: left;\n",
       "}\n",
       "</style>\n",
       "<script>\n",
       "function toggleTfxObject(element) {\n",
       "  var objElement = element.parentElement;\n",
       "  if (objElement.classList.contains('collapsed')) {\n",
       "    objElement.classList.remove('collapsed');\n",
       "    objElement.classList.add('expanded');\n",
       "  } else {\n",
       "    objElement.classList.add('collapsed');\n",
       "    objElement.classList.remove('expanded');\n",
       "  }\n",
       "}\n",
       "</script>\n",
       "<div class=\"tfx-object collapsed\"><div class = \"title\" onclick=\"toggleTfxObject(this)\"><span class=\"expansion-marker\"></span><span class=\"class-name\">Channel</span> of type <span class=\"class-name\">'TransformPath'</span> (1 artifact)<span class=\"deemphasize\"> at 0x7f57781b8550</span></div><table class=\"attr-table\"><tr><td class=\"attr-name\">.type_name</td><td class = \"attrvalue\">TransformPath</td></tr><tr><td class=\"attr-name\">._artifacts</td><td class = \"attrvalue\"><table class=\"attr-table\"><tr><td class=\"attr-name\">[0]</td><td class = \"attrvalue\"><style>\n",
       ".tfx-object.expanded {\n",
       "  padding: 4px 8px 4px 8px;\n",
       "  background: white;\n",
       "  border: 1px solid #bbbbbb;\n",
       "  box-shadow: 4px 4px 2px rgba(0,0,0,0.05);\n",
       "}\n",
       ".tfx-object, .tfx-object * {\n",
       "  font-size: 11pt;\n",
       "}\n",
       ".tfx-object > .title {\n",
       "  cursor: pointer;\n",
       "}\n",
       ".tfx-object .expansion-marker {\n",
       "  color: #999999;\n",
       "}\n",
       ".tfx-object.expanded > .title > .expansion-marker:before {\n",
       "  content: '▼';\n",
       "}\n",
       ".tfx-object.collapsed > .title > .expansion-marker:before {\n",
       "  content: '▶';\n",
       "}\n",
       ".tfx-object .class-name {\n",
       "  font-weight: bold;\n",
       "}\n",
       ".tfx-object .deemphasize {\n",
       "  opacity: 0.5;\n",
       "}\n",
       ".tfx-object.collapsed > table.attr-table {\n",
       "  display: none;\n",
       "}\n",
       ".tfx-object.expanded > table.attr-table {\n",
       "  display: block;\n",
       "}\n",
       ".tfx-object table.attr-table {\n",
       "  border: 2px solid white;\n",
       "  margin-top: 5px;\n",
       "}\n",
       ".tfx-object table.attr-table td.attr-name {\n",
       "  vertical-align: top;\n",
       "  font-weight: bold;\n",
       "}\n",
       ".tfx-object table.attr-table td.attrvalue {\n",
       "  text-align: left;\n",
       "}\n",
       "</style>\n",
       "<script>\n",
       "function toggleTfxObject(element) {\n",
       "  var objElement = element.parentElement;\n",
       "  if (objElement.classList.contains('collapsed')) {\n",
       "    objElement.classList.remove('collapsed');\n",
       "    objElement.classList.add('expanded');\n",
       "  } else {\n",
       "    objElement.classList.add('collapsed');\n",
       "    objElement.classList.remove('expanded');\n",
       "  }\n",
       "}\n",
       "</script>\n",
       "<div class=\"tfx-object collapsed\"><div class = \"title\" onclick=\"toggleTfxObject(this)\"><span class=\"expansion-marker\"></span><span class=\"class-name\">Artifact</span> of type <span class=\"class-name\">'TransformPath'</span> (uri: /tmp/tfx-interactive-2019-08-31T21_40_43.017915-r5zd0p45/Transform/transform_output/6/)<span class=\"deemphasize\"> at 0x7f57781b80b8</span></div><table class=\"attr-table\"><tr><td class=\"attr-name\">.type_name</td><td class = \"attrvalue\">TransformPath</td></tr><tr><td class=\"attr-name\">.uri</td><td class = \"attrvalue\">/tmp/tfx-interactive-2019-08-31T21_40_43.017915-r5zd0p45/Transform/transform_output/6/</td></tr><tr><td class=\"attr-name\">.span</td><td class = \"attrvalue\">0</td></tr><tr><td class=\"attr-name\">.split</td><td class = \"attrvalue\"></td></tr></table></div></td></tr></table></td></tr></table></div></td></tr><tr><td class=\"attr-name\">['schema']</td><td class = \"attrvalue\"><style>\n",
       ".tfx-object.expanded {\n",
       "  padding: 4px 8px 4px 8px;\n",
       "  background: white;\n",
       "  border: 1px solid #bbbbbb;\n",
       "  box-shadow: 4px 4px 2px rgba(0,0,0,0.05);\n",
       "}\n",
       ".tfx-object, .tfx-object * {\n",
       "  font-size: 11pt;\n",
       "}\n",
       ".tfx-object > .title {\n",
       "  cursor: pointer;\n",
       "}\n",
       ".tfx-object .expansion-marker {\n",
       "  color: #999999;\n",
       "}\n",
       ".tfx-object.expanded > .title > .expansion-marker:before {\n",
       "  content: '▼';\n",
       "}\n",
       ".tfx-object.collapsed > .title > .expansion-marker:before {\n",
       "  content: '▶';\n",
       "}\n",
       ".tfx-object .class-name {\n",
       "  font-weight: bold;\n",
       "}\n",
       ".tfx-object .deemphasize {\n",
       "  opacity: 0.5;\n",
       "}\n",
       ".tfx-object.collapsed > table.attr-table {\n",
       "  display: none;\n",
       "}\n",
       ".tfx-object.expanded > table.attr-table {\n",
       "  display: block;\n",
       "}\n",
       ".tfx-object table.attr-table {\n",
       "  border: 2px solid white;\n",
       "  margin-top: 5px;\n",
       "}\n",
       ".tfx-object table.attr-table td.attr-name {\n",
       "  vertical-align: top;\n",
       "  font-weight: bold;\n",
       "}\n",
       ".tfx-object table.attr-table td.attrvalue {\n",
       "  text-align: left;\n",
       "}\n",
       "</style>\n",
       "<script>\n",
       "function toggleTfxObject(element) {\n",
       "  var objElement = element.parentElement;\n",
       "  if (objElement.classList.contains('collapsed')) {\n",
       "    objElement.classList.remove('collapsed');\n",
       "    objElement.classList.add('expanded');\n",
       "  } else {\n",
       "    objElement.classList.add('collapsed');\n",
       "    objElement.classList.remove('expanded');\n",
       "  }\n",
       "}\n",
       "</script>\n",
       "<div class=\"tfx-object collapsed\"><div class = \"title\" onclick=\"toggleTfxObject(this)\"><span class=\"expansion-marker\"></span><span class=\"class-name\">Channel</span> of type <span class=\"class-name\">'SchemaPath'</span> (1 artifact)<span class=\"deemphasize\"> at 0x7f57c4215668</span></div><table class=\"attr-table\"><tr><td class=\"attr-name\">.type_name</td><td class = \"attrvalue\">SchemaPath</td></tr><tr><td class=\"attr-name\">._artifacts</td><td class = \"attrvalue\"><table class=\"attr-table\"><tr><td class=\"attr-name\">[0]</td><td class = \"attrvalue\"><style>\n",
       ".tfx-object.expanded {\n",
       "  padding: 4px 8px 4px 8px;\n",
       "  background: white;\n",
       "  border: 1px solid #bbbbbb;\n",
       "  box-shadow: 4px 4px 2px rgba(0,0,0,0.05);\n",
       "}\n",
       ".tfx-object, .tfx-object * {\n",
       "  font-size: 11pt;\n",
       "}\n",
       ".tfx-object > .title {\n",
       "  cursor: pointer;\n",
       "}\n",
       ".tfx-object .expansion-marker {\n",
       "  color: #999999;\n",
       "}\n",
       ".tfx-object.expanded > .title > .expansion-marker:before {\n",
       "  content: '▼';\n",
       "}\n",
       ".tfx-object.collapsed > .title > .expansion-marker:before {\n",
       "  content: '▶';\n",
       "}\n",
       ".tfx-object .class-name {\n",
       "  font-weight: bold;\n",
       "}\n",
       ".tfx-object .deemphasize {\n",
       "  opacity: 0.5;\n",
       "}\n",
       ".tfx-object.collapsed > table.attr-table {\n",
       "  display: none;\n",
       "}\n",
       ".tfx-object.expanded > table.attr-table {\n",
       "  display: block;\n",
       "}\n",
       ".tfx-object table.attr-table {\n",
       "  border: 2px solid white;\n",
       "  margin-top: 5px;\n",
       "}\n",
       ".tfx-object table.attr-table td.attr-name {\n",
       "  vertical-align: top;\n",
       "  font-weight: bold;\n",
       "}\n",
       ".tfx-object table.attr-table td.attrvalue {\n",
       "  text-align: left;\n",
       "}\n",
       "</style>\n",
       "<script>\n",
       "function toggleTfxObject(element) {\n",
       "  var objElement = element.parentElement;\n",
       "  if (objElement.classList.contains('collapsed')) {\n",
       "    objElement.classList.remove('collapsed');\n",
       "    objElement.classList.add('expanded');\n",
       "  } else {\n",
       "    objElement.classList.add('collapsed');\n",
       "    objElement.classList.remove('expanded');\n",
       "  }\n",
       "}\n",
       "</script>\n",
       "<div class=\"tfx-object collapsed\"><div class = \"title\" onclick=\"toggleTfxObject(this)\"><span class=\"expansion-marker\"></span><span class=\"class-name\">Artifact</span> of type <span class=\"class-name\">'SchemaPath'</span> (uri: /tmp/tfx-interactive-2019-08-31T21_40_43.017915-r5zd0p45/SchemaGen/output/4/)<span class=\"deemphasize\"> at 0x7f57c4215828</span></div><table class=\"attr-table\"><tr><td class=\"attr-name\">.type_name</td><td class = \"attrvalue\">SchemaPath</td></tr><tr><td class=\"attr-name\">.uri</td><td class = \"attrvalue\">/tmp/tfx-interactive-2019-08-31T21_40_43.017915-r5zd0p45/SchemaGen/output/4/</td></tr><tr><td class=\"attr-name\">.span</td><td class = \"attrvalue\">0</td></tr><tr><td class=\"attr-name\">.split</td><td class = \"attrvalue\"></td></tr></table></div></td></tr></table></td></tr></table></div></td></tr></table></td></tr><tr><td class=\"attr-name\">.component.outputs</td><td class = \"attrvalue\"><table class=\"attr-table\"><tr><td class=\"attr-name\">['output']</td><td class = \"attrvalue\"><style>\n",
       ".tfx-object.expanded {\n",
       "  padding: 4px 8px 4px 8px;\n",
       "  background: white;\n",
       "  border: 1px solid #bbbbbb;\n",
       "  box-shadow: 4px 4px 2px rgba(0,0,0,0.05);\n",
       "}\n",
       ".tfx-object, .tfx-object * {\n",
       "  font-size: 11pt;\n",
       "}\n",
       ".tfx-object > .title {\n",
       "  cursor: pointer;\n",
       "}\n",
       ".tfx-object .expansion-marker {\n",
       "  color: #999999;\n",
       "}\n",
       ".tfx-object.expanded > .title > .expansion-marker:before {\n",
       "  content: '▼';\n",
       "}\n",
       ".tfx-object.collapsed > .title > .expansion-marker:before {\n",
       "  content: '▶';\n",
       "}\n",
       ".tfx-object .class-name {\n",
       "  font-weight: bold;\n",
       "}\n",
       ".tfx-object .deemphasize {\n",
       "  opacity: 0.5;\n",
       "}\n",
       ".tfx-object.collapsed > table.attr-table {\n",
       "  display: none;\n",
       "}\n",
       ".tfx-object.expanded > table.attr-table {\n",
       "  display: block;\n",
       "}\n",
       ".tfx-object table.attr-table {\n",
       "  border: 2px solid white;\n",
       "  margin-top: 5px;\n",
       "}\n",
       ".tfx-object table.attr-table td.attr-name {\n",
       "  vertical-align: top;\n",
       "  font-weight: bold;\n",
       "}\n",
       ".tfx-object table.attr-table td.attrvalue {\n",
       "  text-align: left;\n",
       "}\n",
       "</style>\n",
       "<script>\n",
       "function toggleTfxObject(element) {\n",
       "  var objElement = element.parentElement;\n",
       "  if (objElement.classList.contains('collapsed')) {\n",
       "    objElement.classList.remove('collapsed');\n",
       "    objElement.classList.add('expanded');\n",
       "  } else {\n",
       "    objElement.classList.add('collapsed');\n",
       "    objElement.classList.remove('expanded');\n",
       "  }\n",
       "}\n",
       "</script>\n",
       "<div class=\"tfx-object collapsed\"><div class = \"title\" onclick=\"toggleTfxObject(this)\"><span class=\"expansion-marker\"></span><span class=\"class-name\">Channel</span> of type <span class=\"class-name\">'ModelExportPath'</span> (1 artifact)<span class=\"deemphasize\"> at 0x7f579c3e9080</span></div><table class=\"attr-table\"><tr><td class=\"attr-name\">.type_name</td><td class = \"attrvalue\">ModelExportPath</td></tr><tr><td class=\"attr-name\">._artifacts</td><td class = \"attrvalue\"><table class=\"attr-table\"><tr><td class=\"attr-name\">[0]</td><td class = \"attrvalue\"><style>\n",
       ".tfx-object.expanded {\n",
       "  padding: 4px 8px 4px 8px;\n",
       "  background: white;\n",
       "  border: 1px solid #bbbbbb;\n",
       "  box-shadow: 4px 4px 2px rgba(0,0,0,0.05);\n",
       "}\n",
       ".tfx-object, .tfx-object * {\n",
       "  font-size: 11pt;\n",
       "}\n",
       ".tfx-object > .title {\n",
       "  cursor: pointer;\n",
       "}\n",
       ".tfx-object .expansion-marker {\n",
       "  color: #999999;\n",
       "}\n",
       ".tfx-object.expanded > .title > .expansion-marker:before {\n",
       "  content: '▼';\n",
       "}\n",
       ".tfx-object.collapsed > .title > .expansion-marker:before {\n",
       "  content: '▶';\n",
       "}\n",
       ".tfx-object .class-name {\n",
       "  font-weight: bold;\n",
       "}\n",
       ".tfx-object .deemphasize {\n",
       "  opacity: 0.5;\n",
       "}\n",
       ".tfx-object.collapsed > table.attr-table {\n",
       "  display: none;\n",
       "}\n",
       ".tfx-object.expanded > table.attr-table {\n",
       "  display: block;\n",
       "}\n",
       ".tfx-object table.attr-table {\n",
       "  border: 2px solid white;\n",
       "  margin-top: 5px;\n",
       "}\n",
       ".tfx-object table.attr-table td.attr-name {\n",
       "  vertical-align: top;\n",
       "  font-weight: bold;\n",
       "}\n",
       ".tfx-object table.attr-table td.attrvalue {\n",
       "  text-align: left;\n",
       "}\n",
       "</style>\n",
       "<script>\n",
       "function toggleTfxObject(element) {\n",
       "  var objElement = element.parentElement;\n",
       "  if (objElement.classList.contains('collapsed')) {\n",
       "    objElement.classList.remove('collapsed');\n",
       "    objElement.classList.add('expanded');\n",
       "  } else {\n",
       "    objElement.classList.add('collapsed');\n",
       "    objElement.classList.remove('expanded');\n",
       "  }\n",
       "}\n",
       "</script>\n",
       "<div class=\"tfx-object collapsed\"><div class = \"title\" onclick=\"toggleTfxObject(this)\"><span class=\"expansion-marker\"></span><span class=\"class-name\">Artifact</span> of type <span class=\"class-name\">'ModelExportPath'</span> (uri: /tmp/tfx-interactive-2019-08-31T21_40_43.017915-r5zd0p45/Trainer/output/7/)<span class=\"deemphasize\"> at 0x7f57c428f6d8</span></div><table class=\"attr-table\"><tr><td class=\"attr-name\">.type_name</td><td class = \"attrvalue\">ModelExportPath</td></tr><tr><td class=\"attr-name\">.uri</td><td class = \"attrvalue\">/tmp/tfx-interactive-2019-08-31T21_40_43.017915-r5zd0p45/Trainer/output/7/</td></tr><tr><td class=\"attr-name\">.span</td><td class = \"attrvalue\">0</td></tr><tr><td class=\"attr-name\">.split</td><td class = \"attrvalue\"></td></tr></table></div></td></tr></table></td></tr></table></div></td></tr></table></td></tr></table></div>"
      ],
      "text/plain": [
       "ExecutionResult(\n",
       "    component_id: Trainer\n",
       "    execution_id: 7\n",
       "    outputs:\n",
       "        output: Channel(\n",
       "            type_name: ModelExportPath\n",
       "            artifacts: [Artifact(type_name: ModelExportPath, uri: /tmp/tfx-interactive-2019-08-31T21_40_43.017915-r5zd0p45/Trainer/output/7/, split: , id: 11)]\n",
       "        ))"
      ]
     },
     "execution_count": 17,
     "metadata": {},
     "output_type": "execute_result"
    }
   ],
   "source": [
    "# Uses user-provided Python function that implements a model using TF-Learn.\n",
    "trainer = Trainer(\n",
    "    module_file=_taxi_module_file,\n",
    "    transformed_examples=transform.outputs['transformed_examples'],\n",
    "    schema=infer_schema.outputs['output'],\n",
    "    transform_output=transform.outputs['transform_output'],\n",
    "    train_args=trainer_pb2.TrainArgs(num_steps=10000),\n",
    "    eval_args=trainer_pb2.EvalArgs(num_steps=5000))\n",
    "context.run(trainer)"
   ]
  },
  {
   "cell_type": "markdown",
   "metadata": {
    "colab_type": "text",
    "id": "FmPftrv0lEQy"
   },
   "source": [
    "### Evaluator (using Tensorflow Model Analysis)\n",
    "The `Evaluator` computes evaluation statistics over features of your model using [Tensorflow Model Analysis](https://www.tensorflow.org/tfx/model_analysis/get_started). In this section, we run TFMA in our TFX pipeline and then visualize the results to analyze the performance of our model."
   ]
  },
  {
   "cell_type": "markdown",
   "metadata": {
    "colab_type": "text",
    "id": "kGcid3lXJsBf"
   },
   "source": [
    "#### Run TFMA using the Evaluator component\n",
    "\n",
    "Here, we first define slicing specs for analyzing our data. Next, we run TFMA using these specs to generate results."
   ]
  },
  {
   "cell_type": "code",
   "execution_count": null,
   "metadata": {
    "colab": {},
    "colab_type": "code",
    "id": "fVhfzzh9PDEx"
   },
   "outputs": [],
   "source": [
    "# An empty slice spec means the overall slice, that is, the whole dataset.\n",
    "OVERALL_SLICE_SPEC = evaluator_pb2.SingleSlicingSpec()\n",
    "\n",
    "# Data can be sliced along a feature column\n",
    "# In this case, data is sliced along feature column trip_start_hour.\n",
    "FEATURE_COLUMN_SLICE_SPEC = evaluator_pb2.SingleSlicingSpec(\n",
    "    column_for_slicing=['trip_start_hour'])\n",
    "\n",
    "# Data can be sliced by crossing feature columns\n",
    "# In this case, slices are computed for trip_start_day x trip_start_month.\n",
    "FEATURE_COLUMN_CROSS_SPEC = evaluator_pb2.SingleSlicingSpec(\n",
    "    column_for_slicing=['trip_start_day', 'trip_start_month'])\n",
    "\n",
    "ALL_SPECS = [\n",
    "    OVERALL_SLICE_SPEC,\n",
    "    FEATURE_COLUMN_SLICE_SPEC,\n",
    "    FEATURE_COLUMN_CROSS_SPEC,\n",
    "]"
   ]
  },
  {
   "cell_type": "code",
   "execution_count": null,
   "metadata": {
    "colab": {},
    "colab_type": "code",
    "id": "Zjcx8g6mihSt"
   },
   "outputs": [],
   "source": [
    "# Use TFMA to compute a evaluation statistics over features of a model.\n",
    "model_analyzer = Evaluator(\n",
    "    examples=example_gen.outputs['examples'],\n",
    "    model_exports=trainer.outputs['output'],\n",
    "    feature_slicing_spec=evaluator_pb2.FeatureSlicingSpec(\n",
    "        specs=ALL_SPECS\n",
    "    ))\n",
    "context.run(model_analyzer)"
   ]
  },
  {
   "cell_type": "markdown",
   "metadata": {
    "colab_type": "text",
    "id": "X2VKvr3NJwii"
   },
   "source": [
    "#### Get the TFMA output result path"
   ]
  },
  {
   "cell_type": "code",
   "execution_count": null,
   "metadata": {
    "colab": {},
    "colab_type": "code",
    "id": "pyis6iy0HLdi"
   },
   "outputs": [],
   "source": [
    "PATH_TO_RESULT = model_analyzer.outputs['output'].get()[0].uri"
   ]
  },
  {
   "cell_type": "markdown",
   "metadata": {
    "colab_type": "text",
    "id": "L9YNBXsQKW63"
   },
   "source": [
    "#### Import TFMA and load the result"
   ]
  },
  {
   "cell_type": "code",
   "execution_count": null,
   "metadata": {
    "colab": {},
    "colab_type": "code",
    "id": "7SeuBh8aHZ9S"
   },
   "outputs": [],
   "source": [
    "import tensorflow_model_analysis as tfma\n",
    "tfma_result = tfma.load_eval_result(PATH_TO_RESULT)"
   ]
  },
  {
   "cell_type": "markdown",
   "metadata": {
    "colab_type": "text",
    "id": "LdLc25OnKs0G"
   },
   "source": [
    "#### Visualization: Slicing Metrics\n",
    "\n",
    "To see the slices, either use the name of the column (by setting slicing_column) or provide a tfma.slicer.SingleSliceSpec (by setting slicing_spec). If neither is provided, an overall visualization will be displayed.\n",
    "\n",
    "The default visualization is the **slice overview** when the number of slices is small. It shows the value of a metric for each slice, sorted by the another metric. It is also possible to set a threshold to filter out slices with smaller weights.\n",
    "\n",
    "This view also supports the **metrics histogram** as an alternative visualization. It is also the default view when the number of slices is large. The results will be divided into buckets and the number of slices / total weights / both can be visualized. Slices with small weights can be filtered out by setting the threshold. Further filtering can be applied by dragging the grey band. To reset the range, double click the band. Filtering can be used to remove outliers in the visualization and the metrics table below."
   ]
  },
  {
   "cell_type": "code",
   "execution_count": null,
   "metadata": {
    "colab": {},
    "colab_type": "code",
    "id": "SYvXSBANHdmZ"
   },
   "outputs": [],
   "source": [
    "# Show data sliced along feature column trip_start_hour.\n",
    "tfma.view.render_slicing_metrics(tfma_result, slicing_column='trip_start_hour')"
   ]
  },
  {
   "cell_type": "code",
   "execution_count": null,
   "metadata": {
    "colab": {},
    "colab_type": "code",
    "id": "IGADc5R7Q8yo"
   },
   "outputs": [],
   "source": [
    "# Show metrics sliced by 'trip_start_day' x 'trip_start_month'.\n",
    "tfma.view.render_slicing_metrics(\n",
    "    tfma_result,\n",
    "    slicing_spec=tfma.slicer.SingleSliceSpec(\n",
    "        columns=['trip_start_day','trip_start_month']))"
   ]
  },
  {
   "cell_type": "code",
   "execution_count": null,
   "metadata": {
    "colab": {},
    "colab_type": "code",
    "id": "WFvfzTTZL_0a"
   },
   "outputs": [],
   "source": [
    "# Show overall metrics.\n",
    "tfma.view.render_slicing_metrics(tfma_result)"
   ]
  },
  {
   "cell_type": "markdown",
   "metadata": {
    "colab_type": "text",
    "id": "76Mil-7FlF_y"
   },
   "source": [
    "### ModelValidator\n",
    "`ModelValidator` performs validation of your candidate model compared to a baseline."
   ]
  },
  {
   "cell_type": "code",
   "execution_count": null,
   "metadata": {
    "colab": {},
    "colab_type": "code",
    "id": "FXk1MA7sijCr"
   },
   "outputs": [],
   "source": [
    "# Performs quality validation of a candidate model (compared to a baseline).\n",
    "model_validator = ModelValidator(\n",
    "    examples=example_gen.outputs['examples'],\n",
    "    model=trainer.outputs['output'])\n",
    "context.run(model_validator)"
   ]
  },
  {
   "cell_type": "markdown",
   "metadata": {
    "colab_type": "text",
    "id": "T8DYekCZlHfj"
   },
   "source": [
    "### Pusher\n",
    "`Pusher` checks whether a model has passed validation, and if so, pushes the model to a file destination."
   ]
  },
  {
   "cell_type": "code",
   "execution_count": null,
   "metadata": {
    "colab": {},
    "colab_type": "code",
    "id": "r45nQ69eikc9"
   },
   "outputs": [],
   "source": [
    "# Checks whether the model passed the validation steps and pushes the model\n",
    "# to a file destination if check passed.\n",
    "pusher = Pusher(\n",
    "    model_export=trainer.outputs['output'],\n",
    "    model_blessing=model_validator.outputs['blessing'],\n",
    "    push_destination=pusher_pb2.PushDestination(\n",
    "        filesystem=pusher_pb2.PushDestination.Filesystem(\n",
    "            base_directory=_serving_model_dir)))\n",
    "context.run(pusher)"
   ]
  }
 ],
 "metadata": {
  "colab": {
   "collapsed_sections": [],
   "name": "taxi_pipeline_interactive.ipynb",
   "provenance": [],
   "version": "0.3.2"
  },
  "kernelspec": {
   "display_name": "tfx",
   "language": "python",
   "name": "tfx"
  },
  "language_info": {
   "codemirror_mode": {
    "name": "ipython",
    "version": 3
   },
   "file_extension": ".py",
   "mimetype": "text/x-python",
   "name": "python",
   "nbconvert_exporter": "python",
   "pygments_lexer": "ipython3",
   "version": "3.7.3"
  }
 },
 "nbformat": 4,
 "nbformat_minor": 4
}
